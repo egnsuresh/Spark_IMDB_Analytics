{
 "cells": [
  {
   "cell_type": "markdown",
   "metadata": {},
   "source": [
    "# 008 Find the actors that were never unemployed for more than 3 years at a stretch. (Assume that the actors remain unemployed between two consecutive movies)"
   ]
  },
  {
   "cell_type": "code",
   "execution_count": 34,
   "metadata": {},
   "outputs": [
    {
     "data": {
      "text/plain": [
       "org.apache.spark.sql.SparkSession@53c26b8f"
      ]
     },
     "execution_count": 34,
     "metadata": {},
     "output_type": "execute_result"
    }
   ],
   "source": [
    "spark"
   ]
  },
  {
   "cell_type": "code",
   "execution_count": 35,
   "metadata": {},
   "outputs": [],
   "source": [
    "import org.apache.spark.sql.functions._"
   ]
  },
  {
   "cell_type": "code",
   "execution_count": 36,
   "metadata": {},
   "outputs": [],
   "source": [
    "import org.apache.spark.sql.types._"
   ]
  },
  {
   "cell_type": "code",
   "execution_count": 37,
   "metadata": {},
   "outputs": [],
   "source": [
    "import org.apache.spark.sql.expressions.Window"
   ]
  },
  {
   "cell_type": "code",
   "execution_count": 38,
   "metadata": {},
   "outputs": [
    {
     "data": {
      "text/plain": [
       "spark = org.apache.spark.sql.SparkSession@53c26b8f\n"
      ]
     },
     "metadata": {},
     "output_type": "display_data"
    },
    {
     "data": {
      "text/plain": [
       "org.apache.spark.sql.SparkSession@53c26b8f"
      ]
     },
     "execution_count": 38,
     "metadata": {},
     "output_type": "execute_result"
    }
   ],
   "source": [
    "val spark=SparkSession.builder().appName(\"movies app\").master(\"local[*]\").getOrCreate()"
   ]
  },
  {
   "cell_type": "code",
   "execution_count": 39,
   "metadata": {},
   "outputs": [],
   "source": [
    "import spark.implicits._"
   ]
  },
  {
   "cell_type": "markdown",
   "metadata": {},
   "source": [
    "# UDFs"
   ]
  },
  {
   "cell_type": "code",
   "execution_count": 40,
   "metadata": {},
   "outputs": [
    {
     "data": {
      "text/plain": [
       "getYear = UserDefinedFunction(<function1>,IntegerType,Some(List(StringType)))\n"
      ]
     },
     "metadata": {},
     "output_type": "display_data"
    },
    {
     "data": {
      "text/plain": [
       "UserDefinedFunction(<function1>,IntegerType,Some(List(StringType)))"
      ]
     },
     "execution_count": 40,
     "metadata": {},
     "output_type": "execute_result"
    }
   ],
   "source": [
    "val getYear=udf((year:String)=>{\n",
    "    val p=\"\\\\d{4}\".r\n",
    "    val yr=p.findFirstMatchIn(year).getOrElse(\"\").toString\n",
    "    if(yr!=\"\"){\n",
    "        yr.toInt\n",
    "    }\n",
    "    else{\n",
    "        0\n",
    "    }\n",
    "})"
   ]
  },
  {
   "cell_type": "code",
   "execution_count": null,
   "metadata": {},
   "outputs": [],
   "source": []
  },
  {
   "cell_type": "markdown",
   "metadata": {},
   "source": [
    "# loading movies"
   ]
  },
  {
   "cell_type": "code",
   "execution_count": 41,
   "metadata": {},
   "outputs": [
    {
     "data": {
      "text/plain": [
       "Movie = [index: string, MID: string ... 4 more fields]\n"
      ]
     },
     "metadata": {},
     "output_type": "display_data"
    },
    {
     "data": {
      "text/plain": [
       "[index: string, MID: string ... 4 more fields]"
      ]
     },
     "execution_count": 41,
     "metadata": {},
     "output_type": "execute_result"
    }
   ],
   "source": [
    "val Movie=spark.read.option(\"header\",\"true\").csv(\"/home/use2cobadmin/practice_data/imdb/imdb_csv/Movie.csv\")\n",
    ".dropDuplicates()"
   ]
  },
  {
   "cell_type": "markdown",
   "metadata": {},
   "source": [
    "# printing table structure to know what are the columns and it's data type"
   ]
  },
  {
   "cell_type": "code",
   "execution_count": 42,
   "metadata": {},
   "outputs": [
    {
     "name": "stdout",
     "output_type": "stream",
     "text": [
      "root\n",
      " |-- index: string (nullable = true)\n",
      " |-- MID: string (nullable = true)\n",
      " |-- title: string (nullable = true)\n",
      " |-- year: string (nullable = true)\n",
      " |-- rating: string (nullable = true)\n",
      " |-- num_votes: string (nullable = true)\n",
      "\n"
     ]
    }
   ],
   "source": [
    "Movie.printSchema"
   ]
  },
  {
   "cell_type": "markdown",
   "metadata": {},
   "source": [
    "# Displaying first two records to see sample data\n",
    "# observation 1: year,rating,num_votes,index columns data types should be Integer\n",
    "# observation 2: also we need do trim to remove any extra spaces"
   ]
  },
  {
   "cell_type": "code",
   "execution_count": 43,
   "metadata": {},
   "outputs": [
    {
     "name": "stdout",
     "output_type": "stream",
     "text": [
      "+-----+---------+-----------------+----+------+---------+\n",
      "|index|      MID|            title|year|rating|num_votes|\n",
      "+-----+---------+-----------------+----+------+---------+\n",
      "|   85|tt3224288|Beyond the Clouds|2017|   7.0|     1123|\n",
      "|  913|tt2178508|   Son of Sardaar|2012|   4.0|     7895|\n",
      "+-----+---------+-----------------+----+------+---------+\n",
      "only showing top 2 rows\n",
      "\n"
     ]
    }
   ],
   "source": [
    "Movie.show(2)"
   ]
  },
  {
   "cell_type": "markdown",
   "metadata": {},
   "source": [
    "# displaying total records in the table"
   ]
  },
  {
   "cell_type": "code",
   "execution_count": 44,
   "metadata": {},
   "outputs": [
    {
     "data": {
      "text/plain": [
       "3475"
      ]
     },
     "execution_count": 44,
     "metadata": {},
     "output_type": "execute_result"
    }
   ],
   "source": [
    "Movie.count"
   ]
  },
  {
   "cell_type": "markdown",
   "metadata": {},
   "source": [
    "# as per observation need to change the data type"
   ]
  },
  {
   "cell_type": "code",
   "execution_count": 45,
   "metadata": {},
   "outputs": [
    {
     "data": {
      "text/plain": [
       "movies = [index: int, MID: string ... 4 more fields]\n"
      ]
     },
     "metadata": {},
     "output_type": "display_data"
    },
    {
     "data": {
      "text/plain": [
       "[index: int, MID: string ... 4 more fields]"
      ]
     },
     "execution_count": 45,
     "metadata": {},
     "output_type": "execute_result"
    }
   ],
   "source": [
    "val movies=Movie.withColumn(\"year\",getYear(Movie(\"year\")).cast(IntegerType))\n",
    ".withColumn(\"title\",trim(Movie(\"title\")))\n",
    ".withColumn(\"MID\",trim(Movie(\"MID\")))\n",
    ".withColumn(\"rating\",trim(Movie(\"rating\")).cast(DoubleType))\n",
    ".withColumn(\"num_votes\",trim(Movie(\"num_votes\")).cast(LongType))\n",
    ".withColumn(\"index\",trim(Movie(\"index\")).cast(IntegerType))\n",
    ".dropDuplicates(\"MID\")"
   ]
  },
  {
   "cell_type": "markdown",
   "metadata": {},
   "source": [
    "# now print the schema to verify columns and it's data type"
   ]
  },
  {
   "cell_type": "code",
   "execution_count": 46,
   "metadata": {},
   "outputs": [
    {
     "name": "stdout",
     "output_type": "stream",
     "text": [
      "root\n",
      " |-- index: integer (nullable = true)\n",
      " |-- MID: string (nullable = true)\n",
      " |-- title: string (nullable = true)\n",
      " |-- year: integer (nullable = false)\n",
      " |-- rating: double (nullable = true)\n",
      " |-- num_votes: long (nullable = true)\n",
      "\n"
     ]
    }
   ],
   "source": [
    "movies.printSchema"
   ]
  },
  {
   "cell_type": "markdown",
   "metadata": {},
   "source": [
    "# print the total number of records in the table after data cleaning"
   ]
  },
  {
   "cell_type": "code",
   "execution_count": 47,
   "metadata": {},
   "outputs": [
    {
     "data": {
      "text/plain": [
       "3475"
      ]
     },
     "execution_count": 47,
     "metadata": {},
     "output_type": "execute_result"
    }
   ],
   "source": [
    "movies.count"
   ]
  },
  {
   "cell_type": "markdown",
   "metadata": {},
   "source": [
    "# show the first two records as a sample data"
   ]
  },
  {
   "cell_type": "code",
   "execution_count": 48,
   "metadata": {},
   "outputs": [
    {
     "name": "stdout",
     "output_type": "stream",
     "text": [
      "+-----+---------+--------------------+----+------+---------+\n",
      "|index|      MID|               title|year|rating|num_votes|\n",
      "+-----+---------+--------------------+----+------+---------+\n",
      "| 3008|tt0036077|              Kismet|1943|   7.5|       71|\n",
      "| 2969|tt0102701|Prahaar: The Fina...|1991|   7.9|     1696|\n",
      "+-----+---------+--------------------+----+------+---------+\n",
      "only showing top 2 rows\n",
      "\n"
     ]
    }
   ],
   "source": [
    "movies.show(2)"
   ]
  },
  {
   "cell_type": "markdown",
   "metadata": {},
   "source": [
    "# Load the Person.csv file and it has header and store theses records in Person variable"
   ]
  },
  {
   "cell_type": "code",
   "execution_count": 50,
   "metadata": {},
   "outputs": [
    {
     "name": "stdout",
     "output_type": "stream",
     "text": [
      "+-----+---------+---------------+------+\n",
      "|index|      PID|           Name|Gender|\n",
      "+-----+---------+---------------+------+\n",
      "|    0|nm0000288| Christian Bale|  Male|\n",
      "|    1|nm0000949| Cate Blanchett|Female|\n",
      "+-----+---------+---------------+------+\n",
      "only showing top 2 rows\n",
      "\n",
      "root\n",
      " |-- index: string (nullable = true)\n",
      " |-- PID: string (nullable = true)\n",
      " |-- Name: string (nullable = true)\n",
      " |-- Gender: string (nullable = true)\n",
      "\n"
     ]
    },
    {
     "data": {
      "text/plain": [
       "Person = [index: string, PID: string ... 2 more fields]\n",
       "p1Count = 38285\n"
      ]
     },
     "metadata": {},
     "output_type": "display_data"
    },
    {
     "data": {
      "text/plain": [
       "38285"
      ]
     },
     "execution_count": 50,
     "metadata": {},
     "output_type": "execute_result"
    }
   ],
   "source": [
    "val Person=spark.read.option(\"header\",\"true\").csv(\"/home/use2cobadmin/practice_data/imdb/imdb_csv/Person.csv\")"
   ]
  },
  {
   "cell_type": "markdown",
   "metadata": {},
   "source": [
    "# Print the schema of Person variable,first two records and it's count"
   ]
  },
  {
   "cell_type": "code",
   "execution_count": 51,
   "metadata": {},
   "outputs": [
    {
     "name": "stdout",
     "output_type": "stream",
     "text": [
      "+-----+---------+---------------+------+\n",
      "|index|      PID|           Name|Gender|\n",
      "+-----+---------+---------------+------+\n",
      "|    0|nm0000288| Christian Bale|  Male|\n",
      "|    1|nm0000949| Cate Blanchett|Female|\n",
      "+-----+---------+---------------+------+\n",
      "only showing top 2 rows\n",
      "\n",
      "root\n",
      " |-- index: string (nullable = true)\n",
      " |-- PID: string (nullable = true)\n",
      " |-- Name: string (nullable = true)\n",
      " |-- Gender: string (nullable = true)\n",
      "\n"
     ]
    },
    {
     "data": {
      "text/plain": [
       "p1Count = 38285\n"
      ]
     },
     "metadata": {},
     "output_type": "display_data"
    },
    {
     "data": {
      "text/plain": [
       "38285"
      ]
     },
     "execution_count": 51,
     "metadata": {},
     "output_type": "execute_result"
    }
   ],
   "source": [
    "Person.show(2)\n",
    "Person.printSchema\n",
    "val p1Count=Person.count"
   ]
  },
  {
   "cell_type": "markdown",
   "metadata": {},
   "source": [
    "# Data Cleaning\n",
    "# change the data types as per data and also remove extra spaces from data"
   ]
  },
  {
   "cell_type": "code",
   "execution_count": 52,
   "metadata": {},
   "outputs": [
    {
     "data": {
      "text/plain": [
       "persons = [index: int, PID: string ... 2 more fields]\n"
      ]
     },
     "metadata": {},
     "output_type": "display_data"
    },
    {
     "data": {
      "text/plain": [
       "[index: int, PID: string ... 2 more fields]"
      ]
     },
     "execution_count": 52,
     "metadata": {},
     "output_type": "execute_result"
    }
   ],
   "source": [
    "val persons=Person.withColumn(\"PID\",trim(Person(\"PID\")))\n",
    ".withColumn(\"Name\",trim(Person(\"Name\")))\n",
    ".withColumn(\"Gender\",trim(Person(\"Gender\")))\n",
    ".withColumn(\"index\",trim(Person(\"index\")).cast(IntegerType))\n",
    ".dropDuplicates(\"PID\")"
   ]
  },
  {
   "cell_type": "markdown",
   "metadata": {},
   "source": [
    "# show the sample data, schema and it's count of variable persons"
   ]
  },
  {
   "cell_type": "code",
   "execution_count": 53,
   "metadata": {},
   "outputs": [
    {
     "name": "stdout",
     "output_type": "stream",
     "text": [
      "+-----+---------+-------------+------+\n",
      "|index|      PID|         Name|Gender|\n",
      "+-----+---------+-------------+------+\n",
      "|15793|nm0022343|       Alpana|Female|\n",
      "| 3121|nm0028416|Martin Andris|  Male|\n",
      "+-----+---------+-------------+------+\n",
      "only showing top 2 rows\n",
      "\n",
      "root\n",
      " |-- index: integer (nullable = true)\n",
      " |-- PID: string (nullable = true)\n",
      " |-- Name: string (nullable = true)\n",
      " |-- Gender: string (nullable = true)\n",
      "\n"
     ]
    },
    {
     "data": {
      "text/plain": [
       "p2Count = 37566\n"
      ]
     },
     "metadata": {},
     "output_type": "display_data"
    },
    {
     "data": {
      "text/plain": [
       "37566"
      ]
     },
     "execution_count": 53,
     "metadata": {},
     "output_type": "execute_result"
    }
   ],
   "source": [
    "persons.show(2)\n",
    "persons.printSchema\n",
    "val p2Count=persons.count"
   ]
  },
  {
   "cell_type": "markdown",
   "metadata": {},
   "source": [
    "# print the difference between Person and persons records count"
   ]
  },
  {
   "cell_type": "code",
   "execution_count": 56,
   "metadata": {},
   "outputs": [
    {
     "name": "stdout",
     "output_type": "stream",
     "text": [
      "719 duplicates found\n"
     ]
    },
    {
     "data": {
      "text/plain": [
       "diff = 719\n"
      ]
     },
     "metadata": {},
     "output_type": "display_data"
    },
    {
     "data": {
      "text/plain": [
       "719"
      ]
     },
     "execution_count": 56,
     "metadata": {},
     "output_type": "execute_result"
    }
   ],
   "source": [
    "val diff=p1Count-p2Count\n",
    "println(diff+\" duplicates found\")"
   ]
  },
  {
   "cell_type": "markdown",
   "metadata": {},
   "source": [
    "# Load the M_Director.csv file and it's has header"
   ]
  },
  {
   "cell_type": "code",
   "execution_count": 57,
   "metadata": {},
   "outputs": [
    {
     "data": {
      "text/plain": [
       "M_Director = [index: string, MID: string ... 2 more fields]\n"
      ]
     },
     "metadata": {},
     "output_type": "display_data"
    },
    {
     "data": {
      "text/plain": [
       "[index: string, MID: string ... 2 more fields]"
      ]
     },
     "execution_count": 57,
     "metadata": {},
     "output_type": "execute_result"
    }
   ],
   "source": [
    "val M_Director=spark.read.option(\"header\",\"true\").csv(\"/home/use2cobadmin/practice_data/imdb/imdb_csv/M_Director.csv\")"
   ]
  },
  {
   "cell_type": "markdown",
   "metadata": {},
   "source": [
    "# display sample data, schema and count M_Director variable"
   ]
  },
  {
   "cell_type": "code",
   "execution_count": 59,
   "metadata": {},
   "outputs": [
    {
     "name": "stdout",
     "output_type": "stream",
     "text": [
      "root\n",
      " |-- index: string (nullable = true)\n",
      " |-- MID: string (nullable = true)\n",
      " |-- PID: string (nullable = true)\n",
      " |-- ID: string (nullable = true)\n",
      "\n",
      "+-----+---------+---------+---+\n",
      "|index|      MID|      PID| ID|\n",
      "+-----+---------+---------+---+\n",
      "|    0|tt2388771|nm0785227|  0|\n",
      "|    1|tt5164214|nm0002657|  1|\n",
      "+-----+---------+---------+---+\n",
      "only showing top 2 rows\n",
      "\n"
     ]
    },
    {
     "data": {
      "text/plain": [
       "m_d1Count = 3475\n"
      ]
     },
     "metadata": {},
     "output_type": "display_data"
    },
    {
     "data": {
      "text/plain": [
       "3475"
      ]
     },
     "execution_count": 59,
     "metadata": {},
     "output_type": "execute_result"
    }
   ],
   "source": [
    "M_Director.printSchema\n",
    "M_Director.show(2)\n",
    "val m_d1Count=M_Director.count"
   ]
  },
  {
   "cell_type": "markdown",
   "metadata": {},
   "source": [
    "# Data cleaning for M_Director"
   ]
  },
  {
   "cell_type": "markdown",
   "metadata": {},
   "source": [
    "# remove duplicate records, change data type from string to appropriate data type and perform trim operation on each column separately"
   ]
  },
  {
   "cell_type": "code",
   "execution_count": 61,
   "metadata": {},
   "outputs": [
    {
     "data": {
      "text/plain": [
       "m_directors = [index: bigint, MID: string ... 2 more fields]\n"
      ]
     },
     "metadata": {},
     "output_type": "display_data"
    },
    {
     "data": {
      "text/plain": [
       "[index: bigint, MID: string ... 2 more fields]"
      ]
     },
     "execution_count": 61,
     "metadata": {},
     "output_type": "execute_result"
    }
   ],
   "source": [
    "val m_directors=M_Director.withColumn(\"ID\",trim(col(\"ID\")).cast(LongType))\n",
    ".withColumn(\"index\",trim(col(\"index\")).cast(LongType))\n",
    ".withColumn(\"MID\",trim(col(\"MID\")))\n",
    ".withColumn(\"PID\",trim(col(\"PID\")))\n",
    ".dropDuplicates(\"MID\",\"PID\")\n",
    ".dropDuplicates(\"ID\")\n",
    ".dropDuplicates"
   ]
  },
  {
   "cell_type": "markdown",
   "metadata": {},
   "source": [
    "# display sample data, schema and count m_director variable"
   ]
  },
  {
   "cell_type": "code",
   "execution_count": 63,
   "metadata": {},
   "outputs": [
    {
     "name": "stdout",
     "output_type": "stream",
     "text": [
      "root\n",
      " |-- index: long (nullable = true)\n",
      " |-- MID: string (nullable = true)\n",
      " |-- PID: string (nullable = true)\n",
      " |-- ID: long (nullable = true)\n",
      "\n",
      "+-----+---------+---------+---+\n",
      "|index|      MID|      PID| ID|\n",
      "+-----+---------+---------+---+\n",
      "|   26|tt5074352|nm4318159| 26|\n",
      "|   29|tt1098327|nm0939128| 29|\n",
      "+-----+---------+---------+---+\n",
      "only showing top 2 rows\n",
      "\n"
     ]
    },
    {
     "data": {
      "text/plain": [
       "m_d2Count = 3475\n"
      ]
     },
     "metadata": {},
     "output_type": "display_data"
    },
    {
     "data": {
      "text/plain": [
       "3475"
      ]
     },
     "execution_count": 63,
     "metadata": {},
     "output_type": "execute_result"
    }
   ],
   "source": [
    "m_directors.printSchema\n",
    "m_directors.show(2)\n",
    "val m_d2Count=m_directors.count"
   ]
  },
  {
   "cell_type": "markdown",
   "metadata": {},
   "source": [
    "# Display Count difference between M_Director and m_director variables"
   ]
  },
  {
   "cell_type": "code",
   "execution_count": 64,
   "metadata": {},
   "outputs": [
    {
     "name": "stdout",
     "output_type": "stream",
     "text": [
      "0 d\n"
     ]
    },
    {
     "data": {
      "text/plain": [
       "diff_m_directors_count = 0\n"
      ]
     },
     "metadata": {},
     "output_type": "display_data"
    },
    {
     "data": {
      "text/plain": [
       "0"
      ]
     },
     "execution_count": 64,
     "metadata": {},
     "output_type": "execute_result"
    }
   ],
   "source": [
    "val diff_m_directors_count=m_d1Count-m_d2Count\n",
    "println(diff_m_directors_count+\" d\")"
   ]
  },
  {
   "cell_type": "markdown",
   "metadata": {},
   "source": [
    "# Loading and cleaning M_Cast table"
   ]
  },
  {
   "cell_type": "code",
   "execution_count": 65,
   "metadata": {},
   "outputs": [
    {
     "data": {
      "text/plain": [
       "M_Cast = [index: string, MID: string ... 2 more fields]\n"
      ]
     },
     "metadata": {},
     "output_type": "display_data"
    },
    {
     "data": {
      "text/plain": [
       "[index: string, MID: string ... 2 more fields]"
      ]
     },
     "execution_count": 65,
     "metadata": {},
     "output_type": "execute_result"
    }
   ],
   "source": [
    "val M_Cast=spark.read.option(\"header\",\"true\").csv(\"/home/use2cobadmin/practice_data/imdb/imdb_csv/M_Cast.csv\")"
   ]
  },
  {
   "cell_type": "markdown",
   "metadata": {},
   "source": [
    "# Sample data from M_Cast table"
   ]
  },
  {
   "cell_type": "code",
   "execution_count": 66,
   "metadata": {},
   "outputs": [
    {
     "name": "stdout",
     "output_type": "stream",
     "text": [
      "root\n",
      " |-- index: string (nullable = true)\n",
      " |-- MID: string (nullable = true)\n",
      " |-- PID: string (nullable = true)\n",
      " |-- ID: string (nullable = true)\n",
      "\n",
      "+-----+---------+----------+---+\n",
      "|index|      MID|       PID| ID|\n",
      "+-----+---------+----------+---+\n",
      "|    0|tt2388771| nm0000288|  0|\n",
      "|    1|tt2388771| nm0000949|  1|\n",
      "+-----+---------+----------+---+\n",
      "only showing top 2 rows\n",
      "\n"
     ]
    },
    {
     "data": {
      "text/plain": [
       "m_c1Count = 82837\n"
      ]
     },
     "metadata": {},
     "output_type": "display_data"
    },
    {
     "data": {
      "text/plain": [
       "82837"
      ]
     },
     "execution_count": 66,
     "metadata": {},
     "output_type": "execute_result"
    }
   ],
   "source": [
    "M_Cast.printSchema\n",
    "M_Cast.show(2)\n",
    "val m_c1Count=M_Cast.count"
   ]
  },
  {
   "cell_type": "markdown",
   "metadata": {},
   "source": [
    "# Cleaning data m_cast"
   ]
  },
  {
   "cell_type": "code",
   "execution_count": 67,
   "metadata": {},
   "outputs": [
    {
     "data": {
      "text/plain": [
       "m_cast = [index: bigint, MID: string ... 2 more fields]\n"
      ]
     },
     "metadata": {},
     "output_type": "display_data"
    },
    {
     "data": {
      "text/plain": [
       "[index: bigint, MID: string ... 2 more fields]"
      ]
     },
     "execution_count": 67,
     "metadata": {},
     "output_type": "execute_result"
    }
   ],
   "source": [
    "val m_cast=M_Cast.withColumn(\"ID\",trim(col(\"ID\")).cast(LongType))\n",
    ".withColumn(\"index\",trim(col(\"index\")).cast(LongType))\n",
    ".withColumn(\"MID\",trim(col(\"MID\")))\n",
    ".withColumn(\"PID\",trim(col(\"PID\")))\n",
    ".dropDuplicates(\"MID\",\"PID\")\n",
    "//.dropDuplicates(\"MID\",\"PID\",\"ID\")\n",
    ".dropDuplicates(\"ID\")\n",
    ".dropDuplicates()"
   ]
  },
  {
   "cell_type": "markdown",
   "metadata": {},
   "source": [
    "# Sample data after data cleaning for m_cast"
   ]
  },
  {
   "cell_type": "code",
   "execution_count": 68,
   "metadata": {},
   "outputs": [
    {
     "name": "stdout",
     "output_type": "stream",
     "text": [
      "root\n",
      " |-- index: long (nullable = true)\n",
      " |-- MID: string (nullable = true)\n",
      " |-- PID: string (nullable = true)\n",
      " |-- ID: long (nullable = true)\n",
      "\n",
      "+-----+---------+----------+---+\n",
      "|index|      MID|       PID| ID|\n",
      "+-----+---------+----------+---+\n",
      "|   26|tt2388771|nm10302077| 26|\n",
      "|   29|tt2388771|nm10302080| 29|\n",
      "+-----+---------+----------+---+\n",
      "only showing top 2 rows\n",
      "\n"
     ]
    },
    {
     "data": {
      "text/plain": [
       "m_c2Count = 82837\n"
      ]
     },
     "metadata": {},
     "output_type": "display_data"
    },
    {
     "data": {
      "text/plain": [
       "82837"
      ]
     },
     "execution_count": 68,
     "metadata": {},
     "output_type": "execute_result"
    }
   ],
   "source": [
    "m_cast.printSchema\n",
    "m_cast.show(2)\n",
    "val m_c2Count=m_cast.count"
   ]
  },
  {
   "cell_type": "markdown",
   "metadata": {},
   "source": [
    "# Print difference of total count after and before data cleaning"
   ]
  },
  {
   "cell_type": "code",
   "execution_count": 69,
   "metadata": {},
   "outputs": [
    {
     "name": "stdout",
     "output_type": "stream",
     "text": [
      "0 d\n"
     ]
    },
    {
     "data": {
      "text/plain": [
       "diff_m_cast_count = 0\n"
      ]
     },
     "metadata": {},
     "output_type": "display_data"
    },
    {
     "data": {
      "text/plain": [
       "0"
      ]
     },
     "execution_count": 69,
     "metadata": {},
     "output_type": "execute_result"
    }
   ],
   "source": [
    "val diff_m_cast_count=m_c1Count-m_c2Count\n",
    "println(diff_m_cast_count+\" d\")"
   ]
  },
  {
   "cell_type": "markdown",
   "metadata": {},
   "source": [
    "# now modifying column name from PID to MPID of m_director (To avoid conflicts while joining another, if we have same column name)"
   ]
  },
  {
   "cell_type": "code",
   "execution_count": 70,
   "metadata": {},
   "outputs": [
    {
     "data": {
      "text/plain": [
       "m_dirs = [index: bigint, MID: string ... 2 more fields]\n"
      ]
     },
     "metadata": {},
     "output_type": "display_data"
    },
    {
     "data": {
      "text/plain": [
       "[index: bigint, MID: string ... 2 more fields]"
      ]
     },
     "execution_count": 70,
     "metadata": {},
     "output_type": "execute_result"
    }
   ],
   "source": [
    "val m_dirs=m_directors.withColumnRenamed(\"PID\",\"DPID\")"
   ]
  },
  {
   "cell_type": "code",
   "execution_count": 76,
   "metadata": {},
   "outputs": [
    {
     "data": {
      "text/plain": [
       "actorsWithMovies = [MID: string, PID: string ... 3 more fields]\n"
      ]
     },
     "metadata": {},
     "output_type": "display_data"
    },
    {
     "data": {
      "text/plain": [
       "[MID: string, PID: string ... 3 more fields]"
      ]
     },
     "execution_count": 76,
     "metadata": {},
     "output_type": "execute_result"
    }
   ],
   "source": [
    "val actorsWithMovies=persons.join(m_cast,\"PID\").dropDuplicates().join(movies,\"MID\")\n",
    ".select(\"MID\",\"PID\",\"year\",\"Name\",\"Gender\")"
   ]
  },
  {
   "cell_type": "code",
   "execution_count": 81,
   "metadata": {},
   "outputs": [
    {
     "name": "stdout",
     "output_type": "stream",
     "text": [
      "+---------+---------+----+-----------------+------+\n",
      "|      MID|      PID|year|             Name|Gender|\n",
      "+---------+---------+----+-----------------+------+\n",
      "|tt0053126|nm0000002|1959|    Lauren Bacall|Female|\n",
      "|tt0087892|nm0000027|1984|    Alec Guinness|  Male|\n",
      "|tt0046427|nm0000039|1953|     Deborah Kerr|Female|\n",
      "|tt0046427|nm0000042|1953|        Alan Ladd|  Male|\n",
      "|tt0066070|nm0000047|1970|     Sophia Loren|Female|\n",
      "|tt0031580|nm0000073|1939|   Shirley Temple|Female|\n",
      "|tt0075860|nm0000076|1977|François Truffaut|  null|\n",
      "|tt0327437|nm0000092|2004|      John Cleese|  Male|\n",
      "|tt0120102|nm0000093|1997|        Brad Pitt|  null|\n",
      "|tt4977530|nm0000096|2017| Gillian Anderson|Female|\n",
      "+---------+---------+----+-----------------+------+\n",
      "only showing top 10 rows\n",
      "\n"
     ]
    }
   ],
   "source": [
    "actorsWithMovies.orderBy(\"PID\").show(10)"
   ]
  },
  {
   "cell_type": "code",
   "execution_count": 140,
   "metadata": {},
   "outputs": [
    {
     "data": {
      "text/plain": [
       "Name: Unknown Error\n",
       "Message: <console>:65: error: overloaded method value drop with alternatives:\n",
       "  (minNonNulls: Int)org.apache.spark.sql.DataFrame <and>\n",
       "  (cols: Seq[String])org.apache.spark.sql.DataFrame <and>\n",
       "  (cols: Array[String])org.apache.spark.sql.DataFrame <and>\n",
       "  (how: String)org.apache.spark.sql.DataFrame\n",
       " cannot be applied to (org.apache.spark.sql.Column)\n",
       "       .na.drop(col(\"diff\"))\n",
       "           ^\n",
       "\n",
       "StackTrace: "
      ]
     },
     "execution_count": 140,
     "metadata": {},
     "output_type": "execute_result"
    }
   ],
   "source": [
    "val unemployed_actors_step1=actorsWithMovies.sort(\"PID\")\n",
    ".withColumn(\"diff\",(col(\"year\")-(lag(\"year\",1) over Window.partitionBy(\"PID\").orderBy(\"PID\",\"year\")))>3)\n",
    ".na.drop(col(\"diff\"))"
   ]
  },
  {
   "cell_type": "code",
   "execution_count": 122,
   "metadata": {},
   "outputs": [
    {
     "name": "stdout",
     "output_type": "stream",
     "text": [
      "root\n",
      " |-- index: long (nullable = true)\n",
      " |-- MID: string (nullable = true)\n",
      " |-- PID: string (nullable = true)\n",
      " |-- ID: long (nullable = true)\n",
      "\n"
     ]
    }
   ],
   "source": [
    "m_cast.printSchema"
   ]
  },
  {
   "cell_type": "markdown",
   "metadata": {},
   "source": [
    "# we need drop duplicates after applying filter condition to avoid getting empty results since duplicates records failed to satify the our filter condition"
   ]
  },
  {
   "cell_type": "markdown",
   "metadata": {},
   "source": [
    "# following query will not gives resutls, since we are dropping duplicates before appying filter condition\n",
    "unemployed_actors_step1.dropDuplicates(\"PID\").filter($\"diff\"===true).sort(\"PID\",\"year\").show(100)"
   ]
  },
  {
   "cell_type": "code",
   "execution_count": 133,
   "metadata": {},
   "outputs": [
    {
     "name": "stdout",
     "output_type": "stream",
     "text": [
      "+---------+---------+----+--------------------+------+----+\n",
      "|      MID|      PID|year|                Name|Gender|diff|\n",
      "+---------+---------+----+--------------------+------+----+\n",
      "|tt3823392|nm0000193|2018|          Demi Moore|Female|true|\n",
      "|tt1606378|nm0000246|2013|        Bruce Willis|  Male|true|\n",
      "|tt0848228|nm0000375|2012|   Robert Downey Jr.|  Male|true|\n",
      "|tt3498820|nm0000673|2016|        Marisa Tomei|Female|true|\n",
      "|tt5816682|nm0001132|2017|          Judi Dench|Female|true|\n",
      "|tt5164214|nm0001162|2018|       Griffin Dunne|  Male|true|\n",
      "|tt0099467|nm0001408|1990|       Shekhar Kapur|  Male|true|\n",
      "|tt0848228|nm0001765|2012|  Harry Dean Stanton|  Male|true|\n",
      "|tt0086034|nm0001934|1983|          Kabir Bedi|  Male|true|\n",
      "|tt0986213|nm0002043|2007|       Madhuri Dixit|Female|true|\n",
      "|tt1647668|nm0002326|2014|         Al Sapienza|  Male|true|\n",
      "|tt0371735|nm0003504|2003|         Alka Yagnik|  null|true|\n",
      "|tt1974382|nm0003817|2015|Michael Clarke Du...|  Male|true|\n",
      "|tt0073569|nm0003987|1975|  Mohandas K. Gandhi|  null|true|\n",
      "|tt2120120|nm0004051|2015|           Brian Cox|  Male|true|\n",
      "|tt0058759|nm0004291|1964|              Nargis|Female|true|\n",
      "|tt0361515|nm0004292|1975|          Raj Kapoor|  Male|true|\n",
      "|tt0357710|nm0004334|1972|               Rekha|Female|true|\n",
      "|tt0186871|nm0004335|1986|      Hrithik Roshan|  Male|true|\n",
      "|tt0122162|nm0004363|1974|       Rakesh Roshan|  Male|true|\n",
      "|tt0948462|nm0004416|2000|Balasubramaniam S.P.|  null|true|\n",
      "|tt4535650|nm0004418|2015|               Kajol|Female|true|\n",
      "|tt1961530|nm0004429|2011|          Dharmendra|  Male|true|\n",
      "|tt0359614|nm0004430|1987|        Karan Kapoor|  Male|true|\n",
      "|tt3696192|nm0004431|2015|        Kunal Kapoor|  Male|true|\n",
      "|tt0043306|nm0004432|1951|   Prithviraj Kapoor|  Male|true|\n",
      "|tt0430202|nm0004433|2006|       Shammi Kapoor|  Male|true|\n",
      "|tt0158585|nm0004434|1961|       Shashi Kapoor|  Male|true|\n",
      "|tt0149568|nm0004435|1999|       Rajesh Khanna|  Male|true|\n",
      "|tt0186794|nm0004437|1979|             Sridevi|Female|true|\n",
      "|tt0091328|nm0004467|1986|Satyanarayana Kai...|  Male|true|\n",
      "|tt0100401|nm0004468|1990|     Somayajulu J.V.|  Male|true|\n",
      "|tt0264415|nm0004471|1994| Subhalekha Sudhakar|  Male|true|\n",
      "|tt0278274|nm0004472|2000|        Nutan Prasad|  Male|true|\n",
      "|tt0454314|nm0004564|1994|         Hema Malini|Female|true|\n",
      "|tt0067668|nm0004569|1971|         Sanjay Dutt|  Male|true|\n",
      "|tt0102746|nm0004570|1991|          Sunil Dutt|  Male|true|\n",
      "|tt0178204|nm0004660|1980|            Rajkumar|  Male|true|\n",
      "|tt0090202|nm0004699|1985|           Lucky Ali|  null|true|\n",
      "|tt0361411|nm0004710|2004|      Naveen Andrews|  Male|true|\n",
      "|tt0498351|nm0005562|2014|         Owen Wilson|  Male|true|\n",
      "|tt0230670|nm0005983|1969|    Rahul Dev Burman|  null|true|\n",
      "|tt0189592|nm0006182|1999|           Anu Malik|  null|true|\n",
      "|tt0050188|nm0006348|1957|      Rajendra Kumar|  Male|true|\n",
      "|tt0318405|nm0006358|1960|     Shobhna Samarth|Female|true|\n",
      "|tt0036077|nm0006369|1943|         Ashok Kumar|  Male|true|\n",
      "|tt0234054|nm0006370|1981|         Manoj Kumar|  Male|true|\n",
      "|tt0348258|nm0006430|2003|      Girija Shettar|Female|true|\n",
      "|tt1729637|nm0006433|2011|      Karisma Kapoor|Female|true|\n",
      "|tt1029231|nm0006689|2013|        Preity Zinta|Female|true|\n",
      "|tt0082162|nm0006762|1981|       Saeed Jaffrey|  Male|true|\n",
      "|tt0116002|nm0006764|1996|     Sonali Kulkarni|Female|true|\n",
      "|tt0102636|nm0006765|1989|  Vidhu Vinod Chopra|  null|true|\n",
      "|tt0251139|nm0006770|1989|       Narayana P.L.|  Male|true|\n",
      "|tt1572311|nm0007012|2010|      Twinkle Khanna|Female|true|\n",
      "|tt0317985|nm0007102|1994|                Tabu|Female|true|\n",
      "|tt0266439|nm0007107|1987|    Urmila Matondkar|Female|true|\n",
      "|tt0158451|nm0007113|1984|        Nana Patekar|  Male|true|\n",
      "|tt1891884|nm0007114|2013|       Sonali Bendre|Female|true|\n",
      "|tt0244549|nm0007123|1991|           Mammootty|  Male|true|\n",
      "|tt4818930|nm0007124|2015|            Suhasini|Female|true|\n",
      "|tt0214841|nm0007131|1980|        Subhash Ghai|  null|true|\n",
      "|tt0172684|nm0007134|1998|          Farah Khan|  null|true|\n",
      "|tt2187153|nm0007144|2012|       Santosh Sivan|  null|true|\n",
      "|tt0154183|nm0007147|1990|           Dev Anand|  Male|true|\n",
      "|tt0420332|nm0007181|2004|         Yash Chopra|  null|true|\n",
      "|tt1266545|nm0007322|2008|               Aadil|  Male|true|\n",
      "|tt0305714|nm0007806|1996|               Abbas|  Male|true|\n",
      "|tt0054910|nm0007807|1961|               Abbas|  Male|true|\n",
      "|tt0054910|nm0008248|1961|               Abdul|  null|true|\n",
      "|tt0292113|nm0008279|2002|      Nassar Abdulla|  Male|true|\n",
      "|tt0105209|nm0008713|1992|Abhimanyyu Abhimanyu|  Male|true|\n",
      "|tt0046799|nm0008932|1954|       David Abraham|  Male|true|\n",
      "|tt0838221|nm0009779|2007|      Rajeev Acharya|  null|true|\n",
      "|tt0114225|nm0012019|1995|               Aditi|Female|true|\n",
      "|tt0142431|nm0012539|1970|        Bhudo Advani|  Male|true|\n",
      "|tt0110140|nm0012778|1994|    Aftab Shivdasani|  Male|true|\n",
      "|tt0259877|nm0012868|1990|     Anirudh Agarwal|  Male|true|\n",
      "|tt0087868|nm0012881|1984|        Mohan Agashe|  Male|true|\n",
      "|tt0158074|nm0013023|1953|                Agha|  Male|true|\n",
      "|tt0172980|nm0013026|1993|          Jalal Agha|  Male|true|\n",
      "|tt0077451|nm0013029|1978|           Shah Agha|  Male|true|\n",
      "|tt0108144|nm0013158|1993|      Atul Agnihotri|  Male|true|\n",
      "|tt0271604|nm0013159|2001|      Rati Agnihotri|Female|true|\n",
      "|tt1305840|nm0014081|2009|     Dolly Ahluwalia|Female|true|\n",
      "|tt1275863|nm0014161|2009|        Lalita Ahmed|Female|true|\n",
      "|tt0190419|nm0014164|1998|       Mukhtar Ahmed|  null|true|\n",
      "|tt0154565|nm0014973|1964|                Ajay|  Male|true|\n",
      "|tt0050758|nm0015000|1957|                Ajit|  Male|true|\n",
      "|tt1810522|nm0015001|2007|         Ajith Kumar|  Male|true|\n",
      "|tt1504687|nm0015104|2011|     Akash Karnataki|  Male|true|\n",
      "|tt3836958|nm0015287|2015|        Javed Akhtar|  null|true|\n",
      "|tt0156663|nm0015289|1988|       Masood Akhtar|  Male|true|\n",
      "|tt0105866|nm0015808|1992|          Maya Alagh|Female|true|\n",
      "|tt0251067|nm0017868|1992|       Satish Alekar|  Male|true|\n",
      "|tt0138411|nm0019399|1971|            Amir Ali|  Male|true|\n",
      "|tt0063533|nm0019402|1968|           Anwar Ali|  null|true|\n",
      "|tt0088031|nm0019425|1984|          Haidar Ali|  Male|true|\n",
      "|tt2560016|nm0019427|2013|          Ishrat Ali|  Male|true|\n",
      "|tt0154578|nm0019454|1973|        Mohammed Ali|  Male|true|\n",
      "+---------+---------+----+--------------------+------+----+\n",
      "only showing top 100 rows\n",
      "\n"
     ]
    }
   ],
   "source": [
    "unemployed_actors_step1.filter($\"diff\"===true).dropDuplicates(\"PID\").sort(\"PID\",\"year\").show(100)"
   ]
  },
  {
   "cell_type": "markdown",
   "metadata": {},
   "source": [
    "# Validation 1"
   ]
  },
  {
   "cell_type": "code",
   "execution_count": 130,
   "metadata": {},
   "outputs": [
    {
     "name": "stdout",
     "output_type": "stream",
     "text": [
      "+---------+---------+----+----------+------+----+\n",
      "|      MID|      PID|year|      Name|Gender|diff|\n",
      "+---------+---------+----+----------+------+----+\n",
      "|tt0115641|nm0000193|1996|Demi Moore|Female|null|\n",
      "|tt3823392|nm0000193|2018|Demi Moore|Female|true|\n",
      "+---------+---------+----+----------+------+----+\n",
      "\n"
     ]
    }
   ],
   "source": [
    "unemployed_actors_step1.filter($\"PID\"===\"nm0000193\").sort(\"PID\",\"year\").show(100)"
   ]
  },
  {
   "cell_type": "code",
   "execution_count": 131,
   "metadata": {},
   "outputs": [
    {
     "name": "stdout",
     "output_type": "stream",
     "text": [
      "+---------+---------+----+----------+------+\n",
      "|      MID|      PID|year|      Name|Gender|\n",
      "+---------+---------+----+----------+------+\n",
      "|tt0115641|nm0000193|1996|Demi Moore|Female|\n",
      "|tt3823392|nm0000193|2018|Demi Moore|Female|\n",
      "+---------+---------+----+----------+------+\n",
      "\n"
     ]
    }
   ],
   "source": [
    "actorsWithMovies.filter($\"PID\"===\"nm0000193\").sort(\"PID\",\"year\").show(100)"
   ]
  },
  {
   "cell_type": "markdown",
   "metadata": {},
   "source": [
    "# Validation 2"
   ]
  },
  {
   "cell_type": "code",
   "execution_count": 134,
   "metadata": {},
   "outputs": [
    {
     "name": "stdout",
     "output_type": "stream",
     "text": [
      "+---------+---------+----+------------+------+----+\n",
      "|      MID|      PID|year|        Name|Gender|diff|\n",
      "+---------+---------+----+------------+------+----+\n",
      "|tt0246204|nm0004472|1989|Nutan Prasad|  Male|null|\n",
      "|tt0278274|nm0004472|2000|Nutan Prasad|  Male|true|\n",
      "+---------+---------+----+------------+------+----+\n",
      "\n"
     ]
    }
   ],
   "source": [
    "unemployed_actors_step1.filter($\"PID\"===\"nm0004472\").sort(\"PID\",\"year\").show(100)"
   ]
  },
  {
   "cell_type": "code",
   "execution_count": 135,
   "metadata": {},
   "outputs": [
    {
     "name": "stdout",
     "output_type": "stream",
     "text": [
      "+---------+---------+----+------------+------+\n",
      "|      MID|      PID|year|        Name|Gender|\n",
      "+---------+---------+----+------------+------+\n",
      "|tt0246204|nm0004472|1989|Nutan Prasad|  Male|\n",
      "|tt0278274|nm0004472|2000|Nutan Prasad|  Male|\n",
      "+---------+---------+----+------------+------+\n",
      "\n"
     ]
    }
   ],
   "source": [
    "actorsWithMovies.filter($\"PID\"===\"nm0004472\").sort(\"PID\",\"year\").show(100)"
   ]
  },
  {
   "cell_type": "markdown",
   "metadata": {},
   "source": [
    "# Validation 3"
   ]
  },
  {
   "cell_type": "code",
   "execution_count": 136,
   "metadata": {},
   "outputs": [
    {
     "name": "stdout",
     "output_type": "stream",
     "text": [
      "+---------+---------+----+----+------+-----+\n",
      "|      MID|      PID|year|Name|Gender| diff|\n",
      "+---------+---------+----+----+------+-----+\n",
      "|tt0215515|nm0015000|1952|Ajit|  Male| null|\n",
      "|tt0050758|nm0015000|1957|Ajit|  Male| true|\n",
      "|tt0156606|nm0015000|1965|Ajit|  Male| true|\n",
      "|tt0061046|nm0015000|1966|Ajit|  Male|false|\n",
      "|tt0158449|nm0015000|1969|Ajit|  Male|false|\n",
      "|tt0064842|nm0015000|1969|Ajit|  Male|false|\n",
      "|tt0156641|nm0015000|1970|Ajit|  Male|false|\n",
      "|tt0148266|nm0015000|1970|Ajit|  Male|false|\n",
      "|tt0237395|nm0015000|1971|Ajit|  Male|false|\n",
      "|tt0066766|nm0015000|1971|Ajit|  Male|false|\n",
      "|tt0367921|nm0015000|1973|Ajit|  Male|false|\n",
      "|tt0069871|nm0015000|1973|Ajit|  Male|false|\n",
      "|tt0070935|nm0015000|1973|Ajit|  Male|false|\n",
      "|tt0070947|nm0015000|1973|Ajit|  Male|false|\n",
      "|tt0069751|nm0015000|1973|Ajit|  Male|false|\n",
      "|tt0070253|nm0015000|1973|Ajit|  Male|false|\n",
      "|tt0155805|nm0015000|1974|Ajit|  Male|false|\n",
      "|tt0216110|nm0015000|1975|Ajit|  Male|false|\n",
      "|tt0158356|nm0015000|1975|Ajit|  Male|false|\n",
      "|tt0268216|nm0015000|1976|Ajit|  Male|false|\n",
      "|tt0214832|nm0015000|1976|Ajit|  Male|false|\n",
      "|tt0076167|nm0015000|1977|Ajit|  Male|false|\n",
      "|tt0157337|nm0015000|1978|Ajit|  Male|false|\n",
      "|tt0258647|nm0015000|1978|Ajit|  Male|false|\n",
      "|tt0154390|nm0015000|1978|Ajit|  Male|false|\n",
      "|tt0079584|nm0015000|1979|Ajit|  Male|false|\n",
      "|tt0081401|nm0015000|1980|Ajit|  Male|false|\n",
      "|tt0087975|nm0015000|1984|Ajit|  Male| true|\n",
      "|tt0267617|nm0015000|1992|Ajit|  Male| true|\n",
      "|tt0177483|nm0015000|1993|Ajit|  Male|false|\n",
      "|tt0376182|nm0015000|1993|Ajit|  Male|false|\n",
      "|tt0225013|nm0015000|1994|Ajit|  Male|false|\n",
      "|tt0267246|nm0015000|1994|Ajit|  Male|false|\n",
      "|tt0112738|nm0015000|1995|Ajit|  Male|false|\n",
      "+---------+---------+----+----+------+-----+\n",
      "\n"
     ]
    }
   ],
   "source": [
    "unemployed_actors_step1.filter($\"PID\"===\"nm0015000\").sort(\"PID\",\"year\").show(100)"
   ]
  },
  {
   "cell_type": "code",
   "execution_count": 137,
   "metadata": {},
   "outputs": [
    {
     "name": "stdout",
     "output_type": "stream",
     "text": [
      "+---------+---------+----+----+------+\n",
      "|      MID|      PID|year|Name|Gender|\n",
      "+---------+---------+----+----+------+\n",
      "|tt0215515|nm0015000|1952|Ajit|  Male|\n",
      "|tt0050758|nm0015000|1957|Ajit|  Male|\n",
      "|tt0156606|nm0015000|1965|Ajit|  Male|\n",
      "|tt0061046|nm0015000|1966|Ajit|  Male|\n",
      "|tt0064842|nm0015000|1969|Ajit|  Male|\n",
      "|tt0158449|nm0015000|1969|Ajit|  Male|\n",
      "|tt0156641|nm0015000|1970|Ajit|  Male|\n",
      "|tt0148266|nm0015000|1970|Ajit|  Male|\n",
      "|tt0237395|nm0015000|1971|Ajit|  Male|\n",
      "|tt0066766|nm0015000|1971|Ajit|  Male|\n",
      "|tt0070935|nm0015000|1973|Ajit|  Male|\n",
      "|tt0069751|nm0015000|1973|Ajit|  Male|\n",
      "|tt0367921|nm0015000|1973|Ajit|  Male|\n",
      "|tt0070253|nm0015000|1973|Ajit|  Male|\n",
      "|tt0069871|nm0015000|1973|Ajit|  Male|\n",
      "|tt0070947|nm0015000|1973|Ajit|  Male|\n",
      "|tt0155805|nm0015000|1974|Ajit|  Male|\n",
      "|tt0216110|nm0015000|1975|Ajit|  Male|\n",
      "|tt0158356|nm0015000|1975|Ajit|  Male|\n",
      "|tt0268216|nm0015000|1976|Ajit|  Male|\n",
      "|tt0214832|nm0015000|1976|Ajit|  Male|\n",
      "|tt0076167|nm0015000|1977|Ajit|  Male|\n",
      "|tt0157337|nm0015000|1978|Ajit|  Male|\n",
      "|tt0258647|nm0015000|1978|Ajit|  Male|\n",
      "|tt0154390|nm0015000|1978|Ajit|  Male|\n",
      "|tt0079584|nm0015000|1979|Ajit|  Male|\n",
      "|tt0081401|nm0015000|1980|Ajit|  Male|\n",
      "|tt0087975|nm0015000|1984|Ajit|  Male|\n",
      "|tt0267617|nm0015000|1992|Ajit|  Male|\n",
      "|tt0177483|nm0015000|1993|Ajit|  Male|\n",
      "|tt0376182|nm0015000|1993|Ajit|  Male|\n",
      "|tt0225013|nm0015000|1994|Ajit|  Male|\n",
      "|tt0267246|nm0015000|1994|Ajit|  Male|\n",
      "|tt0112738|nm0015000|1995|Ajit|  Male|\n",
      "+---------+---------+----+----+------+\n",
      "\n"
     ]
    }
   ],
   "source": [
    "actorsWithMovies.filter($\"PID\"===\"nm0015000\").sort(\"PID\",\"year\").show(100)"
   ]
  },
  {
   "cell_type": "code",
   "execution_count": null,
   "metadata": {},
   "outputs": [],
   "source": []
  }
 ],
 "metadata": {
  "kernelspec": {
   "display_name": "Apache Toree - Scala",
   "language": "scala",
   "name": "apache_toree_scala"
  },
  "language_info": {
   "codemirror_mode": "text/x-scala",
   "file_extension": ".scala",
   "mimetype": "text/x-scala",
   "name": "scala",
   "pygments_lexer": "scala",
   "version": "2.11.12"
  }
 },
 "nbformat": 4,
 "nbformat_minor": 2
}
