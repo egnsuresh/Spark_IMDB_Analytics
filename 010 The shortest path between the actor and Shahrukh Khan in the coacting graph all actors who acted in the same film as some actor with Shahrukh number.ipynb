{
 "cells": [
  {
   "cell_type": "markdown",
   "metadata": {},
   "source": [
    "10 The Shahrukh number of an actor is the length of the shortest path between the actor and Shahrukh Khan in the \"co-acting\" graph. That is, Shahrukh Khan has Shahrukh number 0; all actors who acted in the same film as Shahrukh have Shahrukh number 1; all actors who acted in the same film as some actor with Shahrukh number 1 have Shahrukh number 2, etc. Return all actors whose Shahrukh number is 2."
   ]
  },
  {
   "cell_type": "code",
   "execution_count": 1,
   "metadata": {},
   "outputs": [
    {
     "data": {
      "text/plain": [
       "org.apache.spark.sql.SparkSession@729ab107"
      ]
     },
     "execution_count": 1,
     "metadata": {},
     "output_type": "execute_result"
    }
   ],
   "source": [
    "spark"
   ]
  },
  {
   "cell_type": "code",
   "execution_count": 3,
   "metadata": {},
   "outputs": [],
   "source": [
    "import org.apache.spark.sql.functions._"
   ]
  },
  {
   "cell_type": "code",
   "execution_count": 4,
   "metadata": {},
   "outputs": [],
   "source": [
    "import org.apache.spark.sql.types._"
   ]
  },
  {
   "cell_type": "code",
   "execution_count": 5,
   "metadata": {},
   "outputs": [],
   "source": [
    "import org.apache.spark.sql.expressions.Window"
   ]
  },
  {
   "cell_type": "code",
   "execution_count": 7,
   "metadata": {},
   "outputs": [
    {
     "data": {
      "text/plain": [
       "spark = org.apache.spark.sql.SparkSession@3c876492\n"
      ]
     },
     "metadata": {},
     "output_type": "display_data"
    },
    {
     "data": {
      "text/plain": [
       "org.apache.spark.sql.SparkSession@3c876492"
      ]
     },
     "execution_count": 7,
     "metadata": {},
     "output_type": "execute_result"
    }
   ],
   "source": [
    "val spark=SparkSession.builder().appName(\"movies app\").master(\"local[*]\").getOrCreate()"
   ]
  },
  {
   "cell_type": "code",
   "execution_count": 8,
   "metadata": {},
   "outputs": [],
   "source": [
    "import spark.implicits._"
   ]
  },
  {
   "cell_type": "markdown",
   "metadata": {},
   "source": [
    "UDFs"
   ]
  },
  {
   "cell_type": "code",
   "execution_count": 9,
   "metadata": {},
   "outputs": [
    {
     "data": {
      "text/plain": [
       "getYear = UserDefinedFunction(<function1>,IntegerType,Some(List(StringType)))\n"
      ]
     },
     "metadata": {},
     "output_type": "display_data"
    },
    {
     "data": {
      "text/plain": [
       "UserDefinedFunction(<function1>,IntegerType,Some(List(StringType)))"
      ]
     },
     "execution_count": 9,
     "metadata": {},
     "output_type": "execute_result"
    }
   ],
   "source": [
    "val getYear=udf((year:String)=>{\n",
    "    val p=\"\\\\d{4}\".r\n",
    "    val yr=p.findFirstMatchIn(year).getOrElse(\"\").toString\n",
    "    if(yr!=\"\"){\n",
    "        yr.toInt\n",
    "    }\n",
    "    else{\n",
    "        0\n",
    "    }\n",
    "})"
   ]
  },
  {
   "cell_type": "code",
   "execution_count": 10,
   "metadata": {},
   "outputs": [
    {
     "data": {
      "text/plain": [
       "isLeapYear = UserDefinedFunction(<function1>,BooleanType,Some(List(StringType)))\n"
      ]
     },
     "metadata": {},
     "output_type": "display_data"
    },
    {
     "data": {
      "text/plain": [
       "UserDefinedFunction(<function1>,BooleanType,Some(List(StringType)))"
      ]
     },
     "execution_count": 10,
     "metadata": {},
     "output_type": "execute_result"
    }
   ],
   "source": [
    "val isLeapYear=udf((year:String)=>{\n",
    "    val p=\"\\\\d{4}\".r\n",
    "    val yr=p.findFirstMatchIn(year).getOrElse(\"\").toString\n",
    "    if(yr!=\"\"){\n",
    "        val y:Int=yr.toInt\n",
    "        if(y%4==0 && y%100!=0){\n",
    "            true\n",
    "        }\n",
    "        else if(y%400==0){\n",
    "            true\n",
    "        }\n",
    "        else{\n",
    "            false\n",
    "        }\n",
    "    }\n",
    "    else{\n",
    "        false\n",
    "    }\n",
    "})"
   ]
  },
  {
   "cell_type": "markdown",
   "metadata": {},
   "source": [
    "loading movies"
   ]
  },
  {
   "cell_type": "code",
   "execution_count": 10,
   "metadata": {},
   "outputs": [
    {
     "data": {
      "text/plain": [
       "Movie = [index: string, MID: string ... 4 more fields]\n"
      ]
     },
     "metadata": {},
     "output_type": "display_data"
    },
    {
     "data": {
      "text/plain": [
       "[index: string, MID: string ... 4 more fields]"
      ]
     },
     "execution_count": 10,
     "metadata": {},
     "output_type": "execute_result"
    }
   ],
   "source": [
    "val Movie=spark.read.option(\"header\",\"true\").csv(\"/home/use2cobadmin/practice_data/imdb/imdb_csv/Movie.csv\")\n",
    ".dropDuplicates()"
   ]
  },
  {
   "cell_type": "markdown",
   "metadata": {},
   "source": [
    "printing table structure to know what are the columns and it's data type"
   ]
  },
  {
   "cell_type": "code",
   "execution_count": 11,
   "metadata": {},
   "outputs": [
    {
     "name": "stdout",
     "output_type": "stream",
     "text": [
      "root\n",
      " |-- index: string (nullable = true)\n",
      " |-- MID: string (nullable = true)\n",
      " |-- title: string (nullable = true)\n",
      " |-- year: string (nullable = true)\n",
      " |-- rating: string (nullable = true)\n",
      " |-- num_votes: string (nullable = true)\n",
      "\n"
     ]
    }
   ],
   "source": [
    "Movie.printSchema"
   ]
  },
  {
   "cell_type": "markdown",
   "metadata": {},
   "source": [
    "Displaying first two records to see sample data"
   ]
  },
  {
   "cell_type": "markdown",
   "metadata": {},
   "source": [
    "observation 1: year,rating,num_votes,index columns data types should be Integer"
   ]
  },
  {
   "cell_type": "markdown",
   "metadata": {},
   "source": [
    "observation 2: also we need do trim to remove any extra spaces"
   ]
  },
  {
   "cell_type": "code",
   "execution_count": 12,
   "metadata": {},
   "outputs": [
    {
     "name": "stdout",
     "output_type": "stream",
     "text": [
      "+-----+---------+-----------------+----+------+---------+\n",
      "|index|      MID|            title|year|rating|num_votes|\n",
      "+-----+---------+-----------------+----+------+---------+\n",
      "|   85|tt3224288|Beyond the Clouds|2017|   7.0|     1123|\n",
      "|  913|tt2178508|   Son of Sardaar|2012|   4.0|     7895|\n",
      "+-----+---------+-----------------+----+------+---------+\n",
      "only showing top 2 rows\n",
      "\n"
     ]
    }
   ],
   "source": [
    "Movie.show(2)"
   ]
  },
  {
   "cell_type": "markdown",
   "metadata": {},
   "source": [
    "displaying total records in the table"
   ]
  },
  {
   "cell_type": "code",
   "execution_count": 13,
   "metadata": {},
   "outputs": [
    {
     "data": {
      "text/plain": [
       "3475"
      ]
     },
     "execution_count": 13,
     "metadata": {},
     "output_type": "execute_result"
    }
   ],
   "source": [
    "Movie.count"
   ]
  },
  {
   "cell_type": "markdown",
   "metadata": {},
   "source": [
    "as per observation need to change the data type"
   ]
  },
  {
   "cell_type": "code",
   "execution_count": 11,
   "metadata": {},
   "outputs": [
    {
     "data": {
      "text/plain": [
       "movies = [index: int, MID: string ... 4 more fields]\n"
      ]
     },
     "metadata": {},
     "output_type": "display_data"
    },
    {
     "data": {
      "text/plain": [
       "[index: int, MID: string ... 4 more fields]"
      ]
     },
     "execution_count": 11,
     "metadata": {},
     "output_type": "execute_result"
    }
   ],
   "source": [
    "val movies=Movie.withColumn(\"year\",getYear(Movie(\"year\")).cast(IntegerType))\n",
    ".withColumn(\"title\",trim(Movie(\"title\")))\n",
    ".withColumn(\"MID\",trim(Movie(\"MID\")))\n",
    ".withColumn(\"rating\",trim(Movie(\"rating\")).cast(DoubleType))\n",
    ".withColumn(\"num_votes\",trim(Movie(\"num_votes\")).cast(LongType))\n",
    ".withColumn(\"index\",trim(Movie(\"index\")).cast(IntegerType))\n",
    ".dropDuplicates(\"MID\")"
   ]
  },
  {
   "cell_type": "markdown",
   "metadata": {},
   "source": [
    "now print the schema to verify columns and it's data type"
   ]
  },
  {
   "cell_type": "code",
   "execution_count": 15,
   "metadata": {},
   "outputs": [
    {
     "name": "stdout",
     "output_type": "stream",
     "text": [
      "root\n",
      " |-- index: integer (nullable = true)\n",
      " |-- MID: string (nullable = true)\n",
      " |-- title: string (nullable = true)\n",
      " |-- year: integer (nullable = false)\n",
      " |-- rating: double (nullable = true)\n",
      " |-- num_votes: long (nullable = true)\n",
      "\n"
     ]
    }
   ],
   "source": [
    "movies.printSchema"
   ]
  },
  {
   "cell_type": "markdown",
   "metadata": {},
   "source": [
    "print the total number of records in the table after data cleaning"
   ]
  },
  {
   "cell_type": "code",
   "execution_count": 16,
   "metadata": {},
   "outputs": [
    {
     "data": {
      "text/plain": [
       "3475"
      ]
     },
     "execution_count": 16,
     "metadata": {},
     "output_type": "execute_result"
    }
   ],
   "source": [
    "movies.count"
   ]
  },
  {
   "cell_type": "markdown",
   "metadata": {},
   "source": [
    "show the first two records as a sample data"
   ]
  },
  {
   "cell_type": "code",
   "execution_count": 17,
   "metadata": {},
   "outputs": [
    {
     "name": "stdout",
     "output_type": "stream",
     "text": [
      "+-----+---------+--------------------+----+------+---------+\n",
      "|index|      MID|               title|year|rating|num_votes|\n",
      "+-----+---------+--------------------+----+------+---------+\n",
      "| 3008|tt0036077|              Kismet|1943|   7.5|       71|\n",
      "| 2969|tt0102701|Prahaar: The Fina...|1991|   7.9|     1696|\n",
      "+-----+---------+--------------------+----+------+---------+\n",
      "only showing top 2 rows\n",
      "\n"
     ]
    }
   ],
   "source": [
    "movies.show(2)"
   ]
  },
  {
   "cell_type": "markdown",
   "metadata": {},
   "source": [
    "Load the Person.csv file and it has header and store theses records in Person variable"
   ]
  },
  {
   "cell_type": "code",
   "execution_count": 12,
   "metadata": {},
   "outputs": [
    {
     "data": {
      "text/plain": [
       "Person = [index: string, PID: string ... 2 more fields]\n"
      ]
     },
     "metadata": {},
     "output_type": "display_data"
    },
    {
     "data": {
      "text/plain": [
       "[index: string, PID: string ... 2 more fields]"
      ]
     },
     "execution_count": 12,
     "metadata": {},
     "output_type": "execute_result"
    }
   ],
   "source": [
    "val Person=spark.read.option(\"header\",\"true\").csv(\"/home/use2cobadmin/practice_data/imdb/imdb_csv/Person.csv\")"
   ]
  },
  {
   "cell_type": "markdown",
   "metadata": {},
   "source": [
    "Print the schema of Person variable,first two records and it's count"
   ]
  },
  {
   "cell_type": "code",
   "execution_count": 19,
   "metadata": {},
   "outputs": [
    {
     "name": "stdout",
     "output_type": "stream",
     "text": [
      "+-----+---------+---------------+------+\n",
      "|index|      PID|           Name|Gender|\n",
      "+-----+---------+---------------+------+\n",
      "|    0|nm0000288| Christian Bale|  Male|\n",
      "|    1|nm0000949| Cate Blanchett|Female|\n",
      "+-----+---------+---------------+------+\n",
      "only showing top 2 rows\n",
      "\n",
      "root\n",
      " |-- index: string (nullable = true)\n",
      " |-- PID: string (nullable = true)\n",
      " |-- Name: string (nullable = true)\n",
      " |-- Gender: string (nullable = true)\n",
      "\n"
     ]
    },
    {
     "data": {
      "text/plain": [
       "p1Count = 38285\n"
      ]
     },
     "metadata": {},
     "output_type": "display_data"
    },
    {
     "data": {
      "text/plain": [
       "38285"
      ]
     },
     "execution_count": 19,
     "metadata": {},
     "output_type": "execute_result"
    }
   ],
   "source": [
    "Person.show(2)\n",
    "Person.printSchema\n",
    "val p1Count=Person.count"
   ]
  },
  {
   "cell_type": "markdown",
   "metadata": {},
   "source": [
    "Data Cleaning"
   ]
  },
  {
   "cell_type": "markdown",
   "metadata": {},
   "source": [
    "change the data types as per data and also remove extra spaces from data"
   ]
  },
  {
   "cell_type": "code",
   "execution_count": 13,
   "metadata": {},
   "outputs": [
    {
     "data": {
      "text/plain": [
       "persons = [index: int, PID: string ... 2 more fields]\n"
      ]
     },
     "metadata": {},
     "output_type": "display_data"
    },
    {
     "data": {
      "text/plain": [
       "[index: int, PID: string ... 2 more fields]"
      ]
     },
     "execution_count": 13,
     "metadata": {},
     "output_type": "execute_result"
    }
   ],
   "source": [
    "val persons=Person.withColumn(\"PID\",trim(Person(\"PID\")))\n",
    ".withColumn(\"Name\",trim(Person(\"Name\")))\n",
    ".withColumn(\"Gender\",trim(Person(\"Gender\")))\n",
    ".withColumn(\"index\",trim(Person(\"index\")).cast(IntegerType))\n",
    ".dropDuplicates(\"PID\")"
   ]
  },
  {
   "cell_type": "markdown",
   "metadata": {},
   "source": [
    "show the sample data, schema and it's count of variable persons"
   ]
  },
  {
   "cell_type": "code",
   "execution_count": 21,
   "metadata": {},
   "outputs": [
    {
     "name": "stdout",
     "output_type": "stream",
     "text": [
      "+-----+---------+-------------+------+\n",
      "|index|      PID|         Name|Gender|\n",
      "+-----+---------+-------------+------+\n",
      "|15793|nm0022343|       Alpana|Female|\n",
      "| 3121|nm0028416|Martin Andris|  Male|\n",
      "+-----+---------+-------------+------+\n",
      "only showing top 2 rows\n",
      "\n",
      "root\n",
      " |-- index: integer (nullable = true)\n",
      " |-- PID: string (nullable = true)\n",
      " |-- Name: string (nullable = true)\n",
      " |-- Gender: string (nullable = true)\n",
      "\n"
     ]
    },
    {
     "data": {
      "text/plain": [
       "p2Count = 37566\n"
      ]
     },
     "metadata": {},
     "output_type": "display_data"
    },
    {
     "data": {
      "text/plain": [
       "37566"
      ]
     },
     "execution_count": 21,
     "metadata": {},
     "output_type": "execute_result"
    }
   ],
   "source": [
    "persons.show(2)\n",
    "persons.printSchema\n",
    "val p2Count=persons.count"
   ]
  },
  {
   "cell_type": "markdown",
   "metadata": {},
   "source": [
    "print the difference between Person and persons records count"
   ]
  },
  {
   "cell_type": "code",
   "execution_count": 23,
   "metadata": {},
   "outputs": [
    {
     "name": "stdout",
     "output_type": "stream",
     "text": [
      "719 duplicates found\n"
     ]
    },
    {
     "data": {
      "text/plain": [
       "diff = 719\n"
      ]
     },
     "metadata": {},
     "output_type": "display_data"
    },
    {
     "data": {
      "text/plain": [
       "719"
      ]
     },
     "execution_count": 23,
     "metadata": {},
     "output_type": "execute_result"
    }
   ],
   "source": [
    "val diff=p1Count-p2Count\n",
    "println(diff+\" duplicates found\")"
   ]
  },
  {
   "cell_type": "markdown",
   "metadata": {},
   "source": [
    "Load the M_Director.csv file and it's has header"
   ]
  },
  {
   "cell_type": "code",
   "execution_count": 14,
   "metadata": {},
   "outputs": [
    {
     "data": {
      "text/plain": [
       "M_Director = [index: string, MID: string ... 2 more fields]\n"
      ]
     },
     "metadata": {},
     "output_type": "display_data"
    },
    {
     "data": {
      "text/plain": [
       "[index: string, MID: string ... 2 more fields]"
      ]
     },
     "execution_count": 14,
     "metadata": {},
     "output_type": "execute_result"
    }
   ],
   "source": [
    "val M_Director=spark.read.option(\"header\",\"true\").csv(\"/home/use2cobadmin/practice_data/imdb/imdb_csv/M_Director.csv\")"
   ]
  },
  {
   "cell_type": "markdown",
   "metadata": {},
   "source": [
    "display sample data, schema and count M_Director variable"
   ]
  },
  {
   "cell_type": "code",
   "execution_count": 25,
   "metadata": {},
   "outputs": [
    {
     "name": "stdout",
     "output_type": "stream",
     "text": [
      "root\n",
      " |-- index: string (nullable = true)\n",
      " |-- MID: string (nullable = true)\n",
      " |-- PID: string (nullable = true)\n",
      " |-- ID: string (nullable = true)\n",
      "\n",
      "+-----+---------+---------+---+\n",
      "|index|      MID|      PID| ID|\n",
      "+-----+---------+---------+---+\n",
      "|    0|tt2388771|nm0785227|  0|\n",
      "|    1|tt5164214|nm0002657|  1|\n",
      "+-----+---------+---------+---+\n",
      "only showing top 2 rows\n",
      "\n"
     ]
    },
    {
     "data": {
      "text/plain": [
       "m_d1Count = 3475\n"
      ]
     },
     "metadata": {},
     "output_type": "display_data"
    },
    {
     "data": {
      "text/plain": [
       "3475"
      ]
     },
     "execution_count": 25,
     "metadata": {},
     "output_type": "execute_result"
    }
   ],
   "source": [
    "M_Director.printSchema\n",
    "M_Director.show(2)\n",
    "val m_d1Count=M_Director.count"
   ]
  },
  {
   "cell_type": "markdown",
   "metadata": {},
   "source": [
    "Data cleaning for M_Director"
   ]
  },
  {
   "cell_type": "markdown",
   "metadata": {},
   "source": [
    "remove duplicate records, change data type from string to appropriate data type and perform trim operation on each column separately"
   ]
  },
  {
   "cell_type": "code",
   "execution_count": 15,
   "metadata": {},
   "outputs": [
    {
     "data": {
      "text/plain": [
       "m_directors = [index: bigint, MID: string ... 2 more fields]\n"
      ]
     },
     "metadata": {},
     "output_type": "display_data"
    },
    {
     "data": {
      "text/plain": [
       "[index: bigint, MID: string ... 2 more fields]"
      ]
     },
     "execution_count": 15,
     "metadata": {},
     "output_type": "execute_result"
    }
   ],
   "source": [
    "val m_directors=M_Director.withColumn(\"ID\",trim(col(\"ID\")).cast(LongType))\n",
    ".withColumn(\"index\",trim(col(\"index\")).cast(LongType))\n",
    ".withColumn(\"MID\",trim(col(\"MID\")))\n",
    ".withColumn(\"PID\",trim(col(\"PID\")))\n",
    ".dropDuplicates(\"MID\",\"PID\")\n",
    ".dropDuplicates(\"ID\")\n",
    ".dropDuplicates"
   ]
  },
  {
   "cell_type": "markdown",
   "metadata": {},
   "source": [
    "display sample data, schema and count m_director variable"
   ]
  },
  {
   "cell_type": "code",
   "execution_count": 27,
   "metadata": {},
   "outputs": [
    {
     "name": "stdout",
     "output_type": "stream",
     "text": [
      "root\n",
      " |-- index: long (nullable = true)\n",
      " |-- MID: string (nullable = true)\n",
      " |-- PID: string (nullable = true)\n",
      " |-- ID: long (nullable = true)\n",
      "\n",
      "+-----+---------+---------+---+\n",
      "|index|      MID|      PID| ID|\n",
      "+-----+---------+---------+---+\n",
      "|   26|tt5074352|nm4318159| 26|\n",
      "|   29|tt1098327|nm0939128| 29|\n",
      "+-----+---------+---------+---+\n",
      "only showing top 2 rows\n",
      "\n"
     ]
    },
    {
     "data": {
      "text/plain": [
       "m_d2Count = 3475\n"
      ]
     },
     "metadata": {},
     "output_type": "display_data"
    },
    {
     "data": {
      "text/plain": [
       "3475"
      ]
     },
     "execution_count": 27,
     "metadata": {},
     "output_type": "execute_result"
    }
   ],
   "source": [
    "m_directors.printSchema\n",
    "m_directors.show(2)\n",
    "val m_d2Count=m_directors.count"
   ]
  },
  {
   "cell_type": "markdown",
   "metadata": {},
   "source": [
    "Display Count difference between M_Director and m_director variables"
   ]
  },
  {
   "cell_type": "code",
   "execution_count": 28,
   "metadata": {},
   "outputs": [
    {
     "name": "stdout",
     "output_type": "stream",
     "text": [
      "0 d\n"
     ]
    },
    {
     "data": {
      "text/plain": [
       "diff_m_directors_count = 0\n"
      ]
     },
     "metadata": {},
     "output_type": "display_data"
    },
    {
     "data": {
      "text/plain": [
       "0"
      ]
     },
     "execution_count": 28,
     "metadata": {},
     "output_type": "execute_result"
    }
   ],
   "source": [
    "val diff_m_directors_count=m_d1Count-m_d2Count\n",
    "println(diff_m_directors_count+\" d\")"
   ]
  },
  {
   "cell_type": "markdown",
   "metadata": {},
   "source": [
    "Loading and cleaning M_Cast table"
   ]
  },
  {
   "cell_type": "code",
   "execution_count": 16,
   "metadata": {},
   "outputs": [
    {
     "data": {
      "text/plain": [
       "M_Cast = [index: string, MID: string ... 2 more fields]\n"
      ]
     },
     "metadata": {},
     "output_type": "display_data"
    },
    {
     "data": {
      "text/plain": [
       "[index: string, MID: string ... 2 more fields]"
      ]
     },
     "execution_count": 16,
     "metadata": {},
     "output_type": "execute_result"
    }
   ],
   "source": [
    "val M_Cast=spark.read.option(\"header\",\"true\").csv(\"/home/use2cobadmin/practice_data/imdb/imdb_csv/M_Cast.csv\")"
   ]
  },
  {
   "cell_type": "markdown",
   "metadata": {},
   "source": [
    "Sample data from M_Cast table"
   ]
  },
  {
   "cell_type": "code",
   "execution_count": 30,
   "metadata": {},
   "outputs": [
    {
     "name": "stdout",
     "output_type": "stream",
     "text": [
      "root\n",
      " |-- index: string (nullable = true)\n",
      " |-- MID: string (nullable = true)\n",
      " |-- PID: string (nullable = true)\n",
      " |-- ID: string (nullable = true)\n",
      "\n",
      "+-----+---------+----------+---+\n",
      "|index|      MID|       PID| ID|\n",
      "+-----+---------+----------+---+\n",
      "|    0|tt2388771| nm0000288|  0|\n",
      "|    1|tt2388771| nm0000949|  1|\n",
      "+-----+---------+----------+---+\n",
      "only showing top 2 rows\n",
      "\n"
     ]
    },
    {
     "data": {
      "text/plain": [
       "m_c1Count = 82837\n"
      ]
     },
     "metadata": {},
     "output_type": "display_data"
    },
    {
     "data": {
      "text/plain": [
       "82837"
      ]
     },
     "execution_count": 30,
     "metadata": {},
     "output_type": "execute_result"
    }
   ],
   "source": [
    "M_Cast.printSchema\n",
    "M_Cast.show(2)\n",
    "val m_c1Count=M_Cast.count"
   ]
  },
  {
   "cell_type": "markdown",
   "metadata": {},
   "source": [
    "Cleaning data m_cast"
   ]
  },
  {
   "cell_type": "code",
   "execution_count": 17,
   "metadata": {},
   "outputs": [
    {
     "data": {
      "text/plain": [
       "m_cast = [index: bigint, MID: string ... 2 more fields]\n"
      ]
     },
     "metadata": {},
     "output_type": "display_data"
    },
    {
     "data": {
      "text/plain": [
       "[index: bigint, MID: string ... 2 more fields]"
      ]
     },
     "execution_count": 17,
     "metadata": {},
     "output_type": "execute_result"
    }
   ],
   "source": [
    "val m_cast=M_Cast.withColumn(\"ID\",trim(col(\"ID\")).cast(LongType))\n",
    ".withColumn(\"index\",trim(col(\"index\")).cast(LongType))\n",
    ".withColumn(\"MID\",trim(col(\"MID\")))\n",
    ".withColumn(\"PID\",trim(col(\"PID\")))\n",
    ".dropDuplicates(\"MID\",\"PID\")\n",
    "//.dropDuplicates(\"MID\",\"PID\",\"ID\")\n",
    ".dropDuplicates(\"ID\")\n",
    ".dropDuplicates()"
   ]
  },
  {
   "cell_type": "markdown",
   "metadata": {},
   "source": [
    "Sample data after data cleaning for m_cast"
   ]
  },
  {
   "cell_type": "code",
   "execution_count": 32,
   "metadata": {},
   "outputs": [
    {
     "name": "stdout",
     "output_type": "stream",
     "text": [
      "root\n",
      " |-- index: long (nullable = true)\n",
      " |-- MID: string (nullable = true)\n",
      " |-- PID: string (nullable = true)\n",
      " |-- ID: long (nullable = true)\n",
      "\n",
      "+-----+---------+----------+---+\n",
      "|index|      MID|       PID| ID|\n",
      "+-----+---------+----------+---+\n",
      "|   26|tt2388771|nm10302077| 26|\n",
      "|   29|tt2388771|nm10302080| 29|\n",
      "+-----+---------+----------+---+\n",
      "only showing top 2 rows\n",
      "\n"
     ]
    },
    {
     "data": {
      "text/plain": [
       "m_c2Count = 82837\n"
      ]
     },
     "metadata": {},
     "output_type": "display_data"
    },
    {
     "data": {
      "text/plain": [
       "82837"
      ]
     },
     "execution_count": 32,
     "metadata": {},
     "output_type": "execute_result"
    }
   ],
   "source": [
    "m_cast.printSchema\n",
    "m_cast.show(2)\n",
    "val m_c2Count=m_cast.count"
   ]
  },
  {
   "cell_type": "markdown",
   "metadata": {},
   "source": [
    "Print difference of total count after and before data cleaning"
   ]
  },
  {
   "cell_type": "code",
   "execution_count": 33,
   "metadata": {},
   "outputs": [
    {
     "name": "stdout",
     "output_type": "stream",
     "text": [
      "0 d\n"
     ]
    },
    {
     "data": {
      "text/plain": [
       "diff_m_cast_count = 0\n"
      ]
     },
     "metadata": {},
     "output_type": "display_data"
    },
    {
     "data": {
      "text/plain": [
       "0"
      ]
     },
     "execution_count": 33,
     "metadata": {},
     "output_type": "execute_result"
    }
   ],
   "source": [
    "val diff_m_cast_count=m_c1Count-m_c2Count\n",
    "println(diff_m_cast_count+\" d\")"
   ]
  },
  {
   "cell_type": "markdown",
   "metadata": {},
   "source": [
    "now modifying column name from PID to MPID of m_director (To avoid conflicts while joining another, if we have same column name)"
   ]
  },
  {
   "cell_type": "code",
   "execution_count": 18,
   "metadata": {},
   "outputs": [
    {
     "data": {
      "text/plain": [
       "m_dirs = [index: bigint, MID: string ... 2 more fields]\n"
      ]
     },
     "metadata": {},
     "output_type": "display_data"
    },
    {
     "data": {
      "text/plain": [
       "[index: bigint, MID: string ... 2 more fields]"
      ]
     },
     "execution_count": 18,
     "metadata": {},
     "output_type": "execute_result"
    }
   ],
   "source": [
    "val m_dirs=m_directors.withColumnRenamed(\"PID\",\"DPID\")"
   ]
  },
  {
   "cell_type": "markdown",
   "metadata": {},
   "source": [
    "step 1: join the Directors with Cast table, to get the director and his cast in a row and show sample data"
   ]
  },
  {
   "cell_type": "code",
   "execution_count": 35,
   "metadata": {},
   "outputs": [
    {
     "name": "stdout",
     "output_type": "stream",
     "text": [
      "+---------+---------+----------+\n",
      "|      MID|     DPID|       PID|\n",
      "+---------+---------+----------+\n",
      "|tt2388771|nm0785227|nm10302077|\n",
      "|tt2388771|nm0785227|nm10302080|\n",
      "|tt0848228|nm0923736| nm3510000|\n",
      "|tt1010048|nm0000965| nm3193591|\n",
      "|tt5970844|nm1715502| nm7961730|\n",
      "+---------+---------+----------+\n",
      "only showing top 5 rows\n",
      "\n"
     ]
    },
    {
     "data": {
      "text/plain": [
       "dir_mvs = [MID: string, DPID: string ... 1 more field]\n"
      ]
     },
     "metadata": {},
     "output_type": "display_data"
    },
    {
     "data": {
      "text/plain": [
       "[MID: string, DPID: string ... 1 more field]"
      ]
     },
     "execution_count": 35,
     "metadata": {},
     "output_type": "execute_result"
    }
   ],
   "source": [
    "val dir_mvs=m_dirs.join(m_cast,\"MID\").select(\"MID\",\"DPID\",\"PID\")\n",
    "dir_mvs.show(5)"
   ]
  },
  {
   "cell_type": "code",
   "execution_count": null,
   "metadata": {},
   "outputs": [],
   "source": []
  },
  {
   "cell_type": "markdown",
   "metadata": {},
   "source": [
    "step2: writing udf function to get the Yash count in a separate column after group by director and person ID's with count"
   ]
  },
  {
   "cell_type": "code",
   "execution_count": 36,
   "metadata": {},
   "outputs": [
    {
     "data": {
      "text/plain": [
       "getYashCount = UserDefinedFunction(<function2>,LongType,Some(List(StringType, LongType)))\n"
      ]
     },
     "metadata": {},
     "output_type": "display_data"
    },
    {
     "data": {
      "text/plain": [
       "UserDefinedFunction(<function2>,LongType,Some(List(StringType, LongType)))"
      ]
     },
     "execution_count": 36,
     "metadata": {},
     "output_type": "execute_result"
    }
   ],
   "source": [
    "val getYashCount=udf((dpid:String,count:Long)=>{\n",
    "    if(dpid==\"nm0007181\"){\n",
    "        Some(count)\n",
    "    }\n",
    "    else{\n",
    "        Some(0)\n",
    "    }\n",
    "}:Option[Long])"
   ]
  },
  {
   "cell_type": "code",
   "execution_count": 37,
   "metadata": {},
   "outputs": [
    {
     "data": {
      "text/plain": [
       "makeItNullable = UserDefinedFunction(<function1>,LongType,Some(List(LongType)))\n"
      ]
     },
     "metadata": {},
     "output_type": "display_data"
    },
    {
     "data": {
      "text/plain": [
       "UserDefinedFunction(<function1>,LongType,Some(List(LongType)))"
      ]
     },
     "execution_count": 37,
     "metadata": {},
     "output_type": "execute_result"
    }
   ],
   "source": [
    "val makeItNullable=udf((count:Long)=>{\n",
    "        Some(count)\n",
    "}:Option[Long])"
   ]
  },
  {
   "cell_type": "code",
   "execution_count": 44,
   "metadata": {},
   "outputs": [
    {
     "name": "stdout",
     "output_type": "stream",
     "text": [
      "root\n",
      " |-- PID: string (nullable = true)\n",
      "\n",
      "+---------+\n",
      "|      PID|\n",
      "+---------+\n",
      "|nm0000821|\n",
      "|nm0002043|\n",
      "|nm0004109|\n",
      "|nm0004334|\n",
      "|nm0004429|\n",
      "|nm0004434|\n",
      "|nm0004435|\n",
      "|nm0004437|\n",
      "|nm0004487|\n",
      "|nm0004564|\n",
      "|nm0004570|\n",
      "|nm0006348|\n",
      "|nm0006369|\n",
      "|nm0006433|\n",
      "|nm0006689|\n",
      "|nm0006762|\n",
      "|nm0007106|\n",
      "|nm0007147|\n",
      "|nm0007181|\n",
      "|nm0012881|\n",
      "+---------+\n",
      "only showing top 20 rows\n",
      "\n"
     ]
    },
    {
     "data": {
      "text/plain": [
       "dir_pid_grp_by = RelationalGroupedDataset: [grouping expressions: [DPID: string, PID: string], value: [MID: string, DPID: string ... 1 more field], type: GroupBy]\n",
       "dir_pid_count2 = [DPID: string, PID: string ... 1 more field]\n",
       "dir_pid_count = [PID: string]\n"
      ]
     },
     "metadata": {},
     "output_type": "display_data"
    },
    {
     "data": {
      "text/plain": [
       "[PID: string]"
      ]
     },
     "execution_count": 44,
     "metadata": {},
     "output_type": "execute_result"
    }
   ],
   "source": [
    "//val dir_pid_count=dir_mvs.groupBy(\"DPID\",\"PID\").count()\n",
    "//val dir_pid_count=dir_mvs.groupBy(\"DPID\",\"PID\").max().filter($\"DPID\"===\"nm0007181\").select(\"PID\")\n",
    "val dir_pid_grp_by=dir_mvs.groupBy(\"DPID\",\"PID\");\n",
    "val dir_pid_count2=dir_pid_grp_by.count()\n",
    "val dir_pid_count=dir_pid_grp_by.max().filter($\"DPID\"===\"nm0007181\").select(\"PID\")\n",
    "//.withColumn(\"yash_count\",getYashCount(col(\"DPID\"),col(\"count\")))\n",
    "//.withColumn(\"count\",makeItNullable(col(\"count\")))\n",
    "//dir_pid_count.count()\n",
    "dir_pid_count.printSchema\n",
    "dir_pid_count.sort(\"PID\").show()"
   ]
  },
  {
   "cell_type": "code",
   "execution_count": 54,
   "metadata": {},
   "outputs": [
    {
     "data": {
      "text/plain": [
       "maxCountWithDup = [DPID: string, PID: string ... 2 more fields]\n"
      ]
     },
     "metadata": {},
     "output_type": "display_data"
    },
    {
     "data": {
      "text/plain": [
       "[DPID: string, PID: string ... 2 more fields]"
      ]
     },
     "execution_count": 54,
     "metadata": {},
     "output_type": "execute_result"
    }
   ],
   "source": [
    "val maxCountWithDup=dir_pid_count2.withColumn(\"max\",max(\"count\") over Window.partitionBy(\"PID\"))"
   ]
  },
  {
   "cell_type": "code",
   "execution_count": 55,
   "metadata": {},
   "outputs": [
    {
     "data": {
      "text/plain": [
       "maxCount = [DPID: string, PID: string ... 2 more fields]\n"
      ]
     },
     "metadata": {},
     "output_type": "display_data"
    },
    {
     "data": {
      "text/plain": [
       "[DPID: string, PID: string ... 2 more fields]"
      ]
     },
     "execution_count": 55,
     "metadata": {},
     "output_type": "execute_result"
    }
   ],
   "source": [
    "val maxCount=maxCountWithDup.filter($\"max\"===$\"count\")"
   ]
  },
  {
   "cell_type": "code",
   "execution_count": 57,
   "metadata": {},
   "outputs": [
    {
     "name": "stdout",
     "output_type": "stream",
     "text": [
      "+---------+---------+-----+---+\n",
      "|     DPID|      PID|count|max|\n",
      "+---------+---------+-----+---+\n",
      "|nm4998666|     null|    1|  1|\n",
      "|nm3769883|     null|    1|  1|\n",
      "|nm0496746|nm0000002|    1|  1|\n",
      "|nm0000180|nm0000027|    1|  1|\n",
      "|nm0896533|nm0000039|    1|  1|\n",
      "|nm0896533|nm0000042|    1|  1|\n",
      "|nm0004292|nm0000047|    1|  1|\n",
      "|nm0485943|nm0000073|    1|  1|\n",
      "|nm0000229|nm0000076|    1|  1|\n",
      "|nm0178997|nm0000092|    1|  1|\n",
      "|nm0000269|nm0000093|    1|  1|\n",
      "|nm0149446|nm0000096|    1|  1|\n",
      "|nm0113819|nm0000096|    1|  1|\n",
      "|nm0001060|nm0000101|    1|  1|\n",
      "|nm0583292|nm0000112|    1|  1|\n",
      "|nm0002657|nm0000113|    1|  1|\n",
      "|nm0000386|nm0000131|    1|  1|\n",
      "|nm0004072|nm0000137|    1|  1|\n",
      "|nm0394280|nm0000140|    1|  1|\n",
      "|nm0012541|nm0000144|    1|  1|\n",
      "|nm0001162|nm0000147|    1|  1|\n",
      "|nm1287649|nm0000155|    1|  1|\n",
      "|nm0923736|nm0000168|    1|  1|\n",
      "|nm0204628|nm0000173|    1|  1|\n",
      "|nm0394280|nm0000174|    1|  1|\n",
      "|nm0001060|nm0000187|    1|  1|\n",
      "|nm0431918|nm0000193|    1|  1|\n",
      "|nm0634782|nm0000193|    1|  1|\n",
      "|nm0027572|nm0000195|    1|  1|\n",
      "|nm0318916|nm0000200|    1|  1|\n",
      "|nm0027572|nm0000204|    1|  1|\n",
      "|nm2803372|nm0000207|    1|  1|\n",
      "|nm0178997|nm0000216|    1|  1|\n",
      "|nm1012385|nm0000218|    1|  1|\n",
      "|nm1287649|nm0000230|    1|  1|\n",
      "|nm0001162|nm0000235|    1|  1|\n",
      "|nm0431918|nm0000246|    1|  1|\n",
      "|nm0601382|nm0000246|    1|  1|\n",
      "|nm0001060|nm0000251|    1|  1|\n",
      "|nm2898003|nm0000254|    1|  1|\n",
      "|nm0923736|nm0000256|    1|  1|\n",
      "|nm0318916|nm0000273|    1|  1|\n",
      "|nm0113819|nm0000274|    1|  1|\n",
      "|nm2803372|nm0000276|    1|  1|\n",
      "|nm0006249|nm0000277|    1|  1|\n",
      "|nm0785227|nm0000288|    1|  1|\n",
      "|nm0001060|nm0000293|    1|  1|\n",
      "|nm0002657|nm0000307|    1|  1|\n",
      "|nm0178997|nm0000329|    1|  1|\n",
      "|nm0751577|nm0000332|    1|  1|\n",
      "|nm0939128|nm0000334|    1|  1|\n",
      "|nm0000487|nm0000367|    1|  1|\n",
      "|nm0923736|nm0000375|    1|  1|\n",
      "|nm0751577|nm0000375|    1|  1|\n",
      "|nm0001355|nm0000375|    1|  1|\n",
      "|nm0000229|nm0000377|    1|  1|\n",
      "|nm0002041|nm0000412|    1|  1|\n",
      "|nm0000229|nm0000414|    1|  1|\n",
      "|nm0000386|nm0000418|    1|  1|\n",
      "|nm0000386|nm0000437|    1|  1|\n",
      "|nm0002041|nm0000438|    1|  1|\n",
      "|nm0500444|nm0000439|    1|  1|\n",
      "|nm0619762|nm0000444|    1|  1|\n",
      "|nm0000229|nm0000448|    1|  1|\n",
      "|nm0751577|nm0000458|    1|  1|\n",
      "|nm0001355|nm0000474|    1|  1|\n",
      "|nm0766020|nm0000478|    1|  1|\n",
      "|nm0431918|nm0000500|    1|  1|\n",
      "|nm0012541|nm0000502|    1|  1|\n",
      "|nm0002120|nm0000545|    1|  1|\n",
      "|nm0322515|nm0000549|    1|  1|\n",
      "|nm0923736|nm0000569|    1|  1|\n",
      "|nm1287649|nm0000612|    1|  1|\n",
      "|nm0001162|nm0000618|    1|  1|\n",
      "|nm0612730|nm0000627|    1|  1|\n",
      "|nm1212237|nm0000640|    1|  1|\n",
      "|nm0000269|nm0000667|    1|  1|\n",
      "|nm0902939|nm0000673|    1|  1|\n",
      "|nm0751577|nm0000673|    1|  1|\n",
      "|nm0000269|nm0000703|    1|  1|\n",
      "|nm0001162|nm0000724|    1|  1|\n",
      "|nm0322515|nm0000726|    1|  1|\n",
      "|nm0007147|nm0000738|    1|  1|\n",
      "|nm0070867|nm0000818|    6|  6|\n",
      "|nm0611531|nm0000821|   11| 11|\n",
      "|nm0000229|nm0000837|    1|  1|\n",
      "|nm0178997|nm0000870|    1|  1|\n",
      "|nm0000386|nm0000872|    1|  1|\n",
      "|nm0045800|nm0000897|    1|  1|\n",
      "|nm0322515|nm0000925|    1|  1|\n",
      "|nm0785227|nm0000949|    1|  1|\n",
      "|nm0002657|nm0000949|    1|  1|\n",
      "|nm0923736|nm0000959|    1|  1|\n",
      "|nm0896533|nm0000964|    1|  1|\n",
      "|nm0178997|nm0000980|    1|  1|\n",
      "|nm0002175|nm0000989|    1|  1|\n",
      "|nm0001241|nm0001003|    1|  1|\n",
      "|nm0149446|nm0001003|    1|  1|\n",
      "|nm0000487|nm0001040|    1|  1|\n",
      "|nm0576548|nm0001097|    1|  1|\n",
      "+---------+---------+-----+---+\n",
      "only showing top 100 rows\n",
      "\n"
     ]
    }
   ],
   "source": [
    "maxCount.sort(\"PID\").show(100)"
   ]
  },
  {
   "cell_type": "code",
   "execution_count": 58,
   "metadata": {},
   "outputs": [
    {
     "data": {
      "text/plain": [
       "maxMore = [DPID: string, PID: string ... 3 more fields]\n"
      ]
     },
     "metadata": {},
     "output_type": "display_data"
    },
    {
     "data": {
      "text/plain": [
       "[DPID: string, PID: string ... 3 more fields]"
      ]
     },
     "execution_count": 58,
     "metadata": {},
     "output_type": "execute_result"
    }
   ],
   "source": [
    "val maxMore=maxCount.withColumn(\"duplicates_count\",count(\"PID\") over Window.partitionBy(\"PID\"))"
   ]
  },
  {
   "cell_type": "code",
   "execution_count": 59,
   "metadata": {},
   "outputs": [
    {
     "name": "stdout",
     "output_type": "stream",
     "text": [
      "+---------+---------+-----+---+----------------+\n",
      "|     DPID|      PID|count|max|duplicates_count|\n",
      "+---------+---------+-----+---+----------------+\n",
      "|nm4998666|     null|    1|  1|               0|\n",
      "|nm3769883|     null|    1|  1|               0|\n",
      "|nm0496746|nm0000002|    1|  1|               1|\n",
      "|nm0000180|nm0000027|    1|  1|               1|\n",
      "|nm0896533|nm0000039|    1|  1|               1|\n",
      "|nm0896533|nm0000042|    1|  1|               1|\n",
      "|nm0004292|nm0000047|    1|  1|               1|\n",
      "|nm0485943|nm0000073|    1|  1|               1|\n",
      "|nm0000229|nm0000076|    1|  1|               1|\n",
      "|nm0178997|nm0000092|    1|  1|               1|\n",
      "|nm0000269|nm0000093|    1|  1|               1|\n",
      "|nm0113819|nm0000096|    1|  1|               2|\n",
      "|nm0149446|nm0000096|    1|  1|               2|\n",
      "|nm0001060|nm0000101|    1|  1|               1|\n",
      "|nm0583292|nm0000112|    1|  1|               1|\n",
      "|nm0002657|nm0000113|    1|  1|               1|\n",
      "|nm0000386|nm0000131|    1|  1|               1|\n",
      "|nm0004072|nm0000137|    1|  1|               1|\n",
      "|nm0394280|nm0000140|    1|  1|               1|\n",
      "|nm0012541|nm0000144|    1|  1|               1|\n",
      "|nm0001162|nm0000147|    1|  1|               1|\n",
      "|nm1287649|nm0000155|    1|  1|               1|\n",
      "|nm0923736|nm0000168|    1|  1|               1|\n",
      "|nm0204628|nm0000173|    1|  1|               1|\n",
      "|nm0394280|nm0000174|    1|  1|               1|\n",
      "|nm0001060|nm0000187|    1|  1|               1|\n",
      "|nm0431918|nm0000193|    1|  1|               2|\n",
      "|nm0634782|nm0000193|    1|  1|               2|\n",
      "|nm0027572|nm0000195|    1|  1|               1|\n",
      "|nm0318916|nm0000200|    1|  1|               1|\n",
      "|nm0027572|nm0000204|    1|  1|               1|\n",
      "|nm2803372|nm0000207|    1|  1|               1|\n",
      "|nm0178997|nm0000216|    1|  1|               1|\n",
      "|nm1012385|nm0000218|    1|  1|               1|\n",
      "|nm1287649|nm0000230|    1|  1|               1|\n",
      "|nm0001162|nm0000235|    1|  1|               1|\n",
      "|nm0601382|nm0000246|    1|  1|               2|\n",
      "|nm0431918|nm0000246|    1|  1|               2|\n",
      "|nm0001060|nm0000251|    1|  1|               1|\n",
      "|nm2898003|nm0000254|    1|  1|               1|\n",
      "|nm0923736|nm0000256|    1|  1|               1|\n",
      "|nm0318916|nm0000273|    1|  1|               1|\n",
      "|nm0113819|nm0000274|    1|  1|               1|\n",
      "|nm2803372|nm0000276|    1|  1|               1|\n",
      "|nm0006249|nm0000277|    1|  1|               1|\n",
      "|nm0785227|nm0000288|    1|  1|               1|\n",
      "|nm0001060|nm0000293|    1|  1|               1|\n",
      "|nm0002657|nm0000307|    1|  1|               1|\n",
      "|nm0178997|nm0000329|    1|  1|               1|\n",
      "|nm0751577|nm0000332|    1|  1|               1|\n",
      "|nm0939128|nm0000334|    1|  1|               1|\n",
      "|nm0000487|nm0000367|    1|  1|               1|\n",
      "|nm0001355|nm0000375|    1|  1|               3|\n",
      "|nm0751577|nm0000375|    1|  1|               3|\n",
      "|nm0923736|nm0000375|    1|  1|               3|\n",
      "|nm0000229|nm0000377|    1|  1|               1|\n",
      "|nm0002041|nm0000412|    1|  1|               1|\n",
      "|nm0000229|nm0000414|    1|  1|               1|\n",
      "|nm0000386|nm0000418|    1|  1|               1|\n",
      "|nm0000386|nm0000437|    1|  1|               1|\n",
      "|nm0002041|nm0000438|    1|  1|               1|\n",
      "|nm0500444|nm0000439|    1|  1|               1|\n",
      "|nm0619762|nm0000444|    1|  1|               1|\n",
      "|nm0000229|nm0000448|    1|  1|               1|\n",
      "|nm0751577|nm0000458|    1|  1|               1|\n",
      "|nm0001355|nm0000474|    1|  1|               1|\n",
      "|nm0766020|nm0000478|    1|  1|               1|\n",
      "|nm0431918|nm0000500|    1|  1|               1|\n",
      "|nm0012541|nm0000502|    1|  1|               1|\n",
      "|nm0002120|nm0000545|    1|  1|               1|\n",
      "|nm0322515|nm0000549|    1|  1|               1|\n",
      "|nm0923736|nm0000569|    1|  1|               1|\n",
      "|nm1287649|nm0000612|    1|  1|               1|\n",
      "|nm0001162|nm0000618|    1|  1|               1|\n",
      "|nm0612730|nm0000627|    1|  1|               1|\n",
      "|nm1212237|nm0000640|    1|  1|               1|\n",
      "|nm0000269|nm0000667|    1|  1|               1|\n",
      "|nm0751577|nm0000673|    1|  1|               2|\n",
      "|nm0902939|nm0000673|    1|  1|               2|\n",
      "|nm0000269|nm0000703|    1|  1|               1|\n",
      "|nm0001162|nm0000724|    1|  1|               1|\n",
      "|nm0322515|nm0000726|    1|  1|               1|\n",
      "|nm0007147|nm0000738|    1|  1|               1|\n",
      "|nm0070867|nm0000818|    6|  6|               1|\n",
      "|nm0611531|nm0000821|   11| 11|               1|\n",
      "|nm0000229|nm0000837|    1|  1|               1|\n",
      "|nm0178997|nm0000870|    1|  1|               1|\n",
      "|nm0000386|nm0000872|    1|  1|               1|\n",
      "|nm0045800|nm0000897|    1|  1|               1|\n",
      "|nm0322515|nm0000925|    1|  1|               1|\n",
      "|nm0002657|nm0000949|    1|  1|               2|\n",
      "|nm0785227|nm0000949|    1|  1|               2|\n",
      "|nm0923736|nm0000959|    1|  1|               1|\n",
      "|nm0896533|nm0000964|    1|  1|               1|\n",
      "|nm0178997|nm0000980|    1|  1|               1|\n",
      "|nm0002175|nm0000989|    1|  1|               1|\n",
      "|nm0001241|nm0001003|    1|  1|               2|\n",
      "|nm0149446|nm0001003|    1|  1|               2|\n",
      "|nm0000487|nm0001040|    1|  1|               1|\n",
      "|nm0576548|nm0001097|    1|  1|               1|\n",
      "+---------+---------+-----+---+----------------+\n",
      "only showing top 100 rows\n",
      "\n"
     ]
    }
   ],
   "source": [
    "maxMore.sort(\"PID\").show(100)"
   ]
  },
  {
   "cell_type": "code",
   "execution_count": 67,
   "metadata": {},
   "outputs": [
    {
     "data": {
      "text/plain": [
       "finalPIDwithDPID = [DPID: string, PID: string ... 3 more fields]\n"
      ]
     },
     "metadata": {},
     "output_type": "display_data"
    },
    {
     "data": {
      "text/plain": [
       "[DPID: string, PID: string ... 3 more fields]"
      ]
     },
     "execution_count": 67,
     "metadata": {},
     "output_type": "execute_result"
    }
   ],
   "source": [
    "val finalPIDwithDPID=maxMore.filter($\"duplicates_count\"===1 && $\"DPID\"===\"nm0007181\")"
   ]
  },
  {
   "cell_type": "code",
   "execution_count": 69,
   "metadata": {},
   "outputs": [
    {
     "name": "stdout",
     "output_type": "stream",
     "text": [
      "+---------+---------+-----+---+----------------+\n",
      "|     DPID|      PID|count|max|duplicates_count|\n",
      "+---------+---------+-----+---+----------------+\n",
      "|nm0007181|nm0004434|    7|  7|               1|\n",
      "|nm0007181|nm0007181|    2|  2|               1|\n",
      "|nm0007181|nm0015296|    1|  1|               1|\n",
      "|nm0007181|nm0101508|    1|  1|               1|\n",
      "|nm0007181|nm0158332|    3|  3|               1|\n",
      "|nm0007181|nm0159158|    1|  1|               1|\n",
      "|nm0007181|nm0159165|    3|  3|               1|\n",
      "|nm0007181|nm0347901|    5|  5|               1|\n",
      "|nm0007181|nm0348507|    1|  1|               1|\n",
      "|nm0007181|nm0407002|    9|  9|               1|\n",
      "|nm0007181|nm0471443|   10| 10|               1|\n",
      "|nm0007181|nm0557645|    2|  2|               1|\n",
      "|nm0007181|nm0576489|    1|  1|               1|\n",
      "|nm0007181|nm0622730|    1|  1|               1|\n",
      "|nm0007181|nm0707271|   11| 11|               1|\n",
      "|nm0007181|nm0716851|    5|  5|               1|\n",
      "|nm0007181|nm0755087|    4|  4|               1|\n",
      "|nm0007181|nm0802183|    4|  4|               1|\n",
      "|nm0007181|nm0820653|    1|  1|               1|\n",
      "|nm0007181|nm0839590|    2|  2|               1|\n",
      "|nm0007181|nm1022346|    1|  1|               1|\n",
      "|nm0007181|nm1022360|    1|  1|               1|\n",
      "|nm0007181|nm1022366|    1|  1|               1|\n",
      "|nm0007181|nm1223376|    1|  1|               1|\n",
      "|nm0007181|nm1275889|    2|  2|               1|\n",
      "|nm0007181|nm1277297|    1|  1|               1|\n",
      "|nm0007181|nm1294183|    1|  1|               1|\n",
      "|nm0007181|nm1525006|    1|  1|               1|\n",
      "|nm0007181|nm1542555|    1|  1|               1|\n",
      "|nm0007181|nm1542561|    1|  1|               1|\n",
      "|nm0007181|nm1587231|    1|  1|               1|\n",
      "|nm0007181|nm1588131|    2|  2|               1|\n",
      "|nm0007181|nm1616917|    1|  1|               1|\n",
      "|nm0007181|nm1649656|    2|  2|               1|\n",
      "|nm0007181|nm1649927|    1|  1|               1|\n",
      "|nm0007181|nm1722045|    1|  1|               1|\n",
      "|nm0007181|nm1767027|    1|  1|               1|\n",
      "|nm0007181|nm1767604|    2|  2|               1|\n",
      "|nm0007181|nm1768011|    1|  1|               1|\n",
      "|nm0007181|nm1889309|    1|  1|               1|\n",
      "|nm0007181|nm2114469|    1|  1|               1|\n",
      "|nm0007181|nm2115358|    1|  1|               1|\n",
      "|nm0007181|nm2115677|    1|  1|               1|\n",
      "|nm0007181|nm2117528|    1|  1|               1|\n",
      "|nm0007181|nm2120556|    1|  1|               1|\n",
      "|nm0007181|nm2121659|    1|  1|               1|\n",
      "|nm0007181|nm2151232|    1|  1|               1|\n",
      "|nm0007181|nm2154519|    1|  1|               1|\n",
      "|nm0007181|nm2608069|    1|  1|               1|\n",
      "|nm0007181|nm2719795|    1|  1|               1|\n",
      "|nm0007181|nm2995223|    1|  1|               1|\n",
      "|nm0007181|nm3157251|    1|  1|               1|\n",
      "|nm0007181|nm3163800|    2|  2|               1|\n",
      "|nm0007181|nm3272951|    1|  1|               1|\n",
      "|nm0007181|nm3273153|    1|  1|               1|\n",
      "|nm0007181|nm3274780|    1|  1|               1|\n",
      "|nm0007181|nm3275750|    1|  1|               1|\n",
      "|nm0007181|nm3275880|    1|  1|               1|\n",
      "|nm0007181|nm3276418|    1|  1|               1|\n",
      "|nm0007181|nm3714952|    1|  1|               1|\n",
      "|nm0007181|nm3717498|    1|  1|               1|\n",
      "|nm0007181|nm3825950|    1|  1|               1|\n",
      "|nm0007181|nm3919962|    1|  1|               1|\n",
      "|nm0007181|nm3942501|    1|  1|               1|\n",
      "|nm0007181|nm4036568|    1|  1|               1|\n",
      "|nm0007181|nm4065665|    1|  1|               1|\n",
      "|nm0007181|nm4069122|    1|  1|               1|\n",
      "|nm0007181|nm4112921|    1|  1|               1|\n",
      "|nm0007181|nm4211750|    1|  1|               1|\n",
      "|nm0007181|nm4263521|    1|  1|               1|\n",
      "|nm0007181|nm4395613|    1|  1|               1|\n",
      "|nm0007181|nm4440431|    1|  1|               1|\n",
      "|nm0007181|nm4556488|    1|  1|               1|\n",
      "|nm0007181|nm4680739|    1|  1|               1|\n",
      "|nm0007181|nm4767135|    1|  1|               1|\n",
      "|nm0007181|nm4807680|    1|  1|               1|\n",
      "|nm0007181|nm4874389|    1|  1|               1|\n",
      "|nm0007181|nm4893364|    1|  1|               1|\n",
      "|nm0007181|nm4902054|    1|  1|               1|\n",
      "|nm0007181|nm4914253|    1|  1|               1|\n",
      "|nm0007181|nm4947164|    1|  1|               1|\n",
      "|nm0007181|nm4949276|    1|  1|               1|\n",
      "|nm0007181|nm4958954|    1|  1|               1|\n",
      "|nm0007181|nm4963833|    1|  1|               1|\n",
      "|nm0007181|nm4975971|    1|  1|               1|\n",
      "|nm0007181|nm4993446|    1|  1|               1|\n",
      "|nm0007181|nm5096257|    1|  1|               1|\n",
      "|nm0007181|nm5123771|    1|  1|               1|\n",
      "|nm0007181|nm5138567|    1|  1|               1|\n",
      "|nm0007181|nm5157380|    1|  1|               1|\n",
      "|nm0007181|nm5171778|    1|  1|               1|\n",
      "|nm0007181|nm5171814|    1|  1|               1|\n",
      "|nm0007181|nm5221129|    1|  1|               1|\n",
      "|nm0007181|nm5235227|    1|  1|               1|\n",
      "|nm0007181|nm5359722|    1|  1|               1|\n",
      "|nm0007181|nm5390815|    1|  1|               1|\n",
      "|nm0007181|nm5391624|    1|  1|               1|\n",
      "|nm0007181|nm5424345|    1|  1|               1|\n",
      "|nm0007181|nm5424365|    1|  1|               1|\n",
      "|nm0007181|nm5477035|    1|  1|               1|\n",
      "+---------+---------+-----+---+----------------+\n",
      "only showing top 100 rows\n",
      "\n"
     ]
    }
   ],
   "source": [
    "finalPIDwithDPID.sort(\"PID\").show(100)"
   ]
  },
  {
   "cell_type": "code",
   "execution_count": 73,
   "metadata": {},
   "outputs": [
    {
     "data": {
      "text/plain": [
       "final_PIDs = [PID: string, count: bigint]\n"
      ]
     },
     "metadata": {},
     "output_type": "display_data"
    },
    {
     "data": {
      "text/plain": [
       "[PID: string, count: bigint]"
      ]
     },
     "execution_count": 73,
     "metadata": {},
     "output_type": "execute_result"
    }
   ],
   "source": [
    "val final_PIDs=finalPIDwithDPID.select(\"PID\",\"count\")"
   ]
  },
  {
   "cell_type": "code",
   "execution_count": 79,
   "metadata": {},
   "outputs": [
    {
     "data": {
      "text/plain": [
       "finalActors = [PID: string, Name: string ... 2 more fields]\n"
      ]
     },
     "metadata": {},
     "output_type": "display_data"
    },
    {
     "data": {
      "text/plain": [
       "[PID: string, Name: string ... 2 more fields]"
      ]
     },
     "execution_count": 79,
     "metadata": {},
     "output_type": "execute_result"
    }
   ],
   "source": [
    "val finalActors=final_PIDs.join(persons,\"PID\").dropDuplicates().select(\"PID\",\"Name\",\"Gender\",\"count\")"
   ]
  },
  {
   "cell_type": "markdown",
   "metadata": {},
   "source": [
    "# Final Answer to the problem"
   ]
  },
  {
   "cell_type": "code",
   "execution_count": 80,
   "metadata": {},
   "outputs": [
    {
     "name": "stdout",
     "output_type": "stream",
     "text": [
      "+---------+--------------------+------+-----+\n",
      "|      PID|                Name|Gender|count|\n",
      "+---------+--------------------+------+-----+\n",
      "|nm1525006|     Sandow S. Sethi|  Male|    1|\n",
      "|nm5477035|         Iola Nguyen|Female|    1|\n",
      "|nm4975971|           Naj Modak|  Male|    1|\n",
      "|nm1767604|         Ashok Verma|  Male|    2|\n",
      "|nm2719795|              Kishan|  Male|    1|\n",
      "|nm5157380|Neil Alexander Smith|  Male|    1|\n",
      "|nm0576489|          Pran Mehra|  null|    1|\n",
      "|nm0004434|       Shashi Kapoor|  Male|    7|\n",
      "|nm5171814|            Narin Oz|Female|    1|\n",
      "|nm1588131|         Shyam Arora|  Male|    2|\n",
      "|nm1649656|   Chandu Allahabadi|  Male|    2|\n",
      "|nm0707271|         Jagdish Raj|  Male|   11|\n",
      "|nm5221129|      Jasmine Jardot|Female|    1|\n",
      "|nm4874389|     Vicky K. Foster|Female|    1|\n",
      "|nm7150152|        Abbie Murphy|Female|    1|\n",
      "|nm3275880|            Om Sahni|  Male|    1|\n",
      "|nm1542555|        Master Kelly|  Male|    1|\n",
      "|nm3157251|              Naseem|Female|    1|\n",
      "|nm7076286|      Katy Kartwheel|Female|    1|\n",
      "|nm1294183|             Parijat|Female|    1|\n",
      "|nm2995223|            Ramanand|  Male|    1|\n",
      "|nm0622730|               Naval|  Male|    1|\n",
      "|nm4958954|    Tom Baines Maher|  Male|    1|\n",
      "|nm1542561|          Yasin Khan|  Male|    1|\n",
      "|nm4949276|       Lauren Ingram|Female|    1|\n",
      "|nm4807680|        Goldie Green|Female|    1|\n",
      "|nm0158332|       Leela Chitnis|Female|    3|\n",
      "|nm0159165|        Sudha Chopra|Female|    3|\n",
      "|nm8737993|        Varun Thakur|  Male|    1|\n",
      "|nm4395613|   Kyriakos Georgiou|  Male|    1|\n",
      "|nm0159158|       Pamela Chopra|  null|    1|\n",
      "|nm4211750|    Susana Rodrigues|Female|    1|\n",
      "|nm5390815|        Varun Thajur|  Male|    1|\n",
      "|nm5096257|  Julia Niewiadomska|Female|    1|\n",
      "|nm0007181|         Yash Chopra|  null|    2|\n",
      "|nm5483899|     Stephanie Aslan|Female|    1|\n",
      "|nm1022346|        Shruti Ultaf|Female|    1|\n",
      "|nm1649927|          Sarveshwar|  Male|    1|\n",
      "|nm4767135|     Richard Herdman|  Male|    1|\n",
      "|nm1223376|     Ramola Bachchan|Female|    1|\n",
      "|nm0755087|      Achala Sachdev|Female|    4|\n",
      "|nm2120556|        Pankaj Raina|  Male|    1|\n",
      "|nm1275889|            Raj Hans|  Male|    2|\n",
      "|nm1587231|           Prem Sood|  Male|    1|\n",
      "|nm3274780|        Ashok Chadda|  Male|    1|\n",
      "|nm4680739|    Natalie Jeanette|Female|    1|\n",
      "|nm2151232|     Michael Vardian|  Male|    1|\n",
      "|nm8533115|           Sean Moon|  Male|    1|\n",
      "|nm1022366|       Shivani Vazir|Female|    1|\n",
      "|nm0716851|      Waheeda Rehman|Female|    5|\n",
      "|nm2115677|     Huzefa Gadiwala|  Male|    1|\n",
      "|nm2115358|        Manish Arora|  Male|    1|\n",
      "|nm5235227|       Michael Patil|  Male|    1|\n",
      "|nm0015296|      Akhtar-Ul-Iman|  null|    1|\n",
      "|nm4914253|       Julie Vollono|Female|    1|\n",
      "|nm4993446|          Jay Conroy|  Male|    1|\n",
      "|nm3275750|              Rajesh|  Male|    1|\n",
      "|nm5424365|        Varun Thakur|  Male|    1|\n",
      "|nm0347901|       Rakhee Gulzar|Female|    5|\n",
      "|nm7624361|       Richard Broom|  Male|    1|\n",
      "|nm0471443|    Manmohan Krishna|  Male|   10|\n",
      "|nm4069122|      Benjayx Murphy|  Male|    1|\n",
      "|nm0407002|            Iftekhar|  Male|    9|\n",
      "|nm3717498|Matthew David McC...|  Male|    1|\n",
      "|nm0802183|         Neetu Singh|Female|    4|\n",
      "|nm1722045|       Sanjeev Kohli|  null|    1|\n",
      "|nm0101508|           Steve Box|  null|    1|\n",
      "|nm6217431|  Martin Crossingham|  Male|    1|\n",
      "|nm4902054|      Tina Tancakova|Female|    1|\n",
      "|nm3825950|       Stuart Bailey|  Male|    1|\n",
      "|nm4036568|    Kris Sommerville|  Male|    1|\n",
      "|nm4112921|Rudy Valentino Grant|  Male|    1|\n",
      "|nm4065665|       Elise Quevedo|Female|    1|\n",
      "|nm4556488|          David Golt|  Male|    1|\n",
      "|nm5359722|         Anick Wiget|Female|    1|\n",
      "|nm5138567|         Holly Clark|  Male|    1|\n",
      "|nm3273153|               Nasir|  Male|    1|\n",
      "|nm3272951|               Bhola|  Male|    1|\n",
      "|nm2154519| Nick Thomas-Webster|  Male|    1|\n",
      "|nm5391624|     Amarinder Sodhi|  Male|    1|\n",
      "|nm1277297|         Dippy Sagoo|Female|    1|\n",
      "|nm4263521|      Jaspal Badwell|Female|    1|\n",
      "|nm1889309|       Master Rizwan|  Male|    1|\n",
      "|nm5424345|     Amarinder Sodhi|  Male|    1|\n",
      "|nm4947164|       Gary Wronecki|  Male|    1|\n",
      "|nm5171778|        Shane Salter|  Male|    1|\n",
      "|nm4963833|  Camilla Talarowska|Female|    1|\n",
      "|nm1767027|          Ravi Dubey|  Male|    1|\n",
      "|nm0557645|              Nissar|  Male|    2|\n",
      "|nm2114469|  Chandni Jas Keerat|Female|    1|\n",
      "|nm3163800|               Nazir|  Male|    2|\n",
      "|nm2117528|          Vinod Negi|  Male|    1|\n",
      "|nm1768011|        Pratima Puri|Female|    1|\n",
      "|nm2608069|     Ramlal Shyamlal|  Male|    1|\n",
      "|nm3919962|James Michael Rankin|  Male|    1|\n",
      "|nm4893364|       Susan Fordham|Female|    1|\n",
      "|nm2121659|       Shivaya Singh|  Male|    1|\n",
      "|nm0839590|       Surendra Nath|  Male|    2|\n",
      "|nm3714952|     Melissa Hollett|Female|    1|\n",
      "|nm5123771|       Celine Jedidi|Female|    1|\n",
      "+---------+--------------------+------+-----+\n",
      "only showing top 100 rows\n",
      "\n"
     ]
    }
   ],
   "source": [
    "finalActors.show(100)"
   ]
  },
  {
   "cell_type": "markdown",
   "metadata": {},
   "source": [
    "# Below lines are additional and practice "
   ]
  },
  {
   "cell_type": "code",
   "execution_count": 41,
   "metadata": {},
   "outputs": [
    {
     "data": {
      "text/plain": [
       "actor_pids_grp_by = [DPID: string, PID: string ... 4 more fields]\n"
      ]
     },
     "metadata": {},
     "output_type": "display_data"
    },
    {
     "data": {
      "text/plain": [
       "[DPID: string, PID: string ... 4 more fields]"
      ]
     },
     "execution_count": 41,
     "metadata": {},
     "output_type": "execute_result"
    }
   ],
   "source": [
    "val actor_pids_grp_by=dir_pid_count2.join(dir_pid_count2\n",
    "                                  .toDF(dir_pid_count2.columns.map(_ + \"_R\"):_*),$\"PID\"===$\"PID_R\")\n",
    ".dropDuplicates()"
   ]
  },
  {
   "cell_type": "code",
   "execution_count": 42,
   "metadata": {},
   "outputs": [
    {
     "name": "stdout",
     "output_type": "stream",
     "text": [
      "+---------+---------+-----+---------+---------+-------+\n",
      "|     DPID|      PID|count|   DPID_R|    PID_R|count_R|\n",
      "+---------+---------+-----+---------+---------+-------+\n",
      "|nm0496746|nm0000002|    1|nm0496746|nm0000002|      1|\n",
      "|nm0000180|nm0000027|    1|nm0000180|nm0000027|      1|\n",
      "|nm0896533|nm0000039|    1|nm0896533|nm0000039|      1|\n",
      "|nm0896533|nm0000042|    1|nm0896533|nm0000042|      1|\n",
      "|nm0004292|nm0000047|    1|nm0004292|nm0000047|      1|\n",
      "|nm0485943|nm0000073|    1|nm0485943|nm0000073|      1|\n",
      "|nm0000229|nm0000076|    1|nm0000229|nm0000076|      1|\n",
      "|nm0178997|nm0000092|    1|nm0178997|nm0000092|      1|\n",
      "|nm0000269|nm0000093|    1|nm0000269|nm0000093|      1|\n",
      "|nm0149446|nm0000096|    1|nm0113819|nm0000096|      1|\n",
      "|nm0113819|nm0000096|    1|nm0113819|nm0000096|      1|\n",
      "|nm0149446|nm0000096|    1|nm0149446|nm0000096|      1|\n",
      "|nm0113819|nm0000096|    1|nm0149446|nm0000096|      1|\n",
      "|nm0001060|nm0000101|    1|nm0001060|nm0000101|      1|\n",
      "|nm0583292|nm0000112|    1|nm0583292|nm0000112|      1|\n",
      "|nm0002657|nm0000113|    1|nm0002657|nm0000113|      1|\n",
      "|nm0000386|nm0000131|    1|nm0000386|nm0000131|      1|\n",
      "|nm0004072|nm0000137|    1|nm0004072|nm0000137|      1|\n",
      "|nm0394280|nm0000140|    1|nm0394280|nm0000140|      1|\n",
      "|nm0012541|nm0000144|    1|nm0012541|nm0000144|      1|\n",
      "|nm0001162|nm0000147|    1|nm0001162|nm0000147|      1|\n",
      "|nm1287649|nm0000155|    1|nm1287649|nm0000155|      1|\n",
      "|nm0923736|nm0000168|    1|nm0923736|nm0000168|      1|\n",
      "|nm0204628|nm0000173|    1|nm0204628|nm0000173|      1|\n",
      "|nm0394280|nm0000174|    1|nm0394280|nm0000174|      1|\n",
      "|nm0001060|nm0000187|    1|nm0001060|nm0000187|      1|\n",
      "|nm0431918|nm0000193|    1|nm0431918|nm0000193|      1|\n",
      "|nm0634782|nm0000193|    1|nm0634782|nm0000193|      1|\n",
      "|nm0634782|nm0000193|    1|nm0431918|nm0000193|      1|\n",
      "|nm0431918|nm0000193|    1|nm0634782|nm0000193|      1|\n",
      "|nm0027572|nm0000195|    1|nm0027572|nm0000195|      1|\n",
      "|nm0318916|nm0000200|    1|nm0318916|nm0000200|      1|\n",
      "|nm0027572|nm0000204|    1|nm0027572|nm0000204|      1|\n",
      "|nm2803372|nm0000207|    1|nm2803372|nm0000207|      1|\n",
      "|nm0178997|nm0000216|    1|nm0178997|nm0000216|      1|\n",
      "|nm1012385|nm0000218|    1|nm1012385|nm0000218|      1|\n",
      "|nm1287649|nm0000230|    1|nm1287649|nm0000230|      1|\n",
      "|nm0001162|nm0000235|    1|nm0001162|nm0000235|      1|\n",
      "|nm0431918|nm0000246|    1|nm0601382|nm0000246|      1|\n",
      "|nm0431918|nm0000246|    1|nm0431918|nm0000246|      1|\n",
      "|nm0601382|nm0000246|    1|nm0601382|nm0000246|      1|\n",
      "|nm0601382|nm0000246|    1|nm0431918|nm0000246|      1|\n",
      "|nm0001060|nm0000251|    1|nm0001060|nm0000251|      1|\n",
      "|nm2898003|nm0000254|    1|nm2898003|nm0000254|      1|\n",
      "|nm0923736|nm0000256|    1|nm0923736|nm0000256|      1|\n",
      "|nm0318916|nm0000273|    1|nm0318916|nm0000273|      1|\n",
      "|nm0113819|nm0000274|    1|nm0113819|nm0000274|      1|\n",
      "|nm2803372|nm0000276|    1|nm2803372|nm0000276|      1|\n",
      "|nm0006249|nm0000277|    1|nm0006249|nm0000277|      1|\n",
      "|nm0785227|nm0000288|    1|nm0785227|nm0000288|      1|\n",
      "|nm0001060|nm0000293|    1|nm0001060|nm0000293|      1|\n",
      "|nm0002657|nm0000307|    1|nm0002657|nm0000307|      1|\n",
      "|nm0178997|nm0000329|    1|nm0178997|nm0000329|      1|\n",
      "|nm0751577|nm0000332|    1|nm0751577|nm0000332|      1|\n",
      "|nm0939128|nm0000334|    1|nm0939128|nm0000334|      1|\n",
      "|nm0000487|nm0000367|    1|nm0000487|nm0000367|      1|\n",
      "|nm0923736|nm0000375|    1|nm0751577|nm0000375|      1|\n",
      "|nm0751577|nm0000375|    1|nm0923736|nm0000375|      1|\n",
      "|nm0751577|nm0000375|    1|nm0001355|nm0000375|      1|\n",
      "|nm0751577|nm0000375|    1|nm0751577|nm0000375|      1|\n",
      "|nm0923736|nm0000375|    1|nm0923736|nm0000375|      1|\n",
      "|nm0001355|nm0000375|    1|nm0001355|nm0000375|      1|\n",
      "|nm0001355|nm0000375|    1|nm0751577|nm0000375|      1|\n",
      "|nm0001355|nm0000375|    1|nm0923736|nm0000375|      1|\n",
      "|nm0923736|nm0000375|    1|nm0001355|nm0000375|      1|\n",
      "|nm0000229|nm0000377|    1|nm0000229|nm0000377|      1|\n",
      "|nm0002041|nm0000412|    1|nm0002041|nm0000412|      1|\n",
      "|nm0000229|nm0000414|    1|nm0000229|nm0000414|      1|\n",
      "|nm0000386|nm0000418|    1|nm0000386|nm0000418|      1|\n",
      "|nm0000386|nm0000437|    1|nm0000386|nm0000437|      1|\n",
      "|nm0002041|nm0000438|    1|nm0002041|nm0000438|      1|\n",
      "|nm0500444|nm0000439|    1|nm0500444|nm0000439|      1|\n",
      "|nm0619762|nm0000444|    1|nm0619762|nm0000444|      1|\n",
      "|nm0000229|nm0000448|    1|nm0000229|nm0000448|      1|\n",
      "|nm0751577|nm0000458|    1|nm0751577|nm0000458|      1|\n",
      "|nm0001355|nm0000474|    1|nm0001355|nm0000474|      1|\n",
      "|nm0766020|nm0000478|    1|nm0766020|nm0000478|      1|\n",
      "|nm0431918|nm0000500|    1|nm0431918|nm0000500|      1|\n",
      "|nm0012541|nm0000502|    1|nm0012541|nm0000502|      1|\n",
      "|nm0002120|nm0000545|    1|nm0002120|nm0000545|      1|\n",
      "|nm0322515|nm0000549|    1|nm0322515|nm0000549|      1|\n",
      "|nm0923736|nm0000569|    1|nm0923736|nm0000569|      1|\n",
      "|nm1287649|nm0000612|    1|nm1287649|nm0000612|      1|\n",
      "|nm0001162|nm0000618|    1|nm0001162|nm0000618|      1|\n",
      "|nm0612730|nm0000627|    1|nm0612730|nm0000627|      1|\n",
      "|nm1212237|nm0000640|    1|nm1212237|nm0000640|      1|\n",
      "|nm0000269|nm0000667|    1|nm0000269|nm0000667|      1|\n",
      "|nm0751577|nm0000673|    1|nm0751577|nm0000673|      1|\n",
      "|nm0902939|nm0000673|    1|nm0902939|nm0000673|      1|\n",
      "|nm0751577|nm0000673|    1|nm0902939|nm0000673|      1|\n",
      "|nm0902939|nm0000673|    1|nm0751577|nm0000673|      1|\n",
      "|nm0000269|nm0000703|    1|nm0000269|nm0000703|      1|\n",
      "|nm0001162|nm0000724|    1|nm0001162|nm0000724|      1|\n",
      "|nm0322515|nm0000726|    1|nm0322515|nm0000726|      1|\n",
      "|nm0007147|nm0000738|    1|nm0007147|nm0000738|      1|\n",
      "|nm0052677|nm0000818|    1|nm0795430|nm0000818|      1|\n",
      "|nm0052677|nm0000818|    1|nm0070867|nm0000818|      6|\n",
      "|nm1030373|nm0000818|    1|nm0782766|nm0000818|      1|\n",
      "|nm0052677|nm0000818|    1|nm0576587|nm0000818|      1|\n",
      "|nm1030373|nm0000818|    1|nm0080315|nm0000818|      2|\n",
      "|nm0795430|nm0000818|    1|nm0001408|nm0000818|      1|\n",
      "|nm1030373|nm0000818|    1|nm0220828|nm0000818|      2|\n",
      "|nm0052677|nm0000818|    1|nm0315872|nm0000818|      1|\n",
      "|nm0001408|nm0000818|    1|nm1142222|nm0000818|      1|\n",
      "|nm1142222|nm0000818|    1|nm0851253|nm0000818|      1|\n",
      "|nm0576587|nm0000818|    1|nm0784019|nm0000818|      3|\n",
      "|nm0795430|nm0000818|    1|nm1338698|nm0000818|      1|\n",
      "|nm1030373|nm0000818|    1|nm2322617|nm0000818|      1|\n",
      "|nm1030373|nm0000818|    1|nm0007147|nm0000818|      1|\n",
      "|nm0052677|nm0000818|    1|nm0007147|nm0000818|      1|\n",
      "|nm1030373|nm0000818|    1|nm0403967|nm0000818|      1|\n",
      "|nm1338698|nm0000818|    1|nm0007147|nm0000818|      1|\n",
      "|nm0001408|nm0000818|    1|nm0001408|nm0000818|      1|\n",
      "|nm1142222|nm0000818|    1|nm0015295|nm0000818|      1|\n",
      "|nm1142222|nm0000818|    1|nm1910832|nm0000818|      1|\n",
      "|nm0576587|nm0000818|    1|nm0001408|nm0000818|      1|\n",
      "|nm0576587|nm0000818|    1|nm0474837|nm0000818|      1|\n",
      "|nm0315872|nm0000818|    1|nm0015295|nm0000818|      1|\n",
      "|nm0795430|nm0000818|    1|nm0052677|nm0000818|      1|\n",
      "|nm1030373|nm0000818|    1|nm0851253|nm0000818|      1|\n",
      "|nm0347899|nm0000818|    1|nm0070867|nm0000818|      6|\n",
      "|nm1030373|nm0000818|    1|nm0015295|nm0000818|      1|\n",
      "|nm1030373|nm0000818|    1|nm1910832|nm0000818|      1|\n",
      "|nm0052677|nm0000818|    1|nm0660936|nm0000818|      3|\n",
      "|nm1030373|nm0000818|    1|nm1065099|nm0000818|      1|\n",
      "|nm1030373|nm0000818|    1|nm0784019|nm0000818|      3|\n",
      "|nm1338698|nm0000818|    1|nm1142222|nm0000818|      1|\n",
      "|nm1338698|nm0000818|    1|nm0851253|nm0000818|      1|\n",
      "|nm1338698|nm0000818|    1|nm0784019|nm0000818|      3|\n",
      "|nm0001408|nm0000818|    1|nm1338698|nm0000818|      1|\n",
      "|nm0001408|nm0000818|    1|nm0474837|nm0000818|      1|\n",
      "|nm0001408|nm0000818|    1|nm0782766|nm0000818|      1|\n",
      "|nm1142222|nm0000818|    1|nm0052677|nm0000818|      1|\n",
      "|nm1142222|nm0000818|    1|nm0006249|nm0000818|      1|\n",
      "|nm1142222|nm0000818|    1|nm0784019|nm0000818|      3|\n",
      "|nm0576587|nm0000818|    1|nm1338698|nm0000818|      1|\n",
      "|nm0576587|nm0000818|    1|nm0015295|nm0000818|      1|\n",
      "|nm0576587|nm0000818|    1|nm0782766|nm0000818|      1|\n",
      "|nm0315872|nm0000818|    1|nm1338698|nm0000818|      1|\n",
      "|nm0315872|nm0000818|    1|nm1910832|nm0000818|      1|\n",
      "|nm0315872|nm0000818|    1|nm0782766|nm0000818|      1|\n",
      "|nm0315872|nm0000818|    1|nm0006659|nm0000818|      1|\n",
      "|nm0795430|nm0000818|    1|nm1910832|nm0000818|      1|\n",
      "|nm0795430|nm0000818|    1|nm0471471|nm0000818|      1|\n",
      "|nm0795430|nm0000818|    1|nm0576494|nm0000818|      1|\n",
      "|nm0347899|nm0000818|    1|nm0795664|nm0000818|      1|\n",
      "|nm0347899|nm0000818|    1|nm0592595|nm0000818|      1|\n",
      "|nm0347899|nm0000818|    1|nm0576548|nm0000818|      3|\n",
      "|nm1030373|nm0000818|    1|nm1030373|nm0000818|      1|\n",
      "|nm1030373|nm0000818|    1|nm0006249|nm0000818|      1|\n",
      "|nm0052677|nm0000818|    1|nm0422552|nm0000818|      1|\n",
      "|nm0052677|nm0000818|    1|nm0851253|nm0000818|      1|\n",
      "|nm1030373|nm0000818|    1|nm0613517|nm0000818|      1|\n",
      "|nm0052677|nm0000818|    1|nm0580337|nm0000818|      1|\n",
      "|nm1030373|nm0000818|    1|nm0471471|nm0000818|      1|\n",
      "|nm1142222|nm0000818|    1|nm0007147|nm0000818|      1|\n",
      "|nm0052677|nm0000818|    1|nm0025627|nm0000818|      1|\n",
      "|nm1338698|nm0000818|    1|nm0001408|nm0000818|      1|\n",
      "|nm1338698|nm0000818|    1|nm0422552|nm0000818|      1|\n",
      "|nm1338698|nm0000818|    1|nm0015295|nm0000818|      1|\n",
      "|nm1338698|nm0000818|    1|nm0994603|nm0000818|      1|\n",
      "|nm1338698|nm0000818|    1|nm0474837|nm0000818|      1|\n",
      "|nm1338698|nm0000818|    1|nm1065099|nm0000818|      1|\n",
      "|nm0001408|nm0000818|    1|nm0052677|nm0000818|      1|\n",
      "|nm0001408|nm0000818|    1|nm0015295|nm0000818|      1|\n",
      "|nm0001408|nm0000818|    1|nm1910832|nm0000818|      1|\n",
      "|nm0001408|nm0000818|    1|nm0220828|nm0000818|      2|\n",
      "|nm0001408|nm0000818|    1|nm0471471|nm0000818|      1|\n",
      "|nm0001408|nm0000818|    1|nm0474839|nm0000818|      1|\n",
      "|nm0001408|nm0000818|    1|nm0006659|nm0000818|      1|\n",
      "|nm1142222|nm0000818|    1|nm0347899|nm0000818|      1|\n",
      "|nm1142222|nm0000818|    1|nm0070867|nm0000818|      6|\n",
      "|nm1142222|nm0000818|    1|nm0994603|nm0000818|      1|\n",
      "|nm1142222|nm0000818|    1|nm0474837|nm0000818|      1|\n",
      "|nm1142222|nm0000818|    1|nm1065099|nm0000818|      1|\n",
      "|nm0576587|nm0000818|    1|nm0052677|nm0000818|      1|\n",
      "|nm0576587|nm0000818|    1|nm2327068|nm0000818|      1|\n",
      "|nm0576587|nm0000818|    1|nm1910832|nm0000818|      1|\n",
      "|nm0576587|nm0000818|    1|nm0220828|nm0000818|      2|\n",
      "|nm0576587|nm0000818|    1|nm0471471|nm0000818|      1|\n",
      "|nm0576587|nm0000818|    1|nm1065099|nm0000818|      1|\n",
      "|nm0315872|nm0000818|    1|nm0052677|nm0000818|      1|\n",
      "|nm0315872|nm0000818|    1|nm1030373|nm0000818|      1|\n",
      "|nm0315872|nm0000818|    1|nm0006249|nm0000818|      1|\n",
      "|nm0315872|nm0000818|    1|nm0220828|nm0000818|      2|\n",
      "|nm0315872|nm0000818|    1|nm0471471|nm0000818|      1|\n",
      "|nm0315872|nm0000818|    1|nm0613517|nm0000818|      1|\n",
      "|nm0315872|nm0000818|    1|nm0576494|nm0000818|      1|\n",
      "|nm0795430|nm0000818|    1|nm2327068|nm0000818|      1|\n",
      "|nm0795430|nm0000818|    1|nm0006249|nm0000818|      1|\n",
      "|nm0795430|nm0000818|    1|nm2322617|nm0000818|      1|\n",
      "|nm0795430|nm0000818|    1|nm0660936|nm0000818|      3|\n",
      "|nm0795430|nm0000818|    1|nm0348495|nm0000818|      1|\n",
      "|nm0795430|nm0000818|    1|nm0080235|nm0000818|      2|\n",
      "|nm0347899|nm0000818|    1|nm0315872|nm0000818|      1|\n",
      "|nm0347899|nm0000818|    1|nm0592803|nm0000818|      1|\n",
      "|nm0347899|nm0000818|    1|nm0080315|nm0000818|      2|\n",
      "|nm0347899|nm0000818|    1|nm0580337|nm0000818|      1|\n",
      "|nm0347899|nm0000818|    1|nm0031967|nm0000818|      1|\n",
      "|nm0347899|nm0000818|    1|nm0025627|nm0000818|      1|\n",
      "|nm1030373|nm0000818|    1|nm1142222|nm0000818|      1|\n",
      "|nm1030373|nm0000818|    1|nm0347899|nm0000818|      1|\n",
      "|nm1030373|nm0000818|    1|nm0244892|nm0000818|      1|\n",
      "|nm1030373|nm0000818|    1|nm0070867|nm0000818|      6|\n",
      "|nm0052677|nm0000818|    1|nm2327068|nm0000818|      1|\n",
      "|nm0052677|nm0000818|    1|nm0795664|nm0000818|      1|\n",
      "|nm0052677|nm0000818|    1|nm0006249|nm0000818|      1|\n",
      "|nm0052677|nm0000818|    1|nm0015295|nm0000818|      1|\n",
      "|nm0052677|nm0000818|    1|nm0006765|nm0000818|      1|\n",
      "|nm0052677|nm0000818|    1|nm0592595|nm0000818|      1|\n",
      "|nm0052677|nm0000818|    1|nm0220828|nm0000818|      2|\n",
      "|nm0052677|nm0000818|    1|nm0534879|nm0000818|      1|\n",
      "|nm0052677|nm0000818|    1|nm0474837|nm0000818|      1|\n",
      "|nm0052677|nm0000818|    1|nm0007134|nm0000818|      1|\n",
      "|nm0052677|nm0000818|    1|nm0782766|nm0000818|      1|\n",
      "|nm0052677|nm0000818|    1|nm0613517|nm0000818|      1|\n",
      "|nm0052677|nm0000818|    1|nm0403967|nm0000818|      1|\n",
      "|nm0052677|nm0000818|    1|nm0576494|nm0000818|      1|\n",
      "|nm1338698|nm0000818|    1|nm1338698|nm0000818|      1|\n",
      "|nm1338698|nm0000818|    1|nm0795430|nm0000818|      1|\n",
      "|nm1338698|nm0000818|    1|nm2327068|nm0000818|      1|\n",
      "|nm1338698|nm0000818|    1|nm0795664|nm0000818|      1|\n",
      "|nm1338698|nm0000818|    1|nm1910832|nm0000818|      1|\n",
      "|nm1338698|nm0000818|    1|nm0006765|nm0000818|      1|\n",
      "|nm1338698|nm0000818|    1|nm0154113|nm0000818|      2|\n",
      "|nm1338698|nm0000818|    1|nm0592595|nm0000818|      1|\n",
      "|nm1338698|nm0000818|    1|nm0782766|nm0000818|      1|\n",
      "|nm1338698|nm0000818|    1|nm1070287|nm0000818|      1|\n",
      "|nm1338698|nm0000818|    1|nm0474839|nm0000818|      1|\n",
      "|nm1338698|nm0000818|    1|nm0576548|nm0000818|      3|\n",
      "|nm1338698|nm0000818|    1|nm0006659|nm0000818|      1|\n",
      "|nm0001408|nm0000818|    1|nm2327068|nm0000818|      1|\n",
      "|nm0001408|nm0000818|    1|nm1030373|nm0000818|      1|\n",
      "|nm0001408|nm0000818|    1|nm0592803|nm0000818|      1|\n",
      "|nm0001408|nm0000818|    1|nm0006249|nm0000818|      1|\n",
      "|nm0001408|nm0000818|    1|nm0802377|nm0000818|      1|\n",
      "|nm0001408|nm0000818|    1|nm2322617|nm0000818|      1|\n",
      "|nm0001408|nm0000818|    1|nm0534879|nm0000818|      1|\n",
      "|nm0315872|nm0000818|    1|nm0070867|nm0000818|      6|\n",
      "|nm0001408|nm0000818|    1|nm0031967|nm0000818|      1|\n",
      "|nm0001408|nm0000818|    1|nm0613517|nm0000818|      1|\n",
      "|nm0001408|nm0000818|    1|nm0025627|nm0000818|      1|\n",
      "|nm0001408|nm0000818|    1|nm0576494|nm0000818|      1|\n",
      "|nm1142222|nm0000818|    1|nm1142222|nm0000818|      1|\n",
      "|nm1142222|nm0000818|    1|nm0795430|nm0000818|      1|\n",
      "|nm1142222|nm0000818|    1|nm0422552|nm0000818|      1|\n",
      "|nm1142222|nm0000818|    1|nm0795664|nm0000818|      1|\n",
      "|nm1142222|nm0000818|    1|nm0006765|nm0000818|      1|\n",
      "|nm1142222|nm0000818|    1|nm0154113|nm0000818|      2|\n",
      "|nm1142222|nm0000818|    1|nm0592595|nm0000818|      1|\n",
      "|nm1142222|nm0000818|    1|nm0782766|nm0000818|      1|\n",
      "|nm1142222|nm0000818|    1|nm1070287|nm0000818|      1|\n",
      "|nm1142222|nm0000818|    1|nm0474839|nm0000818|      1|\n",
      "|nm1142222|nm0000818|    1|nm0576548|nm0000818|      3|\n",
      "|nm1142222|nm0000818|    1|nm0006659|nm0000818|      1|\n",
      "|nm0576587|nm0000818|    1|nm0315872|nm0000818|      1|\n",
      "|nm0576587|nm0000818|    1|nm1030373|nm0000818|      1|\n",
      "|nm0576587|nm0000818|    1|nm0592803|nm0000818|      1|\n",
      "|nm0576587|nm0000818|    1|nm0006249|nm0000818|      1|\n",
      "|nm0576587|nm0000818|    1|nm0802377|nm0000818|      1|\n",
      "|nm0576587|nm0000818|    1|nm2322617|nm0000818|      1|\n",
      "|nm0576587|nm0000818|    1|nm0534879|nm0000818|      1|\n",
      "|nm0576587|nm0000818|    1|nm0660936|nm0000818|      3|\n",
      "|nm0576587|nm0000818|    1|nm1070287|nm0000818|      1|\n",
      "|nm0576587|nm0000818|    1|nm0474839|nm0000818|      1|\n",
      "|nm0576587|nm0000818|    1|nm0576548|nm0000818|      3|\n",
      "|nm0576587|nm0000818|    1|nm0006659|nm0000818|      1|\n",
      "|nm0315872|nm0000818|    1|nm0576587|nm0000818|      1|\n",
      "|nm0315872|nm0000818|    1|nm0347899|nm0000818|      1|\n",
      "|nm0315872|nm0000818|    1|nm0244892|nm0000818|      1|\n",
      "|nm0315872|nm0000818|    1|nm0592803|nm0000818|      1|\n",
      "|nm0315872|nm0000818|    1|nm0802377|nm0000818|      1|\n",
      "|nm0315872|nm0000818|    1|nm2322617|nm0000818|      1|\n",
      "|nm0315872|nm0000818|    1|nm0534879|nm0000818|      1|\n",
      "|nm0315872|nm0000818|    1|nm0660936|nm0000818|      3|\n",
      "|nm0315872|nm0000818|    1|nm0007134|nm0000818|      1|\n",
      "|nm0315872|nm0000818|    1|nm0348495|nm0000818|      1|\n",
      "|nm0315872|nm0000818|    1|nm0403967|nm0000818|      1|\n",
      "|nm0315872|nm0000818|    1|nm0080235|nm0000818|      2|\n",
      "|nm0795430|nm0000818|    1|nm0315872|nm0000818|      1|\n",
      "|nm0795430|nm0000818|    1|nm1030373|nm0000818|      1|\n",
      "|nm0795430|nm0000818|    1|nm0592803|nm0000818|      1|\n",
      "|nm0795430|nm0000818|    1|nm0070867|nm0000818|      6|\n",
      "|nm0795430|nm0000818|    1|nm0007147|nm0000818|      1|\n",
      "|nm0795430|nm0000818|    1|nm0006765|nm0000818|      1|\n",
      "|nm0795430|nm0000818|    1|nm0592595|nm0000818|      1|\n",
      "|nm0795430|nm0000818|    1|nm0580337|nm0000818|      1|\n",
      "|nm0795430|nm0000818|    1|nm0784019|nm0000818|      3|\n",
      "|nm0795430|nm0000818|    1|nm1070287|nm0000818|      1|\n",
      "|nm0795430|nm0000818|    1|nm1065099|nm0000818|      1|\n",
      "|nm0795430|nm0000818|    1|nm0576548|nm0000818|      3|\n",
      "|nm0347899|nm0000818|    1|nm1338698|nm0000818|      1|\n",
      "|nm0347899|nm0000818|    1|nm0576587|nm0000818|      1|\n",
      "|nm0347899|nm0000818|    1|nm1030373|nm0000818|      1|\n",
      "|nm0347899|nm0000818|    1|nm0244892|nm0000818|      1|\n",
      "|nm0347899|nm0000818|    1|nm0015295|nm0000818|      1|\n",
      "|nm0347899|nm0000818|    1|nm0802377|nm0000818|      1|\n",
      "|nm0347899|nm0000818|    1|nm0220828|nm0000818|      2|\n",
      "|nm0347899|nm0000818|    1|nm0534879|nm0000818|      1|\n",
      "|nm0347899|nm0000818|    1|nm0782766|nm0000818|      1|\n",
      "|nm0347899|nm0000818|    1|nm0007134|nm0000818|      1|\n",
      "|nm0347899|nm0000818|    1|nm0613517|nm0000818|      1|\n",
      "|nm0347899|nm0000818|    1|nm0403967|nm0000818|      1|\n",
      "|nm0347899|nm0000818|    1|nm0006659|nm0000818|      1|\n",
      "|nm1030373|nm0000818|    1|nm0001408|nm0000818|      1|\n",
      "|nm1030373|nm0000818|    1|nm0315872|nm0000818|      1|\n",
      "|nm1030373|nm0000818|    1|nm0795430|nm0000818|      1|\n",
      "|nm1030373|nm0000818|    1|nm2327068|nm0000818|      1|\n",
      "|nm1030373|nm0000818|    1|nm0422552|nm0000818|      1|\n",
      "|nm1030373|nm0000818|    1|nm0592803|nm0000818|      1|\n",
      "|nm1030373|nm0000818|    1|nm0795664|nm0000818|      1|\n",
      "|nm0052677|nm0000818|    1|nm0244892|nm0000818|      1|\n",
      "|nm0052677|nm0000818|    1|nm0592803|nm0000818|      1|\n",
      "|nm0052677|nm0000818|    1|nm1910832|nm0000818|      1|\n",
      "|nm0052677|nm0000818|    1|nm0080315|nm0000818|      2|\n",
      "|nm0052677|nm0000818|    1|nm0802377|nm0000818|      1|\n",
      "|nm0052677|nm0000818|    1|nm2322617|nm0000818|      1|\n",
      "|nm0052677|nm0000818|    1|nm0154113|nm0000818|      2|\n",
      "|nm0052677|nm0000818|    1|nm0994603|nm0000818|      1|\n",
      "|nm0052677|nm0000818|    1|nm0784019|nm0000818|      3|\n",
      "|nm1338698|nm0000818|    1|nm0070867|nm0000818|      6|\n",
      "|nm0052677|nm0000818|    1|nm0471471|nm0000818|      1|\n",
      "|nm0052677|nm0000818|    1|nm1070287|nm0000818|      1|\n",
      "|nm0052677|nm0000818|    1|nm0348495|nm0000818|      1|\n",
      "|nm0052677|nm0000818|    1|nm0474839|nm0000818|      1|\n",
      "|nm0052677|nm0000818|    1|nm1065099|nm0000818|      1|\n",
      "|nm0052677|nm0000818|    1|nm0576548|nm0000818|      3|\n",
      "|nm0052677|nm0000818|    1|nm0080235|nm0000818|      2|\n",
      "|nm0052677|nm0000818|    1|nm0006659|nm0000818|      1|\n",
      "|nm1338698|nm0000818|    1|nm0052677|nm0000818|      1|\n",
      "|nm1338698|nm0000818|    1|nm0576587|nm0000818|      1|\n",
      "|nm1338698|nm0000818|    1|nm0315872|nm0000818|      1|\n",
      "|nm1338698|nm0000818|    1|nm0347899|nm0000818|      1|\n",
      "|nm1338698|nm0000818|    1|nm1030373|nm0000818|      1|\n",
      "|nm1338698|nm0000818|    1|nm0244892|nm0000818|      1|\n",
      "|nm1338698|nm0000818|    1|nm0592803|nm0000818|      1|\n",
      "|nm0001408|nm0000818|    1|nm0660936|nm0000818|      3|\n",
      "|nm1338698|nm0000818|    1|nm0006249|nm0000818|      1|\n",
      "|nm1338698|nm0000818|    1|nm0802377|nm0000818|      1|\n",
      "|nm1338698|nm0000818|    1|nm0080315|nm0000818|      2|\n",
      "|nm1338698|nm0000818|    1|nm2322617|nm0000818|      1|\n",
      "|nm1338698|nm0000818|    1|nm0220828|nm0000818|      2|\n",
      "|nm1338698|nm0000818|    1|nm0534879|nm0000818|      1|\n",
      "|nm1338698|nm0000818|    1|nm0580337|nm0000818|      1|\n",
      "|nm1338698|nm0000818|    1|nm0660936|nm0000818|      3|\n",
      "|nm1338698|nm0000818|    1|nm0471471|nm0000818|      1|\n",
      "|nm1338698|nm0000818|    1|nm0007134|nm0000818|      1|\n",
      "|nm1338698|nm0000818|    1|nm0031967|nm0000818|      1|\n",
      "|nm1338698|nm0000818|    1|nm0348495|nm0000818|      1|\n",
      "|nm1338698|nm0000818|    1|nm0613517|nm0000818|      1|\n",
      "|nm1338698|nm0000818|    1|nm0403967|nm0000818|      1|\n",
      "|nm1338698|nm0000818|    1|nm0025627|nm0000818|      1|\n",
      "|nm1338698|nm0000818|    1|nm0080235|nm0000818|      2|\n",
      "|nm1338698|nm0000818|    1|nm0576494|nm0000818|      1|\n",
      "|nm0001408|nm0000818|    1|nm0576587|nm0000818|      1|\n",
      "|nm0001408|nm0000818|    1|nm0315872|nm0000818|      1|\n",
      "|nm0001408|nm0000818|    1|nm0795430|nm0000818|      1|\n",
      "|nm0001408|nm0000818|    1|nm0347899|nm0000818|      1|\n",
      "|nm0001408|nm0000818|    1|nm0422552|nm0000818|      1|\n",
      "|nm0001408|nm0000818|    1|nm0244892|nm0000818|      1|\n",
      "|nm0001408|nm0000818|    1|nm0795664|nm0000818|      1|\n",
      "|nm0001408|nm0000818|    1|nm0070867|nm0000818|      6|\n",
      "|nm0001408|nm0000818|    1|nm0851253|nm0000818|      1|\n",
      "|nm0001408|nm0000818|    1|nm0007147|nm0000818|      1|\n",
      "|nm0001408|nm0000818|    1|nm0080315|nm0000818|      2|\n",
      "|nm0001408|nm0000818|    1|nm0006765|nm0000818|      1|\n",
      "|nm0001408|nm0000818|    1|nm0154113|nm0000818|      2|\n",
      "|nm0001408|nm0000818|    1|nm0994603|nm0000818|      1|\n",
      "|nm0001408|nm0000818|    1|nm0580337|nm0000818|      1|\n",
      "|nm0001408|nm0000818|    1|nm0592595|nm0000818|      1|\n",
      "|nm0001408|nm0000818|    1|nm0784019|nm0000818|      3|\n",
      "|nm0001408|nm0000818|    1|nm0007134|nm0000818|      1|\n",
      "|nm0001408|nm0000818|    1|nm1070287|nm0000818|      1|\n",
      "|nm0001408|nm0000818|    1|nm0348495|nm0000818|      1|\n",
      "|nm0001408|nm0000818|    1|nm1065099|nm0000818|      1|\n",
      "|nm0001408|nm0000818|    1|nm0403967|nm0000818|      1|\n",
      "|nm0001408|nm0000818|    1|nm0576548|nm0000818|      3|\n",
      "|nm0001408|nm0000818|    1|nm0080235|nm0000818|      2|\n",
      "|nm1142222|nm0000818|    1|nm1338698|nm0000818|      1|\n",
      "|nm1142222|nm0000818|    1|nm0001408|nm0000818|      1|\n",
      "|nm1142222|nm0000818|    1|nm0576587|nm0000818|      1|\n",
      "|nm1142222|nm0000818|    1|nm0315872|nm0000818|      1|\n",
      "|nm1142222|nm0000818|    1|nm1030373|nm0000818|      1|\n",
      "|nm1142222|nm0000818|    1|nm2327068|nm0000818|      1|\n",
      "|nm1142222|nm0000818|    1|nm0244892|nm0000818|      1|\n",
      "|nm1142222|nm0000818|    1|nm0592803|nm0000818|      1|\n",
      "|nm1142222|nm0000818|    1|nm0802377|nm0000818|      1|\n",
      "|nm1142222|nm0000818|    1|nm0080315|nm0000818|      2|\n",
      "|nm1142222|nm0000818|    1|nm2322617|nm0000818|      1|\n",
      "|nm1142222|nm0000818|    1|nm0220828|nm0000818|      2|\n",
      "|nm1142222|nm0000818|    1|nm0534879|nm0000818|      1|\n",
      "|nm1142222|nm0000818|    1|nm0580337|nm0000818|      1|\n",
      "|nm1142222|nm0000818|    1|nm0660936|nm0000818|      3|\n",
      "|nm1142222|nm0000818|    1|nm0471471|nm0000818|      1|\n",
      "|nm1142222|nm0000818|    1|nm0007134|nm0000818|      1|\n",
      "|nm1142222|nm0000818|    1|nm0031967|nm0000818|      1|\n",
      "|nm1142222|nm0000818|    1|nm0348495|nm0000818|      1|\n",
      "|nm1142222|nm0000818|    1|nm0613517|nm0000818|      1|\n",
      "|nm1142222|nm0000818|    1|nm0403967|nm0000818|      1|\n",
      "|nm1142222|nm0000818|    1|nm0025627|nm0000818|      1|\n",
      "|nm1142222|nm0000818|    1|nm0080235|nm0000818|      2|\n",
      "|nm1142222|nm0000818|    1|nm0576494|nm0000818|      1|\n",
      "|nm0576587|nm0000818|    1|nm1142222|nm0000818|      1|\n",
      "|nm0576587|nm0000818|    1|nm0576587|nm0000818|      1|\n",
      "|nm0576587|nm0000818|    1|nm0795430|nm0000818|      1|\n",
      "|nm0576587|nm0000818|    1|nm0347899|nm0000818|      1|\n",
      "|nm0576587|nm0000818|    1|nm0422552|nm0000818|      1|\n",
      "|nm0576587|nm0000818|    1|nm0244892|nm0000818|      1|\n",
      "|nm0576587|nm0000818|    1|nm0795664|nm0000818|      1|\n",
      "|nm0576587|nm0000818|    1|nm0070867|nm0000818|      6|\n",
      "|nm0576587|nm0000818|    1|nm0851253|nm0000818|      1|\n",
      "|nm0576587|nm0000818|    1|nm0007147|nm0000818|      1|\n",
      "|nm0576587|nm0000818|    1|nm0080315|nm0000818|      2|\n",
      "|nm0576587|nm0000818|    1|nm0006765|nm0000818|      1|\n",
      "|nm0576587|nm0000818|    1|nm0154113|nm0000818|      2|\n",
      "|nm0576587|nm0000818|    1|nm0994603|nm0000818|      1|\n",
      "|nm0576587|nm0000818|    1|nm0580337|nm0000818|      1|\n",
      "|nm0576587|nm0000818|    1|nm0592595|nm0000818|      1|\n",
      "|nm0576587|nm0000818|    1|nm0007134|nm0000818|      1|\n",
      "|nm0576587|nm0000818|    1|nm0031967|nm0000818|      1|\n",
      "|nm0576587|nm0000818|    1|nm0348495|nm0000818|      1|\n",
      "|nm0576587|nm0000818|    1|nm0613517|nm0000818|      1|\n",
      "|nm0576587|nm0000818|    1|nm0403967|nm0000818|      1|\n",
      "|nm0576587|nm0000818|    1|nm0025627|nm0000818|      1|\n",
      "|nm0576587|nm0000818|    1|nm0080235|nm0000818|      2|\n",
      "|nm0576587|nm0000818|    1|nm0576494|nm0000818|      1|\n",
      "|nm0315872|nm0000818|    1|nm0001408|nm0000818|      1|\n",
      "|nm0315872|nm0000818|    1|nm1142222|nm0000818|      1|\n",
      "|nm0315872|nm0000818|    1|nm0315872|nm0000818|      1|\n",
      "|nm0315872|nm0000818|    1|nm0795430|nm0000818|      1|\n",
      "|nm0315872|nm0000818|    1|nm2327068|nm0000818|      1|\n",
      "|nm0315872|nm0000818|    1|nm0422552|nm0000818|      1|\n",
      "|nm0315872|nm0000818|    1|nm0795664|nm0000818|      1|\n",
      "|nm0315872|nm0000818|    1|nm0851253|nm0000818|      1|\n",
      "|nm0315872|nm0000818|    1|nm0007147|nm0000818|      1|\n",
      "|nm0315872|nm0000818|    1|nm0080315|nm0000818|      2|\n",
      "|nm0315872|nm0000818|    1|nm0006765|nm0000818|      1|\n",
      "|nm0315872|nm0000818|    1|nm0154113|nm0000818|      2|\n",
      "|nm0315872|nm0000818|    1|nm0994603|nm0000818|      1|\n",
      "|nm0315872|nm0000818|    1|nm0580337|nm0000818|      1|\n",
      "|nm0315872|nm0000818|    1|nm0592595|nm0000818|      1|\n",
      "|nm0315872|nm0000818|    1|nm0474837|nm0000818|      1|\n",
      "|nm0315872|nm0000818|    1|nm0784019|nm0000818|      3|\n",
      "|nm0315872|nm0000818|    1|nm0031967|nm0000818|      1|\n",
      "|nm0315872|nm0000818|    1|nm1070287|nm0000818|      1|\n",
      "|nm0315872|nm0000818|    1|nm0474839|nm0000818|      1|\n",
      "|nm0315872|nm0000818|    1|nm1065099|nm0000818|      1|\n",
      "|nm0315872|nm0000818|    1|nm0025627|nm0000818|      1|\n",
      "|nm0315872|nm0000818|    1|nm0576548|nm0000818|      3|\n",
      "|nm0795430|nm0000818|    1|nm1142222|nm0000818|      1|\n",
      "|nm0795430|nm0000818|    1|nm0576587|nm0000818|      1|\n",
      "|nm0795430|nm0000818|    1|nm0795430|nm0000818|      1|\n",
      "|nm0795430|nm0000818|    1|nm0347899|nm0000818|      1|\n",
      "|nm0795430|nm0000818|    1|nm0422552|nm0000818|      1|\n",
      "|nm0795430|nm0000818|    1|nm0244892|nm0000818|      1|\n",
      "|nm0795430|nm0000818|    1|nm0795664|nm0000818|      1|\n",
      "|nm0795430|nm0000818|    1|nm0015295|nm0000818|      1|\n",
      "|nm0795430|nm0000818|    1|nm0851253|nm0000818|      1|\n",
      "|nm0795430|nm0000818|    1|nm0802377|nm0000818|      1|\n",
      "|nm0795430|nm0000818|    1|nm0080315|nm0000818|      2|\n",
      "|nm0795430|nm0000818|    1|nm0154113|nm0000818|      2|\n",
      "|nm0795430|nm0000818|    1|nm0220828|nm0000818|      2|\n",
      "|nm0795430|nm0000818|    1|nm0994603|nm0000818|      1|\n",
      "|nm0795430|nm0000818|    1|nm0534879|nm0000818|      1|\n",
      "|nm0795430|nm0000818|    1|nm0782766|nm0000818|      1|\n",
      "|nm0795430|nm0000818|    1|nm0474837|nm0000818|      1|\n",
      "|nm0795430|nm0000818|    1|nm0007134|nm0000818|      1|\n",
      "|nm0795430|nm0000818|    1|nm0031967|nm0000818|      1|\n",
      "|nm0795430|nm0000818|    1|nm0613517|nm0000818|      1|\n",
      "|nm0795430|nm0000818|    1|nm0474839|nm0000818|      1|\n",
      "|nm0795430|nm0000818|    1|nm0403967|nm0000818|      1|\n",
      "|nm0795430|nm0000818|    1|nm0025627|nm0000818|      1|\n",
      "|nm0795430|nm0000818|    1|nm0006659|nm0000818|      1|\n",
      "|nm0347899|nm0000818|    1|nm0052677|nm0000818|      1|\n",
      "|nm0347899|nm0000818|    1|nm0001408|nm0000818|      1|\n",
      "|nm0347899|nm0000818|    1|nm1142222|nm0000818|      1|\n",
      "|nm0347899|nm0000818|    1|nm0795430|nm0000818|      1|\n",
      "|nm0347899|nm0000818|    1|nm0347899|nm0000818|      1|\n",
      "|nm0347899|nm0000818|    1|nm0422552|nm0000818|      1|\n",
      "|nm0347899|nm0000818|    1|nm2327068|nm0000818|      1|\n",
      "|nm0347899|nm0000818|    1|nm0006249|nm0000818|      1|\n",
      "|nm0347899|nm0000818|    1|nm1910832|nm0000818|      1|\n",
      "|nm0347899|nm0000818|    1|nm0851253|nm0000818|      1|\n",
      "|nm0347899|nm0000818|    1|nm0007147|nm0000818|      1|\n",
      "|nm0347899|nm0000818|    1|nm0006765|nm0000818|      1|\n",
      "|nm0347899|nm0000818|    1|nm2322617|nm0000818|      1|\n",
      "|nm0347899|nm0000818|    1|nm0154113|nm0000818|      2|\n",
      "|nm0347899|nm0000818|    1|nm0994603|nm0000818|      1|\n",
      "|nm0347899|nm0000818|    1|nm0660936|nm0000818|      3|\n",
      "|nm0347899|nm0000818|    1|nm0471471|nm0000818|      1|\n",
      "|nm0347899|nm0000818|    1|nm0474837|nm0000818|      1|\n",
      "|nm0347899|nm0000818|    1|nm0784019|nm0000818|      3|\n",
      "|nm0347899|nm0000818|    1|nm1070287|nm0000818|      1|\n",
      "|nm0347899|nm0000818|    1|nm0348495|nm0000818|      1|\n",
      "|nm0347899|nm0000818|    1|nm1065099|nm0000818|      1|\n",
      "|nm0347899|nm0000818|    1|nm0474839|nm0000818|      1|\n",
      "|nm0347899|nm0000818|    1|nm0080235|nm0000818|      2|\n",
      "|nm0347899|nm0000818|    1|nm0576494|nm0000818|      1|\n",
      "|nm1030373|nm0000818|    1|nm0052677|nm0000818|      1|\n",
      "|nm1030373|nm0000818|    1|nm1338698|nm0000818|      1|\n",
      "+---------+---------+-----+---------+---------+-------+\n",
      "only showing top 500 rows\n",
      "\n"
     ]
    }
   ],
   "source": [
    "actor_pids_grp_by.sort(\"PID\").show(500)"
   ]
  },
  {
   "cell_type": "code",
   "execution_count": 43,
   "metadata": {},
   "outputs": [
    {
     "data": {
      "text/plain": [
       "maxCount = [DPID: string, PID: string ... 5 more fields]\n"
      ]
     },
     "metadata": {},
     "output_type": "display_data"
    },
    {
     "data": {
      "text/plain": [
       "[DPID: string, PID: string ... 5 more fields]"
      ]
     },
     "execution_count": 43,
     "metadata": {},
     "output_type": "execute_result"
    }
   ],
   "source": [
    "val maxCount=actor_pids_grp_by.withColumn(\"max\",max(\"count_R\") over Window.partitionBy(\"PID\"))"
   ]
  },
  {
   "cell_type": "code",
   "execution_count": 141,
   "metadata": {},
   "outputs": [
    {
     "name": "stdout",
     "output_type": "stream",
     "text": [
      "+---------+---------+-----+---------+---------+-------+---+\n",
      "|     DPID|      PID|count|   DPID_R|    PID_R|count_R|max|\n",
      "+---------+---------+-----+---------+---------+-------+---+\n",
      "|nm0496746|nm0000002|    1|nm0496746|nm0000002|      1|  1|\n",
      "|nm0000180|nm0000027|    1|nm0000180|nm0000027|      1|  1|\n",
      "|nm0896533|nm0000039|    1|nm0896533|nm0000039|      1|  1|\n",
      "|nm0896533|nm0000042|    1|nm0896533|nm0000042|      1|  1|\n",
      "|nm0004292|nm0000047|    1|nm0004292|nm0000047|      1|  1|\n",
      "|nm0485943|nm0000073|    1|nm0485943|nm0000073|      1|  1|\n",
      "|nm0000229|nm0000076|    1|nm0000229|nm0000076|      1|  1|\n",
      "|nm0178997|nm0000092|    1|nm0178997|nm0000092|      1|  1|\n",
      "|nm0000269|nm0000093|    1|nm0000269|nm0000093|      1|  1|\n",
      "|nm0149446|nm0000096|    1|nm0149446|nm0000096|      1|  1|\n",
      "|nm0113819|nm0000096|    1|nm0113819|nm0000096|      1|  1|\n",
      "|nm0149446|nm0000096|    1|nm0113819|nm0000096|      1|  1|\n",
      "|nm0113819|nm0000096|    1|nm0149446|nm0000096|      1|  1|\n",
      "|nm0001060|nm0000101|    1|nm0001060|nm0000101|      1|  1|\n",
      "|nm0583292|nm0000112|    1|nm0583292|nm0000112|      1|  1|\n",
      "|nm0002657|nm0000113|    1|nm0002657|nm0000113|      1|  1|\n",
      "|nm0000386|nm0000131|    1|nm0000386|nm0000131|      1|  1|\n",
      "|nm0004072|nm0000137|    1|nm0004072|nm0000137|      1|  1|\n",
      "|nm0394280|nm0000140|    1|nm0394280|nm0000140|      1|  1|\n",
      "|nm0012541|nm0000144|    1|nm0012541|nm0000144|      1|  1|\n",
      "|nm0001162|nm0000147|    1|nm0001162|nm0000147|      1|  1|\n",
      "|nm1287649|nm0000155|    1|nm1287649|nm0000155|      1|  1|\n",
      "|nm0923736|nm0000168|    1|nm0923736|nm0000168|      1|  1|\n",
      "|nm0204628|nm0000173|    1|nm0204628|nm0000173|      1|  1|\n",
      "|nm0394280|nm0000174|    1|nm0394280|nm0000174|      1|  1|\n",
      "|nm0001060|nm0000187|    1|nm0001060|nm0000187|      1|  1|\n",
      "|nm0634782|nm0000193|    1|nm0431918|nm0000193|      1|  1|\n",
      "|nm0431918|nm0000193|    1|nm0431918|nm0000193|      1|  1|\n",
      "|nm0431918|nm0000193|    1|nm0634782|nm0000193|      1|  1|\n",
      "|nm0634782|nm0000193|    1|nm0634782|nm0000193|      1|  1|\n",
      "|nm0027572|nm0000195|    1|nm0027572|nm0000195|      1|  1|\n",
      "|nm0318916|nm0000200|    1|nm0318916|nm0000200|      1|  1|\n",
      "|nm0027572|nm0000204|    1|nm0027572|nm0000204|      1|  1|\n",
      "|nm2803372|nm0000207|    1|nm2803372|nm0000207|      1|  1|\n",
      "|nm0178997|nm0000216|    1|nm0178997|nm0000216|      1|  1|\n",
      "|nm1012385|nm0000218|    1|nm1012385|nm0000218|      1|  1|\n",
      "|nm1287649|nm0000230|    1|nm1287649|nm0000230|      1|  1|\n",
      "|nm0001162|nm0000235|    1|nm0001162|nm0000235|      1|  1|\n",
      "|nm0601382|nm0000246|    1|nm0601382|nm0000246|      1|  1|\n",
      "|nm0601382|nm0000246|    1|nm0431918|nm0000246|      1|  1|\n",
      "|nm0431918|nm0000246|    1|nm0601382|nm0000246|      1|  1|\n",
      "|nm0431918|nm0000246|    1|nm0431918|nm0000246|      1|  1|\n",
      "|nm0001060|nm0000251|    1|nm0001060|nm0000251|      1|  1|\n",
      "|nm2898003|nm0000254|    1|nm2898003|nm0000254|      1|  1|\n",
      "|nm0923736|nm0000256|    1|nm0923736|nm0000256|      1|  1|\n",
      "|nm0318916|nm0000273|    1|nm0318916|nm0000273|      1|  1|\n",
      "|nm0113819|nm0000274|    1|nm0113819|nm0000274|      1|  1|\n",
      "|nm2803372|nm0000276|    1|nm2803372|nm0000276|      1|  1|\n",
      "|nm0006249|nm0000277|    1|nm0006249|nm0000277|      1|  1|\n",
      "|nm0785227|nm0000288|    1|nm0785227|nm0000288|      1|  1|\n",
      "|nm0001060|nm0000293|    1|nm0001060|nm0000293|      1|  1|\n",
      "|nm0002657|nm0000307|    1|nm0002657|nm0000307|      1|  1|\n",
      "|nm0178997|nm0000329|    1|nm0178997|nm0000329|      1|  1|\n",
      "|nm0751577|nm0000332|    1|nm0751577|nm0000332|      1|  1|\n",
      "|nm0939128|nm0000334|    1|nm0939128|nm0000334|      1|  1|\n",
      "|nm0000487|nm0000367|    1|nm0000487|nm0000367|      1|  1|\n",
      "|nm0001355|nm0000375|    1|nm0751577|nm0000375|      1|  1|\n",
      "|nm0751577|nm0000375|    1|nm0001355|nm0000375|      1|  1|\n",
      "|nm0001355|nm0000375|    1|nm0001355|nm0000375|      1|  1|\n",
      "|nm0001355|nm0000375|    1|nm0923736|nm0000375|      1|  1|\n",
      "|nm0751577|nm0000375|    1|nm0923736|nm0000375|      1|  1|\n",
      "|nm0923736|nm0000375|    1|nm0001355|nm0000375|      1|  1|\n",
      "|nm0923736|nm0000375|    1|nm0751577|nm0000375|      1|  1|\n",
      "|nm0923736|nm0000375|    1|nm0923736|nm0000375|      1|  1|\n",
      "|nm0751577|nm0000375|    1|nm0751577|nm0000375|      1|  1|\n",
      "|nm0000229|nm0000377|    1|nm0000229|nm0000377|      1|  1|\n",
      "|nm0002041|nm0000412|    1|nm0002041|nm0000412|      1|  1|\n",
      "|nm0000229|nm0000414|    1|nm0000229|nm0000414|      1|  1|\n",
      "|nm0000386|nm0000418|    1|nm0000386|nm0000418|      1|  1|\n",
      "|nm0000386|nm0000437|    1|nm0000386|nm0000437|      1|  1|\n",
      "|nm0002041|nm0000438|    1|nm0002041|nm0000438|      1|  1|\n",
      "|nm0500444|nm0000439|    1|nm0500444|nm0000439|      1|  1|\n",
      "|nm0619762|nm0000444|    1|nm0619762|nm0000444|      1|  1|\n",
      "|nm0000229|nm0000448|    1|nm0000229|nm0000448|      1|  1|\n",
      "|nm0751577|nm0000458|    1|nm0751577|nm0000458|      1|  1|\n",
      "|nm0001355|nm0000474|    1|nm0001355|nm0000474|      1|  1|\n",
      "|nm0766020|nm0000478|    1|nm0766020|nm0000478|      1|  1|\n",
      "|nm0431918|nm0000500|    1|nm0431918|nm0000500|      1|  1|\n",
      "|nm0012541|nm0000502|    1|nm0012541|nm0000502|      1|  1|\n",
      "|nm0002120|nm0000545|    1|nm0002120|nm0000545|      1|  1|\n",
      "|nm0322515|nm0000549|    1|nm0322515|nm0000549|      1|  1|\n",
      "|nm0923736|nm0000569|    1|nm0923736|nm0000569|      1|  1|\n",
      "|nm1287649|nm0000612|    1|nm1287649|nm0000612|      1|  1|\n",
      "|nm0001162|nm0000618|    1|nm0001162|nm0000618|      1|  1|\n",
      "|nm0612730|nm0000627|    1|nm0612730|nm0000627|      1|  1|\n",
      "|nm1212237|nm0000640|    1|nm1212237|nm0000640|      1|  1|\n",
      "|nm0000269|nm0000667|    1|nm0000269|nm0000667|      1|  1|\n",
      "|nm0751577|nm0000673|    1|nm0902939|nm0000673|      1|  1|\n",
      "|nm0751577|nm0000673|    1|nm0751577|nm0000673|      1|  1|\n",
      "|nm0902939|nm0000673|    1|nm0751577|nm0000673|      1|  1|\n",
      "|nm0902939|nm0000673|    1|nm0902939|nm0000673|      1|  1|\n",
      "|nm0000269|nm0000703|    1|nm0000269|nm0000703|      1|  1|\n",
      "|nm0001162|nm0000724|    1|nm0001162|nm0000724|      1|  1|\n",
      "|nm0322515|nm0000726|    1|nm0322515|nm0000726|      1|  1|\n",
      "|nm0007147|nm0000738|    1|nm0007147|nm0000738|      1|  1|\n",
      "|nm0052677|nm0000818|    1|nm0795430|nm0000818|      1|  6|\n",
      "|nm0052677|nm0000818|    1|nm2322617|nm0000818|      1|  6|\n",
      "|nm0052677|nm0000818|    1|nm0080315|nm0000818|      2|  6|\n",
      "|nm0052677|nm0000818|    1|nm1338698|nm0000818|      1|  6|\n",
      "|nm0052677|nm0000818|    1|nm0001408|nm0000818|      1|  6|\n",
      "+---------+---------+-----+---------+---------+-------+---+\n",
      "only showing top 100 rows\n",
      "\n"
     ]
    }
   ],
   "source": [
    "maxCount.sort(\"PID\").show(100)"
   ]
  },
  {
   "cell_type": "code",
   "execution_count": 150,
   "metadata": {},
   "outputs": [
    {
     "name": "stdout",
     "output_type": "stream",
     "text": [
      "+---------+---------+-----+---------+---------+-------+---+\n",
      "|     DPID|      PID|count|   DPID_R|    PID_R|count_R|max|\n",
      "+---------+---------+-----+---------+---------+-------+---+\n",
      "|nm0660967|nm0707271|    1|nm0007181|nm0707271|     11| 11|\n",
      "|nm0706800|nm0471443|    1|nm0007181|nm0471443|     10| 10|\n",
      "|nm0894340|nm0407002|    1|nm0007181|nm0407002|      9|  9|\n",
      "|nm0412465|nm0004434|    1|nm0007181|nm0004434|      7|  7|\n",
      "|nm0014180|nm0716851|    1|nm0007181|nm0716851|      5|  5|\n",
      "|nm0422552|nm0347901|    1|nm0007181|nm0347901|      5|  5|\n",
      "|nm0728263|nm0433945|    1|nm0007181|nm0433945|      4|  4|\n",
      "|nm0814343|nm0755087|    1|nm0007181|nm0755087|      4|  4|\n",
      "|nm0611582|nm0802183|    1|nm0007181|nm0802183|      4|  4|\n",
      "|nm0451211|nm9036653|    1|nm0007181|nm9036653|      3|  3|\n",
      "|nm0611531|nm0158332|    2|nm0007181|nm0158332|      3|  3|\n",
      "|nm0007147|nm7760187|    2|nm0007181|nm7760187|      3|  3|\n",
      "|nm0007181|nm0595923|    3|nm0007181|nm0595923|      3|  3|\n",
      "|nm0006765|nm0756378|    1|nm0007181|nm0756378|      3|  3|\n",
      "|nm0474861|nm0159165|    1|nm0007181|nm0159165|      3|  3|\n",
      "|nm0006370|nm1588131|    1|nm0007181|nm1588131|      2|  2|\n",
      "|nm0052677|nm1541297|    1|nm0007181|nm1541297|      2|  2|\n",
      "|nm0007181|nm0007181|    2|nm0007181|nm0007181|      2|  2|\n",
      "|nm0007181|nm3163800|    2|nm0007181|nm3163800|      2|  2|\n",
      "|nm0802086|nm0223563|    1|nm0007181|nm0223563|      2|  2|\n",
      "|nm0611550|nm0557645|    1|nm0007181|nm0557645|      2|  2|\n",
      "|nm0576488|nm0451387|    1|nm0007181|nm0451387|      2|  2|\n",
      "|nm0007181|nm0620785|    2|nm0007181|nm0620785|      2|  2|\n",
      "|nm0759662|nm0839590|    1|nm0007181|nm0839590|      2|  2|\n",
      "|nm0539781|nm0802170|    1|nm0007181|nm0802170|      2|  2|\n",
      "|nm0007181|nm1649656|    2|nm0007181|nm1649656|      2|  2|\n",
      "|nm0347899|nm0716839|    1|nm0007181|nm0716839|      2|  2|\n",
      "|nm0849200|nm0415612|    1|nm0007181|nm0415612|      2|  2|\n",
      "|nm0007181|nm1275889|    2|nm0007181|nm1275889|      2|  2|\n",
      "|nm0007181|nm1767604|    2|nm0007181|nm1767604|      2|  2|\n",
      "|nm0007181|nm1189751|    1|nm0007181|nm1189751|      1|  1|\n",
      "|nm0007181|nm5424365|    1|nm0007181|nm5424365|      1|  1|\n",
      "|nm0007181|nm0081070|    1|nm0007181|nm0081070|      1|  1|\n",
      "|nm0007181|nm0085944|    1|nm0007181|nm0085944|      1|  1|\n",
      "|nm0046985|nm0761888|    1|nm0007181|nm0761888|      1|  1|\n",
      "|nm1349318|nm5276839|    1|nm0007181|nm5276839|      1|  1|\n",
      "|nm1349318|nm4458329|    1|nm0007181|nm4458329|      1|  1|\n",
      "|nm0007181|nm3274780|    1|nm0007181|nm3274780|      1|  1|\n",
      "|nm0419365|nm0610799|    1|nm0007181|nm0610799|      1|  1|\n",
      "|nm0007181|nm4958954|    1|nm0007181|nm4958954|      1|  1|\n",
      "|nm0007181|nm4036568|    1|nm0007181|nm4036568|      1|  1|\n",
      "|nm0007181|nm4395613|    1|nm0007181|nm4395613|      1|  1|\n",
      "|nm0707705|nm1305419|    1|nm0007181|nm1305419|      1|  1|\n",
      "|nm0695175|nm0223044|    1|nm0007181|nm0223044|      1|  1|\n",
      "|nm0007181|nm2111791|    1|nm0007181|nm2111791|      1|  1|\n",
      "|nm0438030|nm0707469|    1|nm0007181|nm0707469|      1|  1|\n",
      "|nm1203138|nm6189661|    1|nm0007181|nm6189661|      1|  1|\n",
      "|nm0644309|nm3642063|    1|nm0007181|nm3642063|      1|  1|\n",
      "|nm0007181|nm0348507|    1|nm0007181|nm0348507|      1|  1|\n",
      "|nm0576559|nm0239270|    1|nm0007181|nm0239270|      1|  1|\n",
      "|nm0007181|nm1722045|    1|nm0007181|nm1722045|      1|  1|\n",
      "|nm0848343|nm1664482|    1|nm0007181|nm1664482|      1|  1|\n",
      "|nm0007181|nm2682056|    1|nm0007181|nm2682056|      1|  1|\n",
      "|nm0451211|nm1210840|    1|nm0007181|nm1210840|      1|  1|\n",
      "|nm0007181|nm3275750|    1|nm0007181|nm3275750|      1|  1|\n",
      "|nm0007181|nm5171679|    1|nm0007181|nm5171679|      1|  1|\n",
      "|nm0081974|nm1617467|    1|nm0007181|nm1617467|      1|  1|\n",
      "|nm0007181|nm5123771|    1|nm0007181|nm5123771|      1|  1|\n",
      "|nm0007181|nm0592583|    1|nm0007181|nm0592583|      1|  1|\n",
      "|nm7278299|nm4701008|    1|nm0007181|nm4701008|      1|  1|\n",
      "|nm0007181|nm0622730|    1|nm0007181|nm0622730|      1|  1|\n",
      "|nm0007181|nm1565502|    1|nm0007181|nm1565502|      1|  1|\n",
      "|nm1028138|nm0080385|    1|nm0007181|nm0080385|      1|  1|\n",
      "|nm0007181|nm2719795|    1|nm0007181|nm2719795|      1|  1|\n",
      "|nm0007181|nm4680739|    1|nm0007181|nm4680739|      1|  1|\n",
      "|nm0007181|nm5171814|    1|nm0007181|nm5171814|      1|  1|\n",
      "|nm0007181|nm7076286|    1|nm0007181|nm7076286|      1|  1|\n",
      "|nm0007181|nm1022366|    1|nm0007181|nm1022366|      1|  1|\n",
      "|nm2669564|nm3647082|    1|nm0007181|nm3647082|      1|  1|\n",
      "|nm0007181|nm7150152|    1|nm0007181|nm7150152|      1|  1|\n",
      "|nm0007181|nm0539490|    1|nm0007181|nm0539490|      1|  1|\n",
      "|nm0007181|nm5424345|    1|nm0007181|nm5424345|      1|  1|\n",
      "|nm0007181|nm4440431|    1|nm0007181|nm4440431|      1|  1|\n",
      "|nm0007181|nm4947164|    1|nm0007181|nm4947164|      1|  1|\n",
      "|nm0007181|nm0474861|    1|nm0007181|nm0474861|      1|  1|\n",
      "|nm0592803|nm2116437|    1|nm0007181|nm2116437|      1|  1|\n",
      "|nm1203138|nm4032967|    1|nm0007181|nm4032967|      1|  1|\n",
      "|nm0007181|nm5483899|    1|nm0007181|nm5483899|      1|  1|\n",
      "|nm0007181|nm3919962|    1|nm0007181|nm3919962|      1|  1|\n",
      "|nm0007181|nm5390815|    1|nm0007181|nm5390815|      1|  1|\n",
      "|nm0012892|nm0530948|    1|nm0007181|nm0530948|      1|  1|\n",
      "|nm0007181|nm2115358|    1|nm0007181|nm2115358|      1|  1|\n",
      "|nm0007181|nm8737993|    1|nm0007181|nm8737993|      1|  1|\n",
      "|nm0154113|nm3273062|    1|nm0007181|nm3273062|      1|  1|\n",
      "|nm2678319|nm5904446|    1|nm0007181|nm5904446|      1|  1|\n",
      "|nm0007181|nm2154519|    1|nm0007181|nm2154519|      1|  1|\n",
      "|nm0007131|nm1023084|    1|nm0007181|nm1023084|      1|  1|\n",
      "|nm2678319|nm4784053|    1|nm0007181|nm4784053|      1|  1|\n",
      "|nm0007181|nm7624361|    1|nm0007181|nm7624361|      1|  1|\n",
      "|nm0766166|nm1766848|    1|nm0007181|nm1766848|      1|  1|\n",
      "|nm0644309|nm3346556|    1|nm0007181|nm3346556|      1|  1|\n",
      "|nm3442103|nm7768629|    1|nm0007181|nm7768629|      1|  1|\n",
      "|nm0007181|nm1768011|    1|nm0007181|nm1768011|      1|  1|\n",
      "|nm0007181|nm4471295|    1|nm0007181|nm4471295|      1|  1|\n",
      "|nm1349318|nm4558280|    1|nm0007181|nm4558280|      1|  1|\n",
      "|nm0007181|nm2121659|    1|nm0007181|nm2121659|      1|  1|\n",
      "|nm0007181|nm5359722|    1|nm0007181|nm5359722|      1|  1|\n",
      "|nm0611531|nm0839581|    1|nm0007181|nm0839581|      1|  1|\n",
      "|nm0007181|nm1610281|    1|nm0007181|nm1610281|      1|  1|\n",
      "|nm0007181|nm3714952|    1|nm0007181|nm3714952|      1|  1|\n",
      "|nm0007181|nm1277297|    1|nm0007181|nm1277297|      1|  1|\n",
      "|nm0007181|nm2114469|    1|nm0007181|nm2114469|      1|  1|\n",
      "|nm1223294|nm4742534|    1|nm0007181|nm4742534|      1|  1|\n",
      "|nm0007181|nm4547925|    1|nm0007181|nm4547925|      1|  1|\n",
      "|nm1349318|nm4854748|    1|nm0007181|nm4854748|      1|  1|\n",
      "|nm0007181|nm5477035|    1|nm0007181|nm5477035|      1|  1|\n",
      "|nm0007181|nm0788906|    1|nm0007181|nm0788906|      1|  1|\n",
      "|nm1077919|nm2117524|    1|nm0007181|nm2117524|      1|  1|\n",
      "|nm0007181|nm1543016|    1|nm0007181|nm1543016|      1|  1|\n",
      "|nm0007181|nm3204749|    1|nm0007181|nm3204749|      1|  1|\n",
      "|nm0007181|nm4701018|    1|nm0007181|nm4701018|      1|  1|\n",
      "|nm0007181|nm0576489|    1|nm0007181|nm0576489|      1|  1|\n",
      "|nm0007181|nm4556488|    1|nm0007181|nm4556488|      1|  1|\n",
      "|nm0007181|nm4211750|    1|nm0007181|nm4211750|      1|  1|\n",
      "|nm4318159|nm4555457|    1|nm0007181|nm4555457|      1|  1|\n",
      "|nm1887138|nm2117890|    1|nm0007181|nm2117890|      1|  1|\n",
      "|nm2223387|nm2117378|    1|nm0007181|nm2117378|      1|  1|\n",
      "|nm0007181|nm4975971|    1|nm0007181|nm4975971|      1|  1|\n",
      "|nm0007181|nm4710628|    1|nm0007181|nm4710628|      1|  1|\n",
      "|nm0007181|nm4112921|    1|nm0007181|nm4112921|      1|  1|\n",
      "|nm0007181|nm5624434|    1|nm0007181|nm5624434|      1|  1|\n",
      "|nm0633106|nm4880315|    1|nm0007181|nm4880315|      1|  1|\n",
      "|nm0007181|nm0159158|    1|nm0007181|nm0159158|      1|  1|\n",
      "|nm0007181|nm4263521|    1|nm0007181|nm4263521|      1|  1|\n",
      "|nm0007181|nm5027793|    1|nm0007181|nm5027793|      1|  1|\n",
      "|nm0007181|nm5330549|    1|nm0007181|nm5330549|      1|  1|\n",
      "|nm0159148|nm0046230|    1|nm0007181|nm0046230|      1|  1|\n",
      "|nm1189376|nm1747430|    1|nm0007181|nm1747430|      1|  1|\n",
      "|nm0007181|nm0802158|    1|nm0007181|nm0802158|      1|  1|\n",
      "|nm0304369|nm1565884|    1|nm0007181|nm1565884|      1|  1|\n",
      "|nm0527453|nm1552338|    1|nm0007181|nm1552338|      1|  1|\n",
      "|nm0007181|nm4914253|    1|nm0007181|nm4914253|      1|  1|\n",
      "|nm0007181|nm1294183|    1|nm0007181|nm1294183|      1|  1|\n",
      "|nm0007181|nm7074701|    1|nm0007181|nm7074701|      1|  1|\n",
      "|nm0007181|nm0052570|    1|nm0007181|nm0052570|      1|  1|\n",
      "|nm0007181|nm3942501|    1|nm0007181|nm3942501|      1|  1|\n",
      "|nm0698184|nm4604981|    1|nm0007181|nm4604981|      1|  1|\n",
      "|nm0007181|nm5391624|    1|nm0007181|nm5391624|      1|  1|\n",
      "|nm0007181|nm3275880|    1|nm0007181|nm3275880|      1|  1|\n",
      "|nm1834891|nm4732865|    1|nm0007181|nm4732865|      1|  1|\n",
      "|nm0007181|nm1022346|    1|nm0007181|nm1022346|      1|  1|\n",
      "|nm0007181|nm1410068|    1|nm0007181|nm1410068|      1|  1|\n",
      "|nm0007181|nm3717498|    1|nm0007181|nm3717498|      1|  1|\n",
      "|nm0007147|nm0441321|    1|nm0007181|nm0441321|      1|  1|\n",
      "|nm0007181|nm4993446|    1|nm0007181|nm4993446|      1|  1|\n",
      "|nm0007181|nm1889309|    1|nm0007181|nm1889309|      1|  1|\n",
      "|nm0007181|nm3651305|    1|nm0007181|nm3651305|      1|  1|\n",
      "|nm0851253|nm0708125|    1|nm0007181|nm0708125|      1|  1|\n",
      "|nm0007181|nm3157251|    1|nm0007181|nm3157251|      1|  1|\n",
      "|nm2903076|nm6308379|    1|nm0007181|nm6308379|      1|  1|\n",
      "|nm0007181|nm1542555|    1|nm0007181|nm1542555|      1|  1|\n",
      "|nm0007181|nm0441258|    1|nm0007181|nm0441258|      1|  1|\n",
      "|nm0007181|nm4874389|    1|nm0007181|nm4874389|      1|  1|\n",
      "|nm0149850|nm0464521|    1|nm0007181|nm0464521|      1|  1|\n",
      "|nm0007181|nm1738312|    1|nm0007181|nm1738312|      1|  1|\n",
      "|nm4885675|nm3192510|    1|nm0007181|nm3192510|      1|  1|\n",
      "|nm0159147|nm1213700|    1|nm0007181|nm1213700|      1|  1|\n",
      "|nm0007181|nm5138567|    1|nm0007181|nm5138567|      1|  1|\n",
      "|nm0759662|nm0837126|    1|nm0007181|nm0837126|      1|  1|\n",
      "|nm0007181|nm4893364|    1|nm0007181|nm4893364|      1|  1|\n",
      "|nm0007181|nm1022360|    1|nm0007181|nm1022360|      1|  1|\n",
      "|nm0220828|nm1631993|    1|nm0007181|nm1631993|      1|  1|\n",
      "|nm1150656|nm2118072|    1|nm0007181|nm2118072|      1|  1|\n",
      "|nm0007181|nm2120556|    1|nm0007181|nm2120556|      1|  1|\n",
      "|nm0007181|nm4109333|    1|nm0007181|nm4109333|      1|  1|\n",
      "|nm0007181|nm4065665|    1|nm0007181|nm4065665|      1|  1|\n",
      "|nm2020639|nm2121364|    1|nm0007181|nm2121364|      1|  1|\n",
      "|nm0633106|nm5270502|    1|nm0007181|nm5270502|      1|  1|\n",
      "|nm0007181|nm3272951|    1|nm0007181|nm3272951|      1|  1|\n",
      "|nm0802693|nm0307231|    1|nm0007181|nm0307231|      1|  1|\n",
      "|nm0007181|nm3250508|    1|nm0007181|nm3250508|      1|  1|\n",
      "|nm0007181|nm1220256|    1|nm0007181|nm1220256|      1|  1|\n",
      "|nm0698184|nm4190340|    1|nm0007181|nm4190340|      1|  1|\n",
      "|nm0007181|nm1767605|    1|nm0007181|nm1767605|      1|  1|\n",
      "|nm0007181|nm0820653|    1|nm0007181|nm0820653|      1|  1|\n",
      "|nm0007181|nm1616917|    1|nm0007181|nm1616917|      1|  1|\n",
      "|nm0007181|nm2151232|    1|nm0007181|nm2151232|      1|  1|\n",
      "|nm0007181|nm1587231|    1|nm0007181|nm1587231|      1|  1|\n",
      "|nm1027719|nm1795494|    1|nm0007181|nm1795494|      1|  1|\n",
      "|nm0007181|nm1854452|    1|nm0007181|nm1854452|      1|  1|\n",
      "|nm0007181|nm2608069|    1|nm0007181|nm2608069|      1|  1|\n",
      "|nm0007181|nm0101508|    1|nm0007181|nm0101508|      1|  1|\n",
      "|nm0007181|nm1223376|    1|nm0007181|nm1223376|      1|  1|\n",
      "|nm0007181|nm4902054|    1|nm0007181|nm4902054|      1|  1|\n",
      "|nm0007181|nm1223617|    1|nm0007181|nm1223617|      1|  1|\n",
      "|nm0007181|nm4949276|    1|nm0007181|nm4949276|      1|  1|\n",
      "|nm0007181|nm4945883|    1|nm0007181|nm4945883|      1|  1|\n",
      "|nm0403967|nm1261150|    1|nm0007181|nm1261150|      1|  1|\n",
      "|nm1834891|nm4590393|    1|nm0007181|nm4590393|      1|  1|\n",
      "|nm0151504|nm0080266|    1|nm0007181|nm0080266|      1|  1|\n",
      "|nm0611562|nm0424102|    1|nm0007181|nm0424102|      1|  1|\n",
      "|nm0007181|nm1025299|    1|nm0007181|nm1025299|      1|  1|\n",
      "|nm1834891|nm4304212|    1|nm0007181|nm4304212|      1|  1|\n",
      "|nm0007181|nm1542561|    1|nm0007181|nm1542561|      1|  1|\n",
      "|nm0007181|nm8533115|    1|nm0007181|nm8533115|      1|  1|\n",
      "|nm0149850|nm1714129|    1|nm0007181|nm1714129|      1|  1|\n",
      "|nm0007181|nm4807680|    1|nm0007181|nm4807680|      1|  1|\n",
      "|nm0007181|nm5171778|    1|nm0007181|nm5171778|      1|  1|\n",
      "|nm0746950|nm0411327|    1|nm0007181|nm0411327|      1|  1|\n",
      "|nm0007181|nm6217431|    1|nm0007181|nm6217431|      1|  1|\n",
      "|nm0007181|nm1351306|    1|nm0007181|nm1351306|      1|  1|\n",
      "|nm0007181|nm2116198|    1|nm0007181|nm2116198|      1|  1|\n",
      "|nm0007181|nm1525006|    1|nm0007181|nm1525006|      1|  1|\n",
      "|nm0007181|nm2119186|    1|nm0007181|nm2119186|      1|  1|\n",
      "|nm0007181|nm4963833|    1|nm0007181|nm4963833|      1|  1|\n",
      "|nm0056423|nm2471670|    1|nm0007181|nm2471670|      1|  1|\n",
      "|nm0007181|nm0592791|    1|nm0007181|nm0592791|      1|  1|\n",
      "|nm0611531|nm1524931|    1|nm0007181|nm1524931|      1|  1|\n",
      "|nm0007181|nm2115677|    1|nm0007181|nm2115677|      1|  1|\n",
      "|nm0007181|nm3276418|    1|nm0007181|nm3276418|      1|  1|\n",
      "|nm0007181|nm0015296|    1|nm0007181|nm0015296|      1|  1|\n",
      "|nm0756488|nm0474901|    1|nm0007181|nm0474901|      1|  1|\n",
      "|nm0007181|nm2117528|    1|nm0007181|nm2117528|      1|  1|\n",
      "|nm0007181|nm5096257|    1|nm0007181|nm5096257|      1|  1|\n",
      "|nm0848343|nm1224517|    1|nm0007181|nm1224517|      1|  1|\n",
      "|nm0080345|nm0786032|    1|nm0007181|nm0786032|      1|  1|\n",
      "|nm0007181|nm4935084|    1|nm0007181|nm4935084|      1|  1|\n",
      "|nm0474859|nm2033938|    1|nm0007181|nm2033938|      1|  1|\n",
      "|nm0007181|nm4069122|    1|nm0007181|nm4069122|      1|  1|\n",
      "|nm0007181|nm1649927|    1|nm0007181|nm1649927|      1|  1|\n",
      "|nm0471443|nm2011732|    1|nm0007181|nm2011732|      1|  1|\n",
      "|nm0007181|nm1021365|    1|nm0007181|nm1021365|      1|  1|\n",
      "|nm0007181|nm1746695|    1|nm0007181|nm1746695|      1|  1|\n",
      "|nm1343477|nm4566494|    1|nm0007181|nm4566494|      1|  1|\n",
      "|nm0000187|nm6265025|    1|nm0007181|nm6265025|      1|  1|\n",
      "|nm1662277|nm1022273|    1|nm0007181|nm1022273|      1|  1|\n",
      "|nm0007181|nm1937218|    1|nm0007181|nm1937218|      1|  1|\n",
      "|nm0007181|nm3273153|    1|nm0007181|nm3273153|      1|  1|\n",
      "|nm0755997|nm2307297|    1|nm0007181|nm2307297|      1|  1|\n",
      "|nm4318159|nm5126893|    1|nm0007181|nm5126893|      1|  1|\n",
      "|nm0007181|nm4767135|    1|nm0007181|nm4767135|      1|  1|\n",
      "|nm0007181|nm1767027|    1|nm0007181|nm1767027|      1|  1|\n",
      "|nm0424103|nm5153632|    1|nm0007181|nm5153632|      1|  1|\n",
      "|nm0007181|nm5153722|    1|nm0007181|nm5153722|      1|  1|\n",
      "|nm0007181|nm5157380|    1|nm0007181|nm5157380|      1|  1|\n",
      "|nm0007181|nm5221129|    1|nm0007181|nm5221129|      1|  1|\n",
      "|nm0080358|nm1184362|    1|nm0007181|nm1184362|      1|  1|\n",
      "|nm0438030|nm1739950|    1|nm0007181|nm1739950|      1|  1|\n",
      "|nm0063357|nm1311763|    1|nm0007181|nm1311763|      1|  1|\n",
      "|nm0007181|nm2995223|    1|nm0007181|nm2995223|      1|  1|\n",
      "|nm0154113|nm0019463|    1|nm0007181|nm0019463|      1|  1|\n",
      "|nm1203138|nm3613279|    1|nm0007181|nm3613279|      1|  1|\n",
      "|nm0007181|nm3825950|    1|nm0007181|nm3825950|      1|  1|\n",
      "|nm0070867|nm0592578|    1|nm0007181|nm0592578|      1|  1|\n",
      "|nm0007181|nm5235227|    1|nm0007181|nm5235227|      1|  1|\n",
      "+---------+---------+-----+---------+---------+-------+---+\n",
      "\n"
     ]
    }
   ],
   "source": [
    "maxCount.filter($\"DPID_R\"===\"nm0007181\" && $\"count_R\"===$\"max\")\n",
    ".sort(\"count_R\")\n",
    ".dropDuplicates(\"PID_R\",\"max\").sort(desc(\"count_R\")).show(1000)"
   ]
  },
  {
   "cell_type": "code",
   "execution_count": 108,
   "metadata": {},
   "outputs": [
    {
     "data": {
      "text/plain": [
       "final_actors = [PID: string, index: int ... 2 more fields]\n"
      ]
     },
     "metadata": {},
     "output_type": "display_data"
    },
    {
     "data": {
      "text/plain": [
       "[PID: string, index: int ... 2 more fields]"
      ]
     },
     "execution_count": 108,
     "metadata": {},
     "output_type": "execute_result"
    }
   ],
   "source": [
    "val final_actors=persons.join(dir_pid_count,\"PID\")"
   ]
  },
  {
   "cell_type": "code",
   "execution_count": 112,
   "metadata": {},
   "outputs": [
    {
     "name": "stdout",
     "output_type": "stream",
     "text": [
      "root\n",
      " |-- PID: string (nullable = true)\n",
      " |-- index: integer (nullable = true)\n",
      " |-- Name: string (nullable = true)\n",
      " |-- Gender: string (nullable = true)\n",
      "\n",
      "+---------+-----+----------------+------+\n",
      "|      PID|index|            Name|Gender|\n",
      "+---------+-----+----------------+------+\n",
      "|nm0000821| 1012|Amitabh Bachchan|  Male|\n",
      "|nm0002043| 5417|   Madhuri Dixit|Female|\n",
      "|nm0004109| 7918|  Gulshan Grover|  Male|\n",
      "|nm0004334| 5375|           Rekha|Female|\n",
      "|nm0004429| 6396|      Dharmendra|  Male|\n",
      "+---------+-----+----------------+------+\n",
      "only showing top 5 rows\n",
      "\n"
     ]
    }
   ],
   "source": [
    "final_actors.printSchema\n",
    "final_actors.sort(\"PID\").show(5)"
   ]
  },
  {
   "cell_type": "code",
   "execution_count": 62,
   "metadata": {},
   "outputs": [
    {
     "data": {
      "text/plain": [
       "modidfiedSchema = List(StructField(DPID,StringType,true), StructField(PID,StringType,true), StructField(count,LongType,true), StructField(yash_count,LongType,true))\n"
      ]
     },
     "metadata": {},
     "output_type": "display_data"
    },
    {
     "data": {
      "text/plain": [
       "StructType(StructField(DPID,StringType,true), StructField(PID,StringType,true), StructField(count,LongType,false), StructField(yash_count,LongType,true))"
      ]
     },
     "execution_count": 62,
     "metadata": {},
     "output_type": "execute_result"
    }
   ],
   "source": [
    "//dir_pid_count.printSchema\n",
    "//dir_pid_count.schema\n",
    "//var h=dir_pid_count.schema\n",
    "var modidfiedSchema=dir_pid_count.schema.map{\n",
    "    case StructField(fieldName,typeName,isNullable,m) if(fieldName==\"count\") => StructField(fieldName,typeName,!isNullable,m)\n",
    "    case x:StructField=>x\n",
    "}\n",
    "dir_pid_count.schema"
   ]
  },
  {
   "cell_type": "markdown",
   "metadata": {},
   "source": [
    "Now we need to compare the yash and actor count with other director with actor count (hint: self join with renamed columns)"
   ]
  },
  {
   "cell_type": "code",
   "execution_count": 85,
   "metadata": {},
   "outputs": [
    {
     "data": {
      "text/plain": [
       "actor_pids = [DPID: string, PID: string ... 6 more fields]\n"
      ]
     },
     "metadata": {},
     "output_type": "display_data"
    },
    {
     "data": {
      "text/plain": [
       "[DPID: string, PID: string ... 6 more fields]"
      ]
     },
     "execution_count": 85,
     "metadata": {},
     "output_type": "execute_result"
    }
   ],
   "source": [
    "//val actor_pids=dir_pid_count.join(dir_pid_count.toDF(dir_pid_count.columns.map(_ + \"_R\"):_*),$\"PID\"===$\"PID_R\")//.cache()\n",
    "val actor_pids=dir_pid_count.join(dir_pid_count\n",
    "                                  .toDF(dir_pid_count.columns.map(_ + \"_R\"):_*),$\"PID\"===$\"PID_R\")\n",
    ".dropDuplicates()//.cache()"
   ]
  },
  {
   "cell_type": "markdown",
   "metadata": {},
   "source": [
    "sample data"
   ]
  },
  {
   "cell_type": "code",
   "execution_count": 75,
   "metadata": {},
   "outputs": [
    {
     "name": "stdout",
     "output_type": "stream",
     "text": [
      "root\n",
      " |-- DPID: string (nullable = true)\n",
      " |-- PID: string (nullable = true)\n",
      " |-- count: long (nullable = true)\n",
      " |-- yash_count: long (nullable = true)\n",
      " |-- DPID_R: string (nullable = true)\n",
      " |-- PID_R: string (nullable = true)\n",
      " |-- count_R: long (nullable = true)\n",
      " |-- yash_count_R: long (nullable = true)\n",
      "\n"
     ]
    },
    {
     "data": {
      "text/plain": [
       "1151662"
      ]
     },
     "execution_count": 75,
     "metadata": {},
     "output_type": "execute_result"
    }
   ],
   "source": [
    "actor_pids.printSchema\n",
    "actor_pids.count()"
   ]
  },
  {
   "cell_type": "code",
   "execution_count": 91,
   "metadata": {},
   "outputs": [
    {
     "name": "stdout",
     "output_type": "stream",
     "text": [
      "following  code gives error since condition1 nullable with nullable and condition2 nullable with non nullable gives error in spark sql\n",
      "+---------+---------+-----+----------+---------+---------+-------+------------+\n",
      "|     DPID|      PID|count|yash_count|   DPID_R|    PID_R|count_R|yash_count_R|\n",
      "+---------+---------+-----+----------+---------+---------+-------+------------+\n",
      "|nm0007181|nm0000821|    6|         6|nm0841918|nm0000821|      1|           0|\n",
      "|nm0007181|nm0000821|    6|         6|nm1200832|nm0000821|      1|           0|\n",
      "|nm0007181|nm0000821|    6|         6|nm0080180|nm0000821|      1|           0|\n",
      "|nm0007181|nm0000821|    6|         6|nm0244876|nm0000821|      1|           0|\n",
      "|nm0007181|nm0000821|    6|         6|nm0707494|nm0000821|      1|           0|\n",
      "|nm0007181|nm0000821|    6|         6|nm0482232|nm0000821|      3|           0|\n",
      "|nm0007181|nm0000821|    6|         6|nm0332950|nm0000821|      2|           0|\n",
      "|nm0007181|nm0000821|    6|         6|nm0708001|nm0000821|      2|           0|\n",
      "|nm0007181|nm0000821|    6|         6|nm0707274|nm0000821|      1|           0|\n",
      "|nm0007181|nm0000821|    6|         6|nm1715502|nm0000821|      1|           0|\n",
      "|nm0007181|nm0000821|    6|         6|nm0041928|nm0000821|      1|           0|\n",
      "|nm0007181|nm0000821|    6|         6|nm0764316|nm0000821|      3|           0|\n",
      "|nm0007181|nm0000821|    6|         6|nm1315895|nm0000821|      1|           0|\n",
      "|nm0007181|nm0000821|    6|         6|nm0223522|nm0000821|      3|           0|\n",
      "|nm0007181|nm0000821|    6|         6|nm0066066|nm0000821|      2|           0|\n",
      "|nm0007181|nm0000821|    6|         6|nm2349060|nm0000821|      1|           0|\n",
      "|nm0007181|nm0000821|    6|         6|nm0611562|nm0000821|      1|           0|\n",
      "|nm0007181|nm0000821|    6|         6|nm0424103|nm0000821|      2|           0|\n",
      "|nm0007181|nm0000821|    6|         6|nm0149835|nm0000821|      1|           0|\n",
      "|nm0007181|nm0000821|    6|         6|nm0159147|nm0000821|      1|           0|\n",
      "|nm0007181|nm0000821|    6|         6|nm0015295|nm0000821|      1|           0|\n",
      "|nm0007181|nm0000821|    6|         6|nm0820232|nm0000821|      1|           0|\n",
      "|nm0007181|nm0000821|    6|         6|nm2669564|nm0000821|      5|           0|\n",
      "|nm0007181|nm0000821|    6|         6|nm0474837|nm0000821|      2|           0|\n",
      "|nm0007181|nm0000821|    6|         6|nm2055188|nm0000821|      1|           0|\n",
      "|nm0007181|nm0000821|    6|         6|nm1593366|nm0000821|      1|           0|\n",
      "|nm0007181|nm0000821|    6|         6|nm0619102|nm0000821|      1|           0|\n",
      "|nm0007181|nm0000821|    6|         6|nm0025629|nm0000821|      1|           0|\n",
      "|nm0007181|nm0000821|    6|         6|nm1334468|nm0000821|      1|           0|\n",
      "|nm0007181|nm0000821|    6|         6|nm0409790|nm0000821|      1|           0|\n",
      "|nm0007181|nm0000821|    6|         6|nm0783995|nm0000821|      1|           0|\n",
      "|nm0007181|nm0000821|    6|         6|nm0004072|nm0000821|      1|           0|\n",
      "|nm0007181|nm0000821|    6|         6|nm0004570|nm0000821|      1|           0|\n",
      "|nm0007181|nm0000821|    6|         6|nm0432497|nm0000821|      1|           0|\n",
      "|nm0007181|nm0000821|    6|         6|nm0759662|nm0000821|      2|           0|\n",
      "|nm0007181|nm0000821|    6|         6|nm1084488|nm0000821|      1|           0|\n",
      "|nm0007181|nm0000821|    6|         6|nm0014180|nm0000821|      1|           0|\n",
      "|nm0007181|nm0000821|    6|         6|nm3797575|nm0000821|      1|           0|\n",
      "|nm0007181|nm0000821|    6|         6|nm0474859|nm0000821|      4|           0|\n",
      "|nm0007181|nm0000821|    6|         6|nm0348495|nm0000821|      1|           0|\n",
      "|nm0007181|nm0000821|    6|         6|nm1636742|nm0000821|      1|           0|\n",
      "|nm0007181|nm0000821|    6|         6|nm0527453|nm0000821|      1|           0|\n",
      "|nm0007181|nm0000821|    6|         6|nm1224879|nm0000821|      2|           0|\n",
      "|nm0007181|nm0000821|    6|         6|nm1223910|nm0000821|      1|           0|\n",
      "|nm0007181|nm0000821|    6|         6|nm0422689|nm0000821|      1|           0|\n",
      "|nm0007181|nm0000821|    6|         6|nm0315916|nm0000821|      1|           0|\n",
      "|nm0007181|nm0000821|    6|         6|nm0660936|nm0000821|      1|           0|\n",
      "|nm0007181|nm0000821|    6|         6|nm0004434|nm0000821|      1|           0|\n",
      "|nm0007181|nm0000821|    6|         6|nm0538306|nm0000821|      1|           0|\n",
      "|nm0007181|nm0000821|    6|         6|nm0576454|nm0000821|      1|           0|\n",
      "|nm0007181|nm0000821|    6|         6|nm0802692|nm0000821|      1|           0|\n",
      "|nm0007181|nm0000821|    6|         6|nm0025627|nm0000821|      4|           0|\n",
      "|nm0007181|nm0000821|    6|         6|nm3051114|nm0000821|      1|           0|\n",
      "|nm0007181|nm0000821|    6|         6|nm0066918|nm0000821|      2|           0|\n",
      "|nm0007181|nm0000821|    6|         6|nm0754184|nm0000821|      1|           0|\n",
      "|nm0007181|nm0000821|    6|         6|nm0802693|nm0000821|      4|           0|\n",
      "|nm0007181|nm0000821|    6|         6|nm1460159|nm0000821|      1|           0|\n",
      "|nm0007181|nm0000821|    6|         6|nm0451326|nm0000821|      1|           0|\n",
      "|nm0007181|nm0000821|    6|         6|nm0611521|nm0000821|      1|           0|\n",
      "|nm0007181|nm0000821|    6|         6|nm0788906|nm0000821|      1|           0|\n",
      "|nm0007181|nm0000821|    6|         6|nm0747194|nm0000821|      1|           0|\n",
      "|nm0007181|nm0000821|    6|         6|nm0710043|nm0000821|      1|           0|\n",
      "|nm0007181|nm0000821|    6|         6|nm0006370|nm0000821|      1|           0|\n",
      "|nm0007181|nm0000821|    6|         6|nm1903006|nm0000821|      1|           0|\n",
      "|nm0007181|nm0000821|    6|         6|nm0619777|nm0000821|      1|           0|\n",
      "|nm0007181|nm0000821|    6|         6|nm1018908|nm0000821|      1|           0|\n",
      "|nm0007181|nm0000821|    6|         6|nm2489001|nm0000821|      1|           0|\n",
      "|nm0007181|nm0000821|    6|         6|nm0149850|nm0000821|      1|           0|\n",
      "|nm0007181|nm0000821|    6|         6|nm0415514|nm0000821|      1|           0|\n",
      "|nm0007181|nm0000821|    6|         6|nm0056423|nm0000821|      1|           0|\n",
      "|nm0007181|nm0000821|    6|         6|nm0333031|nm0000821|      1|           0|\n",
      "|nm0007181|nm0000821|    6|         6|nm0422552|nm0000821|      2|           0|\n",
      "|nm0007181|nm0000821|    6|         6|nm0849200|nm0000821|      2|           0|\n",
      "|nm0007181|nm0000821|    6|         6|nm0657505|nm0000821|      1|           0|\n",
      "|nm0007181|nm0000821|    6|         6|nm0006765|nm0000821|      1|           0|\n",
      "|nm0007181|nm0000821|    6|         6|nm1249945|nm0000821|      2|           0|\n",
      "|nm0007181|nm0000821|    6|         6|nm0092555|nm0000821|      2|           0|\n",
      "|nm0007181|nm0000821|    6|         6|nm0410870|nm0000821|      1|           0|\n",
      "|nm0007181|nm0000821|    6|         6|nm6165215|nm0000821|      1|           0|\n",
      "|nm0007181|nm0000821|    6|         6|nm0576559|nm0000821|      1|           0|\n",
      "|nm0007181|nm0000821|    6|         6|nm1150959|nm0000821|      2|           0|\n",
      "|nm0007181|nm0000821|    6|         6|nm1027719|nm0000821|      1|           0|\n",
      "|nm0007181|nm0000821|    6|         6|nm4138262|nm0000821|      1|           0|\n",
      "|nm0007181|nm0000821|    6|         6|nm0080333|nm0000821|      1|           0|\n",
      "|nm0007181|nm0000821|    6|         6|nm0006249|nm0000821|      1|           0|\n",
      "|nm0007181|nm0000821|    6|         6|nm0756959|nm0000821|      1|           0|\n",
      "|nm0007181|nm0000821|    6|         6|nm0894340|nm0000821|      1|           0|\n",
      "|nm0007181|nm0000821|    6|         6|nm0451846|nm0000821|      1|           0|\n",
      "|nm0007181|nm0000821|    6|         6|nm0244892|nm0000821|      2|           0|\n",
      "|nm0007181|nm0000821|    6|         6|nm0201713|nm0000821|      1|           0|\n",
      "|nm0007181|nm0000821|    6|         6|nm0782766|nm0000821|      1|           0|\n",
      "|nm0007181|nm0000821|    6|         6|nm0154113|nm0000821|      4|           0|\n",
      "|nm0007181|nm0000821|    6|         6|nm1021353|nm0000821|      1|           0|\n",
      "|nm0007181|nm0000821|    6|         6|nm0080220|nm0000821|      1|           0|\n",
      "|nm0007181|nm0000821|    6|         6|nm0007134|nm0000821|      1|           0|\n",
      "|nm0007181|nm0000821|    6|         6|nm0007181|nm0000821|      6|           6|\n",
      "|nm0007181|nm0000821|    6|         6|nm0004363|nm0000821|      1|           0|\n",
      "|nm0007181|nm0000821|    6|         6|nm2287772|nm0000821|      1|           0|\n",
      "|nm0007181|nm0000821|    6|         6|nm0851253|nm0000821|      2|           0|\n",
      "|nm0007181|nm0000821|    6|         6|nm4318159|nm0000821|      1|           0|\n",
      "|nm0007181|nm0000821|    6|         6|nm0713615|nm0000821|      1|           0|\n",
      "|nm0007181|nm0000821|    6|         6|nm0631539|nm0000821|      1|           0|\n",
      "|nm0007181|nm0000821|    6|         6|nm0542498|nm0000821|      1|           0|\n",
      "|nm0007181|nm0000821|    6|         6|nm0788858|nm0000821|      1|           0|\n",
      "|nm0007181|nm0000821|    6|         6|nm0220823|nm0000821|      1|           0|\n",
      "|nm0007181|nm0000821|    6|         6|nm0151305|nm0000821|      1|           0|\n",
      "|nm0007181|nm0000821|    6|         6|nm0000965|nm0000821|      1|           0|\n",
      "|nm0007181|nm0000821|    6|         6|nm0660967|nm0000821|      1|           0|\n",
      "|nm0007181|nm0000821|    6|         6|nm0159162|nm0000821|      3|           0|\n",
      "|nm0007181|nm0000821|    6|         6|nm1516005|nm0000821|      1|           0|\n",
      "|nm0007181|nm0000821|    6|         6|nm8033571|nm0000821|      1|           0|\n",
      "|nm0007181|nm0000821|    6|         6|nm1018493|nm0000821|      2|           0|\n",
      "|nm0007181|nm0000821|    6|         6|nm0700872|nm0000821|      1|           0|\n",
      "|nm0007181|nm0000821|    6|         6|nm1017494|nm0000821|      1|           0|\n",
      "|nm0007181|nm0000821|    6|         6|nm0004466|nm0000821|      1|           0|\n",
      "|nm0007181|nm0000821|    6|         6|nm0002172|nm0000821|      3|           0|\n",
      "|nm0007181|nm0000821|    6|         6|nm0049416|nm0000821|      1|           0|\n",
      "|nm0007181|nm0000821|    6|         6|nm1587254|nm0000821|      1|           0|\n",
      "|nm0007181|nm0000821|    6|         6|nm0346618|nm0000821|      2|           0|\n",
      "|nm0007181|nm0000821|    6|         6|nm1999473|nm0000821|      1|           0|\n",
      "|nm0007181|nm0000821|    6|         6|nm8623146|nm0000821|      1|           0|\n",
      "|nm0007181|nm0000821|    6|         6|nm0007815|nm0000821|      1|           0|\n",
      "|nm0007181|nm0000821|    6|         6|nm2936175|nm0000821|      1|           0|\n",
      "|nm0007181|nm0002043|    1|         1|nm0897196|nm0002043|      1|           0|\n",
      "|nm0007181|nm0002043|    1|         1|nm0438030|nm0002043|      1|           0|\n",
      "|nm0007181|nm0002043|    1|         1|nm2209781|nm0002043|      1|           0|\n",
      "|nm0007181|nm0002043|    1|         1|nm0660967|nm0002043|      1|           0|\n",
      "|nm0007181|nm0002043|    1|         1|nm2265536|nm0002043|      1|           0|\n",
      "|nm0007181|nm0002043|    1|         1|nm0438497|nm0002043|      1|           0|\n",
      "|nm0007181|nm0002043|    1|         1|nm1823221|nm0002043|      1|           0|\n",
      "|nm0007181|nm0002043|    1|         1|nm0403967|nm0002043|      1|           0|\n",
      "|nm0007181|nm0002043|    1|         1|nm1067883|nm0002043|      1|           0|\n",
      "|nm0007181|nm0002043|    1|         1|nm0006765|nm0002043|      1|           0|\n",
      "|nm0007181|nm0002043|    1|         1|nm2577595|nm0002043|      1|           0|\n",
      "|nm0007181|nm0002043|    1|         1|nm0801870|nm0002043|      1|           0|\n",
      "|nm0007181|nm0002043|    1|         1|nm0004630|nm0002043|      1|           0|\n",
      "|nm0007181|nm0002043|    1|         1|nm0474837|nm0002043|      1|           0|\n",
      "|nm0007181|nm0002043|    1|         1|nm0782766|nm0002043|      1|           0|\n",
      "|nm0007181|nm0002043|    1|         1|nm2388843|nm0002043|      1|           0|\n",
      "|nm0007181|nm0002043|    1|         1|nm0474405|nm0002043|      1|           0|\n",
      "|nm0007181|nm0002043|    1|         1|nm1322477|nm0002043|      1|           0|\n",
      "|nm0007181|nm0002043|    1|         1|nm0007181|nm0002043|      1|           1|\n",
      "|nm0007181|nm0002043|    1|         1|nm0707534|nm0002043|      1|           0|\n",
      "|nm0007181|nm0002043|    1|         1|nm0044584|nm0002043|      1|           0|\n",
      "|nm0007181|nm0002043|    1|         1|nm0054744|nm0002043|      1|           0|\n",
      "|nm0007181|nm0002043|    1|         1|nm0576488|nm0002043|      1|           0|\n",
      "|nm0007181|nm0002043|    1|         1|nm0315912|nm0002043|      1|           0|\n",
      "|nm0007181|nm0002043|    1|         1|nm1147556|nm0002043|      1|           0|\n",
      "|nm0007181|nm0002043|    1|         1|nm0451390|nm0002043|      1|           0|\n",
      "|nm0007181|nm0002043|    1|         1|nm0451211|nm0002043|      1|           0|\n",
      "|nm0007181|nm0002043|    1|         1|nm0848343|nm0002043|      1|           0|\n",
      "|nm0007181|nm0002043|    1|         1|nm0899649|nm0002043|      1|           0|\n",
      "|nm0007181|nm0002043|    1|         1|nm0002172|nm0002043|      1|           0|\n",
      "|nm0007181|nm0002043|    1|         1|nm0474823|nm0002043|      1|           0|\n",
      "|nm0007181|nm0002043|    1|         1|nm0619050|nm0002043|      1|           0|\n",
      "|nm0007181|nm0002043|    1|         1|nm0052677|nm0002043|      1|           0|\n",
      "|nm0007181|nm0002043|    1|         1|nm1442221|nm0002043|      1|           0|\n",
      "|nm0007181|nm0002043|    1|         1|nm0080220|nm0002043|      1|           0|\n",
      "|nm0007181|nm0002043|    1|         1|nm0755113|nm0002043|      1|           0|\n",
      "|nm0007181|nm0002043|    1|         1|nm0576540|nm0002043|      1|           0|\n",
      "|nm0007181|nm0002043|    1|         1|nm0706800|nm0002043|      1|           0|\n",
      "|nm0007181|nm0002043|    1|         1|nm0015295|nm0002043|      1|           0|\n",
      "|nm0007181|nm0002043|    1|         1|nm0707274|nm0002043|      1|           0|\n",
      "|nm0007181|nm0002043|    1|         1|nm0802692|nm0002043|      1|           0|\n",
      "|nm0007181|nm0002043|    1|         1|nm0422552|nm0002043|      1|           0|\n",
      "|nm0007181|nm0002043|    1|         1|nm0592803|nm0002043|      1|           0|\n",
      "|nm0007181|nm0004109|    2|         2|nm1203774|nm0004109|      1|           0|\n",
      "|nm0007181|nm0004109|    2|         2|nm1959662|nm0004109|      1|           0|\n",
      "|nm0007181|nm0004109|    2|         2|nm0422552|nm0004109|      1|           0|\n",
      "|nm0007181|nm0004109|    2|         2|nm1539788|nm0004109|      1|           0|\n",
      "|nm0007181|nm0004109|    2|         2|nm5118627|nm0004109|      1|           0|\n",
      "|nm0007181|nm0004109|    2|         2|nm0151305|nm0004109|      1|           0|\n",
      "|nm0007181|nm0004109|    2|         2|nm0698184|nm0004109|      1|           0|\n",
      "|nm0007181|nm0004109|    2|         2|nm0463319|nm0004109|      2|           0|\n",
      "|nm0007181|nm0004109|    2|         2|nm0968648|nm0004109|      1|           0|\n",
      "|nm0007181|nm0004109|    2|         2|nm0613517|nm0004109|      2|           0|\n",
      "|nm0007181|nm0004109|    2|         2|nm0890060|nm0004109|      1|           0|\n",
      "|nm0007181|nm0004109|    2|         2|nm0002172|nm0004109|      1|           0|\n",
      "|nm0007181|nm0004109|    2|         2|nm1516005|nm0004109|      1|           0|\n",
      "|nm0007181|nm0004109|    2|         2|nm0788858|nm0004109|      1|           0|\n",
      "|nm0007181|nm0004109|    2|         2|nm1662213|nm0004109|      2|           0|\n",
      "|nm0007181|nm0004109|    2|         2|nm0836942|nm0004109|      1|           0|\n",
      "|nm0007181|nm0004109|    2|         2|nm0411541|nm0004109|      1|           0|\n",
      "|nm0007181|nm0004109|    2|         2|nm1025280|nm0004109|      2|           0|\n",
      "|nm0007181|nm0004109|    2|         2|nm0151511|nm0004109|      1|           0|\n",
      "|nm0007181|nm0004109|    2|         2|nm5778075|nm0004109|      1|           0|\n",
      "|nm0007181|nm0004109|    2|         2|nm0576491|nm0004109|      2|           0|\n",
      "|nm0007181|nm0004109|    2|         2|nm0195934|nm0004109|      1|           0|\n",
      "|nm0007181|nm0004109|    2|         2|nm0576548|nm0004109|      1|           0|\n",
      "|nm0007181|nm0004109|    2|         2|nm0542498|nm0004109|      2|           0|\n",
      "|nm0007181|nm0004109|    2|         2|nm1302401|nm0004109|      1|           0|\n",
      "|nm0007181|nm0004109|    2|         2|nm0451173|nm0004109|      1|           0|\n",
      "|nm0007181|nm0004109|    2|         2|nm1021985|nm0004109|      1|           0|\n",
      "|nm0007181|nm0004109|    2|         2|nm0223335|nm0004109|      1|           0|\n",
      "|nm0007181|nm0004109|    2|         2|nm0536818|nm0004109|      1|           0|\n",
      "|nm0007181|nm0004109|    2|         2|nm0092555|nm0004109|      2|           0|\n",
      "|nm0007181|nm0004109|    2|         2|nm0593967|nm0004109|      1|           0|\n",
      "|nm0007181|nm0004109|    2|         2|nm0044584|nm0004109|      1|           0|\n",
      "|nm0007181|nm0004109|    2|         2|nm0442479|nm0004109|      2|           0|\n",
      "|nm0007181|nm0004109|    2|         2|nm1887138|nm0004109|      1|           0|\n",
      "|nm0007181|nm0004109|    2|         2|nm1028138|nm0004109|      1|           0|\n",
      "|nm0007181|nm0004109|    2|         2|nm1665362|nm0004109|      1|           0|\n",
      "|nm0007181|nm0004109|    2|         2|nm0764316|nm0004109|      2|           0|\n",
      "|nm0007181|nm0004109|    2|         2|nm0787453|nm0004109|      1|           0|\n",
      "|nm0007181|nm0004109|    2|         2|nm0348495|nm0004109|      2|           0|\n",
      "|nm0007181|nm0004109|    2|         2|nm0149835|nm0004109|      1|           0|\n",
      "|nm0007181|nm0004109|    2|         2|nm0576554|nm0004109|      1|           0|\n",
      "|nm0007181|nm0004109|    2|         2|nm4118651|nm0004109|      1|           0|\n",
      "|nm0007181|nm0004109|    2|         2|nm0315912|nm0004109|      1|           0|\n",
      "|nm0007181|nm0004109|    2|         2|nm1272846|nm0004109|      1|           0|\n",
      "|nm0007181|nm0004109|    2|         2|nm0220823|nm0004109|      1|           0|\n",
      "|nm0007181|nm0004109|    2|         2|nm1155551|nm0004109|      1|           0|\n",
      "|nm0007181|nm0004109|    2|         2|nm0451261|nm0004109|      1|           0|\n",
      "|nm0007181|nm0004109|    2|         2|nm8784283|nm0004109|      1|           0|\n",
      "|nm0007181|nm0004109|    2|         2|nm0004072|nm0004109|      1|           0|\n",
      "|nm0007181|nm0004109|    2|         2|nm0046985|nm0004109|      2|           0|\n",
      "|nm0007181|nm0004109|    2|         2|nm1216990|nm0004109|      1|           0|\n",
      "|nm0007181|nm0004109|    2|         2|nm0007181|nm0004109|      2|           2|\n",
      "|nm0007181|nm0004109|    2|         2|nm1177989|nm0004109|      1|           0|\n",
      "|nm0007181|nm0004109|    2|         2|nm0706800|nm0004109|      2|           0|\n",
      "|nm0007181|nm0004109|    2|         2|nm0903423|nm0004109|      2|           0|\n",
      "|nm0007181|nm0004109|    2|         2|nm0451155|nm0004109|      1|           0|\n",
      "|nm0007181|nm0004109|    2|         2|nm1183478|nm0004109|      1|           0|\n",
      "|nm0007181|nm0004109|    2|         2|nm0442472|nm0004109|      1|           0|\n",
      "|nm0007181|nm0004109|    2|         2|nm0787441|nm0004109|      1|           0|\n",
      "|nm0007181|nm0004109|    2|         2|nm4244515|nm0004109|      2|           0|\n",
      "|nm0007181|nm0004109|    2|         2|nm0999502|nm0004109|      1|           0|\n",
      "|nm0007181|nm0004109|    2|         2|nm0851253|nm0004109|      1|           0|\n",
      "|nm0007181|nm0004109|    2|         2|nm0592583|nm0004109|      1|           0|\n",
      "|nm0007181|nm0004109|    2|         2|nm0122216|nm0004109|      1|           0|\n",
      "|nm0007181|nm0004109|    2|         2|nm1552541|nm0004109|      1|           0|\n",
      "|nm0007181|nm0004109|    2|         2|nm0707274|nm0004109|      1|           0|\n",
      "|nm0007181|nm0004109|    2|         2|nm1200832|nm0004109|      2|           0|\n",
      "|nm0007181|nm0004109|    2|         2|nm2147526|nm0004109|      1|           0|\n",
      "|nm0007181|nm0004109|    2|         2|nm5070939|nm0004109|      1|           0|\n",
      "|nm0007181|nm0004109|    2|         2|nm0201713|nm0004109|      2|           0|\n",
      "|nm0007181|nm0004109|    2|         2|nm0706484|nm0004109|      1|           0|\n",
      "|nm0007181|nm0004109|    2|         2|nm0052677|nm0004109|      1|           0|\n",
      "|nm0007181|nm0004109|    2|         2|nm2269798|nm0004109|      1|           0|\n",
      "|nm0007181|nm0004109|    2|         2|nm1335378|nm0004109|      1|           0|\n",
      "|nm0007181|nm0004109|    2|         2|nm0708913|nm0004109|      2|           0|\n",
      "|nm0007181|nm0004109|    2|         2|nm0474398|nm0004109|      1|           0|\n",
      "|nm0007181|nm0004109|    2|         2|nm0451222|nm0004109|      2|           0|\n",
      "|nm0007181|nm0004109|    2|         2|nm0660967|nm0004109|      1|           0|\n",
      "|nm0007181|nm0004109|    2|         2|nm1618161|nm0004109|      1|           0|\n",
      "|nm0007181|nm0004109|    2|         2|nm1437189|nm0004109|      1|           0|\n",
      "|nm0007181|nm0004109|    2|         2|nm2203853|nm0004109|      1|           0|\n",
      "|nm0007181|nm0004109|    2|         2|nm3391111|nm0004109|      1|           0|\n",
      "|nm0007181|nm0004109|    2|         2|nm1028137|nm0004109|      1|           0|\n",
      "|nm0007181|nm0004109|    2|         2|nm0899649|nm0004109|      1|           0|\n",
      "|nm0007181|nm0004109|    2|         2|nm1015828|nm0004109|      1|           0|\n",
      "|nm0007181|nm0004109|    2|         2|nm1397301|nm0004109|      1|           0|\n",
      "|nm0007181|nm0004109|    2|         2|nm0802168|nm0004109|      1|           0|\n",
      "|nm0007181|nm0004109|    2|         2|nm0149850|nm0004109|      1|           0|\n",
      "|nm0007181|nm0004109|    2|         2|nm0768289|nm0004109|      1|           0|\n",
      "|nm0007181|nm0004109|    2|         2|nm0670262|nm0004109|      1|           0|\n",
      "|nm0007181|nm0004109|    2|         2|nm5414667|nm0004109|      1|           0|\n",
      "|nm0007181|nm0004109|    2|         2|nm0151504|nm0004109|      1|           0|\n",
      "|nm0007181|nm0004109|    2|         2|nm1421793|nm0004109|      1|           0|\n",
      "|nm0007181|nm0004109|    2|         2|nm0223606|nm0004109|      1|           0|\n",
      "|nm0007181|nm0004109|    2|         2|nm0996945|nm0004109|      1|           0|\n",
      "|nm0007181|nm0004109|    2|         2|nm0474839|nm0004109|      1|           0|\n",
      "|nm0007181|nm0004109|    2|         2|nm0052630|nm0004109|      1|           0|\n",
      "|nm0007181|nm0004109|    2|         2|nm0007131|nm0004109|      2|           0|\n",
      "|nm0007181|nm0004109|    2|         2|nm0451291|nm0004109|      1|           0|\n",
      "|nm0007181|nm0004109|    2|         2|nm0411185|nm0004109|      1|           0|\n",
      "|nm0007181|nm0004109|    2|         2|nm0803350|nm0004109|      1|           0|\n",
      "|nm0007181|nm0004109|    2|         2|nm1386952|nm0004109|      1|           0|\n",
      "|nm0007181|nm0004109|    2|         2|nm0004570|nm0004109|      1|           0|\n",
      "|nm0007181|nm0004109|    2|         2|nm1242455|nm0004109|      2|           0|\n",
      "|nm0007181|nm0004109|    2|         2|nm1224840|nm0004109|      1|           0|\n",
      "|nm0007181|nm0004109|    2|         2|nm0576543|nm0004109|      1|           0|\n",
      "|nm0007181|nm0004109|    2|         2|nm0863120|nm0004109|      1|           0|\n",
      "|nm0007181|nm0004109|    2|         2|nm1583603|nm0004109|      1|           0|\n",
      "|nm0007181|nm0004109|    2|         2|nm0796505|nm0004109|      2|           0|\n",
      "|nm0007181|nm0004109|    2|         2|nm0795430|nm0004109|      1|           0|\n",
      "|nm0007181|nm0004109|    2|         2|nm1214017|nm0004109|      2|           0|\n",
      "|nm0007181|nm0004334|    1|         1|nm1069827|nm0004334|      1|           0|\n",
      "|nm0007181|nm0004334|    1|         1|nm0787453|nm0004334|      1|           0|\n",
      "|nm0007181|nm0004334|    1|         1|nm0849195|nm0004334|      1|           0|\n",
      "|nm0007181|nm0004334|    1|         1|nm0848343|nm0004334|      1|           0|\n",
      "|nm0007181|nm0004334|    1|         1|nm0196380|nm0004334|      1|           0|\n",
      "|nm0007181|nm0004334|    1|         1|nm0025629|nm0004334|      1|           0|\n",
      "|nm0007181|nm0004334|    1|         1|nm0014180|nm0004334|      1|           0|\n",
      "|nm0007181|nm0004334|    1|         1|nm1224879|nm0004334|      1|           0|\n",
      "|nm0007181|nm0004334|    1|         1|nm3221483|nm0004334|      1|           0|\n",
      "|nm0007181|nm0004334|    1|         1|nm0409791|nm0004334|      1|           0|\n",
      "|nm0007181|nm0004334|    1|         1|nm0062614|nm0004334|      1|           0|\n",
      "|nm0007181|nm0004334|    1|         1|nm2577595|nm0004334|      1|           0|\n",
      "|nm0007181|nm0004334|    1|         1|nm0006370|nm0004334|      1|           0|\n",
      "|nm0007181|nm0004334|    1|         1|nm2669564|nm0004334|      1|           0|\n",
      "|nm0007181|nm0004334|    1|         1|nm0081974|nm0004334|      1|           0|\n",
      "|nm0007181|nm0004334|    1|         1|nm2147526|nm0004334|      1|           0|\n",
      "|nm0007181|nm0004334|    1|         1|nm1065099|nm0004334|      1|           0|\n",
      "|nm0007181|nm0004334|    1|         1|nm0007134|nm0004334|      1|           0|\n",
      "|nm0007181|nm0004334|    1|         1|nm0007147|nm0004334|      1|           0|\n",
      "|nm0007181|nm0004334|    1|         1|nm0631539|nm0004334|      1|           0|\n",
      "|nm0007181|nm0004334|    1|         1|nm1323642|nm0004334|      1|           0|\n",
      "|nm0007181|nm0004334|    1|         1|nm0080345|nm0004334|      1|           0|\n",
      "|nm0007181|nm0004334|    1|         1|nm0346618|nm0004334|      1|           0|\n",
      "|nm0007181|nm0004334|    1|         1|nm0670262|nm0004334|      1|           0|\n",
      "|nm0007181|nm0004334|    1|         1|nm0220828|nm0004334|      1|           0|\n",
      "|nm0007181|nm0004334|    1|         1|nm1347252|nm0004334|      1|           0|\n",
      "|nm0007181|nm0004334|    1|         1|nm0315872|nm0004334|      1|           0|\n",
      "|nm0007181|nm0004334|    1|         1|nm2380794|nm0004334|      1|           0|\n",
      "|nm0007181|nm0004334|    1|         1|nm0660936|nm0004334|      1|           0|\n",
      "|nm0007181|nm0004334|    1|         1|nm0004466|nm0004334|      1|           0|\n",
      "|nm0007181|nm0004334|    1|         1|nm0764316|nm0004334|      1|           0|\n",
      "|nm0007181|nm0004334|    1|         1|nm0007181|nm0004334|      1|           1|\n",
      "|nm0007181|nm0004334|    1|         1|nm0347899|nm0004334|      1|           0|\n",
      "|nm0007181|nm0004334|    1|         1|nm0092555|nm0004334|      1|           0|\n",
      "|nm0007181|nm0004334|    1|         1|nm0802692|nm0004334|      1|           0|\n",
      "|nm0007181|nm0004334|    1|         1|nm0439784|nm0004334|      1|           0|\n",
      "|nm0007181|nm0004334|    1|         1|nm0080180|nm0004334|      1|           0|\n",
      "|nm0007181|nm0004334|    1|         1|nm0611521|nm0004334|      1|           0|\n",
      "|nm0007181|nm0004334|    1|         1|nm0066918|nm0004334|      1|           0|\n",
      "|nm0007181|nm0004334|    1|         1|nm1029114|nm0004334|      1|           0|\n",
      "|nm0007181|nm0004334|    1|         1|nm0890060|nm0004334|      1|           0|\n",
      "|nm0007181|nm0004334|    1|         1|nm0802693|nm0004334|      1|           0|\n",
      "|nm0007181|nm0004334|    1|         1|nm0576488|nm0004334|      1|           0|\n",
      "|nm0007181|nm0004334|    1|         1|nm0385758|nm0004334|      1|           0|\n",
      "|nm0007181|nm0004334|    1|         1|nm0438029|nm0004334|      1|           0|\n",
      "|nm0007181|nm0004334|    1|         1|nm0474840|nm0004334|      1|           0|\n",
      "|nm0007181|nm0004429|    1|         1|nm0159148|nm0004429|      1|           0|\n",
      "|nm0007181|nm0004429|    1|         1|nm0007181|nm0004429|      1|           1|\n",
      "|nm0007181|nm0004429|    1|         1|nm0097899|nm0004429|      1|           0|\n",
      "|nm0007181|nm0004429|    1|         1|nm0004564|nm0004429|      1|           0|\n",
      "|nm0007181|nm0004429|    1|         1|nm1397301|nm0004429|      1|           0|\n",
      "|nm0007181|nm0004429|    1|         1|nm0878674|nm0004429|      1|           0|\n",
      "|nm0007181|nm0004429|    1|         1|nm1323642|nm0004429|      1|           0|\n",
      "|nm0007181|nm0004429|    1|         1|nm0710043|nm0004429|      1|           0|\n",
      "|nm0007181|nm0004429|    1|         1|nm0490178|nm0004429|      1|           0|\n",
      "|nm0007181|nm0004429|    1|         1|nm0062614|nm0004429|      1|           0|\n",
      "|nm0007181|nm0004429|    1|         1|nm0536899|nm0004429|      1|           0|\n",
      "|nm0007181|nm0004429|    1|         1|nm0707705|nm0004429|      1|           0|\n",
      "|nm0007181|nm0004429|    1|         1|nm0897196|nm0004429|      1|           0|\n",
      "|nm0007181|nm0004429|    1|         1|nm0695153|nm0004429|      1|           0|\n",
      "|nm0007181|nm0004429|    1|         1|nm0049335|nm0004429|      1|           0|\n",
      "|nm0007181|nm0004429|    1|         1|nm1593366|nm0004429|      1|           0|\n",
      "|nm0007181|nm0004429|    1|         1|nm0052630|nm0004429|      1|           0|\n",
      "|nm0007181|nm0004429|    1|         1|nm0004292|nm0004429|      1|           0|\n",
      "|nm0007181|nm0004429|    1|         1|nm0159162|nm0004429|      1|           0|\n",
      "|nm0007181|nm0004429|    1|         1|nm0858239|nm0004429|      1|           0|\n",
      "|nm0007181|nm0004429|    1|         1|nm3221483|nm0004429|      1|           0|\n",
      "|nm0007181|nm0004429|    1|         1|nm0706484|nm0004429|      1|           0|\n",
      "|nm0007181|nm0004429|    1|         1|nm0417562|nm0004429|      1|           0|\n",
      "|nm0007181|nm0004429|    1|         1|nm1058463|nm0004429|      1|           0|\n",
      "|nm0007181|nm0004429|    1|         1|nm0746950|nm0004429|      1|           0|\n",
      "|nm0007181|nm0004429|    1|         1|nm0611582|nm0004429|      1|           0|\n",
      "|nm0007181|nm0004429|    1|         1|nm0474775|nm0004429|      1|           0|\n",
      "|nm0007181|nm0004429|    1|         1|nm0347899|nm0004429|      1|           0|\n",
      "|nm0007181|nm0004429|    1|         1|nm0707856|nm0004429|      1|           0|\n",
      "|nm0007181|nm0004429|    1|         1|nm0576488|nm0004429|      1|           0|\n",
      "|nm0007181|nm0004429|    1|         1|nm1328135|nm0004429|      1|           0|\n",
      "|nm0007181|nm0004429|    1|         1|nm0080406|nm0004429|      1|           0|\n",
      "|nm0007181|nm0004429|    1|         1|nm0803350|nm0004429|      1|           0|\n",
      "|nm0007181|nm0004429|    1|         1|nm0782766|nm0004429|      1|           0|\n",
      "|nm0007181|nm0004429|    1|         1|nm0695162|nm0004429|      1|           0|\n",
      "|nm0007181|nm0004429|    1|         1|nm1457158|nm0004429|      1|           0|\n",
      "|nm0007181|nm0004429|    1|         1|nm0576454|nm0004429|      1|           0|\n",
      "|nm0007181|nm0004429|    1|         1|nm0576494|nm0004429|      1|           0|\n",
      "|nm0007181|nm0004429|    1|         1|nm0787452|nm0004429|      1|           0|\n",
      "|nm0007181|nm0004429|    1|         1|nm0787441|nm0004429|      1|           0|\n",
      "|nm0007181|nm0004429|    1|         1|nm0593967|nm0004429|      1|           0|\n",
      "|nm0007181|nm0004429|    1|         1|nm1334468|nm0004429|      1|           0|\n",
      "|nm0007181|nm0004429|    1|         1|nm0403826|nm0004429|      1|           0|\n",
      "|nm0007181|nm0004429|    1|         1|nm0007131|nm0004429|      1|           0|\n",
      "|nm0007181|nm0004429|    1|         1|nm0007134|nm0004429|      1|           0|\n",
      "|nm0007181|nm0004429|    1|         1|nm1065099|nm0004429|      1|           0|\n",
      "|nm0007181|nm0004429|    1|         1|nm0451326|nm0004429|      1|           0|\n",
      "|nm0007181|nm0004429|    1|         1|nm0092555|nm0004429|      1|           0|\n",
      "|nm0007181|nm0004429|    1|         1|nm0265752|nm0004429|      1|           0|\n",
      "|nm0007181|nm0004429|    1|         1|nm1269122|nm0004429|      1|           0|\n",
      "|nm0007181|nm0004429|    1|         1|nm0025608|nm0004429|      1|           0|\n",
      "|nm0007181|nm0004429|    1|         1|nm1437189|nm0004429|      1|           0|\n",
      "|nm0007181|nm0004429|    1|         1|nm2321771|nm0004429|      1|           0|\n",
      "|nm0007181|nm0004434|    7|         7|nm0695175|nm0004434|      2|           0|\n",
      "|nm0007181|nm0004434|    7|         7|nm0631539|nm0004434|      1|           0|\n",
      "|nm0007181|nm0004434|    7|         7|nm0583292|nm0004434|      1|           0|\n",
      "|nm0007181|nm0004434|    7|         7|nm0451846|nm0004434|      1|           0|\n",
      "|nm0007181|nm0004434|    7|         7|nm0788159|nm0004434|      1|           0|\n",
      "|nm0007181|nm0004434|    7|         7|nm0403826|nm0004434|      1|           0|\n",
      "|nm0007181|nm0004434|    7|         7|nm0654908|nm0004434|      1|           0|\n",
      "|nm0007181|nm0004434|    7|         7|nm1065099|nm0004434|      1|           0|\n",
      "|nm0007181|nm0004434|    7|         7|nm0006370|nm0004434|      3|           0|\n",
      "|nm0007181|nm0004434|    7|         7|nm0007131|nm0004434|      1|           0|\n",
      "|nm0007181|nm0004434|    7|         7|nm0593967|nm0004434|      1|           0|\n",
      "|nm0007181|nm0004434|    7|         7|nm0611582|nm0004434|      1|           0|\n",
      "|nm0007181|nm0004434|    7|         7|nm0474859|nm0004434|      1|           0|\n",
      "|nm0007181|nm0004434|    7|         7|nm0304369|nm0004434|      1|           0|\n",
      "|nm0007181|nm0004434|    7|         7|nm0707274|nm0004434|      1|           0|\n",
      "|nm0007181|nm0004434|    7|         7|nm0220828|nm0004434|      2|           0|\n",
      "|nm0007181|nm0004434|    7|         7|nm0576488|nm0004434|      2|           0|\n",
      "|nm0007181|nm0004434|    7|         7|nm0611521|nm0004434|      1|           0|\n",
      "|nm0007181|nm0004434|    7|         7|nm0337885|nm0004434|      1|           0|\n",
      "|nm0007181|nm0004434|    7|         7|nm0759662|nm0004434|      1|           0|\n",
      "|nm0007181|nm0004434|    7|         7|nm0004292|nm0004434|      3|           0|\n",
      "|nm0007181|nm0004434|    7|         7|nm0474823|nm0004434|      1|           0|\n",
      "|nm0007181|nm0004434|    7|         7|nm0439784|nm0004434|      1|           0|\n",
      "|nm0007181|nm0004434|    7|         7|nm0070867|nm0004434|      2|           0|\n",
      "|nm0007181|nm0004434|    7|         7|nm0746950|nm0004434|      2|           0|\n",
      "|nm0007181|nm0004434|    7|         7|nm0781830|nm0004434|      1|           0|\n",
      "|nm0007181|nm0004434|    7|         7|nm0347899|nm0004434|      1|           0|\n",
      "|nm0007181|nm0004434|    7|         7|nm0746937|nm0004434|      2|           0|\n",
      "|nm0007181|nm0004434|    7|         7|nm0802693|nm0004434|      2|           0|\n",
      "|nm0007181|nm0004434|    7|         7|nm0820232|nm0004434|      2|           0|\n",
      "|nm0007181|nm0004434|    7|         7|nm0109279|nm0004434|      1|           0|\n",
      "|nm0007181|nm0004434|    7|         7|nm0836942|nm0004434|      1|           0|\n",
      "|nm0007181|nm0004434|    7|         7|nm0788906|nm0004434|      1|           0|\n",
      "|nm0007181|nm0004434|    7|         7|nm0052630|nm0004434|      1|           0|\n",
      "|nm0007181|nm0004434|    7|         7|nm0580337|nm0004434|      1|           0|\n",
      "|nm0007181|nm0004434|    7|         7|nm0007181|nm0004434|      7|           7|\n",
      "|nm0007181|nm0004434|    7|         7|nm0412465|nm0004434|      1|           0|\n",
      "|nm0007181|nm0004434|    7|         7|nm0848343|nm0004434|      2|           0|\n",
      "|nm0007181|nm0004434|    7|         7|nm5556806|nm0004434|      1|           0|\n",
      "|nm0007181|nm0004434|    7|         7|nm0412676|nm0004434|      1|           0|\n",
      "|nm0007181|nm0004435|    3|         3|nm0080345|nm0004435|      1|           0|\n",
      "|nm0007181|nm0004435|    3|         3|nm0346618|nm0004435|      1|           0|\n",
      "|nm0007181|nm0004435|    3|         3|nm5556806|nm0004435|      2|           0|\n",
      "|nm0007181|nm0004435|    3|         3|nm1069827|nm0004435|      1|           0|\n",
      "|nm0007181|nm0004435|    3|         3|nm0795430|nm0004435|      1|           0|\n",
      "|nm0007181|nm0004435|    3|         3|nm2207254|nm0004435|      1|           0|\n",
      "|nm0007181|nm0004435|    3|         3|nm0706484|nm0004435|      1|           0|\n",
      "|nm0007181|nm0004435|    3|         3|nm0695162|nm0004435|      3|           0|\n",
      "|nm0007181|nm0004435|    3|         3|nm0836942|nm0004435|      1|           0|\n",
      "|nm0007181|nm0004435|    3|         3|nm0007134|nm0004435|      1|           0|\n",
      "|nm0007181|nm0004435|    3|         3|nm0451846|nm0004435|      2|           0|\n",
      "|nm0007181|nm0004435|    3|         3|nm0049335|nm0004435|      1|           0|\n",
      "|nm0007181|nm0004435|    3|         3|nm0080406|nm0004435|      1|           0|\n",
      "|nm0007181|nm0004435|    3|         3|nm0471471|nm0004435|      1|           0|\n",
      "|nm0007181|nm0004435|    3|         3|nm0025629|nm0004435|      1|           0|\n",
      "|nm0007181|nm0004435|    3|         3|nm2223387|nm0004435|      1|           0|\n",
      "|nm0007181|nm0004435|    3|         3|nm0849195|nm0004435|      1|           0|\n",
      "|nm0007181|nm0004435|    3|         3|nm0438030|nm0004435|      1|           0|\n",
      "|nm0007181|nm0004435|    3|         3|nm0707300|nm0004435|      1|           0|\n",
      "|nm0007181|nm0004435|    3|         3|nm0802693|nm0004435|      1|           0|\n",
      "|nm0007181|nm0004435|    3|         3|nm0619102|nm0004435|      2|           0|\n",
      "|nm0007181|nm0004435|    3|         3|nm0052630|nm0004435|      1|           0|\n",
      "|nm0007181|nm0004435|    3|         3|nm0202545|nm0004435|      1|           0|\n",
      "|nm0007181|nm0004435|    3|         3|nm0416225|nm0004435|      1|           0|\n",
      "|nm0007181|nm0004435|    3|         3|nm0576494|nm0004435|      1|           0|\n",
      "|nm0007181|nm0004435|    3|         3|nm0219939|nm0004435|      1|           0|\n",
      "|nm0007181|nm0004435|    3|         3|nm0858239|nm0004435|      1|           0|\n",
      "|nm0007181|nm0004435|    3|         3|nm0712540|nm0004435|      1|           0|\n",
      "|nm0007181|nm0004435|    3|         3|nm0433892|nm0004435|      1|           0|\n",
      "|nm0007181|nm0004435|    3|         3|nm1028138|nm0004435|      1|           0|\n",
      "|nm0007181|nm0004435|    3|         3|nm0438501|nm0004435|      1|           0|\n",
      "|nm0007181|nm0004435|    3|         3|nm0244876|nm0004435|      1|           0|\n",
      "|nm0007181|nm0004435|    3|         3|nm0220828|nm0004435|      3|           0|\n",
      "|nm0007181|nm0004435|    3|         3|nm0014180|nm0004435|      1|           0|\n",
      "|nm0007181|nm0004435|    3|         3|nm0155027|nm0004435|      1|           0|\n",
      "|nm0007181|nm0004435|    3|         3|nm0066066|nm0004435|      1|           0|\n",
      "|nm0007181|nm0004435|    3|         3|nm0576454|nm0004435|      1|           0|\n",
      "|nm0007181|nm0004435|    3|         3|nm0223522|nm0004435|      1|           0|\n",
      "|nm0007181|nm0004435|    3|         3|nm0080432|nm0004435|      1|           0|\n",
      "|nm0007181|nm0004435|    3|         3|nm0007181|nm0004435|      3|           3|\n",
      "|nm0007181|nm0004435|    3|         3|nm0849200|nm0004435|      1|           0|\n",
      "|nm0007181|nm0004435|    3|         3|nm0611535|nm0004435|      1|           0|\n",
      "|nm0007181|nm0004435|    3|         3|nm0474839|nm0004435|      2|           0|\n",
      "|nm0007181|nm0004435|    3|         3|nm0403826|nm0004435|      1|           0|\n",
      "|nm0007181|nm0004435|    3|         3|nm0025608|nm0004435|      2|           0|\n",
      "|nm0007181|nm0004437|    2|         2|nm2223387|nm0004437|      1|           0|\n",
      "|nm0007181|nm0004437|    2|         2|nm0654908|nm0004437|      1|           0|\n",
      "|nm0007181|nm0004437|    2|         2|nm0451211|nm0004437|      1|           0|\n",
      "|nm0007181|nm0004437|    2|         2|nm0862308|nm0004437|      1|           0|\n",
      "|nm0007181|nm0004437|    2|         2|nm0015295|nm0004437|      1|           0|\n",
      "|nm0007181|nm0004437|    2|         2|nm0001408|nm0004437|      1|           0|\n",
      "|nm0007181|nm0004437|    2|         2|nm0385760|nm0004437|      1|           0|\n",
      "|nm0007181|nm0004437|    2|         2|nm0576494|nm0004437|      1|           0|\n",
      "|nm0007181|nm0004437|    2|         2|nm0315912|nm0004437|      1|           0|\n",
      "|nm0007181|nm0004437|    2|         2|nm0786042|nm0004437|      1|           0|\n",
      "|nm0007181|nm0004437|    2|         2|nm0788858|nm0004437|      1|           0|\n",
      "|nm0007181|nm0004437|    2|         2|nm8119703|nm0004437|      1|           0|\n",
      "|nm0007181|nm0004437|    2|         2|nm0007131|nm0004437|      1|           0|\n",
      "|nm0007181|nm0004437|    2|         2|nm0080180|nm0004437|      2|           0|\n",
      "|nm0007181|nm0004437|    2|         2|nm0007181|nm0004437|      2|           2|\n",
      "|nm0007181|nm0004437|    2|         2|nm0442479|nm0004437|      1|           0|\n",
      "|nm0007181|nm0004437|    2|         2|nm1460159|nm0004437|      1|           0|\n",
      "|nm0007181|nm0004437|    2|         2|nm0695162|nm0004437|      1|           0|\n",
      "|nm0007181|nm0004437|    2|         2|nm2435980|nm0004437|      1|           0|\n",
      "|nm0007181|nm0004437|    2|         2|nm0707274|nm0004437|      1|           0|\n",
      "|nm0007181|nm0004437|    2|         2|nm0890060|nm0004437|      1|           0|\n",
      "|nm0007181|nm0004437|    2|         2|nm0899649|nm0004437|      1|           0|\n",
      "|nm0007181|nm0004437|    2|         2|nm0729822|nm0004437|      1|           0|\n",
      "|nm0007181|nm0004437|    2|         2|nm0755420|nm0004437|      1|           0|\n",
      "|nm0007181|nm0004437|    2|         2|nm0764316|nm0004437|      1|           0|\n",
      "|nm0007181|nm0004437|    2|         2|nm0536820|nm0004437|      1|           0|\n",
      "|nm0007181|nm0004437|    2|         2|nm0576495|nm0004437|      1|           0|\n",
      "|nm0007181|nm0004437|    2|         2|nm0438029|nm0004437|      2|           0|\n",
      "|nm0007181|nm0004437|    2|         2|nm0849200|nm0004437|      1|           0|\n",
      "|nm0007181|nm0004437|    2|         2|nm0002172|nm0004437|      1|           0|\n",
      "|nm0007181|nm0004437|    2|         2|nm0223335|nm0004437|      1|           0|\n",
      "|nm0007181|nm0004437|    2|         2|nm0765873|nm0004437|      1|           0|\n",
      "|nm0007181|nm0004437|    2|         2|nm0080315|nm0004437|      1|           0|\n",
      "|nm0007181|nm0004437|    2|         2|nm1903006|nm0004437|      1|           0|\n",
      "|nm0007181|nm0004437|    2|         2|nm0471471|nm0004437|      1|           0|\n",
      "|nm0007181|nm0004437|    2|         2|nm0792905|nm0004437|      1|           0|\n",
      "|nm0007181|nm0004437|    2|         2|nm0536818|nm0004437|      1|           0|\n",
      "|nm0007181|nm0004437|    2|         2|nm0660967|nm0004437|      2|           0|\n",
      "|nm0007181|nm0004437|    2|         2|nm0851253|nm0004437|      2|           0|\n",
      "|nm0007181|nm0004487|    2|         2|nm1017494|nm0004487|      1|           0|\n",
      "|nm0007181|nm0004487|    2|         2|nm0007181|nm0004487|      2|           2|\n",
      "|nm0007181|nm0004487|    2|         2|nm1018908|nm0004487|      2|           0|\n",
      "|nm0007181|nm0004487|    2|         2|nm0474909|nm0004487|      1|           0|\n",
      "|nm0007181|nm0004487|    2|         2|nm0002120|nm0004487|      1|           0|\n",
      "|nm0007181|nm0004487|    2|         2|nm0765039|nm0004487|      1|           0|\n",
      "|nm0007181|nm0004487|    2|         2|nm1223910|nm0004487|      2|           0|\n",
      "|nm0007181|nm0004487|    2|         2|nm0863120|nm0004487|      1|           0|\n",
      "|nm0007181|nm0004487|    2|         2|nm1224879|nm0004487|      1|           0|\n",
      "|nm0007181|nm0004487|    2|         2|nm2223387|nm0004487|      1|           0|\n",
      "|nm0007181|nm0004487|    2|         2|nm1881079|nm0004487|      1|           0|\n",
      "|nm0007181|nm0004487|    2|         2|nm0788159|nm0004487|      1|           0|\n",
      "|nm0007181|nm0004487|    2|         2|nm1206032|nm0004487|      1|           0|\n",
      "|nm0007181|nm0004487|    2|         2|nm0684314|nm0004487|      1|           0|\n",
      "|nm0007181|nm0004487|    2|         2|nm0332950|nm0004487|      1|           0|\n",
      "|nm0007181|nm0004487|    2|         2|nm1015828|nm0004487|      1|           0|\n",
      "|nm0007181|nm0004487|    2|         2|nm0611531|nm0004487|      1|           0|\n",
      "|nm0007181|nm0004487|    2|         2|nm1196386|nm0004487|      1|           0|\n",
      "|nm0007181|nm0004487|    2|         2|nm5197715|nm0004487|      1|           0|\n",
      "|nm0007181|nm0004487|    2|         2|nm0201710|nm0004487|      1|           0|\n",
      "|nm0007181|nm0004487|    2|         2|nm0787453|nm0004487|      1|           0|\n",
      "|nm0007181|nm0004487|    2|         2|nm0451261|nm0004487|      1|           0|\n",
      "|nm0007181|nm0004487|    2|         2|nm1203774|nm0004487|      1|           0|\n",
      "|nm0007181|nm0004487|    2|         2|nm2710488|nm0004487|      1|           0|\n",
      "|nm0007181|nm0004487|    2|         2|nm0007134|nm0004487|      1|           0|\n",
      "|nm0007181|nm0004487|    2|         2|nm0836942|nm0004487|      1|           0|\n",
      "|nm0007181|nm0004487|    2|         2|nm0122216|nm0004487|      1|           0|\n",
      "|nm0007181|nm0004487|    2|         2|nm0409791|nm0004487|      1|           0|\n",
      "|nm0007181|nm0004487|    2|         2|nm0015295|nm0004487|      2|           0|\n",
      "|nm0007181|nm0004487|    2|         2|nm1213209|nm0004487|      1|           0|\n",
      "|nm0007181|nm0004487|    2|         2|nm0764316|nm0004487|      1|           0|\n",
      "|nm0007181|nm0004487|    2|         2|nm2265536|nm0004487|      1|           0|\n",
      "|nm0007181|nm0004487|    2|         2|nm7344577|nm0004487|      1|           0|\n",
      "|nm0007181|nm0004487|    2|         2|nm0201713|nm0004487|      2|           0|\n",
      "|nm0007181|nm0004487|    2|         2|nm0403981|nm0004487|      1|           0|\n",
      "|nm0007181|nm0004487|    2|         2|nm2709116|nm0004487|      1|           0|\n",
      "|nm0007181|nm0004487|    2|         2|nm0474398|nm0004487|      1|           0|\n",
      "|nm0007181|nm0004487|    2|         2|nm2381428|nm0004487|      1|           0|\n",
      "|nm0007181|nm0004487|    2|         2|nm2903076|nm0004487|      1|           0|\n",
      "|nm0007181|nm0004487|    2|         2|nm0698184|nm0004487|      1|           0|\n",
      "|nm0007181|nm0004487|    2|         2|nm1910832|nm0004487|      1|           0|\n",
      "|nm0007181|nm0004487|    2|         2|nm0004363|nm0004487|      1|           0|\n",
      "|nm0007181|nm0004487|    2|         2|nm1122396|nm0004487|      1|           0|\n",
      "|nm0007181|nm0004487|    2|         2|nm0657505|nm0004487|      1|           0|\n",
      "|nm0007181|nm0004487|    2|         2|nm0576491|nm0004487|      1|           0|\n",
      "|nm0007181|nm0004487|    2|         2|nm0706484|nm0004487|      1|           0|\n",
      "|nm0007181|nm0004487|    2|         2|nm0712541|nm0004487|      1|           0|\n",
      "|nm0007181|nm0004487|    2|         2|nm0782766|nm0004487|      1|           0|\n",
      "|nm0007181|nm0004487|    2|         2|nm5758702|nm0004487|      1|           0|\n",
      "|nm0007181|nm0004487|    2|         2|nm0451257|nm0004487|      1|           0|\n",
      "|nm0007181|nm0004487|    2|         2|nm0619777|nm0004487|      1|           0|\n",
      "|nm0007181|nm0004487|    2|         2|nm0012541|nm0004487|      1|           0|\n",
      "|nm0007181|nm0004564|    4|         4|nm0159162|nm0004564|      3|           0|\n",
      "|nm0007181|nm0004564|    4|         4|nm0007131|nm0004564|      1|           0|\n",
      "|nm0007181|nm0004564|    4|         4|nm0004630|nm0004564|      1|           0|\n",
      "|nm0007181|nm0004564|    4|         4|nm0007181|nm0004564|      4|           4|\n",
      "|nm0007181|nm0004564|    4|         4|nm2489001|nm0004564|      1|           0|\n",
      "|nm0007181|nm0004564|    4|         4|nm0698184|nm0004564|      1|           0|\n",
      "|nm0007181|nm0004564|    4|         4|nm0220828|nm0004564|      3|           0|\n",
      "|nm0007181|nm0004564|    4|         4|nm1069827|nm0004564|      1|           0|\n",
      "|nm0007181|nm0004564|    4|         4|nm0660967|nm0004564|      1|           0|\n",
      "|nm0007181|nm0004564|    4|         4|nm0814343|nm0004564|      1|           0|\n",
      "|nm0007181|nm0004564|    4|         4|nm0611531|nm0004564|      1|           0|\n",
      "|nm0007181|nm0004564|    4|         4|nm0451211|nm0004564|      1|           0|\n",
      "|nm0007181|nm0004564|    4|         4|nm0707382|nm0004564|      1|           0|\n",
      "|nm0007181|nm0004564|    4|         4|nm0576454|nm0004564|      2|           0|\n",
      "|nm0007181|nm0004564|    4|         4|nm0463319|nm0004564|      1|           0|\n",
      "|nm0007181|nm0004564|    4|         4|nm0433892|nm0004564|      1|           0|\n",
      "|nm0007181|nm0004564|    4|         4|nm0352032|nm0004564|      1|           0|\n",
      "|nm0007181|nm0004564|    4|         4|nm0706800|nm0004564|      1|           0|\n",
      "|nm0007181|nm0004564|    4|         4|nm0474840|nm0004564|      1|           0|\n",
      "|nm0007181|nm0004564|    4|         4|nm0755997|nm0004564|      1|           0|\n",
      "|nm0007181|nm0004564|    4|         4|nm0109279|nm0004564|      1|           0|\n",
      "|nm0007181|nm0004564|    4|         4|nm0596008|nm0004564|      1|           0|\n",
      "|nm0007181|nm0004564|    4|         4|nm0851253|nm0004564|      1|           0|\n",
      "|nm0007181|nm0004564|    4|         4|nm0006370|nm0004564|      1|           0|\n",
      "|nm0007181|nm0004564|    4|         4|nm0442395|nm0004564|      1|           0|\n",
      "|nm0007181|nm0004564|    4|         4|nm0025608|nm0004564|      1|           0|\n",
      "|nm0007181|nm0004564|    4|         4|nm1224879|nm0004564|      1|           0|\n",
      "|nm0007181|nm0004564|    4|         4|nm0007147|nm0004564|      1|           0|\n",
      "|nm0007181|nm0004564|    4|         4|nm1269122|nm0004564|      1|           0|\n",
      "|nm0007181|nm0004564|    4|         4|nm0759662|nm0004564|      1|           0|\n",
      "|nm0007181|nm0004564|    4|         4|nm0695162|nm0004564|      1|           0|\n",
      "|nm0007181|nm0004564|    4|         4|nm0412676|nm0004564|      1|           0|\n",
      "|nm0007181|nm0004564|    4|         4|nm0781830|nm0004564|      2|           0|\n",
      "|nm0007181|nm0004564|    4|         4|nm0802693|nm0004564|      3|           0|\n",
      "|nm0007181|nm0004564|    4|         4|nm0783995|nm0004564|      1|           0|\n",
      "|nm0007181|nm0004564|    4|         4|nm0858239|nm0004564|      1|           0|\n",
      "|nm0007181|nm0004564|    4|         4|nm0438029|nm0004564|      1|           0|\n",
      "|nm0007181|nm0004564|    4|         4|nm0004564|nm0004564|      1|           0|\n",
      "|nm0007181|nm0004564|    4|         4|nm0025629|nm0004564|      4|           0|\n",
      "|nm0007181|nm0004564|    4|         4|nm0474859|nm0004564|      1|           0|\n",
      "|nm0007181|nm0004564|    4|         4|nm0154113|nm0004564|      3|           0|\n",
      "|nm0007181|nm0004564|    4|         4|nm0346618|nm0004564|      2|           0|\n",
      "|nm0007181|nm0004564|    4|         4|nm1194317|nm0004564|      1|           0|\n",
      "|nm0007181|nm0004564|    4|         4|nm0576488|nm0004564|      1|           0|\n",
      "|nm0007181|nm0004564|    4|         4|nm0422552|nm0004564|      1|           0|\n",
      "|nm0007181|nm0004564|    4|         4|nm0802692|nm0004564|      1|           0|\n",
      "|nm0007181|nm0004564|    4|         4|nm1039454|nm0004564|      1|           0|\n",
      "|nm0007181|nm0004564|    4|         4|nm0706484|nm0004564|      1|           0|\n",
      "|nm0007181|nm0004564|    4|         4|nm2055188|nm0004564|      1|           0|\n",
      "|nm0007181|nm0004564|    4|         4|nm0700872|nm0004564|      1|           0|\n",
      "|nm0007181|nm0004564|    4|         4|nm0265752|nm0004564|      1|           0|\n",
      "|nm0007181|nm0004564|    4|         4|nm5556806|nm0004564|      1|           0|\n",
      "|nm0007181|nm0004564|    4|         4|nm0347899|nm0004564|      4|           0|\n",
      "|nm0007181|nm0004564|    4|         4|nm0474839|nm0004564|      1|           0|\n",
      "|nm0007181|nm0004564|    4|         4|nm0538305|nm0004564|      1|           0|\n",
      "|nm0007181|nm0004564|    4|         4|nm0611582|nm0004564|      1|           0|\n",
      "|nm0007181|nm0004564|    4|         4|nm0820232|nm0004564|      1|           0|\n",
      "|nm0007181|nm0004570|    2|         2|nm0802693|nm0004570|      1|           0|\n",
      "|nm0007181|nm0004570|    2|         2|nm0849195|nm0004570|      1|           0|\n",
      "|nm0007181|nm0004570|    2|         2|nm0386246|nm0004570|      1|           0|\n",
      "|nm0007181|nm0004570|    2|         2|nm0080358|nm0004570|      1|           0|\n",
      "|nm0007181|nm0004570|    2|         2|nm0080406|nm0004570|      2|           0|\n",
      "|nm0007181|nm0004570|    2|         2|nm0007181|nm0004570|      2|           2|\n",
      "|nm0007181|nm0004570|    2|         2|nm0046985|nm0004570|      1|           0|\n",
      "|nm0007181|nm0004570|    2|         2|nm0851253|nm0004570|      1|           0|\n",
      "|nm0007181|nm0004570|    2|         2|nm0006371|nm0004570|      1|           0|\n",
      "|nm0007181|nm0004570|    2|         2|nm0451846|nm0004570|      1|           0|\n",
      "|nm0007181|nm0004570|    2|         2|nm0746950|nm0004570|      1|           0|\n",
      "|nm0007181|nm0004570|    2|         2|nm0244892|nm0004570|      1|           0|\n",
      "|nm0007181|nm0004570|    2|         2|nm0801870|nm0004570|      1|           0|\n",
      "|nm0007181|nm0004570|    2|         2|nm0007134|nm0004570|      1|           0|\n",
      "|nm0007181|nm0004570|    2|         2|nm1130698|nm0004570|      1|           0|\n",
      "|nm0007181|nm0004570|    2|         2|nm0159148|nm0004570|      2|           0|\n",
      "|nm0007181|nm0004570|    2|         2|nm0836899|nm0004570|      1|           0|\n",
      "|nm0007181|nm0004570|    2|         2|nm0841918|nm0004570|      1|           0|\n",
      "|nm0007181|nm0006348|    2|         2|nm0025629|nm0006348|      1|           0|\n",
      "|nm0007181|nm0006348|    2|         2|nm0695153|nm0006348|      1|           0|\n",
      "|nm0007181|nm0006348|    2|         2|nm0849195|nm0006348|      1|           0|\n",
      "|nm0007181|nm0006348|    2|         2|nm0820232|nm0006348|      2|           0|\n",
      "|nm0007181|nm0006348|    2|         2|nm0006371|nm0006348|      1|           0|\n",
      "|nm0007181|nm0006348|    2|         2|nm0006370|nm0006348|      1|           0|\n",
      "|nm0007181|nm0006348|    2|         2|nm0712540|nm0006348|      1|           0|\n",
      "|nm0007181|nm0006348|    2|         2|nm0474840|nm0006348|      2|           0|\n",
      "|nm0007181|nm0006348|    2|         2|nm0007181|nm0006348|      2|           2|\n",
      "|nm0007181|nm0006348|    2|         2|nm0006348|nm0006348|      1|           0|\n",
      "|nm0007181|nm0006348|    2|         2|nm0474839|nm0006348|      2|           0|\n",
      "|nm0007181|nm0006348|    2|         2|nm0801870|nm0006348|      1|           0|\n",
      "|nm0007181|nm0006348|    2|         2|nm0839348|nm0006348|      1|           0|\n",
      "|nm0007181|nm0006348|    2|         2|nm0707705|nm0006348|      1|           0|\n",
      "|nm0007181|nm0006348|    2|         2|nm0159148|nm0006348|      1|           0|\n",
      "|nm0007181|nm0006348|    2|         2|nm1039454|nm0006348|      1|           0|\n",
      "|nm0007181|nm0006348|    2|         2|nm0788880|nm0006348|      1|           0|\n",
      "|nm0007181|nm0006348|    2|         2|nm0004292|nm0006348|      2|           0|\n",
      "|nm0007181|nm0006369|    2|         2|nm0623320|nm0006369|      1|           0|\n",
      "|nm0007181|nm0006369|    2|         2|nm0848343|nm0006369|      1|           0|\n",
      "|nm0007181|nm0006369|    2|         2|nm0006370|nm0006369|      2|           0|\n",
      "|nm0007181|nm0006369|    2|         2|nm0025399|nm0006369|      1|           0|\n",
      "|nm0007181|nm0006369|    2|         2|nm0007181|nm0006369|      2|           2|\n",
      "|nm0007181|nm0006369|    2|         2|nm0471471|nm0006369|      1|           0|\n",
      "|nm0007181|nm0006369|    2|         2|nm0611527|nm0006369|      1|           0|\n",
      "|nm0007181|nm0006369|    2|         2|nm0802693|nm0006369|      1|           0|\n",
      "|nm0007181|nm0006369|    2|         2|nm0149850|nm0006369|      2|           0|\n",
      "|nm0007181|nm0006369|    2|         2|nm2055188|nm0006369|      1|           0|\n",
      "|nm0007181|nm0006369|    2|         2|nm0878674|nm0006369|      1|           0|\n",
      "|nm0007181|nm0006369|    2|         2|nm0538306|nm0006369|      1|           0|\n",
      "|nm0007181|nm0006369|    2|         2|nm0708001|nm0006369|      1|           0|\n",
      "|nm0007181|nm0006369|    2|         2|nm1058463|nm0006369|      1|           0|\n",
      "|nm0007181|nm0006369|    2|         2|nm0746950|nm0006369|      2|           0|\n",
      "|nm0007181|nm0006369|    2|         2|nm0433892|nm0006369|      1|           0|\n",
      "|nm0007181|nm0006369|    2|         2|nm0080406|nm0006369|      1|           0|\n",
      "|nm0007181|nm0006369|    2|         2|nm0315912|nm0006369|      1|           0|\n",
      "|nm0007181|nm0006369|    2|         2|nm0712540|nm0006369|      1|           0|\n",
      "|nm0007181|nm0006369|    2|         2|nm0097887|nm0006369|      1|           0|\n",
      "|nm0007181|nm0006369|    2|         2|nm0097899|nm0006369|      1|           0|\n",
      "|nm0007181|nm0006369|    2|         2|nm0025629|nm0006369|      1|           0|\n",
      "|nm0007181|nm0006369|    2|         2|nm0652302|nm0006369|      1|           0|\n",
      "|nm0007181|nm0006369|    2|         2|nm0474837|nm0006369|      2|           0|\n",
      "|nm0007181|nm0006369|    2|         2|nm0463319|nm0006369|      1|           0|\n",
      "|nm0007181|nm0006369|    2|         2|nm0851253|nm0006369|      1|           0|\n",
      "|nm0007181|nm0006369|    2|         2|nm0788880|nm0006369|      1|           0|\n",
      "|nm0007181|nm0006369|    2|         2|nm0755500|nm0006369|      1|           0|\n",
      "|nm0007181|nm0006369|    2|         2|nm0707274|nm0006369|      1|           0|\n",
      "|nm0007181|nm0006369|    2|         2|nm0576454|nm0006369|      1|           0|\n",
      "|nm0007181|nm0006369|    2|         2|nm0595924|nm0006369|      1|           0|\n",
      "|nm0007181|nm0006369|    2|         2|nm0001408|nm0006369|      1|           0|\n",
      "|nm0007181|nm0006433|    1|         1|nm0463315|nm0006433|      1|           0|\n",
      "|nm0007181|nm0006433|    1|         1|nm0348495|nm0006433|      1|           0|\n",
      "|nm0007181|nm0006433|    1|         1|nm1024505|nm0006433|      1|           0|\n",
      "|nm0007181|nm0006433|    1|         1|nm0244335|nm0006433|      1|           0|\n",
      "|nm0007181|nm0006433|    1|         1|nm0894354|nm0006433|      1|           0|\n",
      "|nm0007181|nm0006433|    1|         1|nm0151504|nm0006433|      1|           0|\n",
      "|nm0007181|nm0006433|    1|         1|nm0240881|nm0006433|      1|           0|\n",
      "|nm0007181|nm0006433|    1|         1|nm0796504|nm0006433|      1|           0|\n",
      "|nm0007181|nm0006433|    1|         1|nm1018906|nm0006433|      1|           0|\n",
      "|nm0007181|nm0006433|    1|         1|nm0796505|nm0006433|      1|           0|\n",
      "|nm0007181|nm0006433|    1|         1|nm0851253|nm0006433|      1|           0|\n",
      "|nm0007181|nm0006433|    1|         1|nm0015295|nm0006433|      1|           0|\n",
      "|nm0007181|nm0006433|    1|         1|nm0007134|nm0006433|      1|           0|\n",
      "|nm0007181|nm0006433|    1|         1|nm0885537|nm0006433|      1|           0|\n",
      "|nm0007181|nm0006433|    1|         1|nm0149850|nm0006433|      1|           0|\n",
      "|nm0007181|nm0006433|    1|         1|nm0080333|nm0006433|      1|           0|\n",
      "|nm0007181|nm0006433|    1|         1|nm0471452|nm0006433|      1|           0|\n",
      "|nm0007181|nm0006433|    1|         1|nm0474909|nm0006433|      1|           0|\n",
      "|nm0007181|nm0006433|    1|         1|nm0007181|nm0006433|      1|           1|\n",
      "|nm0007181|nm0006433|    1|         1|nm0054744|nm0006433|      1|           0|\n",
      "|nm0007181|nm0006433|    1|         1|nm0787453|nm0006433|      1|           0|\n",
      "|nm0007181|nm0006433|    1|         1|nm0593967|nm0006433|      1|           0|\n",
      "|nm0007181|nm0006433|    1|         1|nm0539495|nm0006433|      1|           0|\n",
      "|nm0007181|nm0006433|    1|         1|nm1538792|nm0006433|      1|           0|\n",
      "|nm0007181|nm0006433|    1|         1|nm0576488|nm0006433|      1|           0|\n",
      "|nm0007181|nm0006433|    1|         1|nm0438029|nm0006433|      1|           0|\n",
      "|nm0007181|nm0006433|    1|         1|nm0795430|nm0006433|      1|           0|\n",
      "|nm0007181|nm0006433|    1|         1|nm0070867|nm0006433|      1|           0|\n",
      "|nm0007181|nm0006433|    1|         1|nm0219964|nm0006433|      1|           0|\n",
      "|nm0007181|nm0006433|    1|         1|nm0899649|nm0006433|      1|           0|\n",
      "|nm0007181|nm0006433|    1|         1|nm0764316|nm0006433|      1|           0|\n",
      "|nm0007181|nm0006433|    1|         1|nm0006659|nm0006433|      1|           0|\n",
      "|nm0007181|nm0006689|    1|         1|nm0007181|nm0006689|      1|           1|\n",
      "|nm0007181|nm0006689|    1|         1|nm1354763|nm0006689|      1|           0|\n",
      "|nm0007181|nm0006689|    1|         1|nm1334468|nm0006689|      1|           0|\n",
      "|nm0007181|nm0006689|    1|         1|nm1145655|nm0006689|      1|           0|\n",
      "|nm0007181|nm0006689|    1|         1|nm1249945|nm0006689|      1|           0|\n",
      "|nm0007181|nm0006689|    1|         1|nm0424103|nm0006689|      1|           0|\n",
      "|nm0007181|nm0006689|    1|         1|nm0007134|nm0006689|      1|           0|\n",
      "|nm0007181|nm0006689|    1|         1|nm0539491|nm0006689|      1|           0|\n",
      "|nm0007181|nm0006689|    1|         1|nm0665548|nm0006689|      1|           0|\n",
      "|nm0007181|nm0006689|    1|         1|nm0315916|nm0006689|      1|           0|\n",
      "|nm0007181|nm0006689|    1|         1|nm0764316|nm0006689|      1|           0|\n",
      "|nm0007181|nm0006689|    1|         1|nm0419680|nm0006689|      1|           0|\n",
      "|nm0007181|nm0006689|    1|         1|nm0006765|nm0006689|      1|           0|\n",
      "|nm0007181|nm0006689|    1|         1|nm0219971|nm0006689|      1|           0|\n",
      "|nm0007181|nm0006689|    1|         1|nm0012541|nm0006689|      1|           0|\n",
      "|nm0007181|nm0006689|    1|         1|nm1893457|nm0006689|      1|           0|\n",
      "|nm0007181|nm0006689|    1|         1|nm0409790|nm0006689|      1|           0|\n",
      "|nm0007181|nm0006689|    1|         1|nm0151511|nm0006689|      1|           0|\n",
      "|nm0007181|nm0006689|    1|         1|nm0788858|nm0006689|      1|           0|\n",
      "|nm0007181|nm0006689|    1|         1|nm2577595|nm0006689|      1|           0|\n",
      "|nm0007181|nm0006689|    1|         1|nm1082555|nm0006689|      1|           0|\n",
      "|nm0007181|nm0006689|    1|         1|nm0711745|nm0006689|      1|           0|\n",
      "|nm0007181|nm0006689|    1|         1|nm0013158|nm0006689|      1|           0|\n",
      "|nm0007181|nm0006689|    1|         1|nm0159147|nm0006689|      1|           0|\n",
      "|nm0007181|nm0006762|    2|         2|nm0004292|nm0006762|      1|           0|\n",
      "|nm0007181|nm0006762|    2|         2|nm0899649|nm0006762|      1|           0|\n",
      "|nm0007181|nm0006762|    2|         2|nm0576494|nm0006762|      1|           0|\n",
      "|nm0007181|nm0006762|    2|         2|nm2147526|nm0006762|      1|           0|\n",
      "|nm0007181|nm0006762|    2|         2|nm0707494|nm0006762|      1|           0|\n",
      "|nm0007181|nm0006762|    2|         2|nm0006249|nm0006762|      1|           0|\n",
      "|nm0007181|nm0006762|    2|         2|nm0539495|nm0006762|      2|           0|\n",
      "|nm0007181|nm0006762|    2|         2|nm0223522|nm0006762|      1|           0|\n",
      "|nm0007181|nm0006762|    2|         2|nm7344577|nm0006762|      2|           0|\n",
      "|nm0007181|nm0006762|    2|         2|nm0195934|nm0006762|      1|           0|\n",
      "|nm0007181|nm0006762|    2|         2|nm0436202|nm0006762|      1|           0|\n",
      "|nm0007181|nm0006762|    2|         2|nm0802143|nm0006762|      1|           0|\n",
      "|nm0007181|nm0006762|    2|         2|nm0660936|nm0006762|      1|           0|\n",
      "|nm0007181|nm0006762|    2|         2|nm2388843|nm0006762|      1|           0|\n",
      "|nm0007181|nm0006762|    2|         2|nm0220823|nm0006762|      1|           0|\n",
      "|nm0007181|nm0006762|    2|         2|nm0007181|nm0006762|      2|           2|\n",
      "|nm0007181|nm0006762|    2|         2|nm1269122|nm0006762|      1|           0|\n",
      "|nm0007181|nm0006762|    2|         2|nm0583292|nm0006762|      1|           0|\n",
      "|nm0007181|nm0006762|    2|         2|nm0684314|nm0006762|      1|           0|\n",
      "|nm0007181|nm0006762|    2|         2|nm0435877|nm0006762|      1|           0|\n",
      "|nm0007181|nm0006762|    2|         2|nm0002172|nm0006762|      1|           0|\n",
      "|nm0007181|nm0006762|    2|         2|nm0062614|nm0006762|      1|           0|\n",
      "|nm0007181|nm0006762|    2|         2|nm0014180|nm0006762|      1|           0|\n",
      "|nm0007181|nm0006762|    2|         2|nm0802693|nm0006762|      1|           0|\n",
      "|nm0007181|nm0006762|    2|         2|nm0300638|nm0006762|      1|           0|\n",
      "|nm0007181|nm0006762|    2|         2|nm0007131|nm0006762|      1|           0|\n",
      "|nm0007181|nm0006762|    2|         2|nm0576559|nm0006762|      1|           0|\n",
      "|nm0007181|nm0006762|    2|         2|nm1234320|nm0006762|      1|           0|\n",
      "|nm0007181|nm0006762|    2|         2|nm0046985|nm0006762|      1|           0|\n",
      "|nm0007181|nm0006762|    2|         2|nm0894346|nm0006762|      1|           0|\n",
      "|nm0007181|nm0006762|    2|         2|nm0196380|nm0006762|      1|           0|\n",
      "|nm0007181|nm0006762|    2|         2|nm0070867|nm0006762|      1|           0|\n",
      "|nm0007181|nm0006762|    2|         2|nm1021985|nm0006762|      1|           0|\n",
      "|nm0007181|nm0006762|    2|         2|nm0004434|nm0006762|      1|           0|\n",
      "|nm0007181|nm0006762|    2|         2|nm0474859|nm0006762|      1|           0|\n",
      "|nm0007181|nm0006762|    2|         2|nm0001408|nm0006762|      1|           0|\n",
      "|nm0007181|nm0006762|    2|         2|nm0707534|nm0006762|      1|           0|\n",
      "|nm0007181|nm0006762|    2|         2|nm0755420|nm0006762|      1|           0|\n",
      "|nm0007181|nm0006762|    2|         2|nm0623320|nm0006762|      1|           0|\n",
      "|nm0007181|nm0006762|    2|         2|nm0080333|nm0006762|      1|           0|\n",
      "|nm0007181|nm0006762|    2|         2|nm0438029|nm0006762|      2|           0|\n",
      "|nm0007181|nm0006762|    2|         2|nm0795430|nm0006762|      1|           0|\n",
      "|nm0007181|nm0006762|    2|         2|nm4726754|nm0006762|      1|           0|\n",
      "|nm0007181|nm0006762|    2|         2|nm0409791|nm0006762|      1|           0|\n",
      "|nm0007181|nm0006762|    2|         2|nm0611531|nm0006762|      1|           0|\n",
      "|nm0007181|nm0006762|    2|         2|nm0660967|nm0006762|      2|           0|\n",
      "|nm0007181|nm0006762|    2|         2|nm0000180|nm0006762|      1|           0|\n",
      "|nm0007181|nm0007106|    1|         1|nm0080180|nm0007106|      1|           0|\n",
      "|nm0007181|nm0007106|    1|         1|nm0436382|nm0007106|      1|           0|\n",
      "|nm0007181|nm0007106|    1|         1|nm0542624|nm0007106|      1|           0|\n",
      "|nm0007181|nm0007106|    1|         1|nm0219964|nm0007106|      1|           0|\n",
      "|nm0007181|nm0007106|    1|         1|nm1082555|nm0007106|      1|           0|\n",
      "|nm0007181|nm0007106|    1|         1|nm1207750|nm0007106|      1|           0|\n",
      "|nm0007181|nm0007106|    1|         1|nm2742399|nm0007106|      1|           0|\n",
      "|nm0007181|nm0007106|    1|         1|nm0451173|nm0007106|      1|           0|\n",
      "|nm0007181|nm0007106|    1|         1|nm0999502|nm0007106|      1|           0|\n",
      "|nm0007181|nm0007106|    1|         1|nm0576554|nm0007106|      1|           0|\n",
      "|nm0007181|nm0007106|    1|         1|nm0435753|nm0007106|      1|           0|\n",
      "|nm0007181|nm0007106|    1|         1|nm0051091|nm0007106|      1|           0|\n",
      "|nm0007181|nm0007106|    1|         1|nm0385760|nm0007106|      1|           0|\n",
      "|nm0007181|nm0007106|    1|         1|nm0801870|nm0007106|      1|           0|\n",
      "|nm0007181|nm0007106|    1|         1|nm1147556|nm0007106|      1|           0|\n",
      "|nm0007181|nm0007106|    1|         1|nm2590023|nm0007106|      1|           0|\n",
      "|nm0007181|nm0007106|    1|         1|nm0997778|nm0007106|      1|           0|\n",
      "|nm0007181|nm0007106|    1|         1|nm7207144|nm0007106|      1|           0|\n",
      "|nm0007181|nm0007106|    1|         1|nm0063357|nm0007106|      1|           0|\n",
      "|nm0007181|nm0007106|    1|         1|nm0451393|nm0007106|      1|           0|\n",
      "|nm0007181|nm0007106|    1|         1|nm0474837|nm0007106|      1|           0|\n",
      "|nm0007181|nm0007106|    1|         1|nm0070867|nm0007106|      1|           0|\n",
      "|nm0007181|nm0007106|    1|         1|nm1538792|nm0007106|      1|           0|\n",
      "|nm0007181|nm0007106|    1|         1|nm0595934|nm0007106|      1|           0|\n",
      "|nm0007181|nm0007106|    1|         1|nm0220828|nm0007106|      1|           0|\n",
      "|nm0007181|nm0007106|    1|         1|nm0004570|nm0007106|      1|           0|\n",
      "|nm0007181|nm0007106|    1|         1|nm3896655|nm0007106|      1|           0|\n",
      "|nm0007181|nm0007106|    1|         1|nm0080278|nm0007106|      1|           0|\n",
      "|nm0007181|nm0007106|    1|         1|nm0474806|nm0007106|      1|           0|\n",
      "|nm0007181|nm0007106|    1|         1|nm0708001|nm0007106|      1|           0|\n",
      "|nm0007181|nm0007106|    1|         1|nm0612730|nm0007106|      1|           0|\n",
      "|nm0007181|nm0007106|    1|         1|nm2069886|nm0007106|      1|           0|\n",
      "|nm0007181|nm0007106|    1|         1|nm0244335|nm0007106|      1|           0|\n",
      "|nm0007181|nm0007106|    1|         1|nm1021985|nm0007106|      1|           0|\n",
      "|nm0007181|nm0007106|    1|         1|nm1514776|nm0007106|      1|           0|\n",
      "|nm0007181|nm0007106|    1|         1|nm0004630|nm0007106|      1|           0|\n",
      "|nm0007181|nm0007106|    1|         1|nm0223485|nm0007106|      1|           0|\n",
      "|nm0007181|nm0007106|    1|         1|nm3051114|nm0007106|      1|           0|\n",
      "|nm0007181|nm0007106|    1|         1|nm1058463|nm0007106|      1|           0|\n",
      "|nm0007181|nm0007106|    1|         1|nm0422689|nm0007106|      1|           0|\n",
      "|nm0007181|nm0007106|    1|         1|nm0729822|nm0007106|      1|           0|\n",
      "|nm0007181|nm0007106|    1|         1|nm0442479|nm0007106|      1|           0|\n",
      "|nm0007181|nm0007106|    1|         1|nm0151504|nm0007106|      1|           0|\n",
      "|nm0007181|nm0007106|    1|         1|nm0054744|nm0007106|      1|           0|\n",
      "|nm0007181|nm0007106|    1|         1|nm0451326|nm0007106|      1|           0|\n",
      "|nm0007181|nm0007106|    1|         1|nm1457158|nm0007106|      1|           0|\n",
      "|nm0007181|nm0007106|    1|         1|nm0007181|nm0007106|      1|           1|\n",
      "|nm0007181|nm0007106|    1|         1|nm0708913|nm0007106|      1|           0|\n",
      "|nm0007181|nm0007106|    1|         1|nm0695162|nm0007106|      1|           0|\n",
      "|nm0007181|nm0007106|    1|         1|nm0451222|nm0007106|      1|           0|\n",
      "|nm0007181|nm0007106|    1|         1|nm0315912|nm0007106|      1|           0|\n",
      "|nm0007181|nm0007106|    1|         1|nm1178654|nm0007106|      1|           0|\n",
      "|nm0007181|nm0007106|    1|         1|nm0539491|nm0007106|      1|           0|\n",
      "|nm0007181|nm0007106|    1|         1|nm0080333|nm0007106|      1|           0|\n",
      "|nm0007181|nm0007106|    1|         1|nm1636742|nm0007106|      1|           0|\n",
      "|nm0007181|nm0007106|    1|         1|nm0700872|nm0007106|      1|           0|\n",
      "|nm0007181|nm0007106|    1|         1|nm0592583|nm0007106|      1|           0|\n",
      "|nm0007181|nm0007106|    1|         1|nm0474859|nm0007106|      1|           0|\n",
      "|nm0007181|nm0007106|    1|         1|nm0788858|nm0007106|      1|           0|\n",
      "|nm0007181|nm0007106|    1|         1|nm1272846|nm0007106|      1|           0|\n",
      "|nm0007181|nm0007106|    1|         1|nm1923369|nm0007106|      1|           0|\n",
      "|nm0007181|nm0007106|    1|         1|nm0660967|nm0007106|      1|           0|\n",
      "|nm0007181|nm0007106|    1|         1|nm1077277|nm0007106|      1|           0|\n",
      "|nm0007181|nm0007106|    1|         1|nm0201710|nm0007106|      1|           0|\n",
      "|nm0007181|nm0007106|    1|         1|nm0764316|nm0007106|      1|           0|\n",
      "|nm0007181|nm0007106|    1|         1|nm0013288|nm0007106|      1|           0|\n",
      "|nm0007181|nm0007106|    1|         1|nm7344577|nm0007106|      1|           0|\n",
      "|nm0007181|nm0007106|    1|         1|nm5649895|nm0007106|      1|           0|\n",
      "|nm0007181|nm0007106|    1|         1|nm0863120|nm0007106|      1|           0|\n",
      "|nm0007181|nm0007106|    1|         1|nm2388843|nm0007106|      1|           0|\n",
      "|nm0007181|nm0007147|    1|         1|nm0007181|nm0007147|      1|           1|\n",
      "|nm0007181|nm0007147|    1|         1|nm0474839|nm0007147|      1|           0|\n",
      "|nm0007181|nm0007147|    1|         1|nm0611531|nm0007147|      1|           0|\n",
      "|nm0007181|nm0007147|    1|         1|nm0890320|nm0007147|      1|           0|\n",
      "|nm0007181|nm0007147|    1|         1|nm0403826|nm0007147|      1|           0|\n",
      "|nm0007181|nm0007147|    1|         1|nm0154113|nm0007147|      1|           0|\n",
      "|nm0007181|nm0007147|    1|         1|nm0759662|nm0007147|      1|           0|\n",
      "|nm0007181|nm0007147|    1|         1|nm0149850|nm0007147|      1|           0|\n",
      "|nm0007181|nm0007147|    1|         1|nm1188796|nm0007147|      1|           0|\n",
      "|nm0007181|nm0007147|    1|         1|nm0766166|nm0007147|      1|           0|\n",
      "|nm0007181|nm0007147|    1|         1|nm0878674|nm0007147|      1|           0|\n",
      "|nm0007181|nm0007147|    1|         1|nm0149810|nm0007147|      1|           0|\n",
      "|nm0007181|nm0007147|    1|         1|nm0728263|nm0007147|      1|           0|\n",
      "|nm0007181|nm0007181|    2|         2|nm0007134|nm0007181|      1|           0|\n",
      "|nm0007181|nm0007181|    2|         2|nm0007181|nm0007181|      2|           2|\n",
      "|nm0007181|nm0012881|    1|         1|nm0756959|nm0012881|      1|           0|\n",
      "|nm0007181|nm0012881|    1|         1|nm0007181|nm0012881|      1|           1|\n",
      "|nm0007181|nm0012881|    1|         1|nm1209849|nm0012881|      1|           0|\n",
      "|nm0007181|nm0012881|    1|         1|nm0631539|nm0012881|      1|           0|\n",
      "|nm0007181|nm0012881|    1|         1|nm0002172|nm0012881|      1|           0|\n",
      "|nm0007181|nm0012881|    1|         1|nm0712994|nm0012881|      1|           0|\n",
      "|nm0007181|nm0012881|    1|         1|nm0223475|nm0012881|      1|           0|\n",
      "|nm0007181|nm0012881|    1|         1|nm0080324|nm0012881|      1|           0|\n",
      "|nm0007181|nm0012881|    1|         1|nm5113211|nm0012881|      1|           0|\n",
      "|nm0007181|nm0012881|    1|         1|nm0707382|nm0012881|      1|           0|\n",
      "|nm0007181|nm0012881|    1|         1|nm0684314|nm0012881|      1|           0|\n",
      "|nm0007181|nm0012881|    1|         1|nm1819881|nm0012881|      1|           0|\n",
      "|nm0007181|nm0012881|    1|         1|nm2031002|nm0012881|      1|           0|\n",
      "|nm0007181|nm0012881|    1|         1|nm0665374|nm0012881|      1|           0|\n",
      "|nm0007181|nm0012881|    1|         1|nm0363029|nm0012881|      1|           0|\n",
      "|nm0007181|nm0012881|    1|         1|nm0315872|nm0012881|      1|           0|\n",
      "|nm0007181|nm0012881|    1|         1|nm0403967|nm0012881|      1|           0|\n",
      "|nm0007181|nm0012881|    1|         1|nm0004564|nm0012881|      1|           0|\n",
      "|nm0007181|nm0012881|    1|         1|nm2975950|nm0012881|      1|           0|\n",
      "|nm0007181|nm0012881|    1|         1|nm0803350|nm0012881|      1|           0|\n",
      "|nm0007181|nm0012881|    1|         1|nm0740274|nm0012881|      1|           0|\n",
      "|nm0007181|nm0012881|    1|         1|nm0024912|nm0012881|      1|           0|\n",
      "|nm0007181|nm0012881|    1|         1|nm0347899|nm0012881|      1|           0|\n",
      "|nm0007181|nm0012881|    1|         1|nm1378015|nm0012881|      1|           0|\n",
      "|nm0007181|nm0012881|    1|         1|nm0706800|nm0012881|      1|           0|\n",
      "|nm0007181|nm0013159|    1|         1|nm0754818|nm0013159|      1|           0|\n",
      "|nm0007181|nm0013159|    1|         1|nm1546957|nm0013159|      1|           0|\n",
      "|nm0007181|nm0013159|    1|         1|nm0996945|nm0013159|      1|           0|\n",
      "|nm0007181|nm0013159|    1|         1|nm1618188|nm0013159|      1|           0|\n",
      "|nm0007181|nm0013159|    1|         1|nm0220823|nm0013159|      1|           0|\n",
      "|nm0007181|nm0013159|    1|         1|nm0219964|nm0013159|      1|           0|\n",
      "|nm0007181|nm0013159|    1|         1|nm0013158|nm0013159|      1|           0|\n",
      "|nm0007181|nm0013159|    1|         1|nm0220828|nm0013159|      1|           0|\n",
      "|nm0007181|nm0013159|    1|         1|nm0049335|nm0013159|      1|           0|\n",
      "|nm0007181|nm0013159|    1|         1|nm0403826|nm0013159|      1|           0|\n",
      "|nm0007181|nm0013159|    1|         1|nm2577595|nm0013159|      1|           0|\n",
      "|nm0007181|nm0013159|    1|         1|nm0539495|nm0013159|      1|           0|\n",
      "|nm0007181|nm0013159|    1|         1|nm0007131|nm0013159|      1|           0|\n",
      "|nm0007181|nm0013159|    1|         1|nm1779900|nm0013159|      1|           0|\n",
      "|nm0007181|nm0013159|    1|         1|nm0159148|nm0013159|      1|           0|\n",
      "|nm0007181|nm0013159|    1|         1|nm1323642|nm0013159|      1|           0|\n",
      "|nm0007181|nm0013159|    1|         1|nm1119422|nm0013159|      1|           0|\n",
      "|nm0007181|nm0013159|    1|         1|nm2912011|nm0013159|      1|           0|\n",
      "|nm0007181|nm0013159|    1|         1|nm3109648|nm0013159|      1|           0|\n",
      "|nm0007181|nm0013159|    1|         1|nm1334468|nm0013159|      1|           0|\n",
      "|nm0007181|nm0013159|    1|         1|nm0159162|nm0013159|      1|           0|\n",
      "|nm0007181|nm0013159|    1|         1|nm0223522|nm0013159|      1|           0|\n",
      "|nm0007181|nm0013159|    1|         1|nm0080157|nm0013159|      1|           0|\n",
      "|nm0007181|nm0013159|    1|         1|nm0788858|nm0013159|      1|           0|\n",
      "|nm0007181|nm0013159|    1|         1|nm1335378|nm0013159|      1|           0|\n",
      "|nm0007181|nm0013159|    1|         1|nm0788855|nm0013159|      1|           0|\n",
      "|nm0007181|nm0013159|    1|         1|nm3175951|nm0013159|      1|           0|\n",
      "|nm0007181|nm0013159|    1|         1|nm0787441|nm0013159|      1|           0|\n",
      "|nm0007181|nm0013159|    1|         1|nm0631539|nm0013159|      1|           0|\n",
      "|nm0007181|nm0013159|    1|         1|nm0151305|nm0013159|      1|           0|\n",
      "|nm0007181|nm0013159|    1|         1|nm2874958|nm0013159|      1|           0|\n",
      "|nm0007181|nm0013159|    1|         1|nm0222150|nm0013159|      1|           0|\n",
      "|nm0007181|nm0013159|    1|         1|nm1618856|nm0013159|      1|           0|\n",
      "|nm0007181|nm0013159|    1|         1|nm2321771|nm0013159|      1|           0|\n",
      "|nm0007181|nm0013159|    1|         1|nm1456124|nm0013159|      1|           0|\n",
      "|nm0007181|nm0013159|    1|         1|nm1665004|nm0013159|      1|           0|\n",
      "|nm0007181|nm0013159|    1|         1|nm4006459|nm0013159|      1|           0|\n",
      "|nm0007181|nm0013159|    1|         1|nm1433566|nm0013159|      1|           0|\n",
      "|nm0007181|nm0013159|    1|         1|nm6350459|nm0013159|      1|           0|\n",
      "|nm0007181|nm0013159|    1|         1|nm0007147|nm0013159|      1|           0|\n",
      "|nm0007181|nm0013159|    1|         1|nm0025609|nm0013159|      1|           0|\n",
      "|nm0007181|nm0013159|    1|         1|nm0712541|nm0013159|      1|           0|\n",
      "|nm0007181|nm0013159|    1|         1|nm0463316|nm0013159|      1|           0|\n",
      "|nm0007181|nm0013159|    1|         1|nm1062080|nm0013159|      1|           0|\n",
      "|nm0007181|nm0013159|    1|         1|nm0348495|nm0013159|      1|           0|\n",
      "|nm0007181|nm0013159|    1|         1|nm0007181|nm0013159|      1|           1|\n",
      "|nm0007181|nm0015000|    1|         1|nm0451173|nm0015000|      1|           0|\n",
      "|nm0007181|nm0015000|    1|         1|nm0007181|nm0015000|      1|           1|\n",
      "|nm0007181|nm0015000|    1|         1|nm0695153|nm0015000|      1|           0|\n",
      "|nm0007181|nm0015000|    1|         1|nm0346618|nm0015000|      1|           0|\n",
      "|nm0007181|nm0015000|    1|         1|nm0576488|nm0015000|      1|           0|\n",
      "|nm0007181|nm0015000|    1|         1|nm0746937|nm0015000|      1|           0|\n",
      "|nm0007181|nm0015000|    1|         1|nm0080332|nm0015000|      1|           0|\n",
      "|nm0007181|nm0015000|    1|         1|nm0066066|nm0015000|      1|           0|\n",
      "|nm0007181|nm0015000|    1|         1|nm0755997|nm0015000|      1|           0|\n",
      "|nm0007181|nm0015000|    1|         1|nm0025608|nm0015000|      1|           0|\n",
      "|nm0007181|nm0015000|    1|         1|nm0849195|nm0015000|      1|           0|\n",
      "|nm0007181|nm0015000|    1|         1|nm0463319|nm0015000|      1|           0|\n",
      "|nm0007181|nm0015000|    1|         1|nm0348495|nm0015000|      1|           0|\n",
      "|nm0007181|nm0015000|    1|         1|nm0092555|nm0015000|      1|           0|\n",
      "|nm0007181|nm0015000|    1|         1|nm0007131|nm0015000|      1|           0|\n",
      "|nm0007181|nm0015000|    1|         1|nm0348472|nm0015000|      1|           0|\n",
      "|nm0007181|nm0015000|    1|         1|nm0474859|nm0015000|      1|           0|\n",
      "|nm0007181|nm0015000|    1|         1|nm0080315|nm0015000|      1|           0|\n",
      "|nm0007181|nm0015000|    1|         1|nm0385758|nm0015000|      1|           0|\n",
      "|nm0007181|nm0015000|    1|         1|nm0007147|nm0015000|      1|           0|\n",
      "|nm0007181|nm0015000|    1|         1|nm0802693|nm0015000|      1|           0|\n",
      "|nm0007181|nm0015000|    1|         1|nm0333031|nm0015000|      1|           0|\n",
      "|nm0007181|nm0015000|    1|         1|nm0796505|nm0015000|      1|           0|\n",
      "|nm0007181|nm0015000|    1|         1|nm0451222|nm0015000|      1|           0|\n",
      "|nm0007181|nm0015000|    1|         1|nm0159148|nm0015000|      1|           0|\n",
      "|nm0007181|nm0015000|    1|         1|nm0538305|nm0015000|      1|           0|\n",
      "|nm0007181|nm0015000|    1|         1|nm0097899|nm0015000|      1|           0|\n",
      "|nm0007181|nm0015296|    1|         1|nm0007181|nm0015296|      1|           1|\n",
      "|nm0007181|nm0019463|    1|         1|nm0592803|nm0019463|      1|           0|\n",
      "|nm0007181|nm0019463|    1|         1|nm1249945|nm0019463|      1|           0|\n",
      "|nm0007181|nm0019463|    1|         1|nm2243602|nm0019463|      1|           0|\n",
      "|nm0007181|nm0019463|    1|         1|nm0007181|nm0019463|      1|           1|\n",
      "|nm0007181|nm0019463|    1|         1|nm1885534|nm0019463|      1|           0|\n",
      "|nm0007181|nm0019463|    1|         1|nm0070867|nm0019463|      1|           0|\n",
      "|nm0007181|nm0019463|    1|         1|nm0451261|nm0019463|      1|           0|\n",
      "|nm0007181|nm0019463|    1|         1|nm0154113|nm0019463|      1|           0|\n",
      "|nm0007181|nm0019463|    1|         1|nm0612730|nm0019463|      1|           0|\n",
      "|nm0007181|nm0019463|    1|         1|nm0223606|nm0019463|      1|           0|\n",
      "|nm0007181|nm0019463|    1|         1|nm0711745|nm0019463|      1|           0|\n",
      "|nm0007181|nm0019463|    1|         1|nm1398739|nm0019463|      1|           0|\n",
      "|nm0007181|nm0022758|    1|         1|nm0698184|nm0022758|      1|           0|\n",
      "|nm0007181|nm0022758|    1|         1|nm0695162|nm0022758|      1|           0|\n",
      "|nm0007181|nm0022758|    1|         1|nm1082555|nm0022758|      1|           0|\n",
      "|nm0007181|nm0022758|    1|         1|nm0220828|nm0022758|      1|           0|\n",
      "|nm0007181|nm0022758|    1|         1|nm5008241|nm0022758|      1|           0|\n",
      "|nm0007181|nm0022758|    1|         1|nm1656225|nm0022758|      1|           0|\n",
      "|nm0007181|nm0022758|    1|         1|nm0619777|nm0022758|      1|           0|\n",
      "|nm0007181|nm0022758|    1|         1|nm0006249|nm0022758|      1|           0|\n",
      "|nm0007181|nm0022758|    1|         1|nm0403826|nm0022758|      1|           0|\n",
      "|nm0007181|nm0022758|    1|         1|nm0014180|nm0022758|      1|           0|\n",
      "|nm0007181|nm0022758|    1|         1|nm0576494|nm0022758|      1|           0|\n",
      "|nm0007181|nm0022758|    1|         1|nm6576798|nm0022758|      1|           0|\n",
      "|nm0007181|nm0022758|    1|         1|nm0755997|nm0022758|      1|           0|\n",
      "|nm0007181|nm0022758|    1|         1|nm0660967|nm0022758|      1|           0|\n",
      "|nm0007181|nm0022758|    1|         1|nm1028137|nm0022758|      1|           0|\n",
      "|nm0007181|nm0022758|    1|         1|nm0007181|nm0022758|      1|           1|\n",
      "|nm0007181|nm0022758|    1|         1|nm5883328|nm0022758|      1|           0|\n",
      "|nm0007181|nm0022758|    1|         1|nm1269122|nm0022758|      1|           0|\n",
      "|nm0007181|nm0022758|    1|         1|nm1339788|nm0022758|      1|           0|\n",
      "|nm0007181|nm0022758|    1|         1|nm0708913|nm0022758|      1|           0|\n",
      "|nm0007181|nm0022758|    1|         1|nm0300638|nm0022758|      1|           0|\n",
      "|nm0007181|nm0022758|    1|         1|nm2625699|nm0022758|      1|           0|\n",
      "|nm0007181|nm0022758|    1|         1|nm0004363|nm0022758|      1|           0|\n",
      "|nm0007181|nm0022758|    1|         1|nm0592595|nm0022758|      1|           0|\n",
      "+---------+---------+-----+----------+---------+---------+-------+------------+\n",
      "only showing top 1000 rows\n",
      "\n"
     ]
    }
   ],
   "source": [
    "println(\"following  code gives error since condition1 nullable with nullable and condition2 nullable with non nullable gives error in spark sql\")\n",
    "actor_pids.createOrReplaceTempView(\"actor_pids\")\n",
    "spark.sql(\"select * from actor_pids where PID=PID_R and yash_count>=count_R and (PID is not null and PID_R is not null) order by PID\").show(1000)"
   ]
  },
  {
   "cell_type": "code",
   "execution_count": 93,
   "metadata": {},
   "outputs": [
    {
     "name": "stdout",
     "output_type": "stream",
     "text": [
      "+---------+---------+-----+----------+---------+---------+-------+------------+\n",
      "|     DPID|      PID|count|yash_count|   DPID_R|    PID_R|count_R|yash_count_R|\n",
      "+---------+---------+-----+----------+---------+---------+-------+------------+\n",
      "|nm1334468|nm0000821|    1|         0|nm1334468|nm0000821|      1|           0|\n",
      "|nm1334468|nm0000821|    1|         0|nm0315916|nm0000821|      1|           0|\n",
      "|nm1334468|nm0000821|    1|         0|nm1018493|nm0000821|      2|           0|\n",
      "|nm1334468|nm0000821|    1|         0|nm0049416|nm0000821|      1|           0|\n",
      "|nm1334468|nm0000821|    1|         0|nm0014180|nm0000821|      1|           0|\n",
      "|nm1334468|nm0000821|    1|         0|nm3797575|nm0000821|      1|           0|\n",
      "|nm1334468|nm0000821|    1|         0|nm0890060|nm0000821|      7|           0|\n",
      "|nm1334468|nm0000821|    1|         0|nm0000965|nm0000821|      1|           0|\n",
      "|nm1334468|nm0000821|    1|         0|nm0841918|nm0000821|      1|           0|\n",
      "|nm1334468|nm0000821|    1|         0|nm0348495|nm0000821|      1|           0|\n",
      "|nm1334468|nm0000821|    1|         0|nm0474859|nm0000821|      4|           0|\n",
      "|nm1334468|nm0000821|    1|         0|nm1084488|nm0000821|      1|           0|\n",
      "|nm1334468|nm0000821|    1|         0|nm0759662|nm0000821|      2|           0|\n",
      "|nm1334468|nm0000821|    1|         0|nm0220828|nm0000821|      8|           0|\n",
      "|nm1334468|nm0000821|    1|         0|nm0025629|nm0000821|      1|           0|\n",
      "|nm1334468|nm0000821|    1|         0|nm1224879|nm0000821|      2|           0|\n",
      "|nm1334468|nm0000821|    1|         0|nm0004466|nm0000821|      1|           0|\n",
      "|nm1334468|nm0000821|    1|         0|nm0660967|nm0000821|      1|           0|\n",
      "|nm1334468|nm0000821|    1|         0|nm1999473|nm0000821|      1|           0|\n",
      "|nm1334468|nm0000821|    1|         0|nm0422689|nm0000821|      1|           0|\n",
      "|nm1334468|nm0000821|    1|         0|nm1223910|nm0000821|      1|           0|\n",
      "|nm1334468|nm0000821|    1|         0|nm1636742|nm0000821|      1|           0|\n",
      "|nm1334468|nm0000821|    1|         0|nm0576488|nm0000821|      7|           0|\n",
      "|nm1334468|nm0000821|    1|         0|nm0527453|nm0000821|      1|           0|\n",
      "|nm1334468|nm0000821|    1|         0|nm0783995|nm0000821|      1|           0|\n",
      "|nm1334468|nm0000821|    1|         0|nm0409790|nm0000821|      1|           0|\n",
      "|nm1334468|nm0000821|    1|         0|nm0015295|nm0000821|      1|           0|\n",
      "|nm1334468|nm0000821|    1|         0|nm0657505|nm0000821|      1|           0|\n",
      "|nm1334468|nm0000821|    1|         0|nm0410870|nm0000821|      1|           0|\n",
      "|nm1334468|nm0000821|    1|         0|nm0820232|nm0000821|      1|           0|\n",
      "|nm1334468|nm0000821|    1|         0|nm2349060|nm0000821|      1|           0|\n",
      "|nm1334468|nm0000821|    1|         0|nm0707494|nm0000821|      1|           0|\n",
      "|nm1334468|nm0000821|    1|         0|nm0432497|nm0000821|      1|           0|\n",
      "|nm1334468|nm0000821|    1|         0|nm8623146|nm0000821|      1|           0|\n",
      "|nm1334468|nm0000821|    1|         0|nm2936175|nm0000821|      1|           0|\n",
      "|nm1334468|nm0000821|    1|         0|nm0710043|nm0000821|      1|           0|\n",
      "|nm1334468|nm0000821|    1|         0|nm0611531|nm0000821|     11|           0|\n",
      "|nm1334468|nm0000821|    1|         0|nm0006370|nm0000821|      1|           0|\n",
      "|nm1334468|nm0000821|    1|         0|nm0415514|nm0000821|      1|           0|\n",
      "|nm1334468|nm0000821|    1|         0|nm0538306|nm0000821|      1|           0|\n",
      "|nm1334468|nm0000821|    1|         0|nm0004434|nm0000821|      1|           0|\n",
      "|nm1334468|nm0000821|    1|         0|nm0660936|nm0000821|      1|           0|\n",
      "|nm1334468|nm0000821|    1|         0|nm0004072|nm0000821|      1|           0|\n",
      "|nm1334468|nm0000821|    1|         0|nm0802692|nm0000821|      1|           0|\n",
      "|nm1334468|nm0000821|    1|         0|nm1018908|nm0000821|      1|           0|\n",
      "|nm1334468|nm0000821|    1|         0|nm1903006|nm0000821|      1|           0|\n",
      "|nm1334468|nm0000821|    1|         0|nm0788906|nm0000821|      1|           0|\n",
      "|nm1334468|nm0000821|    1|         0|nm0747194|nm0000821|      1|           0|\n",
      "|nm1334468|nm0000821|    1|         0|nm0066918|nm0000821|      2|           0|\n",
      "|nm1334468|nm0000821|    1|         0|nm3051114|nm0000821|      1|           0|\n",
      "|nm1334468|nm0000821|    1|         0|nm0708001|nm0000821|      2|           0|\n",
      "|nm1334468|nm0000821|    1|         0|nm0092555|nm0000821|      2|           0|\n",
      "|nm1334468|nm0000821|    1|         0|nm0006765|nm0000821|      1|           0|\n",
      "|nm1334468|nm0000821|    1|         0|nm0576559|nm0000821|      1|           0|\n",
      "|nm1334468|nm0000821|    1|         0|nm1027719|nm0000821|      1|           0|\n",
      "|nm1334468|nm0000821|    1|         0|nm0080333|nm0000821|      1|           0|\n",
      "|nm1334468|nm0000821|    1|         0|nm4138262|nm0000821|      1|           0|\n",
      "|nm1334468|nm0000821|    1|         0|nm1150959|nm0000821|      2|           0|\n",
      "|nm1334468|nm0000821|    1|         0|nm1249945|nm0000821|      2|           0|\n",
      "|nm1334468|nm0000821|    1|         0|nm0849200|nm0000821|      2|           0|\n",
      "|nm1334468|nm0000821|    1|         0|nm0154113|nm0000821|      4|           0|\n",
      "|nm1334468|nm0000821|    1|         0|nm0244892|nm0000821|      2|           0|\n",
      "|nm1334468|nm0000821|    1|         0|nm0201713|nm0000821|      1|           0|\n",
      "|nm1334468|nm0000821|    1|         0|nm4318159|nm0000821|      1|           0|\n",
      "|nm1334468|nm0000821|    1|         0|nm0002172|nm0000821|      3|           0|\n",
      "|nm1334468|nm0000821|    1|         0|nm0080180|nm0000821|      1|           0|\n",
      "|nm1334468|nm0000821|    1|         0|nm1587254|nm0000821|      1|           0|\n",
      "|nm1334468|nm0000821|    1|         0|nm0788858|nm0000821|      1|           0|\n",
      "|nm1334468|nm0000821|    1|         0|nm6165215|nm0000821|      1|           0|\n",
      "|nm1334468|nm0000821|    1|         0|nm0576454|nm0000821|      1|           0|\n",
      "|nm1334468|nm0000821|    1|         0|nm2489001|nm0000821|      1|           0|\n",
      "|nm1334468|nm0000821|    1|         0|nm0619777|nm0000821|      1|           0|\n",
      "|nm1334468|nm0000821|    1|         0|nm0611521|nm0000821|      1|           0|\n",
      "|nm1334468|nm0000821|    1|         0|nm0149850|nm0000821|      1|           0|\n",
      "|nm1334468|nm0000821|    1|         0|nm1200832|nm0000821|      1|           0|\n",
      "|nm1334468|nm0000821|    1|         0|nm8033571|nm0000821|      1|           0|\n",
      "|nm1334468|nm0000821|    1|         0|nm0631539|nm0000821|      1|           0|\n",
      "|nm1334468|nm0000821|    1|         0|nm0159162|nm0000821|      3|           0|\n",
      "|nm1334468|nm0000821|    1|         0|nm0451846|nm0000821|      1|           0|\n",
      "|nm1334468|nm0000821|    1|         0|nm0006249|nm0000821|      1|           0|\n",
      "|nm1334468|nm0000821|    1|         0|nm0080220|nm0000821|      1|           0|\n",
      "|nm1334468|nm0000821|    1|         0|nm1021353|nm0000821|      1|           0|\n",
      "|nm1334468|nm0000821|    1|         0|nm0782766|nm0000821|      1|           0|\n",
      "|nm1334468|nm0000821|    1|         0|nm0007181|nm0000821|      6|           6|\n",
      "|nm1334468|nm0000821|    1|         0|nm0851253|nm0000821|      2|           0|\n",
      "|nm1334468|nm0000821|    1|         0|nm0004363|nm0000821|      1|           0|\n",
      "|nm1334468|nm0000821|    1|         0|nm2287772|nm0000821|      1|           0|\n",
      "|nm1334468|nm0000821|    1|         0|nm0007134|nm0000821|      1|           0|\n",
      "|nm1334468|nm0000821|    1|         0|nm0894340|nm0000821|      1|           0|\n",
      "|nm1334468|nm0000821|    1|         0|nm0422552|nm0000821|      2|           0|\n",
      "|nm1334468|nm0000821|    1|         0|nm0764316|nm0000821|      3|           0|\n",
      "|nm1334468|nm0000821|    1|         0|nm0482232|nm0000821|      3|           0|\n",
      "|nm1334468|nm0000821|    1|         0|nm0244876|nm0000821|      1|           0|\n",
      "|nm1334468|nm0000821|    1|         0|nm0802693|nm0000821|      4|           0|\n",
      "|nm1334468|nm0000821|    1|         0|nm0025627|nm0000821|      4|           0|\n",
      "|nm1334468|nm0000821|    1|         0|nm0451326|nm0000821|      1|           0|\n",
      "|nm1334468|nm0000821|    1|         0|nm0004570|nm0000821|      1|           0|\n",
      "|nm1334468|nm0000821|    1|         0|nm1315895|nm0000821|      1|           0|\n",
      "|nm1334468|nm0000821|    1|         0|nm0346618|nm0000821|      2|           0|\n",
      "|nm1334468|nm0000821|    1|         0|nm1516005|nm0000821|      1|           0|\n",
      "+---------+---------+-----+----------+---------+---------+-------+------------+\n",
      "only showing top 100 rows\n",
      "\n"
     ]
    }
   ],
   "source": [
    "spark.sql(\"select * from actor_pids where PID='nm0000821'\").sort(\"PID\").show(100)"
   ]
  },
  {
   "cell_type": "code",
   "execution_count": 82,
   "metadata": {},
   "outputs": [
    {
     "data": {
      "text/plain": [
       "lastException = null\n"
      ]
     },
     "metadata": {},
     "output_type": "display_data"
    },
    {
     "data": {
      "text/plain": [
       "Name: java.util.NoSuchElementException\n",
       "Message: None.get\n",
       "StackTrace:   at scala.None$.get(Option.scala:347)\n",
       "  at scala.None$.get(Option.scala:345)\n",
       "  at org.apache.spark.sql.execution.exchange.EnsureRequirements$$anonfun$reorder$1.apply(EnsureRequirements.scala:238)\n",
       "  at org.apache.spark.sql.execution.exchange.EnsureRequirements$$anonfun$reorder$1.apply(EnsureRequirements.scala:233)\n",
       "  at scala.collection.mutable.ResizableArray$class.foreach(ResizableArray.scala:59)\n",
       "  at scala.collection.mutable.ArrayBuffer.foreach(ArrayBuffer.scala:48)\n",
       "  at org.apache.spark.sql.execution.exchange.EnsureRequirements.reorder(EnsureRequirements.scala:233)\n",
       "  at org.apache.spark.sql.execution.exchange.EnsureRequirements.reorderJoinKeys(EnsureRequirements.scala:256)\n",
       "  at org.apache.spark.sql.execution.exchange.EnsureRequirements.org$apache$spark$sql$execution$exchange$EnsureRequirements$$reorderJoinPredicates(EnsureRequirements.scala:289)\n",
       "  at org.apache.spark.sql.execution.exchange.EnsureRequirements$$anonfun$apply$1.applyOrElse(EnsureRequirements.scala:304)\n",
       "  at org.apache.spark.sql.execution.exchange.EnsureRequirements$$anonfun$apply$1.applyOrElse(EnsureRequirements.scala:296)\n",
       "  at org.apache.spark.sql.catalyst.trees.TreeNode$$anonfun$transformUp$2.apply(TreeNode.scala:282)\n",
       "  at org.apache.spark.sql.catalyst.trees.TreeNode$$anonfun$transformUp$2.apply(TreeNode.scala:282)\n",
       "  at org.apache.spark.sql.catalyst.trees.CurrentOrigin$.withOrigin(TreeNode.scala:70)\n",
       "  at org.apache.spark.sql.catalyst.trees.TreeNode.transformUp(TreeNode.scala:281)\n",
       "  at org.apache.spark.sql.catalyst.trees.TreeNode$$anonfun$3.apply(TreeNode.scala:275)\n",
       "  at org.apache.spark.sql.catalyst.trees.TreeNode$$anonfun$3.apply(TreeNode.scala:275)\n",
       "  at org.apache.spark.sql.catalyst.trees.TreeNode$$anonfun$4.apply(TreeNode.scala:326)\n",
       "  at org.apache.spark.sql.catalyst.trees.TreeNode.mapProductIterator(TreeNode.scala:187)\n",
       "  at org.apache.spark.sql.catalyst.trees.TreeNode.mapChildren(TreeNode.scala:324)\n",
       "  at org.apache.spark.sql.catalyst.trees.TreeNode.transformUp(TreeNode.scala:275)\n",
       "  at org.apache.spark.sql.execution.exchange.EnsureRequirements.apply(EnsureRequirements.scala:296)\n",
       "  at org.apache.spark.sql.execution.exchange.EnsureRequirements.apply(EnsureRequirements.scala:38)\n",
       "  at org.apache.spark.sql.execution.QueryExecution$$anonfun$prepareForExecution$1.apply(QueryExecution.scala:87)\n",
       "  at org.apache.spark.sql.execution.QueryExecution$$anonfun$prepareForExecution$1.apply(QueryExecution.scala:87)\n",
       "  at scala.collection.LinearSeqOptimized$class.foldLeft(LinearSeqOptimized.scala:124)\n",
       "  at scala.collection.immutable.List.foldLeft(List.scala:84)\n",
       "  at org.apache.spark.sql.execution.QueryExecution.prepareForExecution(QueryExecution.scala:87)\n",
       "  at org.apache.spark.sql.execution.QueryExecution.executedPlan$lzycompute(QueryExecution.scala:77)\n",
       "  at org.apache.spark.sql.execution.QueryExecution.executedPlan(QueryExecution.scala:77)\n",
       "  at org.apache.spark.sql.Dataset.withAction(Dataset.scala:3360)\n",
       "  at org.apache.spark.sql.Dataset.head(Dataset.scala:2545)\n",
       "  at org.apache.spark.sql.Dataset.take(Dataset.scala:2759)\n",
       "  at org.apache.spark.sql.Dataset.getRows(Dataset.scala:255)\n",
       "  at org.apache.spark.sql.Dataset.showString(Dataset.scala:292)\n",
       "  at org.apache.spark.sql.Dataset.show(Dataset.scala:746)\n",
       "  at org.apache.spark.sql.Dataset.show(Dataset.scala:705)\n",
       "  at org.apache.spark.sql.Dataset.show(Dataset.scala:714)"
      ]
     },
     "execution_count": 82,
     "metadata": {},
     "output_type": "execute_result"
    }
   ],
   "source": [
    "val yash_pids=actor_pids.filter($\"PID\"===$\"PID_R\" && $\"yash_count\">=$\"count_R\")\n",
    "//.select(\"PID\").dropDuplicates(\"PID\")\n",
    "//.sort(\"PID\")\n",
    "yash_pids\n",
    ".sort(\"PID\")\n",
    ".show()\n",
    "//.count()"
   ]
  },
  {
   "cell_type": "code",
   "execution_count": 135,
   "metadata": {},
   "outputs": [
    {
     "name": "stdout",
     "output_type": "stream",
     "text": [
      "+---------+-----+-----+----------------+------+\n",
      "|      PID|count|index|            Name|Gender|\n",
      "+---------+-----+-----+----------------+------+\n",
      "|nm0000821|    6| 1012|Amitabh Bachchan|  Male|\n",
      "|nm0004109|    2| 7918|  Gulshan Grover|  Male|\n",
      "|nm0004434|    7|15980|   Shashi Kapoor|  Male|\n",
      "|nm0004435|    3| 3456|   Rajesh Khanna|  Male|\n",
      "|nm0004437|    2| 4377|         Sridevi|Female|\n",
      "|nm0004487|    2| 2274|     Juhi Chawla|Female|\n",
      "|nm0004564|    4| 6628|     Hema Malini|Female|\n",
      "|nm0004570|    2| 6400|      Sunil Dutt|  Male|\n",
      "|nm0006348|    2|11760|  Rajendra Kumar|  Male|\n",
      "|nm0006369|    2|14541|     Ashok Kumar|  Male|\n",
      "+---------+-----+-----+----------------+------+\n",
      "only showing top 10 rows\n",
      "\n"
     ]
    },
    {
     "data": {
      "text/plain": [
       "yash_pids2 = [PID: string, count: bigint ... 3 more fields]\n"
      ]
     },
     "metadata": {},
     "output_type": "display_data"
    },
    {
     "data": {
      "text/plain": [
       "[PID: string, count: bigint ... 3 more fields]"
      ]
     },
     "execution_count": 135,
     "metadata": {},
     "output_type": "execute_result"
    }
   ],
   "source": [
    "val yash_pids2=yash_pids.select(\"PID\",\"count\").dropDuplicates(\"PID\").join(persons,\"PID\").dropDuplicates()\n",
    "yash_pids2.sort(\"PID\").show(10)"
   ]
  },
  {
   "cell_type": "code",
   "execution_count": 136,
   "metadata": {},
   "outputs": [
    {
     "name": "stdout",
     "output_type": "stream",
     "text": [
      "+---------+---------+-----+----------+\n",
      "|     DPID|      PID|count|yash_count|\n",
      "+---------+---------+-----+----------+\n",
      "|nm1334468|nm0000821|    1|        -1|\n",
      "|nm0315916|nm0000821|    1|        -1|\n",
      "|nm1018493|nm0000821|    2|        -1|\n",
      "|nm0049416|nm0000821|    1|        -1|\n",
      "|nm0014180|nm0000821|    1|        -1|\n",
      "|nm3797575|nm0000821|    1|        -1|\n",
      "|nm0890060|nm0000821|    7|        -1|\n",
      "|nm0841918|nm0000821|    1|        -1|\n",
      "|nm0000965|nm0000821|    1|        -1|\n",
      "|nm0474859|nm0000821|    4|        -1|\n",
      "|nm0348495|nm0000821|    1|        -1|\n",
      "|nm0759662|nm0000821|    2|        -1|\n",
      "|nm1084488|nm0000821|    1|        -1|\n",
      "|nm0220828|nm0000821|    8|        -1|\n",
      "|nm0025629|nm0000821|    1|        -1|\n",
      "|nm1224879|nm0000821|    2|        -1|\n",
      "|nm0004466|nm0000821|    1|        -1|\n",
      "|nm0660967|nm0000821|    1|        -1|\n",
      "|nm1999473|nm0000821|    1|        -1|\n",
      "|nm0422689|nm0000821|    1|        -1|\n",
      "+---------+---------+-----+----------+\n",
      "only showing top 20 rows\n",
      "\n"
     ]
    }
   ],
   "source": [
    "dir_pid_count.where($\"PID\"===\"nm0000821\").sort(\"PID\").show()"
   ]
  },
  {
   "cell_type": "code",
   "execution_count": 44,
   "metadata": {},
   "outputs": [
    {
     "data": {
      "text/plain": [
       "yash_pids_less = [DPID: string, PID: string ... 6 more fields]\n"
      ]
     },
     "metadata": {},
     "output_type": "display_data"
    },
    {
     "data": {
      "text/plain": [
       "1145024"
      ]
     },
     "execution_count": 44,
     "metadata": {},
     "output_type": "execute_result"
    }
   ],
   "source": [
    "val yash_pids_less=actor_pids.filter($\"PID\"===$\"PID_R\").filter($\"yash_count\"<$\"count_R\")\n",
    "//.select(\"PID\").dropDuplicates(\"PID\")\n",
    "//.sort(\"PID\")\n",
    "yash_pids_less\n",
    ".sort(\"PID\")\n",
    "//.show()\n",
    ".count()\n",
    "//total=1151662=(1145024+2408)"
   ]
  },
  {
   "cell_type": "code",
   "execution_count": 45,
   "metadata": {},
   "outputs": [
    {
     "data": {
      "text/plain": [
       "12720175"
      ]
     },
     "execution_count": 45,
     "metadata": {},
     "output_type": "execute_result"
    }
   ],
   "source": [
    "yash_pids.join(yash_pids_less,\"PID\").count()"
   ]
  },
  {
   "cell_type": "code",
   "execution_count": 128,
   "metadata": {},
   "outputs": [
    {
     "name": "stdout",
     "output_type": "stream",
     "text": [
      "below code giving error, if apply filter one by one working, together not working\n"
     ]
    }
   ],
   "source": [
    "println(\"below code giving error, if apply filter one by one working, together not working\")\n",
    "//below code giving error, if apply filter one by one working, together not working\n",
    "//actor_pids.filter($\"PID\"===$\"PID_R\" && $\"yash_count\">=$\"count_R\")\n",
    "//.select(\"PID\").dropDuplicates(\"PID\")\n",
    "//.sort(\"PID\")\n",
    "//.show()\n",
    "//.count()"
   ]
  },
  {
   "cell_type": "code",
   "execution_count": 49,
   "metadata": {},
   "outputs": [
    {
     "data": {
      "text/plain": [
       "dir_pid_count_yash = [DPID: string, PID: string ... 2 more fields]\n"
      ]
     },
     "metadata": {},
     "output_type": "display_data"
    },
    {
     "data": {
      "text/plain": [
       "[DPID: string, PID: string ... 2 more fields]"
      ]
     },
     "execution_count": 49,
     "metadata": {},
     "output_type": "execute_result"
    }
   ],
   "source": [
    "val dir_pid_count_yash=dir_pid_count\n",
    ".filter(\"yash_count>=count and yash_count!=0\")\n",
    ".sort(desc(\"yash_count\"))"
   ]
  },
  {
   "cell_type": "code",
   "execution_count": 50,
   "metadata": {},
   "outputs": [
    {
     "data": {
      "text/plain": [
       "430"
      ]
     },
     "execution_count": 50,
     "metadata": {},
     "output_type": "execute_result"
    }
   ],
   "source": [
    "dir_pid_count_yash.count()"
   ]
  },
  {
   "cell_type": "code",
   "execution_count": 51,
   "metadata": {},
   "outputs": [
    {
     "name": "stdout",
     "output_type": "stream",
     "text": [
      "+---------+---------+-----+----------+\n",
      "|     DPID|      PID|count|yash_count|\n",
      "+---------+---------+-----+----------+\n",
      "|nm0007181|nm0707271|   11|        11|\n",
      "|nm0007181|nm0471443|   10|        10|\n",
      "|nm0007181|nm0407002|    9|         9|\n",
      "|nm0007181|nm0025630|    8|         8|\n",
      "|nm0007181|nm0534501|    8|         8|\n",
      "|nm0007181|nm0451600|    7|         7|\n",
      "|nm0007181|nm0004434|    7|         7|\n",
      "|nm0007181|nm0000821|    6|         6|\n",
      "|nm0007181|nm0716851|    5|         5|\n",
      "|nm0007181|nm0347901|    5|         5|\n",
      "|nm0007181|nm0802183|    4|         4|\n",
      "|nm0007181|nm0894340|    4|         4|\n",
      "|nm0007181|nm0433945|    4|         4|\n",
      "|nm0007181|nm0451321|    4|         4|\n",
      "|nm0007181|nm0755087|    4|         4|\n",
      "|nm0007181|nm0004564|    4|         4|\n",
      "|nm0007181|nm0438501|    4|         4|\n",
      "|nm0007181|nm0438463|    3|         3|\n",
      "|nm0007181|nm9036653|    3|         3|\n",
      "|nm0007181|nm0159165|    3|         3|\n",
      "|nm0007181|nm7760187|    3|         3|\n",
      "|nm0007181|nm0438465|    3|         3|\n",
      "|nm0007181|nm0595923|    3|         3|\n",
      "|nm0007181|nm0756378|    3|         3|\n",
      "|nm0007181|nm0474876|    3|         3|\n",
      "|nm0007181|nm0159159|    3|         3|\n",
      "|nm0007181|nm0664109|    3|         3|\n",
      "|nm0007181|nm0158332|    3|         3|\n",
      "|nm0007181|nm0004435|    3|         3|\n",
      "|nm0007181|nm0359845|    3|         3|\n",
      "|nm0007181|nm0747131|    2|         2|\n",
      "|nm0007181|nm0796496|    2|         2|\n",
      "|nm0007181|nm1127826|    2|         2|\n",
      "|nm0007181|nm0438493|    2|         2|\n",
      "|nm0007181|nm0006369|    2|         2|\n",
      "|nm0007181|nm0839590|    2|         2|\n",
      "|nm0007181|nm0044916|    2|         2|\n",
      "|nm0007181|nm1588131|    2|         2|\n",
      "|nm0007181|nm0557645|    2|         2|\n",
      "|nm0007181|nm0004487|    2|         2|\n",
      "+---------+---------+-----+----------+\n",
      "only showing top 40 rows\n",
      "\n"
     ]
    }
   ],
   "source": [
    "dir_pid_count_yash.show(40)"
   ]
  },
  {
   "cell_type": "code",
   "execution_count": 52,
   "metadata": {},
   "outputs": [
    {
     "data": {
      "text/plain": [
       "Name: org.apache.spark.sql.AnalysisException\n",
       "Message: Unsupported component type interface org.apache.spark.sql.Row in arrays;\n",
       "StackTrace:   at org.apache.spark.sql.catalyst.expressions.Literal$.componentTypeToDataType(literals.scala:117)\n",
       "  at org.apache.spark.sql.catalyst.expressions.Literal$.apply(literals.scala:70)\n",
       "  at org.apache.spark.sql.catalyst.expressions.Literal$$anonfun$create$2.apply(literals.scala:164)\n",
       "  at org.apache.spark.sql.catalyst.expressions.Literal$$anonfun$create$2.apply(literals.scala:164)\n",
       "  at scala.util.Try.getOrElse(Try.scala:79)\n",
       "  at org.apache.spark.sql.catalyst.expressions.Literal$.create(literals.scala:163)\n",
       "  at org.apache.spark.sql.functions$.typedLit(functions.scala:127)\n",
       "  at org.apache.spark.sql.functions$.lit(functions.scala:110)\n",
       "  at org.apache.spark.sql.Column$$anonfun$isin$1.apply(Column.scala:796)\n",
       "  at org.apache.spark.sql.Column$$anonfun$isin$1.apply(Column.scala:796)\n",
       "  at scala.collection.TraversableLike$$anonfun$map$1.apply(TraversableLike.scala:234)\n",
       "  at scala.collection.TraversableLike$$anonfun$map$1.apply(TraversableLike.scala:234)\n",
       "  at scala.collection.IndexedSeqOptimized$class.foreach(IndexedSeqOptimized.scala:33)\n",
       "  at scala.collection.mutable.WrappedArray.foreach(WrappedArray.scala:35)\n",
       "  at scala.collection.TraversableLike$class.map(TraversableLike.scala:234)\n",
       "  at scala.collection.AbstractTraversable.map(Traversable.scala:104)\n",
       "  at org.apache.spark.sql.Column.isin(Column.scala:796)"
      ]
     },
     "execution_count": 52,
     "metadata": {},
     "output_type": "execute_result"
    }
   ],
   "source": [
    "dir_pid_count.filter(!col(\"PID\").isin(dir_pid_count.filter(\"count>yash_count\").select(\"PID\").take(10)))\n",
    ".sort(desc(\"count\")).show()"
   ]
  },
  {
   "cell_type": "code",
   "execution_count": 53,
   "metadata": {},
   "outputs": [
    {
     "name": "stdout",
     "output_type": "stream",
     "text": [
      "+---------+---------+-----+----------+\n",
      "|     DPID|      PID|count|yash_count|\n",
      "+---------+---------+-----+----------+\n",
      "|nm0220828|nm0707271|    6|         0|\n",
      "|nm0159148|nm0707271|    5|         0|\n",
      "|nm0149850|nm0707271|    5|         0|\n",
      "|nm0159148|nm0471443|    4|         0|\n",
      "|nm0025629|nm0707271|    4|         0|\n",
      "|nm0451846|nm0707271|    4|         0|\n",
      "|nm0159162|nm0707271|    3|         0|\n",
      "|nm0109279|nm0707271|    3|         0|\n",
      "|nm0712541|nm0707271|    3|         0|\n",
      "|nm0080332|nm0471443|    2|         0|\n",
      "|nm0759662|nm0471443|    2|         0|\n",
      "|nm0007131|nm0707271|    2|         0|\n",
      "|nm0346618|nm0707271|    2|         0|\n",
      "|nm0024039|nm0707271|    2|         0|\n",
      "|nm0576454|nm0707271|    2|         0|\n",
      "|nm0849200|nm0707271|    2|         0|\n",
      "|nm0025608|nm0707271|    2|         0|\n",
      "|nm0755997|nm0471443|    2|         0|\n",
      "|nm0066066|nm0707271|    2|         0|\n",
      "|nm0463319|nm0707271|    2|         0|\n",
      "+---------+---------+-----+----------+\n",
      "only showing top 20 rows\n",
      "\n"
     ]
    },
    {
     "data": {
      "text/plain": [
       "lastException: Throwable = null\n"
      ]
     },
     "metadata": {},
     "output_type": "display_data"
    }
   ],
   "source": [
    "dir_pid_count.filter(\"PID in ('nm0707271','nm0471443') and count>yash_count\").sort(desc(\"count\")).show()"
   ]
  },
  {
   "cell_type": "code",
   "execution_count": 54,
   "metadata": {},
   "outputs": [
    {
     "name": "stdout",
     "output_type": "stream",
     "text": [
      "+---------+---------+-----+----------+\n",
      "|     DPID|      PID|count|yash_count|\n",
      "+---------+---------+-----+----------+\n",
      "|nm0223522|nm0456094|   23|         0|\n",
      "|nm0223522|nm0007106|   20|         0|\n",
      "|nm0223522|nm0434318|   20|         0|\n",
      "|nm0080315|nm0318622|   19|         0|\n",
      "|nm0223522|nm0332871|   17|         0|\n",
      "|nm0698184|nm0712546|   16|         0|\n",
      "|nm0698184|nm2147526|   15|         0|\n",
      "|nm0223522|nm0442479|   14|         0|\n",
      "|nm0223522|nm0451600|   14|         0|\n",
      "|nm0080315|nm0451272|   14|         0|\n",
      "|nm0007147|nm0007147|   13|         0|\n",
      "|nm0764316|nm0451864|   13|         0|\n",
      "|nm0223522|nm0025630|   13|         0|\n",
      "|nm0223522|nm0794510|   12|         0|\n",
      "|nm0759662|nm0534501|   12|         0|\n",
      "|nm0698184|nm1056425|   12|         0|\n",
      "|nm0122216|nm0505323|   12|         0|\n",
      "|nm0080315|nm0080324|   12|         0|\n",
      "|nm0223522|nm2136994|   11|         0|\n",
      "|nm0223522|nm0848308|   11|         0|\n",
      "+---------+---------+-----+----------+\n",
      "only showing top 20 rows\n",
      "\n"
     ]
    }
   ],
   "source": [
    "dir_pid_count.filter(\"PID!='nm0007181' and count>yash_count\").sort(desc(\"count\")).show()"
   ]
  },
  {
   "cell_type": "code",
   "execution_count": 55,
   "metadata": {},
   "outputs": [
    {
     "data": {
      "text/plain": [
       "Name: Syntax Error.\n",
       "Message: \n",
       "StackTrace: "
      ]
     },
     "execution_count": 55,
     "metadata": {},
     "output_type": "execute_result"
    }
   ],
   "source": [
    "val actor_with_director="
   ]
  },
  {
   "cell_type": "code",
   "execution_count": 56,
   "metadata": {},
   "outputs": [
    {
     "name": "stdout",
     "output_type": "stream",
     "text": [
      "+-----+---------+------+----+------+---------+\n",
      "|index|      MID| title|year|rating|num_votes|\n",
      "+-----+---------+------+----+------+---------+\n",
      "| 3008|tt0036077|Kismet|1943|   7.5|       71|\n",
      "+-----+---------+------+----+------+---------+\n",
      "only showing top 1 row\n",
      "\n"
     ]
    }
   ],
   "source": [
    "movies.show(1)"
   ]
  },
  {
   "cell_type": "code",
   "execution_count": 57,
   "metadata": {},
   "outputs": [
    {
     "name": "stdout",
     "output_type": "stream",
     "text": [
      "+---------+\n",
      "|      PID|\n",
      "+---------+\n",
      "|nm0695129|\n",
      "|nm0576454|\n",
      "|nm0747083|\n",
      "|nm0220847|\n",
      "|nm0685693|\n",
      "|nm1593292|\n",
      "|nm0151537|\n",
      "|nm0623180|\n",
      "|nm1117384|\n",
      "|nm0610799|\n",
      "|nm0006369|\n",
      "|nm0788396|\n",
      "|nm0008932|\n",
      "|nm0474926|\n",
      "+---------+\n",
      "\n"
     ]
    },
    {
     "data": {
      "text/plain": [
       "names: Unit = ()\n"
      ]
     },
     "metadata": {},
     "output_type": "display_data"
    }
   ],
   "source": [
    "val names=m_cast.filter(\"MID='tt0036077'\").select(\"PID\").show()//.join(persons,\"\")"
   ]
  },
  {
   "cell_type": "code",
   "execution_count": 58,
   "metadata": {},
   "outputs": [
    {
     "name": "stdout",
     "output_type": "stream",
     "text": [
      "+---------+\n",
      "|      PID|\n",
      "+---------+\n",
      "|nm0007181|\n",
      "+---------+\n",
      "\n",
      "()\n"
     ]
    },
    {
     "data": {
      "text/plain": [
       "yc_pid: Unit = ()\n"
      ]
     },
     "metadata": {},
     "output_type": "display_data"
    }
   ],
   "source": [
    "val yc_pid=persons.filter(\"Name is not null\")\n",
    ".filter(p=>p(2).toString.toLowerCase.equals(\"yash chopra\")).select(\"PID\").show()\n",
    "println(yc_pid)"
   ]
  },
  {
   "cell_type": "code",
   "execution_count": 59,
   "metadata": {},
   "outputs": [
    {
     "name": "stdout",
     "output_type": "stream",
     "text": [
      "+---------+\n",
      "|      MID|\n",
      "+---------+\n",
      "|tt0107777|\n",
      "|tt0083081|\n",
      "|tt0096390|\n",
      "|tt0085912|\n",
      "|tt0064506|\n",
      "|tt0109555|\n",
      "|tt0059893|\n",
      "|tt0097045|\n",
      "|tt0158585|\n",
      "|tt0102258|\n",
      "|tt2176013|\n",
      "|tt0052736|\n",
      "|tt0118983|\n",
      "|tt0158690|\n",
      "|tt0158449|\n",
      "|tt0072860|\n",
      "|tt0074730|\n",
      "|tt0150251|\n",
      "|tt0420332|\n",
      "|tt0078418|\n",
      "|tt0079386|\n",
      "+---------+\n",
      "\n"
     ]
    },
    {
     "data": {
      "text/plain": [
       "yc_pid_mids: Unit = ()\n"
      ]
     },
     "metadata": {},
     "output_type": "display_data"
    }
   ],
   "source": [
    "val yc_pid_mids=m_directors.filter(\"PID='nm0007181'\").select(\"MID\").dropDuplicates(\"MID\").show(10000000)"
   ]
  },
  {
   "cell_type": "code",
   "execution_count": 60,
   "metadata": {},
   "outputs": [
    {
     "name": "stdout",
     "output_type": "stream",
     "text": [
      "+-----+---------+------+------+\n",
      "|index|      PID|  Name|Gender|\n",
      "+-----+---------+------+------+\n",
      "|15793|nm0022343|Alpana|Female|\n",
      "+-----+---------+------+------+\n",
      "only showing top 1 row\n",
      "\n"
     ]
    }
   ],
   "source": [
    "persons.show(1)"
   ]
  },
  {
   "cell_type": "code",
   "execution_count": 61,
   "metadata": {},
   "outputs": [
    {
     "name": "stdout",
     "output_type": "stream",
     "text": [
      "+-----+---------+------------------+------+\n",
      "|index|      PID|              Name|Gender|\n",
      "+-----+---------+------------------+------+\n",
      "|15793|nm0022343|            Alpana|Female|\n",
      "| 3121|nm0028416|     Martin Andris|  Male|\n",
      "|25039|nm0045140|     Sikharani Bag|Female|\n",
      "|26817|nm0066065|     Mohinder Bedi|  Male|\n",
      "|37686|nm0080157|     Devika Bhagat|  null|\n",
      "| 2729|nm0080335|Paul Bhattacharjee|  Male|\n",
      "| 6649|nm0091035|        Kim Bodnia|  Male|\n",
      "|14277|nm0149234|           Chandni|Female|\n",
      "|15514|nm0151539|    Chandrashekhar|  Male|\n",
      "|27622|nm0157262| Kallu Chidambaram|  Male|\n",
      "| 1080|nm0161419|  Candus Churchill|Female|\n",
      "|30400|nm0201911|        Saurav Das|  Male|\n",
      "|22843|nm0432340|            Julián|  Male|\n",
      "|23816|nm0438497|      Rajiv Kapoor|  Male|\n",
      "| 4983|nm0443365|       Nathan Kaye|  Male|\n",
      "| 7983|nm0525472|       Man-Wai Luk|  Male|\n",
      "|22865|nm0538303|   Sreela Majumdar|Female|\n",
      "|30195|nm0540027|           Mallika|Female|\n",
      "|21092|nm0576492|      Rakesh Mehra|  null|\n",
      "|35083|nm0631539|   Govind Nihalani|  null|\n",
      "+-----+---------+------------------+------+\n",
      "only showing top 20 rows\n",
      "\n"
     ]
    },
    {
     "data": {
      "text/plain": [
       "yc: Unit = ()\n"
      ]
     },
     "metadata": {},
     "output_type": "display_data"
    }
   ],
   "source": [
    "val yc=persons.filter(\"Name is not null\").show()"
   ]
  }
 ],
 "metadata": {
  "kernelspec": {
   "display_name": "Apache Toree - Scala",
   "language": "scala",
   "name": "apache_toree_scala"
  },
  "language_info": {
   "codemirror_mode": "text/x-scala",
   "file_extension": ".scala",
   "mimetype": "text/x-scala",
   "name": "scala",
   "pygments_lexer": "scala",
   "version": "2.11.12"
  }
 },
 "nbformat": 4,
 "nbformat_minor": 2
}
