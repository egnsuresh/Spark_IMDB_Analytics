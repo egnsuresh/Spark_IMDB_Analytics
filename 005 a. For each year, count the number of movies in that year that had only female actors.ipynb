{
 "cells": [
  {
   "cell_type": "markdown",
   "metadata": {},
   "source": [
    "# 005 a. For each year, count the number of movies in that year that had only female actors."
   ]
  },
  {
   "cell_type": "code",
   "execution_count": 1,
   "metadata": {},
   "outputs": [
    {
     "data": {
      "text/plain": [
       "org.apache.spark.sql.SparkSession@4bdc32ee"
      ]
     },
     "execution_count": 1,
     "metadata": {},
     "output_type": "execute_result"
    }
   ],
   "source": [
    "spark"
   ]
  },
  {
   "cell_type": "code",
   "execution_count": 3,
   "metadata": {},
   "outputs": [],
   "source": [
    "import org.apache.spark.sql.functions._"
   ]
  },
  {
   "cell_type": "code",
   "execution_count": 4,
   "metadata": {},
   "outputs": [],
   "source": [
    "import org.apache.spark.sql.types._"
   ]
  },
  {
   "cell_type": "code",
   "execution_count": 5,
   "metadata": {},
   "outputs": [],
   "source": [
    "import org.apache.spark.sql.expressions.Window"
   ]
  },
  {
   "cell_type": "code",
   "execution_count": 6,
   "metadata": {},
   "outputs": [
    {
     "data": {
      "text/plain": [
       "spark = org.apache.spark.sql.SparkSession@4bdc32ee\n"
      ]
     },
     "metadata": {},
     "output_type": "display_data"
    },
    {
     "data": {
      "text/plain": [
       "org.apache.spark.sql.SparkSession@4bdc32ee"
      ]
     },
     "execution_count": 6,
     "metadata": {},
     "output_type": "execute_result"
    }
   ],
   "source": [
    "val spark=SparkSession.builder().appName(\"movies app\").master(\"local[*]\").getOrCreate()"
   ]
  },
  {
   "cell_type": "code",
   "execution_count": 7,
   "metadata": {},
   "outputs": [],
   "source": [
    "import spark.implicits._"
   ]
  },
  {
   "cell_type": "markdown",
   "metadata": {},
   "source": [
    "# UDFs"
   ]
  },
  {
   "cell_type": "code",
   "execution_count": 8,
   "metadata": {},
   "outputs": [
    {
     "data": {
      "text/plain": [
       "getYear = UserDefinedFunction(<function1>,IntegerType,Some(List(StringType)))\n"
      ]
     },
     "metadata": {},
     "output_type": "display_data"
    },
    {
     "data": {
      "text/plain": [
       "UserDefinedFunction(<function1>,IntegerType,Some(List(StringType)))"
      ]
     },
     "execution_count": 8,
     "metadata": {},
     "output_type": "execute_result"
    }
   ],
   "source": [
    "val getYear=udf((year:String)=>{\n",
    "    val p=\"\\\\d{4}\".r\n",
    "    val yr=p.findFirstMatchIn(year).getOrElse(\"\").toString\n",
    "    if(yr!=\"\"){\n",
    "        yr.toInt\n",
    "    }\n",
    "    else{\n",
    "        0\n",
    "    }\n",
    "})"
   ]
  },
  {
   "cell_type": "code",
   "execution_count": null,
   "metadata": {},
   "outputs": [],
   "source": []
  },
  {
   "cell_type": "markdown",
   "metadata": {},
   "source": [
    "# loading movies"
   ]
  },
  {
   "cell_type": "code",
   "execution_count": 9,
   "metadata": {},
   "outputs": [
    {
     "data": {
      "text/plain": [
       "Movie = [index: string, MID: string ... 4 more fields]\n"
      ]
     },
     "metadata": {},
     "output_type": "display_data"
    },
    {
     "data": {
      "text/plain": [
       "[index: string, MID: string ... 4 more fields]"
      ]
     },
     "execution_count": 9,
     "metadata": {},
     "output_type": "execute_result"
    }
   ],
   "source": [
    "val Movie=spark.read.option(\"header\",\"true\").csv(\"/home/use2cobadmin/practice_data/imdb/imdb_csv/Movie.csv\")\n",
    ".dropDuplicates()"
   ]
  },
  {
   "cell_type": "markdown",
   "metadata": {},
   "source": [
    "# printing table structure to know what are the columns and it's data type"
   ]
  },
  {
   "cell_type": "code",
   "execution_count": 10,
   "metadata": {},
   "outputs": [
    {
     "name": "stdout",
     "output_type": "stream",
     "text": [
      "root\n",
      " |-- index: string (nullable = true)\n",
      " |-- MID: string (nullable = true)\n",
      " |-- title: string (nullable = true)\n",
      " |-- year: string (nullable = true)\n",
      " |-- rating: string (nullable = true)\n",
      " |-- num_votes: string (nullable = true)\n",
      "\n"
     ]
    }
   ],
   "source": [
    "Movie.printSchema"
   ]
  },
  {
   "cell_type": "markdown",
   "metadata": {},
   "source": [
    "# Displaying first two records to see sample data\n",
    "# observation 1: year,rating,num_votes,index columns data types should be Integer\n",
    "# observation 2: also we need do trim to remove any extra spaces"
   ]
  },
  {
   "cell_type": "code",
   "execution_count": 11,
   "metadata": {},
   "outputs": [
    {
     "name": "stdout",
     "output_type": "stream",
     "text": [
      "+-----+---------+-----------------+----+------+---------+\n",
      "|index|      MID|            title|year|rating|num_votes|\n",
      "+-----+---------+-----------------+----+------+---------+\n",
      "|   85|tt3224288|Beyond the Clouds|2017|   7.0|     1123|\n",
      "|  913|tt2178508|   Son of Sardaar|2012|   4.0|     7895|\n",
      "+-----+---------+-----------------+----+------+---------+\n",
      "only showing top 2 rows\n",
      "\n"
     ]
    }
   ],
   "source": [
    "Movie.show(2)"
   ]
  },
  {
   "cell_type": "markdown",
   "metadata": {},
   "source": [
    "# displaying total records in the table"
   ]
  },
  {
   "cell_type": "code",
   "execution_count": 12,
   "metadata": {},
   "outputs": [
    {
     "data": {
      "text/plain": [
       "3475"
      ]
     },
     "execution_count": 12,
     "metadata": {},
     "output_type": "execute_result"
    }
   ],
   "source": [
    "Movie.count"
   ]
  },
  {
   "cell_type": "markdown",
   "metadata": {},
   "source": [
    "# as per observation need to change the data type"
   ]
  },
  {
   "cell_type": "code",
   "execution_count": 13,
   "metadata": {},
   "outputs": [
    {
     "data": {
      "text/plain": [
       "movies = [index: int, MID: string ... 4 more fields]\n"
      ]
     },
     "metadata": {},
     "output_type": "display_data"
    },
    {
     "data": {
      "text/plain": [
       "[index: int, MID: string ... 4 more fields]"
      ]
     },
     "execution_count": 13,
     "metadata": {},
     "output_type": "execute_result"
    }
   ],
   "source": [
    "val movies=Movie.withColumn(\"year\",getYear(Movie(\"year\")).cast(IntegerType))\n",
    ".withColumn(\"title\",trim(Movie(\"title\")))\n",
    ".withColumn(\"MID\",trim(Movie(\"MID\")))\n",
    ".withColumn(\"rating\",trim(Movie(\"rating\")).cast(DoubleType))\n",
    ".withColumn(\"num_votes\",trim(Movie(\"num_votes\")).cast(LongType))\n",
    ".withColumn(\"index\",trim(Movie(\"index\")).cast(IntegerType))\n",
    ".dropDuplicates(\"MID\")"
   ]
  },
  {
   "cell_type": "markdown",
   "metadata": {},
   "source": [
    "# now print the schema to verify columns and it's data type"
   ]
  },
  {
   "cell_type": "code",
   "execution_count": 14,
   "metadata": {},
   "outputs": [
    {
     "name": "stdout",
     "output_type": "stream",
     "text": [
      "root\n",
      " |-- index: integer (nullable = true)\n",
      " |-- MID: string (nullable = true)\n",
      " |-- title: string (nullable = true)\n",
      " |-- year: integer (nullable = false)\n",
      " |-- rating: double (nullable = true)\n",
      " |-- num_votes: long (nullable = true)\n",
      "\n"
     ]
    }
   ],
   "source": [
    "movies.printSchema"
   ]
  },
  {
   "cell_type": "markdown",
   "metadata": {},
   "source": [
    "# print the total number of records in the table after data cleaning"
   ]
  },
  {
   "cell_type": "code",
   "execution_count": 15,
   "metadata": {},
   "outputs": [
    {
     "data": {
      "text/plain": [
       "3475"
      ]
     },
     "execution_count": 15,
     "metadata": {},
     "output_type": "execute_result"
    }
   ],
   "source": [
    "movies.count"
   ]
  },
  {
   "cell_type": "markdown",
   "metadata": {},
   "source": [
    "# show the first two records as a sample data"
   ]
  },
  {
   "cell_type": "code",
   "execution_count": 16,
   "metadata": {},
   "outputs": [
    {
     "name": "stdout",
     "output_type": "stream",
     "text": [
      "+-----+---------+--------------------+----+------+---------+\n",
      "|index|      MID|               title|year|rating|num_votes|\n",
      "+-----+---------+--------------------+----+------+---------+\n",
      "| 3008|tt0036077|              Kismet|1943|   7.5|       71|\n",
      "| 2969|tt0102701|Prahaar: The Fina...|1991|   7.9|     1696|\n",
      "+-----+---------+--------------------+----+------+---------+\n",
      "only showing top 2 rows\n",
      "\n"
     ]
    }
   ],
   "source": [
    "movies.show(2)"
   ]
  },
  {
   "cell_type": "markdown",
   "metadata": {},
   "source": [
    "# Load the Person.csv file and it has header and store theses records in Person variable"
   ]
  },
  {
   "cell_type": "code",
   "execution_count": 17,
   "metadata": {},
   "outputs": [
    {
     "data": {
      "text/plain": [
       "Person = [index: string, PID: string ... 2 more fields]\n"
      ]
     },
     "metadata": {},
     "output_type": "display_data"
    },
    {
     "data": {
      "text/plain": [
       "[index: string, PID: string ... 2 more fields]"
      ]
     },
     "execution_count": 17,
     "metadata": {},
     "output_type": "execute_result"
    }
   ],
   "source": [
    "val Person=spark.read.option(\"header\",\"true\").csv(\"/home/use2cobadmin/practice_data/imdb/imdb_csv/Person.csv\")"
   ]
  },
  {
   "cell_type": "markdown",
   "metadata": {},
   "source": [
    "# Print the schema of Person variable,first two records and it's count"
   ]
  },
  {
   "cell_type": "code",
   "execution_count": 18,
   "metadata": {},
   "outputs": [
    {
     "name": "stdout",
     "output_type": "stream",
     "text": [
      "+-----+---------+---------------+------+\n",
      "|index|      PID|           Name|Gender|\n",
      "+-----+---------+---------------+------+\n",
      "|    0|nm0000288| Christian Bale|  Male|\n",
      "|    1|nm0000949| Cate Blanchett|Female|\n",
      "+-----+---------+---------------+------+\n",
      "only showing top 2 rows\n",
      "\n",
      "root\n",
      " |-- index: string (nullable = true)\n",
      " |-- PID: string (nullable = true)\n",
      " |-- Name: string (nullable = true)\n",
      " |-- Gender: string (nullable = true)\n",
      "\n"
     ]
    },
    {
     "data": {
      "text/plain": [
       "p1Count = 38285\n"
      ]
     },
     "metadata": {},
     "output_type": "display_data"
    },
    {
     "data": {
      "text/plain": [
       "38285"
      ]
     },
     "execution_count": 18,
     "metadata": {},
     "output_type": "execute_result"
    }
   ],
   "source": [
    "Person.show(2)\n",
    "Person.printSchema\n",
    "val p1Count=Person.count"
   ]
  },
  {
   "cell_type": "markdown",
   "metadata": {},
   "source": [
    "# Data Cleaning\n",
    "# change the data types as per data and also remove extra spaces from data"
   ]
  },
  {
   "cell_type": "code",
   "execution_count": 19,
   "metadata": {},
   "outputs": [
    {
     "data": {
      "text/plain": [
       "persons = [index: int, PID: string ... 2 more fields]\n"
      ]
     },
     "metadata": {},
     "output_type": "display_data"
    },
    {
     "data": {
      "text/plain": [
       "[index: int, PID: string ... 2 more fields]"
      ]
     },
     "execution_count": 19,
     "metadata": {},
     "output_type": "execute_result"
    }
   ],
   "source": [
    "val persons=Person.withColumn(\"PID\",trim(Person(\"PID\")))\n",
    ".withColumn(\"Name\",trim(Person(\"Name\")))\n",
    ".withColumn(\"Gender\",trim(Person(\"Gender\")))\n",
    ".withColumn(\"index\",trim(Person(\"index\")).cast(IntegerType))\n",
    ".dropDuplicates(\"PID\")"
   ]
  },
  {
   "cell_type": "markdown",
   "metadata": {},
   "source": [
    "# show the sample data, schema and it's count of variable persons"
   ]
  },
  {
   "cell_type": "code",
   "execution_count": 20,
   "metadata": {},
   "outputs": [
    {
     "name": "stdout",
     "output_type": "stream",
     "text": [
      "+-----+---------+-------------+------+\n",
      "|index|      PID|         Name|Gender|\n",
      "+-----+---------+-------------+------+\n",
      "|15793|nm0022343|       Alpana|Female|\n",
      "| 3121|nm0028416|Martin Andris|  Male|\n",
      "+-----+---------+-------------+------+\n",
      "only showing top 2 rows\n",
      "\n",
      "root\n",
      " |-- index: integer (nullable = true)\n",
      " |-- PID: string (nullable = true)\n",
      " |-- Name: string (nullable = true)\n",
      " |-- Gender: string (nullable = true)\n",
      "\n"
     ]
    },
    {
     "data": {
      "text/plain": [
       "p2Count = 37566\n"
      ]
     },
     "metadata": {},
     "output_type": "display_data"
    },
    {
     "data": {
      "text/plain": [
       "37566"
      ]
     },
     "execution_count": 20,
     "metadata": {},
     "output_type": "execute_result"
    }
   ],
   "source": [
    "persons.show(2)\n",
    "persons.printSchema\n",
    "val p2Count=persons.count"
   ]
  },
  {
   "cell_type": "markdown",
   "metadata": {},
   "source": [
    "# print the difference between Person and persons records count"
   ]
  },
  {
   "cell_type": "code",
   "execution_count": 21,
   "metadata": {},
   "outputs": [
    {
     "name": "stdout",
     "output_type": "stream",
     "text": [
      "719 duplicates found\n"
     ]
    },
    {
     "data": {
      "text/plain": [
       "diff = 719\n"
      ]
     },
     "metadata": {},
     "output_type": "display_data"
    },
    {
     "data": {
      "text/plain": [
       "719"
      ]
     },
     "execution_count": 21,
     "metadata": {},
     "output_type": "execute_result"
    }
   ],
   "source": [
    "val diff=p1Count-p2Count\n",
    "println(diff+\" duplicates found\")"
   ]
  },
  {
   "cell_type": "markdown",
   "metadata": {},
   "source": [
    "# Loading and cleaning M_Cast table"
   ]
  },
  {
   "cell_type": "code",
   "execution_count": 22,
   "metadata": {},
   "outputs": [
    {
     "data": {
      "text/plain": [
       "M_Cast = [index: string, MID: string ... 2 more fields]\n"
      ]
     },
     "metadata": {},
     "output_type": "display_data"
    },
    {
     "data": {
      "text/plain": [
       "[index: string, MID: string ... 2 more fields]"
      ]
     },
     "execution_count": 22,
     "metadata": {},
     "output_type": "execute_result"
    }
   ],
   "source": [
    "val M_Cast=spark.read.option(\"header\",\"true\").csv(\"/home/use2cobadmin/practice_data/imdb/imdb_csv/M_Cast.csv\")"
   ]
  },
  {
   "cell_type": "markdown",
   "metadata": {},
   "source": [
    "# Sample data from M_Cast table"
   ]
  },
  {
   "cell_type": "code",
   "execution_count": 23,
   "metadata": {},
   "outputs": [
    {
     "name": "stdout",
     "output_type": "stream",
     "text": [
      "root\n",
      " |-- index: string (nullable = true)\n",
      " |-- MID: string (nullable = true)\n",
      " |-- PID: string (nullable = true)\n",
      " |-- ID: string (nullable = true)\n",
      "\n",
      "+-----+---------+----------+---+\n",
      "|index|      MID|       PID| ID|\n",
      "+-----+---------+----------+---+\n",
      "|    0|tt2388771| nm0000288|  0|\n",
      "|    1|tt2388771| nm0000949|  1|\n",
      "+-----+---------+----------+---+\n",
      "only showing top 2 rows\n",
      "\n"
     ]
    },
    {
     "data": {
      "text/plain": [
       "m_c1Count = 82837\n"
      ]
     },
     "metadata": {},
     "output_type": "display_data"
    },
    {
     "data": {
      "text/plain": [
       "82837"
      ]
     },
     "execution_count": 23,
     "metadata": {},
     "output_type": "execute_result"
    }
   ],
   "source": [
    "M_Cast.printSchema\n",
    "M_Cast.show(2)\n",
    "val m_c1Count=M_Cast.count"
   ]
  },
  {
   "cell_type": "markdown",
   "metadata": {},
   "source": [
    "# Cleaning data m_cast"
   ]
  },
  {
   "cell_type": "code",
   "execution_count": 24,
   "metadata": {},
   "outputs": [
    {
     "data": {
      "text/plain": [
       "m_cast = [index: bigint, MID: string ... 2 more fields]\n"
      ]
     },
     "metadata": {},
     "output_type": "display_data"
    },
    {
     "data": {
      "text/plain": [
       "[index: bigint, MID: string ... 2 more fields]"
      ]
     },
     "execution_count": 24,
     "metadata": {},
     "output_type": "execute_result"
    }
   ],
   "source": [
    "val m_cast=M_Cast.withColumn(\"ID\",trim(col(\"ID\")).cast(LongType))\n",
    ".withColumn(\"index\",trim(col(\"index\")).cast(LongType))\n",
    ".withColumn(\"MID\",trim(col(\"MID\")))\n",
    ".withColumn(\"PID\",trim(col(\"PID\")))\n",
    ".dropDuplicates(\"MID\",\"PID\")\n",
    "//.dropDuplicates(\"MID\",\"PID\",\"ID\")\n",
    ".dropDuplicates(\"ID\")\n",
    ".dropDuplicates()"
   ]
  },
  {
   "cell_type": "markdown",
   "metadata": {},
   "source": [
    "# Sample data after data cleaning for m_cast"
   ]
  },
  {
   "cell_type": "code",
   "execution_count": 25,
   "metadata": {},
   "outputs": [
    {
     "name": "stdout",
     "output_type": "stream",
     "text": [
      "root\n",
      " |-- index: long (nullable = true)\n",
      " |-- MID: string (nullable = true)\n",
      " |-- PID: string (nullable = true)\n",
      " |-- ID: long (nullable = true)\n",
      "\n",
      "+-----+---------+----------+---+\n",
      "|index|      MID|       PID| ID|\n",
      "+-----+---------+----------+---+\n",
      "|   26|tt2388771|nm10302077| 26|\n",
      "|   29|tt2388771|nm10302080| 29|\n",
      "+-----+---------+----------+---+\n",
      "only showing top 2 rows\n",
      "\n"
     ]
    },
    {
     "data": {
      "text/plain": [
       "82837"
      ]
     },
     "execution_count": 25,
     "metadata": {},
     "output_type": "execute_result"
    },
    {
     "data": {
      "text/plain": [
       "m_c2Count = 82837\n"
      ]
     },
     "metadata": {},
     "output_type": "display_data"
    }
   ],
   "source": [
    "m_cast.printSchema\n",
    "m_cast.show(2)\n",
    "val m_c2Count=m_cast.count"
   ]
  },
  {
   "cell_type": "markdown",
   "metadata": {},
   "source": [
    "# Print difference of total count after and before data cleaning"
   ]
  },
  {
   "cell_type": "code",
   "execution_count": 26,
   "metadata": {},
   "outputs": [
    {
     "name": "stdout",
     "output_type": "stream",
     "text": [
      "0 d\n"
     ]
    },
    {
     "data": {
      "text/plain": [
       "0"
      ]
     },
     "execution_count": 26,
     "metadata": {},
     "output_type": "execute_result"
    },
    {
     "data": {
      "text/plain": [
       "diff_m_cast_count = 0\n"
      ]
     },
     "metadata": {},
     "output_type": "display_data"
    }
   ],
   "source": [
    "val diff_m_cast_count=m_c1Count-m_c2Count\n",
    "println(diff_m_cast_count+\" d\")"
   ]
  },
  {
   "cell_type": "code",
   "execution_count": 141,
   "metadata": {},
   "outputs": [
    {
     "data": {
      "text/plain": [
       "actorsWithMovies = [MID: string, PID: string ... 3 more fields]\n"
      ]
     },
     "metadata": {},
     "output_type": "display_data"
    },
    {
     "data": {
      "text/plain": [
       "[MID: string, PID: string ... 3 more fields]"
      ]
     },
     "execution_count": 141,
     "metadata": {},
     "output_type": "execute_result"
    }
   ],
   "source": [
    "val actorsWithMovies=m_cast.join(persons,\"PID\").dropDuplicates().join(movies,\"MID\")\n",
    ".select(\"MID\",\"PID\",\"year\",\"Name\",\"Gender\").dropDuplicates()"
   ]
  },
  {
   "cell_type": "code",
   "execution_count": 144,
   "metadata": {},
   "outputs": [
    {
     "name": "stdout",
     "output_type": "stream",
     "text": [
      "+---------+---------+----+-----------------+------+\n",
      "|      MID|      PID|year|             Name|Gender|\n",
      "+---------+---------+----+-----------------+------+\n",
      "|tt0053126|nm0000002|1959|    Lauren Bacall|Female|\n",
      "|tt0087892|nm0000027|1984|    Alec Guinness|  Male|\n",
      "|tt0046427|nm0000039|1953|     Deborah Kerr|Female|\n",
      "|tt0046427|nm0000042|1953|        Alan Ladd|  Male|\n",
      "|tt0066070|nm0000047|1970|     Sophia Loren|Female|\n",
      "|tt0031580|nm0000073|1939|   Shirley Temple|Female|\n",
      "|tt0075860|nm0000076|1977|François Truffaut|  null|\n",
      "|tt0327437|nm0000092|2004|      John Cleese|  Male|\n",
      "|tt0120102|nm0000093|1997|        Brad Pitt|  null|\n",
      "|tt4977530|nm0000096|2017| Gillian Anderson|Female|\n",
      "+---------+---------+----+-----------------+------+\n",
      "only showing top 10 rows\n",
      "\n"
     ]
    },
    {
     "data": {
      "text/plain": [
       "82835"
      ]
     },
     "execution_count": 144,
     "metadata": {},
     "output_type": "execute_result"
    }
   ],
   "source": [
    "actorsWithMovies.orderBy(\"PID\").show(10)\n",
    "actorsWithMovies.count"
   ]
  },
  {
   "cell_type": "code",
   "execution_count": 145,
   "metadata": {},
   "outputs": [
    {
     "data": {
      "text/plain": [
       "82835"
      ]
     },
     "execution_count": 145,
     "metadata": {},
     "output_type": "execute_result"
    }
   ],
   "source": [
    "\n",
    "actorsWithMovies.select(\"MID\").count"
   ]
  },
  {
   "cell_type": "markdown",
   "metadata": {},
   "source": [
    "# get all the MID where actor gender is male"
   ]
  },
  {
   "cell_type": "code",
   "execution_count": 143,
   "metadata": {},
   "outputs": [
    {
     "data": {
      "text/plain": [
       "maleActor_MIDs = [MID: string]\n"
      ]
     },
     "metadata": {},
     "output_type": "display_data"
    },
    {
     "data": {
      "text/plain": [
       "3468"
      ]
     },
     "execution_count": 143,
     "metadata": {},
     "output_type": "execute_result"
    }
   ],
   "source": [
    "val maleActor_MIDs=actorsWithMovies.filter($\"Gender\"===\"Male\").select(\"MID\").dropDuplicates()\n",
    "maleActor_MIDs.count"
   ]
  },
  {
   "cell_type": "code",
   "execution_count": 109,
   "metadata": {},
   "outputs": [
    {
     "data": {
      "text/plain": [
       "MIDs = List(tt0456165, tt1961530, tt4121522, tt0102701, tt1280558, tt0779768, tt0036077, tt0292606, tt0476819, tt1602476, tt0315319, tt0268216, tt2137064, tt5632164, tt3303416, tt6843812, tt0298607, tt0162480, tt0291883, tt4600778, tt0090581, tt5755594, tt4190220, tt2914898, tt0268220, tt0046703, tt4010306, tt0475645, tt0495032, tt0268141, tt0116002, tt0135140, tt0485513, tt1239276, tt0126234, tt2120120, tt0493437, tt4228400, tt6484982, tt1042499, tt3031896, tt0833561, tt0444767, tt0443594, tt0319020, tt1127220, tt0118660, tt0113455, tt0217632, tt0341266, tt2609468, tt4354740, tt2404027, tt1238735, tt1979209, tt0395802, tt0157339, tt1291465, tt0071714, tt2186933, tt0172234, tt0234542, tt0286724, tt0137362, tt0349115, tt0076167, tt0262281, tt0154857, tt4979160, tt1625856, tt03...\n"
      ]
     },
     "metadata": {},
     "output_type": "display_data"
    },
    {
     "data": {
      "text/plain": [
       "List(tt0456165, tt1961530, tt4121522, tt0102701, tt1280558, tt0779768, tt0036077, tt0292606, tt0476819, tt1602476, tt0315319, tt0268216, tt2137064, tt5632164, tt3303416, tt6843812, tt0298607, tt0162480, tt0291883, tt4600778, tt0090581, tt5755594, tt4190220, tt2914898, tt0268220, tt0046703, tt4010306, tt0475645, tt0495032, tt0268141, tt0116002, tt0135140, tt0485513, tt1239276, tt0126234, tt2120120, tt0493437, tt4228400, tt6484982, tt1042499, tt3031896, tt0833561, tt0444767, tt0443594, tt0319020, tt1127220, tt0118660, tt0113455, tt0217632, tt0341266, tt2609468, tt4354740, tt2404027, tt1238735, tt1979209, tt0395802, tt0157339, tt1291465, tt0071714, tt2186933, tt0172234, tt0234542, tt0286724, tt0137362, tt0349115, tt0076167, tt0262281, tt0154857, tt4979160, tt1625856, tt03..."
      ]
     },
     "execution_count": 109,
     "metadata": {},
     "output_type": "execute_result"
    }
   ],
   "source": [
    "var MIDs=maleActor_MIDs.collect().map(_(0)).toList"
   ]
  },
  {
   "cell_type": "code",
   "execution_count": 146,
   "metadata": {},
   "outputs": [
    {
     "data": {
      "text/plain": [
       "femaleActor_MIDs = [MID: string, PID: string ... 3 more fields]\n"
      ]
     },
     "metadata": {},
     "output_type": "display_data"
    },
    {
     "data": {
      "text/plain": [
       "[MID: string, PID: string ... 3 more fields]"
      ]
     },
     "execution_count": 146,
     "metadata": {},
     "output_type": "execute_result"
    }
   ],
   "source": [
    "val femaleActor_MIDs=actorsWithMovies.filter(!$\"MID\".isin(MIDs:_*))"
   ]
  },
  {
   "cell_type": "code",
   "execution_count": 147,
   "metadata": {},
   "outputs": [
    {
     "name": "stdout",
     "output_type": "stream",
     "text": [
      "+---------+---------+----+--------------------+------+\n",
      "|      MID|      PID|year|                Name|Gender|\n",
      "+---------+---------+----+--------------------+------+\n",
      "|tt0354922|nm0890622|2000|        Mita Vasisht|Female|\n",
      "|tt0272001|nm0084443|1999|        Seema Biswas|Female|\n",
      "|tt0272001|nm5447146|1999|       Deepa Shriram|Female|\n",
      "|tt0272001|nm6294279|1999|      Reshma Polekar|Female|\n",
      "|tt0272001|nm1402143|1999|      Gautami Gadgil|Female|\n",
      "|tt0272001|nm1968395|1999|      Nirmiti Sawant|Female|\n",
      "|tt0375882|nm0066829|1939|               Iqbal|Female|\n",
      "|tt0354922|nm1162961|2000|     Bharti Achrekar|Female|\n",
      "|tt8338754|nm9795685|2018|      Vaibhav Sethia|  null|\n",
      "|tt0354922|nm7390393|2000|      Aachi Manorama|Female|\n",
      "|tt0354922|nm1397226|2000|         Ishita Arun|Female|\n",
      "|tt8458202|nm9860359|2018|Pihu Myra Vishwak...|Female|\n",
      "|tt0272001|nm6294280|1999|       Meenal Pendse|Female|\n",
      "|tt0354922|nm1166510|2000|   Sharbani Mukherji|Female|\n",
      "|tt0354922|nm0433392|2000|            Jyothika|Female|\n",
      "|tt0354922|nm0007102|2000|                Tabu|Female|\n",
      "|tt0354922|nm0837797|2000|            Sukumari|Female|\n",
      "|tt0272001|nm0420639|1999|    Sharvari Jamenis|Female|\n",
      "|tt0272001|nm1263050|1999|    Mona Ambegaonkar|Female|\n",
      "|tt0272001|nm2192551|1999|            Neha Bam|Female|\n",
      "+---------+---------+----+--------------------+------+\n",
      "only showing top 20 rows\n",
      "\n"
     ]
    }
   ],
   "source": [
    "femaleActor_MIDs.show"
   ]
  },
  {
   "cell_type": "code",
   "execution_count": 138,
   "metadata": {},
   "outputs": [
    {
     "name": "stdout",
     "output_type": "stream",
     "text": [
      "+----+-----+\n",
      "|year|count|\n",
      "+----+-----+\n",
      "|1999|   11|\n",
      "|2000|   10|\n",
      "|2018|    3|\n",
      "|1939|    1|\n",
      "+----+-----+\n",
      "\n"
     ]
    },
    {
     "data": {
      "text/plain": [
       "femaleActor_MIDs_count = [year: int, count: bigint]\n"
      ]
     },
     "metadata": {},
     "output_type": "display_data"
    },
    {
     "data": {
      "text/plain": [
       "[year: int, count: bigint]"
      ]
     },
     "execution_count": 138,
     "metadata": {},
     "output_type": "execute_result"
    }
   ],
   "source": [
    "val femaleActor_MIDs_count=femaleActor_MIDs.groupBy(\"year\").count\n",
    "femaleActor_MIDs_count.sort(desc(\"count\")).show"
   ]
  },
  {
   "cell_type": "markdown",
   "metadata": {},
   "source": [
    "# Validation 1"
   ]
  },
  {
   "cell_type": "code",
   "execution_count": 130,
   "metadata": {},
   "outputs": [
    {
     "name": "stdout",
     "output_type": "stream",
     "text": [
      "+---------+---------+----+----------+------+----+\n",
      "|      MID|      PID|year|      Name|Gender|diff|\n",
      "+---------+---------+----+----------+------+----+\n",
      "|tt0115641|nm0000193|1996|Demi Moore|Female|null|\n",
      "|tt3823392|nm0000193|2018|Demi Moore|Female|true|\n",
      "+---------+---------+----+----------+------+----+\n",
      "\n"
     ]
    }
   ],
   "source": [
    "val MIDs=movies.filter(\"\").select(\"MID\")"
   ]
  },
  {
   "cell_type": "code",
   "execution_count": 131,
   "metadata": {},
   "outputs": [
    {
     "name": "stdout",
     "output_type": "stream",
     "text": [
      "+---------+---------+----+----------+------+\n",
      "|      MID|      PID|year|      Name|Gender|\n",
      "+---------+---------+----+----------+------+\n",
      "|tt0115641|nm0000193|1996|Demi Moore|Female|\n",
      "|tt3823392|nm0000193|2018|Demi Moore|Female|\n",
      "+---------+---------+----+----------+------+\n",
      "\n"
     ]
    }
   ],
   "source": [
    "actorsWithMovies.filter($\"PID\"===\"nm0000193\").sort(\"PID\",\"year\").show(100)"
   ]
  },
  {
   "cell_type": "markdown",
   "metadata": {},
   "source": [
    "# Validation 2"
   ]
  },
  {
   "cell_type": "code",
   "execution_count": 134,
   "metadata": {},
   "outputs": [
    {
     "name": "stdout",
     "output_type": "stream",
     "text": [
      "+---------+---------+----+------------+------+----+\n",
      "|      MID|      PID|year|        Name|Gender|diff|\n",
      "+---------+---------+----+------------+------+----+\n",
      "|tt0246204|nm0004472|1989|Nutan Prasad|  Male|null|\n",
      "|tt0278274|nm0004472|2000|Nutan Prasad|  Male|true|\n",
      "+---------+---------+----+------------+------+----+\n",
      "\n"
     ]
    }
   ],
   "source": [
    "unemployed_actors_step1.filter($\"PID\"===\"nm0004472\").sort(\"PID\",\"year\").show(100)"
   ]
  },
  {
   "cell_type": "code",
   "execution_count": 135,
   "metadata": {},
   "outputs": [
    {
     "name": "stdout",
     "output_type": "stream",
     "text": [
      "+---------+---------+----+------------+------+\n",
      "|      MID|      PID|year|        Name|Gender|\n",
      "+---------+---------+----+------------+------+\n",
      "|tt0246204|nm0004472|1989|Nutan Prasad|  Male|\n",
      "|tt0278274|nm0004472|2000|Nutan Prasad|  Male|\n",
      "+---------+---------+----+------------+------+\n",
      "\n"
     ]
    }
   ],
   "source": [
    "actorsWithMovies.filter($\"PID\"===\"nm0004472\").sort(\"PID\",\"year\").show(100)"
   ]
  },
  {
   "cell_type": "markdown",
   "metadata": {},
   "source": [
    "# Validation 3"
   ]
  },
  {
   "cell_type": "code",
   "execution_count": 136,
   "metadata": {},
   "outputs": [
    {
     "name": "stdout",
     "output_type": "stream",
     "text": [
      "+---------+---------+----+----+------+-----+\n",
      "|      MID|      PID|year|Name|Gender| diff|\n",
      "+---------+---------+----+----+------+-----+\n",
      "|tt0215515|nm0015000|1952|Ajit|  Male| null|\n",
      "|tt0050758|nm0015000|1957|Ajit|  Male| true|\n",
      "|tt0156606|nm0015000|1965|Ajit|  Male| true|\n",
      "|tt0061046|nm0015000|1966|Ajit|  Male|false|\n",
      "|tt0158449|nm0015000|1969|Ajit|  Male|false|\n",
      "|tt0064842|nm0015000|1969|Ajit|  Male|false|\n",
      "|tt0156641|nm0015000|1970|Ajit|  Male|false|\n",
      "|tt0148266|nm0015000|1970|Ajit|  Male|false|\n",
      "|tt0237395|nm0015000|1971|Ajit|  Male|false|\n",
      "|tt0066766|nm0015000|1971|Ajit|  Male|false|\n",
      "|tt0367921|nm0015000|1973|Ajit|  Male|false|\n",
      "|tt0069871|nm0015000|1973|Ajit|  Male|false|\n",
      "|tt0070935|nm0015000|1973|Ajit|  Male|false|\n",
      "|tt0070947|nm0015000|1973|Ajit|  Male|false|\n",
      "|tt0069751|nm0015000|1973|Ajit|  Male|false|\n",
      "|tt0070253|nm0015000|1973|Ajit|  Male|false|\n",
      "|tt0155805|nm0015000|1974|Ajit|  Male|false|\n",
      "|tt0216110|nm0015000|1975|Ajit|  Male|false|\n",
      "|tt0158356|nm0015000|1975|Ajit|  Male|false|\n",
      "|tt0268216|nm0015000|1976|Ajit|  Male|false|\n",
      "|tt0214832|nm0015000|1976|Ajit|  Male|false|\n",
      "|tt0076167|nm0015000|1977|Ajit|  Male|false|\n",
      "|tt0157337|nm0015000|1978|Ajit|  Male|false|\n",
      "|tt0258647|nm0015000|1978|Ajit|  Male|false|\n",
      "|tt0154390|nm0015000|1978|Ajit|  Male|false|\n",
      "|tt0079584|nm0015000|1979|Ajit|  Male|false|\n",
      "|tt0081401|nm0015000|1980|Ajit|  Male|false|\n",
      "|tt0087975|nm0015000|1984|Ajit|  Male| true|\n",
      "|tt0267617|nm0015000|1992|Ajit|  Male| true|\n",
      "|tt0177483|nm0015000|1993|Ajit|  Male|false|\n",
      "|tt0376182|nm0015000|1993|Ajit|  Male|false|\n",
      "|tt0225013|nm0015000|1994|Ajit|  Male|false|\n",
      "|tt0267246|nm0015000|1994|Ajit|  Male|false|\n",
      "|tt0112738|nm0015000|1995|Ajit|  Male|false|\n",
      "+---------+---------+----+----+------+-----+\n",
      "\n"
     ]
    }
   ],
   "source": [
    "unemployed_actors_step1.filter($\"PID\"===\"nm0015000\").sort(\"PID\",\"year\").show(100)"
   ]
  },
  {
   "cell_type": "code",
   "execution_count": 137,
   "metadata": {},
   "outputs": [
    {
     "name": "stdout",
     "output_type": "stream",
     "text": [
      "+---------+---------+----+----+------+\n",
      "|      MID|      PID|year|Name|Gender|\n",
      "+---------+---------+----+----+------+\n",
      "|tt0215515|nm0015000|1952|Ajit|  Male|\n",
      "|tt0050758|nm0015000|1957|Ajit|  Male|\n",
      "|tt0156606|nm0015000|1965|Ajit|  Male|\n",
      "|tt0061046|nm0015000|1966|Ajit|  Male|\n",
      "|tt0064842|nm0015000|1969|Ajit|  Male|\n",
      "|tt0158449|nm0015000|1969|Ajit|  Male|\n",
      "|tt0156641|nm0015000|1970|Ajit|  Male|\n",
      "|tt0148266|nm0015000|1970|Ajit|  Male|\n",
      "|tt0237395|nm0015000|1971|Ajit|  Male|\n",
      "|tt0066766|nm0015000|1971|Ajit|  Male|\n",
      "|tt0070935|nm0015000|1973|Ajit|  Male|\n",
      "|tt0069751|nm0015000|1973|Ajit|  Male|\n",
      "|tt0367921|nm0015000|1973|Ajit|  Male|\n",
      "|tt0070253|nm0015000|1973|Ajit|  Male|\n",
      "|tt0069871|nm0015000|1973|Ajit|  Male|\n",
      "|tt0070947|nm0015000|1973|Ajit|  Male|\n",
      "|tt0155805|nm0015000|1974|Ajit|  Male|\n",
      "|tt0216110|nm0015000|1975|Ajit|  Male|\n",
      "|tt0158356|nm0015000|1975|Ajit|  Male|\n",
      "|tt0268216|nm0015000|1976|Ajit|  Male|\n",
      "|tt0214832|nm0015000|1976|Ajit|  Male|\n",
      "|tt0076167|nm0015000|1977|Ajit|  Male|\n",
      "|tt0157337|nm0015000|1978|Ajit|  Male|\n",
      "|tt0258647|nm0015000|1978|Ajit|  Male|\n",
      "|tt0154390|nm0015000|1978|Ajit|  Male|\n",
      "|tt0079584|nm0015000|1979|Ajit|  Male|\n",
      "|tt0081401|nm0015000|1980|Ajit|  Male|\n",
      "|tt0087975|nm0015000|1984|Ajit|  Male|\n",
      "|tt0267617|nm0015000|1992|Ajit|  Male|\n",
      "|tt0177483|nm0015000|1993|Ajit|  Male|\n",
      "|tt0376182|nm0015000|1993|Ajit|  Male|\n",
      "|tt0225013|nm0015000|1994|Ajit|  Male|\n",
      "|tt0267246|nm0015000|1994|Ajit|  Male|\n",
      "|tt0112738|nm0015000|1995|Ajit|  Male|\n",
      "+---------+---------+----+----+------+\n",
      "\n"
     ]
    }
   ],
   "source": [
    "actorsWithMovies.filter($\"PID\"===\"nm0015000\").sort(\"PID\",\"year\").show(100)"
   ]
  }
 ],
 "metadata": {
  "kernelspec": {
   "display_name": "Apache Toree - Scala",
   "language": "scala",
   "name": "apache_toree_scala"
  },
  "language_info": {
   "codemirror_mode": "text/x-scala",
   "file_extension": ".scala",
   "mimetype": "text/x-scala",
   "name": "scala",
   "pygments_lexer": "scala",
   "version": "2.11.12"
  }
 },
 "nbformat": 4,
 "nbformat_minor": 2
}
