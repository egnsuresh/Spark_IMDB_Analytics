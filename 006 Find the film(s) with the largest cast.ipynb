{
 "cells": [
  {
   "cell_type": "markdown",
   "metadata": {},
   "source": [
    "# 006 Find the film(s) with the largest cast. Return the movie title and the size of the cast. By \"cast size\" we mean the number of distinct actors that played in that movie: if an actor played multiple roles, or if it simply occurs multiple times in casts, we still count her/him only once."
   ]
  },
  {
   "cell_type": "code",
   "execution_count": 32,
   "metadata": {},
   "outputs": [
    {
     "data": {
      "text/plain": [
       "org.apache.spark.sql.SparkSession@3a9f69c6"
      ]
     },
     "execution_count": 32,
     "metadata": {},
     "output_type": "execute_result"
    }
   ],
   "source": [
    "spark"
   ]
  },
  {
   "cell_type": "code",
   "execution_count": 2,
   "metadata": {},
   "outputs": [],
   "source": [
    "import org.apache.spark.sql.functions._"
   ]
  },
  {
   "cell_type": "code",
   "execution_count": 3,
   "metadata": {},
   "outputs": [],
   "source": [
    "import org.apache.spark.sql.types._"
   ]
  },
  {
   "cell_type": "code",
   "execution_count": 4,
   "metadata": {},
   "outputs": [],
   "source": [
    "import org.apache.spark.sql.expressions.Window"
   ]
  },
  {
   "cell_type": "code",
   "execution_count": 5,
   "metadata": {},
   "outputs": [
    {
     "data": {
      "text/plain": [
       "spark = org.apache.spark.sql.SparkSession@3a9f69c6\n"
      ]
     },
     "metadata": {},
     "output_type": "display_data"
    },
    {
     "data": {
      "text/plain": [
       "org.apache.spark.sql.SparkSession@3a9f69c6"
      ]
     },
     "execution_count": 5,
     "metadata": {},
     "output_type": "execute_result"
    }
   ],
   "source": [
    "val spark=SparkSession.builder().appName(\"movies app\").master(\"local[*]\").getOrCreate()"
   ]
  },
  {
   "cell_type": "code",
   "execution_count": 6,
   "metadata": {},
   "outputs": [],
   "source": [
    "import spark.implicits._"
   ]
  },
  {
   "cell_type": "markdown",
   "metadata": {},
   "source": [
    "# UDFs"
   ]
  },
  {
   "cell_type": "code",
   "execution_count": 7,
   "metadata": {},
   "outputs": [
    {
     "data": {
      "text/plain": [
       "getYear = UserDefinedFunction(<function1>,IntegerType,Some(List(StringType)))\n"
      ]
     },
     "metadata": {},
     "output_type": "display_data"
    },
    {
     "data": {
      "text/plain": [
       "UserDefinedFunction(<function1>,IntegerType,Some(List(StringType)))"
      ]
     },
     "execution_count": 7,
     "metadata": {},
     "output_type": "execute_result"
    }
   ],
   "source": [
    "val getYear=udf((year:String)=>{\n",
    "    val p=\"\\\\d{4}\".r\n",
    "    val yr=p.findFirstMatchIn(year).getOrElse(\"\").toString\n",
    "    if(yr!=\"\"){\n",
    "        yr.toInt\n",
    "    }\n",
    "    else{\n",
    "        0\n",
    "    }\n",
    "})"
   ]
  },
  {
   "cell_type": "code",
   "execution_count": null,
   "metadata": {},
   "outputs": [],
   "source": []
  },
  {
   "cell_type": "markdown",
   "metadata": {},
   "source": [
    "# loading movies"
   ]
  },
  {
   "cell_type": "code",
   "execution_count": 8,
   "metadata": {},
   "outputs": [
    {
     "data": {
      "text/plain": [
       "Movie = [index: string, MID: string ... 4 more fields]\n"
      ]
     },
     "metadata": {},
     "output_type": "display_data"
    },
    {
     "data": {
      "text/plain": [
       "[index: string, MID: string ... 4 more fields]"
      ]
     },
     "execution_count": 8,
     "metadata": {},
     "output_type": "execute_result"
    }
   ],
   "source": [
    "val Movie=spark.read.option(\"header\",\"true\").csv(\"/home/use2cobadmin/practice_data/imdb/imdb_csv/Movie.csv\")\n",
    ".dropDuplicates()"
   ]
  },
  {
   "cell_type": "markdown",
   "metadata": {},
   "source": [
    "# printing table structure to know what are the columns and it's data type"
   ]
  },
  {
   "cell_type": "code",
   "execution_count": 9,
   "metadata": {},
   "outputs": [
    {
     "name": "stdout",
     "output_type": "stream",
     "text": [
      "root\n",
      " |-- index: string (nullable = true)\n",
      " |-- MID: string (nullable = true)\n",
      " |-- title: string (nullable = true)\n",
      " |-- year: string (nullable = true)\n",
      " |-- rating: string (nullable = true)\n",
      " |-- num_votes: string (nullable = true)\n",
      "\n"
     ]
    }
   ],
   "source": [
    "Movie.printSchema"
   ]
  },
  {
   "cell_type": "markdown",
   "metadata": {},
   "source": [
    "# Displaying first two records to see sample data\n",
    "# observation 1: year,rating,num_votes,index columns data types should be Integer\n",
    "# observation 2: also we need do trim to remove any extra spaces"
   ]
  },
  {
   "cell_type": "code",
   "execution_count": 10,
   "metadata": {},
   "outputs": [
    {
     "name": "stdout",
     "output_type": "stream",
     "text": [
      "+-----+---------+-----------------+----+------+---------+\n",
      "|index|      MID|            title|year|rating|num_votes|\n",
      "+-----+---------+-----------------+----+------+---------+\n",
      "|   85|tt3224288|Beyond the Clouds|2017|   7.0|     1123|\n",
      "|  913|tt2178508|   Son of Sardaar|2012|   4.0|     7895|\n",
      "+-----+---------+-----------------+----+------+---------+\n",
      "only showing top 2 rows\n",
      "\n"
     ]
    }
   ],
   "source": [
    "Movie.show(2)"
   ]
  },
  {
   "cell_type": "markdown",
   "metadata": {},
   "source": [
    "# displaying total records in the table"
   ]
  },
  {
   "cell_type": "code",
   "execution_count": 11,
   "metadata": {},
   "outputs": [
    {
     "data": {
      "text/plain": [
       "3475"
      ]
     },
     "execution_count": 11,
     "metadata": {},
     "output_type": "execute_result"
    }
   ],
   "source": [
    "Movie.count"
   ]
  },
  {
   "cell_type": "markdown",
   "metadata": {},
   "source": [
    "# as per observation need to change the data type"
   ]
  },
  {
   "cell_type": "code",
   "execution_count": 12,
   "metadata": {},
   "outputs": [
    {
     "data": {
      "text/plain": [
       "movies = [index: int, MID: string ... 4 more fields]\n"
      ]
     },
     "metadata": {},
     "output_type": "display_data"
    },
    {
     "data": {
      "text/plain": [
       "[index: int, MID: string ... 4 more fields]"
      ]
     },
     "execution_count": 12,
     "metadata": {},
     "output_type": "execute_result"
    }
   ],
   "source": [
    "val movies=Movie.withColumn(\"year\",getYear(Movie(\"year\")).cast(IntegerType))\n",
    ".withColumn(\"title\",trim(Movie(\"title\")))\n",
    ".withColumn(\"MID\",trim(Movie(\"MID\")))\n",
    ".withColumn(\"rating\",trim(Movie(\"rating\")).cast(DoubleType))\n",
    ".withColumn(\"num_votes\",trim(Movie(\"num_votes\")).cast(LongType))\n",
    ".withColumn(\"index\",trim(Movie(\"index\")).cast(IntegerType))\n",
    ".dropDuplicates(\"MID\")"
   ]
  },
  {
   "cell_type": "markdown",
   "metadata": {},
   "source": [
    "# now print the schema to verify columns and it's data type"
   ]
  },
  {
   "cell_type": "code",
   "execution_count": 13,
   "metadata": {},
   "outputs": [
    {
     "name": "stdout",
     "output_type": "stream",
     "text": [
      "root\n",
      " |-- index: integer (nullable = true)\n",
      " |-- MID: string (nullable = true)\n",
      " |-- title: string (nullable = true)\n",
      " |-- year: integer (nullable = false)\n",
      " |-- rating: double (nullable = true)\n",
      " |-- num_votes: long (nullable = true)\n",
      "\n"
     ]
    }
   ],
   "source": [
    "movies.printSchema"
   ]
  },
  {
   "cell_type": "markdown",
   "metadata": {},
   "source": [
    "# print the total number of records in the table after data cleaning"
   ]
  },
  {
   "cell_type": "code",
   "execution_count": 14,
   "metadata": {},
   "outputs": [
    {
     "data": {
      "text/plain": [
       "3475"
      ]
     },
     "execution_count": 14,
     "metadata": {},
     "output_type": "execute_result"
    }
   ],
   "source": [
    "movies.count"
   ]
  },
  {
   "cell_type": "markdown",
   "metadata": {},
   "source": [
    "# show the first two records as a sample data"
   ]
  },
  {
   "cell_type": "code",
   "execution_count": 15,
   "metadata": {},
   "outputs": [
    {
     "name": "stdout",
     "output_type": "stream",
     "text": [
      "+-----+---------+--------------------+----+------+---------+\n",
      "|index|      MID|               title|year|rating|num_votes|\n",
      "+-----+---------+--------------------+----+------+---------+\n",
      "| 3008|tt0036077|              Kismet|1943|   7.5|       71|\n",
      "| 2969|tt0102701|Prahaar: The Fina...|1991|   7.9|     1696|\n",
      "+-----+---------+--------------------+----+------+---------+\n",
      "only showing top 2 rows\n",
      "\n"
     ]
    }
   ],
   "source": [
    "movies.show(2)"
   ]
  },
  {
   "cell_type": "markdown",
   "metadata": {},
   "source": [
    "# Loading and cleaning M_Cast table"
   ]
  },
  {
   "cell_type": "code",
   "execution_count": 27,
   "metadata": {},
   "outputs": [
    {
     "data": {
      "text/plain": [
       "M_Cast = [index: string, MID: string ... 2 more fields]\n"
      ]
     },
     "metadata": {},
     "output_type": "display_data"
    },
    {
     "data": {
      "text/plain": [
       "[index: string, MID: string ... 2 more fields]"
      ]
     },
     "execution_count": 27,
     "metadata": {},
     "output_type": "execute_result"
    }
   ],
   "source": [
    "val M_Cast=spark.read.option(\"header\",\"true\").csv(\"/home/use2cobadmin/practice_data/imdb/imdb_csv/M_Cast.csv\")"
   ]
  },
  {
   "cell_type": "markdown",
   "metadata": {},
   "source": [
    "# Sample data from M_Cast table"
   ]
  },
  {
   "cell_type": "code",
   "execution_count": 28,
   "metadata": {},
   "outputs": [
    {
     "name": "stdout",
     "output_type": "stream",
     "text": [
      "root\n",
      " |-- index: string (nullable = true)\n",
      " |-- MID: string (nullable = true)\n",
      " |-- PID: string (nullable = true)\n",
      " |-- ID: string (nullable = true)\n",
      "\n",
      "+-----+---------+----------+---+\n",
      "|index|      MID|       PID| ID|\n",
      "+-----+---------+----------+---+\n",
      "|    0|tt2388771| nm0000288|  0|\n",
      "|    1|tt2388771| nm0000949|  1|\n",
      "+-----+---------+----------+---+\n",
      "only showing top 2 rows\n",
      "\n"
     ]
    },
    {
     "data": {
      "text/plain": [
       "m_c1Count = 82837\n"
      ]
     },
     "metadata": {},
     "output_type": "display_data"
    },
    {
     "data": {
      "text/plain": [
       "82837"
      ]
     },
     "execution_count": 28,
     "metadata": {},
     "output_type": "execute_result"
    }
   ],
   "source": [
    "M_Cast.printSchema\n",
    "M_Cast.show(2)\n",
    "val m_c1Count=M_Cast.count"
   ]
  },
  {
   "cell_type": "markdown",
   "metadata": {},
   "source": [
    "# Cleaning data m_cast"
   ]
  },
  {
   "cell_type": "code",
   "execution_count": 29,
   "metadata": {},
   "outputs": [
    {
     "data": {
      "text/plain": [
       "m_cast = [index: bigint, MID: string ... 2 more fields]\n"
      ]
     },
     "metadata": {},
     "output_type": "display_data"
    },
    {
     "data": {
      "text/plain": [
       "[index: bigint, MID: string ... 2 more fields]"
      ]
     },
     "execution_count": 29,
     "metadata": {},
     "output_type": "execute_result"
    }
   ],
   "source": [
    "val m_cast=M_Cast.withColumn(\"ID\",trim(col(\"ID\")).cast(LongType))\n",
    ".withColumn(\"index\",trim(col(\"index\")).cast(LongType))\n",
    ".withColumn(\"MID\",trim(col(\"MID\")))\n",
    ".withColumn(\"PID\",trim(col(\"PID\")))\n",
    ".dropDuplicates(\"MID\",\"PID\")\n",
    "//.dropDuplicates(\"MID\",\"PID\",\"ID\")\n",
    ".dropDuplicates(\"ID\")\n",
    ".dropDuplicates()"
   ]
  },
  {
   "cell_type": "markdown",
   "metadata": {},
   "source": [
    "# Sample data after data cleaning for m_cast"
   ]
  },
  {
   "cell_type": "code",
   "execution_count": 30,
   "metadata": {},
   "outputs": [
    {
     "name": "stdout",
     "output_type": "stream",
     "text": [
      "root\n",
      " |-- index: long (nullable = true)\n",
      " |-- MID: string (nullable = true)\n",
      " |-- PID: string (nullable = true)\n",
      " |-- ID: long (nullable = true)\n",
      "\n",
      "+-----+---------+----------+---+\n",
      "|index|      MID|       PID| ID|\n",
      "+-----+---------+----------+---+\n",
      "|   26|tt2388771|nm10302077| 26|\n",
      "|   29|tt2388771|nm10302080| 29|\n",
      "+-----+---------+----------+---+\n",
      "only showing top 2 rows\n",
      "\n"
     ]
    },
    {
     "data": {
      "text/plain": [
       "m_c2Count = 82837\n"
      ]
     },
     "metadata": {},
     "output_type": "display_data"
    },
    {
     "data": {
      "text/plain": [
       "82837"
      ]
     },
     "execution_count": 30,
     "metadata": {},
     "output_type": "execute_result"
    }
   ],
   "source": [
    "m_cast.printSchema\n",
    "m_cast.show(2)\n",
    "val m_c2Count=m_cast.count"
   ]
  },
  {
   "cell_type": "markdown",
   "metadata": {},
   "source": [
    "# Print difference of total count after and before data cleaning"
   ]
  },
  {
   "cell_type": "code",
   "execution_count": 33,
   "metadata": {},
   "outputs": [
    {
     "name": "stdout",
     "output_type": "stream",
     "text": [
      "0 d\n"
     ]
    },
    {
     "data": {
      "text/plain": [
       "diff_m_cast_count = 0\n"
      ]
     },
     "metadata": {},
     "output_type": "display_data"
    },
    {
     "data": {
      "text/plain": [
       "0"
      ]
     },
     "execution_count": 33,
     "metadata": {},
     "output_type": "execute_result"
    }
   ],
   "source": [
    "val diff_m_cast_count=m_c1Count-m_c2Count\n",
    "println(diff_m_cast_count+\" d\")"
   ]
  },
  {
   "cell_type": "code",
   "execution_count": 56,
   "metadata": {},
   "outputs": [
    {
     "name": "stdout",
     "output_type": "stream",
     "text": [
      "+---------+--------------------+-----+\n",
      "|      MID|               title|count|\n",
      "+---------+--------------------+-----+\n",
      "|tt5164214|       Ocean's Eight|  238|\n",
      "|tt0451631|            Apaharan|  233|\n",
      "|tt6173990|                Gold|  215|\n",
      "|tt1188996|     My Name Is Khan|  213|\n",
      "|tt3498820|Captain America: ...|  191|\n",
      "|tt1981128|            Geostorm|  170|\n",
      "|tt1573482|             Striker|  165|\n",
      "|tt1190080|                2012|  154|\n",
      "|tt2120120|              Pixels|  144|\n",
      "|tt2510874|Yamla Pagla Deewa...|  140|\n",
      "|tt0848228|        The Avengers|  138|\n",
      "|tt4559046|         Housefull 3|  129|\n",
      "|tt3495026|                 Fan|  127|\n",
      "|tt0215196|     Split Wide Open|  126|\n",
      "|tt3863552|   Bajrangi Bhaijaan|  124|\n",
      "|tt2575290|       Train Station|  122|\n",
      "|tt6926486|               Daddy|  121|\n",
      "|tt1647668|  Million Dollar Arm|  117|\n",
      "|tt0086034|           Octopussy|  116|\n",
      "|tt1833673|             Dhoom:3|  115|\n",
      "+---------+--------------------+-----+\n",
      "only showing top 20 rows\n",
      "\n"
     ]
    },
    {
     "data": {
      "text/plain": [
       "finalResult = [MID: string, title: string ... 1 more field]\n"
      ]
     },
     "metadata": {},
     "output_type": "display_data"
    },
    {
     "data": {
      "text/plain": [
       "[MID: string, title: string ... 1 more field]"
      ]
     },
     "execution_count": 56,
     "metadata": {},
     "output_type": "execute_result"
    }
   ],
   "source": [
    "val finalResult=m_cast.dropDuplicates(\"MID\",\"PID\").groupBy(\"MID\").count().join(movies,\"MID\").select(\"MID\",\"title\",\"count\").sort(desc(\"count\"))\n",
    "finalResult.show"
   ]
  },
  {
   "cell_type": "markdown",
   "metadata": {},
   "source": [
    "# validation 1"
   ]
  },
  {
   "cell_type": "code",
   "execution_count": 52,
   "metadata": {},
   "outputs": [
    {
     "name": "stdout",
     "output_type": "stream",
     "text": [
      "+-----+---------+-------------+----+------+---------+\n",
      "|index|      MID|        title|year|rating|num_votes|\n",
      "+-----+---------+-------------+----+------+---------+\n",
      "| 3123|tt2355921|The Wish Fish|2012|   3.4|       60|\n",
      "+-----+---------+-------------+----+------+---------+\n",
      "\n",
      "+-----+---------+----+-----+\n",
      "|index|      MID| PID|   ID|\n",
      "+-----+---------+----+-----+\n",
      "|77014|tt2355921|null|77014|\n",
      "+-----+---------+----+-----+\n",
      "\n"
     ]
    }
   ],
   "source": [
    "movies.filter($\"MID\"===\"tt2355921\").show\n",
    "m_cast.filter($\"MID\"===\"tt2355921\").show"
   ]
  },
  {
   "cell_type": "code",
   "execution_count": 53,
   "metadata": {},
   "outputs": [
    {
     "name": "stdout",
     "output_type": "stream",
     "text": [
      "== Physical Plan ==\n",
      "*(10) Sort [count#1577L DESC NULLS LAST], true, 0\n",
      "+- Exchange rangepartitioning(count#1577L DESC NULLS LAST, 200)\n",
      "   +- *(9) Project [MID#485, title#71, count#1577L]\n",
      "      +- *(9) BroadcastHashJoin [MID#485], [MID#78], Inner, BuildRight\n",
      "         :- *(9) HashAggregate(keys=[MID#485], functions=[count(1)])\n",
      "         :  +- Exchange hashpartitioning(MID#485, 200)\n",
      "         :     +- *(4) HashAggregate(keys=[MID#485], functions=[partial_count(1)])\n",
      "         :        +- *(4) HashAggregate(keys=[index#480L, MID#485, PID#490, ID#475L], functions=[])\n",
      "         :           +- *(4) HashAggregate(keys=[index#480L, MID#485, PID#490, ID#475L], functions=[])\n",
      "         :              +- *(4) Filter isnotnull(MID#485)\n",
      "         :                 +- SortAggregate(key=[ID#475L], functions=[first(index#480L, false), first(MID#485, false), first(PID#490, false)])\n",
      "         :                    +- *(3) Sort [ID#475L ASC NULLS FIRST], false, 0\n",
      "         :                       +- Exchange hashpartitioning(ID#475L, 200)\n",
      "         :                          +- SortAggregate(key=[ID#475L], functions=[partial_first(index#480L, false), partial_first(MID#485, false), partial_first(PID#490, false)])\n",
      "         :                             +- *(2) Sort [ID#475L ASC NULLS FIRST], false, 0\n",
      "         :                                +- *(2) HashAggregate(keys=[MID#485, PID#490], functions=[first(index#480L, false), first(ID#475L, false)])\n",
      "         :                                   +- Exchange hashpartitioning(MID#485, PID#490, 200)\n",
      "         :                                      +- *(1) HashAggregate(keys=[MID#485, PID#490], functions=[partial_first(index#480L, false), partial_first(ID#475L, false)])\n",
      "         :                                         +- *(1) Project [cast(trim(index#441, None) as bigint) AS index#480L, trim(MID#442, None) AS MID#485, trim(PID#443, None) AS PID#490, cast(trim(ID#444, None) as bigint) AS ID#475L]\n",
      "         :                                            +- *(1) FileScan csv [index#441,MID#442,PID#443,ID#444] Batched: false, Format: CSV, Location: InMemoryFileIndex[file:/home/use2cobadmin/practice_data/imdb/imdb_csv/M_Cast.csv], PartitionFilters: [], PushedFilters: [], ReadSchema: struct<index:string,MID:string,PID:string,ID:string>\n",
      "         +- BroadcastExchange HashedRelationBroadcastMode(List(input[0, string, false]))\n",
      "            +- *(8) Filter isnotnull(MID#78)\n",
      "               +- SortAggregate(key=[MID#78], functions=[first(title#71, false)])\n",
      "                  +- *(7) Sort [MID#78 ASC NULLS FIRST], false, 0\n",
      "                     +- Exchange hashpartitioning(MID#78, 200)\n",
      "                        +- SortAggregate(key=[MID#78], functions=[partial_first(title#71, false)])\n",
      "                           +- *(6) Sort [MID#78 ASC NULLS FIRST], false, 0\n",
      "                              +- *(6) HashAggregate(keys=[MID#11, year#13, num_votes#15, rating#14, title#12, index#10], functions=[])\n",
      "                                 +- Exchange hashpartitioning(MID#11, year#13, num_votes#15, rating#14, title#12, index#10, 200)\n",
      "                                    +- *(5) HashAggregate(keys=[MID#11, year#13, num_votes#15, rating#14, title#12, index#10], functions=[])\n",
      "                                       +- *(5) FileScan csv [index#10,MID#11,title#12,year#13,rating#14,num_votes#15] Batched: false, Format: CSV, Location: InMemoryFileIndex[file:/home/use2cobadmin/practice_data/imdb/imdb_csv/Movie.csv], PartitionFilters: [], PushedFilters: [], ReadSchema: struct<index:string,MID:string,title:string,year:string,rating:string,num_votes:string>\n"
     ]
    }
   ],
   "source": [
    "m_cast.groupBy(\"MID\").count().join(movies,\"MID\").select(\"MID\",\"title\",\"count\").sort(desc(\"count\")).explain"
   ]
  },
  {
   "cell_type": "code",
   "execution_count": 54,
   "metadata": {},
   "outputs": [
    {
     "name": "stdout",
     "output_type": "stream",
     "text": [
      "== Physical Plan ==\n",
      "*(10) Sort [count#1632L DESC NULLS LAST], true, 0\n",
      "+- Exchange rangepartitioning(count#1632L DESC NULLS LAST, 200)\n",
      "   +- *(9) Project [MID#485, title#71, count#1632L]\n",
      "      +- *(9) BroadcastHashJoin [MID#485], [MID#78], Inner, BuildRight\n",
      "         :- *(9) HashAggregate(keys=[MID#485], functions=[count(1)])\n",
      "         :  +- Exchange hashpartitioning(MID#485, 200)\n",
      "         :     +- *(4) HashAggregate(keys=[MID#485], functions=[partial_count(1)])\n",
      "         :        +- *(4) HashAggregate(keys=[index#480L, MID#485, PID#490, ID#475L], functions=[])\n",
      "         :           +- *(4) HashAggregate(keys=[index#480L, MID#485, PID#490, ID#475L], functions=[])\n",
      "         :              +- *(4) Filter isnotnull(MID#485)\n",
      "         :                 +- SortAggregate(key=[ID#475L], functions=[first(index#480L, false), first(MID#485, false), first(PID#490, false)])\n",
      "         :                    +- *(3) Sort [ID#475L ASC NULLS FIRST], false, 0\n",
      "         :                       +- Exchange hashpartitioning(ID#475L, 200)\n",
      "         :                          +- SortAggregate(key=[ID#475L], functions=[partial_first(index#480L, false), partial_first(MID#485, false), partial_first(PID#490, false)])\n",
      "         :                             +- *(2) Sort [ID#475L ASC NULLS FIRST], false, 0\n",
      "         :                                +- *(2) HashAggregate(keys=[MID#485, PID#490], functions=[first(index#480L, false), first(ID#475L, false)])\n",
      "         :                                   +- Exchange hashpartitioning(MID#485, PID#490, 200)\n",
      "         :                                      +- *(1) HashAggregate(keys=[MID#485, PID#490], functions=[partial_first(index#480L, false), partial_first(ID#475L, false)])\n",
      "         :                                         +- *(1) Project [cast(trim(index#441, None) as bigint) AS index#480L, trim(MID#442, None) AS MID#485, trim(PID#443, None) AS PID#490, cast(trim(ID#444, None) as bigint) AS ID#475L]\n",
      "         :                                            +- *(1) FileScan csv [index#441,MID#442,PID#443,ID#444] Batched: false, Format: CSV, Location: InMemoryFileIndex[file:/home/use2cobadmin/practice_data/imdb/imdb_csv/M_Cast.csv], PartitionFilters: [], PushedFilters: [], ReadSchema: struct<index:string,MID:string,PID:string,ID:string>\n",
      "         +- BroadcastExchange HashedRelationBroadcastMode(List(input[0, string, false]))\n",
      "            +- *(8) Filter isnotnull(MID#78)\n",
      "               +- SortAggregate(key=[MID#78], functions=[first(title#71, false)])\n",
      "                  +- *(7) Sort [MID#78 ASC NULLS FIRST], false, 0\n",
      "                     +- Exchange hashpartitioning(MID#78, 200)\n",
      "                        +- SortAggregate(key=[MID#78], functions=[partial_first(title#71, false)])\n",
      "                           +- *(6) Sort [MID#78 ASC NULLS FIRST], false, 0\n",
      "                              +- *(6) HashAggregate(keys=[MID#11, year#13, num_votes#15, rating#14, title#12, index#10], functions=[])\n",
      "                                 +- Exchange hashpartitioning(MID#11, year#13, num_votes#15, rating#14, title#12, index#10, 200)\n",
      "                                    +- *(5) HashAggregate(keys=[MID#11, year#13, num_votes#15, rating#14, title#12, index#10], functions=[])\n",
      "                                       +- *(5) FileScan csv [index#10,MID#11,title#12,year#13,rating#14,num_votes#15] Batched: false, Format: CSV, Location: InMemoryFileIndex[file:/home/use2cobadmin/practice_data/imdb/imdb_csv/Movie.csv], PartitionFilters: [], PushedFilters: [], ReadSchema: struct<index:string,MID:string,title:string,year:string,rating:string,num_votes:string>\n"
     ]
    }
   ],
   "source": [
    "m_cast.groupBy(\"MID\").count().join(movies.select(\"MID\",\"title\"),\"MID\")\n",
    ".select(\"MID\",\"title\",\"count\").sort(desc(\"count\")).explain"
   ]
  },
  {
   "cell_type": "code",
   "execution_count": null,
   "metadata": {},
   "outputs": [],
   "source": []
  }
 ],
 "metadata": {
  "kernelspec": {
   "display_name": "Apache Toree - Scala",
   "language": "scala",
   "name": "apache_toree_scala"
  },
  "language_info": {
   "codemirror_mode": "text/x-scala",
   "file_extension": ".scala",
   "mimetype": "text/x-scala",
   "name": "scala",
   "pygments_lexer": "scala",
   "version": "2.11.12"
  }
 },
 "nbformat": 4,
 "nbformat_minor": 2
}
