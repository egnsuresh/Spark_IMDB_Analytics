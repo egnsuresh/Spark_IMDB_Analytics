{
 "cells": [
  {
   "cell_type": "markdown",
   "metadata": {},
   "source": [
    "# 003 List all the actors who acted in a film before 1970 and in a film after 1990. That is greater than 1970 and less than 1990"
   ]
  },
  {
   "cell_type": "code",
   "execution_count": 1,
   "metadata": {},
   "outputs": [
    {
     "data": {
      "text/plain": [
       "org.apache.spark.sql.SparkSession@6b9c9741"
      ]
     },
     "execution_count": 1,
     "metadata": {},
     "output_type": "execute_result"
    }
   ],
   "source": [
    "spark"
   ]
  },
  {
   "cell_type": "code",
   "execution_count": 2,
   "metadata": {},
   "outputs": [],
   "source": [
    "import org.apache.spark.sql.functions._"
   ]
  },
  {
   "cell_type": "code",
   "execution_count": 3,
   "metadata": {},
   "outputs": [],
   "source": [
    "import org.apache.spark.sql.types._"
   ]
  },
  {
   "cell_type": "code",
   "execution_count": 4,
   "metadata": {},
   "outputs": [],
   "source": [
    "import org.apache.spark.sql.expressions.Window"
   ]
  },
  {
   "cell_type": "code",
   "execution_count": 5,
   "metadata": {},
   "outputs": [
    {
     "data": {
      "text/plain": [
       "spark = org.apache.spark.sql.SparkSession@6b9c9741\n"
      ]
     },
     "metadata": {},
     "output_type": "display_data"
    },
    {
     "data": {
      "text/plain": [
       "org.apache.spark.sql.SparkSession@6b9c9741"
      ]
     },
     "execution_count": 5,
     "metadata": {},
     "output_type": "execute_result"
    }
   ],
   "source": [
    "val spark=SparkSession.builder().appName(\"movies app\").master(\"local[*]\").getOrCreate()"
   ]
  },
  {
   "cell_type": "code",
   "execution_count": 6,
   "metadata": {},
   "outputs": [],
   "source": [
    "import spark.implicits._"
   ]
  },
  {
   "cell_type": "markdown",
   "metadata": {},
   "source": [
    "# UDFs"
   ]
  },
  {
   "cell_type": "code",
   "execution_count": 7,
   "metadata": {},
   "outputs": [
    {
     "data": {
      "text/plain": [
       "getYear = UserDefinedFunction(<function1>,IntegerType,Some(List(StringType)))\n"
      ]
     },
     "metadata": {},
     "output_type": "display_data"
    },
    {
     "data": {
      "text/plain": [
       "UserDefinedFunction(<function1>,IntegerType,Some(List(StringType)))"
      ]
     },
     "execution_count": 7,
     "metadata": {},
     "output_type": "execute_result"
    }
   ],
   "source": [
    "val getYear=udf((year:String)=>{\n",
    "    val p=\"\\\\d{4}\".r\n",
    "    val yr=p.findFirstMatchIn(year).getOrElse(\"\").toString\n",
    "    if(yr!=\"\"){\n",
    "        yr.toInt\n",
    "    }\n",
    "    else{\n",
    "        0\n",
    "    }\n",
    "})"
   ]
  },
  {
   "cell_type": "code",
   "execution_count": null,
   "metadata": {},
   "outputs": [],
   "source": []
  },
  {
   "cell_type": "markdown",
   "metadata": {},
   "source": [
    "# loading movies"
   ]
  },
  {
   "cell_type": "code",
   "execution_count": 8,
   "metadata": {},
   "outputs": [
    {
     "data": {
      "text/plain": [
       "Movie = [index: string, MID: string ... 4 more fields]\n"
      ]
     },
     "metadata": {},
     "output_type": "display_data"
    },
    {
     "data": {
      "text/plain": [
       "[index: string, MID: string ... 4 more fields]"
      ]
     },
     "execution_count": 8,
     "metadata": {},
     "output_type": "execute_result"
    }
   ],
   "source": [
    "val Movie=spark.read.option(\"header\",\"true\").csv(\"/home/use2cobadmin/practice_data/imdb/imdb_csv/Movie.csv\")\n",
    ".dropDuplicates()"
   ]
  },
  {
   "cell_type": "markdown",
   "metadata": {},
   "source": [
    "# printing table structure to know what are the columns and it's data type"
   ]
  },
  {
   "cell_type": "code",
   "execution_count": 9,
   "metadata": {},
   "outputs": [
    {
     "name": "stdout",
     "output_type": "stream",
     "text": [
      "root\n",
      " |-- index: string (nullable = true)\n",
      " |-- MID: string (nullable = true)\n",
      " |-- title: string (nullable = true)\n",
      " |-- year: string (nullable = true)\n",
      " |-- rating: string (nullable = true)\n",
      " |-- num_votes: string (nullable = true)\n",
      "\n"
     ]
    }
   ],
   "source": [
    "Movie.printSchema"
   ]
  },
  {
   "cell_type": "markdown",
   "metadata": {},
   "source": [
    "# Displaying first two records to see sample data\n",
    "# observation 1: year,rating,num_votes,index columns data types should be Integer\n",
    "# observation 2: also we need do trim to remove any extra spaces"
   ]
  },
  {
   "cell_type": "code",
   "execution_count": 10,
   "metadata": {},
   "outputs": [
    {
     "name": "stdout",
     "output_type": "stream",
     "text": [
      "+-----+---------+-----------------+----+------+---------+\n",
      "|index|      MID|            title|year|rating|num_votes|\n",
      "+-----+---------+-----------------+----+------+---------+\n",
      "|   85|tt3224288|Beyond the Clouds|2017|   7.0|     1123|\n",
      "|  913|tt2178508|   Son of Sardaar|2012|   4.0|     7895|\n",
      "+-----+---------+-----------------+----+------+---------+\n",
      "only showing top 2 rows\n",
      "\n"
     ]
    }
   ],
   "source": [
    "Movie.show(2)"
   ]
  },
  {
   "cell_type": "markdown",
   "metadata": {},
   "source": [
    "# displaying total records in the table"
   ]
  },
  {
   "cell_type": "code",
   "execution_count": 11,
   "metadata": {},
   "outputs": [
    {
     "data": {
      "text/plain": [
       "3475"
      ]
     },
     "execution_count": 11,
     "metadata": {},
     "output_type": "execute_result"
    }
   ],
   "source": [
    "Movie.count"
   ]
  },
  {
   "cell_type": "markdown",
   "metadata": {},
   "source": [
    "# as per observation need to change the data type"
   ]
  },
  {
   "cell_type": "code",
   "execution_count": 12,
   "metadata": {},
   "outputs": [
    {
     "data": {
      "text/plain": [
       "movies = [index: int, MID: string ... 4 more fields]\n"
      ]
     },
     "metadata": {},
     "output_type": "display_data"
    },
    {
     "data": {
      "text/plain": [
       "[index: int, MID: string ... 4 more fields]"
      ]
     },
     "execution_count": 12,
     "metadata": {},
     "output_type": "execute_result"
    }
   ],
   "source": [
    "val movies=Movie.withColumn(\"year\",getYear(Movie(\"year\")).cast(IntegerType))\n",
    ".withColumn(\"title\",trim(Movie(\"title\")))\n",
    ".withColumn(\"MID\",trim(Movie(\"MID\")))\n",
    ".withColumn(\"rating\",trim(Movie(\"rating\")).cast(DoubleType))\n",
    ".withColumn(\"num_votes\",trim(Movie(\"num_votes\")).cast(LongType))\n",
    ".withColumn(\"index\",trim(Movie(\"index\")).cast(IntegerType))\n",
    ".dropDuplicates(\"MID\")"
   ]
  },
  {
   "cell_type": "markdown",
   "metadata": {},
   "source": [
    "# now print the schema to verify columns and it's data type"
   ]
  },
  {
   "cell_type": "code",
   "execution_count": 13,
   "metadata": {},
   "outputs": [
    {
     "name": "stdout",
     "output_type": "stream",
     "text": [
      "root\n",
      " |-- index: integer (nullable = true)\n",
      " |-- MID: string (nullable = true)\n",
      " |-- title: string (nullable = true)\n",
      " |-- year: integer (nullable = false)\n",
      " |-- rating: double (nullable = true)\n",
      " |-- num_votes: long (nullable = true)\n",
      "\n"
     ]
    }
   ],
   "source": [
    "movies.printSchema"
   ]
  },
  {
   "cell_type": "markdown",
   "metadata": {},
   "source": [
    "# print the total number of records in the table after data cleaning"
   ]
  },
  {
   "cell_type": "code",
   "execution_count": 14,
   "metadata": {},
   "outputs": [
    {
     "data": {
      "text/plain": [
       "3475"
      ]
     },
     "execution_count": 14,
     "metadata": {},
     "output_type": "execute_result"
    }
   ],
   "source": [
    "movies.count"
   ]
  },
  {
   "cell_type": "markdown",
   "metadata": {},
   "source": [
    "# show the first two records as a sample data"
   ]
  },
  {
   "cell_type": "code",
   "execution_count": 15,
   "metadata": {},
   "outputs": [
    {
     "name": "stdout",
     "output_type": "stream",
     "text": [
      "+-----+---------+--------------------+----+------+---------+\n",
      "|index|      MID|               title|year|rating|num_votes|\n",
      "+-----+---------+--------------------+----+------+---------+\n",
      "| 3008|tt0036077|              Kismet|1943|   7.5|       71|\n",
      "| 2969|tt0102701|Prahaar: The Fina...|1991|   7.9|     1696|\n",
      "+-----+---------+--------------------+----+------+---------+\n",
      "only showing top 2 rows\n",
      "\n"
     ]
    }
   ],
   "source": [
    "movies.show(2)"
   ]
  },
  {
   "cell_type": "markdown",
   "metadata": {},
   "source": [
    "# Load the Person.csv file and it has header and store theses records in Person variable"
   ]
  },
  {
   "cell_type": "code",
   "execution_count": 16,
   "metadata": {},
   "outputs": [
    {
     "data": {
      "text/plain": [
       "Person = [index: string, PID: string ... 2 more fields]\n"
      ]
     },
     "metadata": {},
     "output_type": "display_data"
    },
    {
     "data": {
      "text/plain": [
       "[index: string, PID: string ... 2 more fields]"
      ]
     },
     "execution_count": 16,
     "metadata": {},
     "output_type": "execute_result"
    }
   ],
   "source": [
    "val Person=spark.read.option(\"header\",\"true\").csv(\"/home/use2cobadmin/practice_data/imdb/imdb_csv/Person.csv\")"
   ]
  },
  {
   "cell_type": "markdown",
   "metadata": {},
   "source": [
    "# Print the schema of Person variable,first two records and it's count"
   ]
  },
  {
   "cell_type": "code",
   "execution_count": 17,
   "metadata": {},
   "outputs": [
    {
     "name": "stdout",
     "output_type": "stream",
     "text": [
      "+-----+---------+---------------+------+\n",
      "|index|      PID|           Name|Gender|\n",
      "+-----+---------+---------------+------+\n",
      "|    0|nm0000288| Christian Bale|  Male|\n",
      "|    1|nm0000949| Cate Blanchett|Female|\n",
      "+-----+---------+---------------+------+\n",
      "only showing top 2 rows\n",
      "\n",
      "root\n",
      " |-- index: string (nullable = true)\n",
      " |-- PID: string (nullable = true)\n",
      " |-- Name: string (nullable = true)\n",
      " |-- Gender: string (nullable = true)\n",
      "\n"
     ]
    },
    {
     "data": {
      "text/plain": [
       "p1Count = 38285\n"
      ]
     },
     "metadata": {},
     "output_type": "display_data"
    },
    {
     "data": {
      "text/plain": [
       "38285"
      ]
     },
     "execution_count": 17,
     "metadata": {},
     "output_type": "execute_result"
    }
   ],
   "source": [
    "Person.show(2)\n",
    "Person.printSchema\n",
    "val p1Count=Person.count"
   ]
  },
  {
   "cell_type": "markdown",
   "metadata": {},
   "source": [
    "# Data Cleaning\n",
    "# change the data types as per data and also remove extra spaces from data"
   ]
  },
  {
   "cell_type": "code",
   "execution_count": 18,
   "metadata": {},
   "outputs": [
    {
     "data": {
      "text/plain": [
       "persons = [index: int, PID: string ... 2 more fields]\n"
      ]
     },
     "metadata": {},
     "output_type": "display_data"
    },
    {
     "data": {
      "text/plain": [
       "[index: int, PID: string ... 2 more fields]"
      ]
     },
     "execution_count": 18,
     "metadata": {},
     "output_type": "execute_result"
    }
   ],
   "source": [
    "val persons=Person.withColumn(\"PID\",trim(Person(\"PID\")))\n",
    ".withColumn(\"Name\",trim(Person(\"Name\")))\n",
    ".withColumn(\"Gender\",trim(Person(\"Gender\")))\n",
    ".withColumn(\"index\",trim(Person(\"index\")).cast(IntegerType))\n",
    ".dropDuplicates(\"PID\")"
   ]
  },
  {
   "cell_type": "markdown",
   "metadata": {},
   "source": [
    "# show the sample data, schema and it's count of variable persons"
   ]
  },
  {
   "cell_type": "code",
   "execution_count": 19,
   "metadata": {},
   "outputs": [
    {
     "name": "stdout",
     "output_type": "stream",
     "text": [
      "+-----+---------+-------------+------+\n",
      "|index|      PID|         Name|Gender|\n",
      "+-----+---------+-------------+------+\n",
      "|15793|nm0022343|       Alpana|Female|\n",
      "| 3121|nm0028416|Martin Andris|  Male|\n",
      "+-----+---------+-------------+------+\n",
      "only showing top 2 rows\n",
      "\n",
      "root\n",
      " |-- index: integer (nullable = true)\n",
      " |-- PID: string (nullable = true)\n",
      " |-- Name: string (nullable = true)\n",
      " |-- Gender: string (nullable = true)\n",
      "\n"
     ]
    },
    {
     "data": {
      "text/plain": [
       "p2Count = 37566\n"
      ]
     },
     "metadata": {},
     "output_type": "display_data"
    },
    {
     "data": {
      "text/plain": [
       "37566"
      ]
     },
     "execution_count": 19,
     "metadata": {},
     "output_type": "execute_result"
    }
   ],
   "source": [
    "persons.show(2)\n",
    "persons.printSchema\n",
    "val p2Count=persons.count"
   ]
  },
  {
   "cell_type": "markdown",
   "metadata": {},
   "source": [
    "# print the difference between Person and persons records count"
   ]
  },
  {
   "cell_type": "code",
   "execution_count": 20,
   "metadata": {},
   "outputs": [
    {
     "name": "stdout",
     "output_type": "stream",
     "text": [
      "719 duplicates found\n"
     ]
    },
    {
     "data": {
      "text/plain": [
       "diff = 719\n"
      ]
     },
     "metadata": {},
     "output_type": "display_data"
    },
    {
     "data": {
      "text/plain": [
       "719"
      ]
     },
     "execution_count": 20,
     "metadata": {},
     "output_type": "execute_result"
    }
   ],
   "source": [
    "val diff=p1Count-p2Count\n",
    "println(diff+\" duplicates found\")"
   ]
  },
  {
   "cell_type": "markdown",
   "metadata": {},
   "source": [
    "# Loading and cleaning M_Cast table"
   ]
  },
  {
   "cell_type": "code",
   "execution_count": 21,
   "metadata": {},
   "outputs": [
    {
     "data": {
      "text/plain": [
       "M_Cast = [index: string, MID: string ... 2 more fields]\n"
      ]
     },
     "metadata": {},
     "output_type": "display_data"
    },
    {
     "data": {
      "text/plain": [
       "[index: string, MID: string ... 2 more fields]"
      ]
     },
     "execution_count": 21,
     "metadata": {},
     "output_type": "execute_result"
    }
   ],
   "source": [
    "val M_Cast=spark.read.option(\"header\",\"true\").csv(\"/home/use2cobadmin/practice_data/imdb/imdb_csv/M_Cast.csv\")"
   ]
  },
  {
   "cell_type": "markdown",
   "metadata": {},
   "source": [
    "# Sample data from M_Cast table"
   ]
  },
  {
   "cell_type": "code",
   "execution_count": 22,
   "metadata": {},
   "outputs": [
    {
     "name": "stdout",
     "output_type": "stream",
     "text": [
      "root\n",
      " |-- index: string (nullable = true)\n",
      " |-- MID: string (nullable = true)\n",
      " |-- PID: string (nullable = true)\n",
      " |-- ID: string (nullable = true)\n",
      "\n",
      "+-----+---------+----------+---+\n",
      "|index|      MID|       PID| ID|\n",
      "+-----+---------+----------+---+\n",
      "|    0|tt2388771| nm0000288|  0|\n",
      "|    1|tt2388771| nm0000949|  1|\n",
      "+-----+---------+----------+---+\n",
      "only showing top 2 rows\n",
      "\n"
     ]
    },
    {
     "data": {
      "text/plain": [
       "m_c1Count = 82837\n"
      ]
     },
     "metadata": {},
     "output_type": "display_data"
    },
    {
     "data": {
      "text/plain": [
       "82837"
      ]
     },
     "execution_count": 22,
     "metadata": {},
     "output_type": "execute_result"
    }
   ],
   "source": [
    "M_Cast.printSchema\n",
    "M_Cast.show(2)\n",
    "val m_c1Count=M_Cast.count"
   ]
  },
  {
   "cell_type": "markdown",
   "metadata": {},
   "source": [
    "# Cleaning data m_cast"
   ]
  },
  {
   "cell_type": "code",
   "execution_count": 23,
   "metadata": {},
   "outputs": [
    {
     "data": {
      "text/plain": [
       "m_cast = [index: bigint, MID: string ... 2 more fields]\n"
      ]
     },
     "metadata": {},
     "output_type": "display_data"
    },
    {
     "data": {
      "text/plain": [
       "[index: bigint, MID: string ... 2 more fields]"
      ]
     },
     "execution_count": 23,
     "metadata": {},
     "output_type": "execute_result"
    }
   ],
   "source": [
    "val m_cast=M_Cast.withColumn(\"ID\",trim(col(\"ID\")).cast(LongType))\n",
    ".withColumn(\"index\",trim(col(\"index\")).cast(LongType))\n",
    ".withColumn(\"MID\",trim(col(\"MID\")))\n",
    ".withColumn(\"PID\",trim(col(\"PID\")))\n",
    ".dropDuplicates(\"MID\",\"PID\")\n",
    "//.dropDuplicates(\"MID\",\"PID\",\"ID\")\n",
    ".dropDuplicates(\"ID\")\n",
    ".dropDuplicates()"
   ]
  },
  {
   "cell_type": "markdown",
   "metadata": {},
   "source": [
    "# Sample data after data cleaning for m_cast"
   ]
  },
  {
   "cell_type": "code",
   "execution_count": 24,
   "metadata": {},
   "outputs": [
    {
     "name": "stdout",
     "output_type": "stream",
     "text": [
      "root\n",
      " |-- index: long (nullable = true)\n",
      " |-- MID: string (nullable = true)\n",
      " |-- PID: string (nullable = true)\n",
      " |-- ID: long (nullable = true)\n",
      "\n",
      "+-----+---------+----------+---+\n",
      "|index|      MID|       PID| ID|\n",
      "+-----+---------+----------+---+\n",
      "|   26|tt2388771|nm10302077| 26|\n",
      "|   29|tt2388771|nm10302080| 29|\n",
      "+-----+---------+----------+---+\n",
      "only showing top 2 rows\n",
      "\n"
     ]
    },
    {
     "data": {
      "text/plain": [
       "m_c2Count = 82837\n"
      ]
     },
     "metadata": {},
     "output_type": "display_data"
    },
    {
     "data": {
      "text/plain": [
       "82837"
      ]
     },
     "execution_count": 24,
     "metadata": {},
     "output_type": "execute_result"
    }
   ],
   "source": [
    "m_cast.printSchema\n",
    "m_cast.show(2)\n",
    "val m_c2Count=m_cast.count"
   ]
  },
  {
   "cell_type": "markdown",
   "metadata": {},
   "source": [
    "# Print difference of total count after and before data cleaning"
   ]
  },
  {
   "cell_type": "code",
   "execution_count": 25,
   "metadata": {},
   "outputs": [
    {
     "name": "stdout",
     "output_type": "stream",
     "text": [
      "0 d\n"
     ]
    },
    {
     "data": {
      "text/plain": [
       "diff_m_cast_count = 0\n"
      ]
     },
     "metadata": {},
     "output_type": "display_data"
    },
    {
     "data": {
      "text/plain": [
       "0"
      ]
     },
     "execution_count": 25,
     "metadata": {},
     "output_type": "execute_result"
    }
   ],
   "source": [
    "val diff_m_cast_count=m_c1Count-m_c2Count\n",
    "println(diff_m_cast_count+\" d\")"
   ]
  },
  {
   "cell_type": "markdown",
   "metadata": {},
   "source": [
    "# by default many of us will try to write like below\n",
    "# it will not work since there is such movie"
   ]
  },
  {
   "cell_type": "code",
   "execution_count": 26,
   "metadata": {},
   "outputs": [
    {
     "data": {
      "text/plain": [
       "Name: Compile Error\n",
       "Message: <console>:2: error: ')' expected but '.' found.\n",
       "MIDs.count\n",
       "    ^\n",
       "<console>:3: error: ';' expected but '.' found.\n",
       "MIDs.show\n",
       "    ^\n",
       "\n",
       "StackTrace: "
      ]
     },
     "execution_count": 26,
     "metadata": {},
     "output_type": "execute_result"
    }
   ],
   "source": [
    "val MIDs=movies.filter($\"year\".between(1970 && $\"year\">1990).select(\"MID\")\n",
    "MIDs.count\n",
    "MIDs.show"
   ]
  },
  {
   "cell_type": "markdown",
   "metadata": {},
   "source": [
    "# by default many of us will try to write like below\n",
    "# it will not work since our condition either or. both conditions are mandatory"
   ]
  },
  {
   "cell_type": "code",
   "execution_count": 27,
   "metadata": {},
   "outputs": [
    {
     "data": {
      "text/plain": [
       "Name: Compile Error\n",
       "Message: <console>:2: error: ')' expected but '.' found.\n",
       "MIDs.count\n",
       "    ^\n",
       "<console>:3: error: ';' expected but '.' found.\n",
       "MIDs.show\n",
       "    ^\n",
       "\n",
       "StackTrace: "
      ]
     },
     "execution_count": 27,
     "metadata": {},
     "output_type": "execute_result"
    }
   ],
   "source": [
    "val MIDs=movies.filter($\"year\".between(1970 || $\"year\">1990).select(\"MID\")\n",
    "MIDs.count\n",
    "MIDs.show"
   ]
  },
  {
   "cell_type": "markdown",
   "metadata": {},
   "source": [
    "# Lets start from here towards the solution"
   ]
  },
  {
   "cell_type": "markdown",
   "metadata": {},
   "source": [
    "# Join the persons table with m_cast to get the movie id and actors\n",
    "# now join the result above with movie to get year with the result"
   ]
  },
  {
   "cell_type": "code",
   "execution_count": 28,
   "metadata": {},
   "outputs": [
    {
     "data": {
      "text/plain": [
       "actorsWithMovies = [MID: string, PID: string ... 3 more fields]\n"
      ]
     },
     "metadata": {},
     "output_type": "display_data"
    },
    {
     "data": {
      "text/plain": [
       "[MID: string, PID: string ... 3 more fields]"
      ]
     },
     "execution_count": 28,
     "metadata": {},
     "output_type": "execute_result"
    }
   ],
   "source": [
    "val actorsWithMovies=persons.join(m_cast,\"PID\").dropDuplicates().join(movies,\"MID\")\n",
    ".select(\"MID\",\"PID\",\"year\",\"Name\",\"Gender\")"
   ]
  },
  {
   "cell_type": "markdown",
   "metadata": {},
   "source": [
    "# look at sample data after joining"
   ]
  },
  {
   "cell_type": "code",
   "execution_count": 29,
   "metadata": {},
   "outputs": [
    {
     "name": "stdout",
     "output_type": "stream",
     "text": [
      "+---------+---------+----+-----------------+------+\n",
      "|      MID|      PID|year|             Name|Gender|\n",
      "+---------+---------+----+-----------------+------+\n",
      "|tt0053126|nm0000002|1959|    Lauren Bacall|Female|\n",
      "|tt0087892|nm0000027|1984|    Alec Guinness|  Male|\n",
      "|tt0046427|nm0000039|1953|     Deborah Kerr|Female|\n",
      "|tt0046427|nm0000042|1953|        Alan Ladd|  Male|\n",
      "|tt0066070|nm0000047|1970|     Sophia Loren|Female|\n",
      "|tt0031580|nm0000073|1939|   Shirley Temple|Female|\n",
      "|tt0075860|nm0000076|1977|François Truffaut|  null|\n",
      "|tt0327437|nm0000092|2004|      John Cleese|  Male|\n",
      "|tt0120102|nm0000093|1997|        Brad Pitt|  null|\n",
      "|tt4977530|nm0000096|2017| Gillian Anderson|Female|\n",
      "+---------+---------+----+-----------------+------+\n",
      "only showing top 10 rows\n",
      "\n"
     ]
    }
   ],
   "source": [
    "actorsWithMovies.orderBy(\"PID\").show(10)"
   ]
  },
  {
   "cell_type": "markdown",
   "metadata": {},
   "source": [
    "# get only 1970 movie MIDs only"
   ]
  },
  {
   "cell_type": "code",
   "execution_count": 30,
   "metadata": {},
   "outputs": [
    {
     "data": {
      "text/plain": [
       "movies_1970_list = [PID: string, year: int ... 2 more fields]\n"
      ]
     },
     "metadata": {},
     "output_type": "display_data"
    },
    {
     "data": {
      "text/plain": [
       "[PID: string, year: int ... 2 more fields]"
      ]
     },
     "execution_count": 30,
     "metadata": {},
     "output_type": "execute_result"
    }
   ],
   "source": [
    "val movies_1970_list=actorsWithMovies.filter($\"year\"<1970).select(\"PID\",\"year\",\"Name\",\"gender\").dropDuplicates()\n"
   ]
  },
  {
   "cell_type": "markdown",
   "metadata": {},
   "source": [
    "# look at our sample data "
   ]
  },
  {
   "cell_type": "code",
   "execution_count": 31,
   "metadata": {},
   "outputs": [
    {
     "name": "stdout",
     "output_type": "stream",
     "text": [
      "+---------+----+----------------+------+\n",
      "|      PID|year|            Name|gender|\n",
      "+---------+----+----------------+------+\n",
      "|nm0771700|1969|Jürgen Schilling|  Male|\n",
      "|nm0474894|1969|    Sudhir Kumar|  Male|\n",
      "|nm0810994|1969|        Snehlata|Female|\n",
      "|nm0451296|1969|     Rashid Khan|  Male|\n",
      "|nm1524864|1969|    Baby Ruksana|  Male|\n",
      "|nm1542598|1969|     Ajay Kumari|  Male|\n",
      "|nm1189876|1969|   Bishan Khanna|  Male|\n",
      "|nm1291858|1969|     Vishal Deep|  Male|\n",
      "|nm0534867|1969|           Madhu|  Male|\n",
      "|nm1417125|1969|          Sushma|Female|\n",
      "|nm0403827|1969|   Nasir Hussain|  Male|\n",
      "|nm1259556|1969|    Vinod Sharma|  Male|\n",
      "|nm0695199|1969|            Pran|  Male|\n",
      "|nm0080445|1969|  Bharat Bhushan|  Male|\n",
      "|nm1750628|1969|    Master Anwar|  Male|\n",
      "|nm4754862|1969|       Prema Rao|Female|\n",
      "|nm1429330|1969|           Qamar|  Male|\n",
      "|nm0223607|1969|          Dhumal|  Male|\n",
      "|nm1566214|1969|   Master Ripple|  Male|\n",
      "|nm1306744|1969|        Meena T.|Female|\n",
      "+---------+----+----------------+------+\n",
      "only showing top 20 rows\n",
      "\n"
     ]
    }
   ],
   "source": [
    "movies_1970_list.sort(desc(\"year\")).show"
   ]
  },
  {
   "cell_type": "markdown",
   "metadata": {},
   "source": [
    "# get only 1990 movie MIDs only and modify column names to avoid futur join"
   ]
  },
  {
   "cell_type": "code",
   "execution_count": 32,
   "metadata": {},
   "outputs": [
    {
     "data": {
      "text/plain": [
       "movies_1990_list = [PID_90: string, Name_90: string ... 1 more field]\n"
      ]
     },
     "metadata": {},
     "output_type": "display_data"
    },
    {
     "data": {
      "text/plain": [
       "[PID_90: string, Name_90: string ... 1 more field]"
      ]
     },
     "execution_count": 32,
     "metadata": {},
     "output_type": "execute_result"
    }
   ],
   "source": [
    "val movies_1990_list=actorsWithMovies.filter($\"year\">1990).select($\"PID\".alias(\"PID_90\"),$\"Name\".alias(\"Name_90\"),$\"year\".alias(\"year_90\"))\n",
    ".dropDuplicates()\n"
   ]
  },
  {
   "cell_type": "markdown",
   "metadata": {},
   "source": [
    "# look at our sample data "
   ]
  },
  {
   "cell_type": "code",
   "execution_count": 33,
   "metadata": {},
   "outputs": [
    {
     "name": "stdout",
     "output_type": "stream",
     "text": [
      "+---------+------------------+-------+\n",
      "|   PID_90|           Name_90|year_90|\n",
      "+---------+------------------+-------+\n",
      "|nm1575779|        Shamsuddin|   1991|\n",
      "|nm0622186|         Alok Nath|   1991|\n",
      "|nm0422586|     Ayesha Jhulka|   1991|\n",
      "|nm1566068|  Satyendra Kapoor|   1991|\n",
      "|nm0474886|      Sharad Kumar|   1991|\n",
      "|nm0004469|Srinivasa Rao Kota|   1991|\n",
      "|nm0665350|       Amrit Patel|   1991|\n",
      "|nm1146435|  Nagesh S. Vagade|   1991|\n",
      "|nm1361028|    Kumud Tripathi|   1991|\n",
      "|nm0665544|       Dina Pathak|   1991|\n",
      "|nm0540990|            Mamaji|   1991|\n",
      "|nm1550918|        R.C. Nanda|   1991|\n",
      "|nm0710037|  Sakshi Ranga Rao|   1991|\n",
      "|nm1024811|          Manmauji|   1991|\n",
      "|nm0802107|        Dara Singh|   1991|\n",
      "|nm0347901|     Rakhee Gulzar|   1991|\n",
      "|nm1017480|         Abbas Ali|   1991|\n",
      "|nm0031924|         Aparajita|   1991|\n",
      "|nm0788906|     Romesh Sharma|   1991|\n",
      "|nm0659156|   Aditya Pancholi|   1991|\n",
      "+---------+------------------+-------+\n",
      "only showing top 20 rows\n",
      "\n"
     ]
    }
   ],
   "source": [
    "movies_1990_list.sort(\"year\").show"
   ]
  },
  {
   "cell_type": "markdown",
   "metadata": {},
   "source": [
    "# now join the 1970-90 movies based on PID column"
   ]
  },
  {
   "cell_type": "code",
   "execution_count": 34,
   "metadata": {},
   "outputs": [
    {
     "data": {
      "text/plain": [
       "movies_1970_90_list = [PID: string, name: string ... 2 more fields]\n"
      ]
     },
     "metadata": {},
     "output_type": "display_data"
    },
    {
     "data": {
      "text/plain": [
       "[PID: string, name: string ... 2 more fields]"
      ]
     },
     "execution_count": 34,
     "metadata": {},
     "output_type": "execute_result"
    }
   ],
   "source": [
    "val movies_1970_90_list=movies_1970_list.join(movies_1990_list,$\"PID\"===$\"PID_90\",\"inner\").select(\"PID\",\"name\",\"year\",\"Gender\").dropDuplicates(\"PID\")\n"
   ]
  },
  {
   "cell_type": "markdown",
   "metadata": {},
   "source": [
    "# look at our final result "
   ]
  },
  {
   "cell_type": "code",
   "execution_count": 35,
   "metadata": {},
   "outputs": [
    {
     "name": "stdout",
     "output_type": "stream",
     "text": [
      "+---------+------------------+----+------+\n",
      "|      PID|              name|year|Gender|\n",
      "+---------+------------------+----+------+\n",
      "|nm0000821|  Amitabh Bachchan|1969|  Male|\n",
      "|nm0003987|Mohandas K. Gandhi|1965|  null|\n",
      "|nm0004334|             Rekha|1968|Female|\n",
      "|nm0004429|        Dharmendra|1962|  Male|\n",
      "|nm0004432| Prithviraj Kapoor|1964|  Male|\n",
      "|nm0004433|     Shammi Kapoor|1962|  Male|\n",
      "|nm0004434|     Shashi Kapoor|1967|  Male|\n",
      "|nm0004435|     Rajesh Khanna|1967|  Male|\n",
      "|nm0004564|       Hema Malini|1968|Female|\n",
      "|nm0004569|       Sanjay Dutt|1964|  Male|\n",
      "|nm0004570|        Sunil Dutt|1963|  Male|\n",
      "|nm0006348|    Rajendra Kumar|1960|  Male|\n",
      "|nm0006369|       Ashok Kumar|1949|  Male|\n",
      "|nm0006370|       Manoj Kumar|1968|  Male|\n",
      "|nm0007131|      Subhash Ghai|1969|  null|\n",
      "|nm0007147|         Dev Anand|1952|  Male|\n",
      "|nm0007807|             Abbas|1961|  Male|\n",
      "|nm0008248|             Abdul|1949|  null|\n",
      "|nm0013026|        Jalal Agha|1969|  Male|\n",
      "|nm0014973|              Ajay|1955|  Male|\n",
      "+---------+------------------+----+------+\n",
      "only showing top 20 rows\n",
      "\n"
     ]
    }
   ],
   "source": [
    "movies_1970_90_list.sort(\"PID\",\"year\").show"
   ]
  },
  {
   "cell_type": "code",
   "execution_count": null,
   "metadata": {},
   "outputs": [],
   "source": []
  },
  {
   "cell_type": "markdown",
   "metadata": {},
   "source": [
    "# Validation 1"
   ]
  },
  {
   "cell_type": "code",
   "execution_count": 36,
   "metadata": {},
   "outputs": [
    {
     "name": "stdout",
     "output_type": "stream",
     "text": [
      "+---------+---------+----+----------------+------+\n",
      "|      MID|      PID|year|            Name|Gender|\n",
      "+---------+---------+----+----------------+------+\n",
      "|tt0064915|nm0000821|1969|Amitabh Bachchan|  Male|\n",
      "|tt0066763|nm0000821|1971|Amitabh Bachchan|  Male|\n",
      "|tt0067636|nm0000821|1971|Amitabh Bachchan|  Male|\n",
      "|tt0067164|nm0000821|1971|Amitabh Bachchan|  Male|\n",
      "|tt0067555|nm0000821|1971|Amitabh Bachchan|  Male|\n",
      "|tt0067668|nm0000821|1971|Amitabh Bachchan|  Male|\n",
      "|tt0068257|nm0000821|1972|Amitabh Bachchan|  Male|\n",
      "|tt0068532|nm0000821|1972|Amitabh Bachchan|  Male|\n",
      "|tt0158092|nm0000821|1972|Amitabh Bachchan|  Male|\n",
      "|tt0069218|nm0000821|1972|Amitabh Bachchan|  Male|\n",
      "|tt0069152|nm0000821|1972|Amitabh Bachchan|  Male|\n",
      "|tt0068620|nm0000821|1972|Amitabh Bachchan|  Male|\n",
      "|tt0068305|nm0000821|1972|Amitabh Bachchan|  Male|\n",
      "|tt0070434|nm0000821|1973|Amitabh Bachchan|  Male|\n",
      "|tt0070637|nm0000821|1973|Amitabh Bachchan|  Male|\n",
      "|tt0069751|nm0000821|1973|Amitabh Bachchan|  Male|\n",
      "|tt0070947|nm0000821|1973|Amitabh Bachchan|  Male|\n",
      "|tt0070097|nm0000821|1973|Amitabh Bachchan|  Male|\n",
      "|tt0069671|nm0000821|1973|Amitabh Bachchan|  Male|\n",
      "|tt0071714|nm0000821|1974|Amitabh Bachchan|  Male|\n",
      "|tt0072100|nm0000821|1974|Amitabh Bachchan|  Male|\n",
      "|tt0071205|nm0000821|1974|Amitabh Bachchan|  Male|\n",
      "|tt0071436|nm0000821|1974|Amitabh Bachchan|  Male|\n",
      "|tt0071730|nm0000821|1974|Amitabh Bachchan|  Male|\n",
      "|tt0071800|nm0000821|1974|Amitabh Bachchan|  Male|\n",
      "|tt0072860|nm0000821|1975|Amitabh Bachchan|  Male|\n",
      "|tt0073707|nm0000821|1975|Amitabh Bachchan|  Male|\n",
      "|tt0072783|nm0000821|1975|Amitabh Bachchan|  Male|\n",
      "|tt0073391|nm0000821|1975|Amitabh Bachchan|  Male|\n",
      "|tt0072972|nm0000821|1975|Amitabh Bachchan|  Male|\n",
      "|tt0073924|nm0000821|1975|Amitabh Bachchan|  Male|\n",
      "|tt0075632|nm0000821|1976|Amitabh Bachchan|  Male|\n",
      "|tt0072777|nm0000821|1976|Amitabh Bachchan|  Male|\n",
      "|tt0237022|nm0000821|1976|Amitabh Bachchan|  Male|\n",
      "|tt0074730|nm0000821|1976|Amitabh Bachchan|  Male|\n",
      "|tt0073104|nm0000821|1976|Amitabh Bachchan|  Male|\n",
      "|tt0074417|nm0000821|1976|Amitabh Bachchan|  Male|\n",
      "|tt0076177|nm0000821|1977|Amitabh Bachchan|  Male|\n",
      "|tt0076259|nm0000821|1977|Amitabh Bachchan|  Male|\n",
      "|tt0076696|nm0000821|1977|Amitabh Bachchan|  Male|\n",
      "|tt0076527|nm0000821|1977|Amitabh Bachchan|  Male|\n",
      "|tt0075669|nm0000821|1977|Amitabh Bachchan|  Male|\n",
      "|tt0075653|nm0000821|1977|Amitabh Bachchan|  Male|\n",
      "|tt0078418|nm0000821|1978|Amitabh Bachchan|  Male|\n",
      "|tt0077797|nm0000821|1978|Amitabh Bachchan|  Male|\n",
      "|tt0077596|nm0000821|1978|Amitabh Bachchan|  Male|\n",
      "|tt0079590|nm0000821|1978|Amitabh Bachchan|  Male|\n",
      "|tt0077792|nm0000821|1978|Amitabh Bachchan|  Male|\n",
      "|tt0077226|nm0000821|1978|Amitabh Bachchan|  Male|\n",
      "|tt0077451|nm0000821|1978|Amitabh Bachchan|  Male|\n",
      "|tt0079963|nm0000821|1979|Amitabh Bachchan|  Male|\n",
      "|tt0079584|nm0000821|1979|Amitabh Bachchan|  Male|\n",
      "|tt0079386|nm0000821|1979|Amitabh Bachchan|  Male|\n",
      "|tt0079382|nm0000821|1979|Amitabh Bachchan|  Male|\n",
      "|tt0079526|nm0000821|1979|Amitabh Bachchan|  Male|\n",
      "|tt0079221|nm0000821|1979|Amitabh Bachchan|  Male|\n",
      "|tt0079236|nm0000821|1979|Amitabh Bachchan|  Male|\n",
      "|tt0080653|nm0000821|1980|Amitabh Bachchan|  Male|\n",
      "|tt0080638|nm0000821|1980|Amitabh Bachchan|  Male|\n",
      "|tt0081401|nm0000821|1980|Amitabh Bachchan|  Male|\n",
      "|tt0081491|nm0000821|1980|Amitabh Bachchan|  Male|\n",
      "|tt0083081|nm0000821|1981|Amitabh Bachchan|  Male|\n",
      "|tt0082594|nm0000821|1981|Amitabh Bachchan|  Male|\n",
      "|tt0082797|nm0000821|1981|Amitabh Bachchan|  Male|\n",
      "|tt0083349|nm0000821|1981|Amitabh Bachchan|  Male|\n",
      "|tt0082162|nm0000821|1981|Amitabh Bachchan|  Male|\n",
      "|tt0080376|nm0000821|1981|Amitabh Bachchan|  Male|\n",
      "|tt0082644|nm0000821|1981|Amitabh Bachchan|  Male|\n",
      "|tt0084385|nm0000821|1982|Amitabh Bachchan|  Male|\n",
      "|tt0084630|nm0000821|1982|Amitabh Bachchan|  Male|\n",
      "|tt0083636|nm0000821|1982|Amitabh Bachchan|  Male|\n",
      "|tt0084199|nm0000821|1982|Amitabh Bachchan|  Male|\n",
      "|tt0084667|nm0000821|1982|Amitabh Bachchan|  Male|\n",
      "|tt0083820|nm0000821|1982|Amitabh Bachchan|  Male|\n",
      "|tt0085886|nm0000821|1983|Amitabh Bachchan|  Male|\n",
      "|tt0085361|nm0000821|1983|Amitabh Bachchan|  Male|\n",
      "|tt0086156|nm0000821|1983|Amitabh Bachchan|  Male|\n",
      "|tt0084393|nm0000821|1983|Amitabh Bachchan|  Male|\n",
      "|tt0085165|nm0000821|1983|Amitabh Bachchan|  Male|\n",
      "|tt0088099|nm0000821|1984|Amitabh Bachchan|  Male|\n",
      "|tt0280968|nm0000821|1984|Amitabh Bachchan|  Male|\n",
      "|tt0087474|nm0000821|1984|Amitabh Bachchan|  Male|\n",
      "|tt0089201|nm0000821|1985|Amitabh Bachchan|  Male|\n",
      "|tt0089194|nm0000821|1985|Amitabh Bachchan|  Male|\n",
      "|tt0089552|nm0000821|1985|Amitabh Bachchan|  Male|\n",
      "|tt0090575|nm0000821|1986|Amitabh Bachchan|  Male|\n",
      "|tt0093293|nm0000821|1987|Amitabh Bachchan|  Male|\n",
      "|tt0093949|nm0000821|1988|Amitabh Bachchan|  Male|\n",
      "|tt0095198|nm0000821|1988|Amitabh Bachchan|  Male|\n",
      "|tt0093182|nm0000821|1988|Amitabh Bachchan|  Male|\n",
      "|tt0097812|nm0000821|1989|Amitabh Bachchan|  Male|\n",
      "|tt0098491|nm0000821|1989|Amitabh Bachchan|  Male|\n",
      "|tt0096896|nm0000821|1989|Amitabh Bachchan|  Male|\n",
      "|tt0097609|nm0000821|1989|Amitabh Bachchan|  Male|\n",
      "|tt0099953|nm0000821|1990|Amitabh Bachchan|  Male|\n",
      "|tt0098976|nm0000821|1990|Amitabh Bachchan|  Male|\n",
      "|tt0098999|nm0000821|1990|Amitabh Bachchan|  Male|\n",
      "|tt0102119|nm0000821|1991|Amitabh Bachchan|  Male|\n",
      "|tt0101284|nm0000821|1991|Amitabh Bachchan|  Male|\n",
      "|tt0101283|nm0000821|1991|Amitabh Bachchan|  Male|\n",
      "|tt0102071|nm0000821|1991|Amitabh Bachchan|  Male|\n",
      "|tt0104607|nm0000821|1992|Amitabh Bachchan|  Male|\n",
      "|tt0390667|nm0000821|1992|Amitabh Bachchan|  Male|\n",
      "|tt0110140|nm0000821|1994|Amitabh Bachchan|  Male|\n",
      "|tt0121659|nm0000821|1994|Amitabh Bachchan|  Male|\n",
      "|tt0116407|nm0000821|1996|Amitabh Bachchan|  Male|\n",
      "|tt0117878|nm0000821|1996|Amitabh Bachchan|  Male|\n",
      "|tt0119721|nm0000821|1997|Amitabh Bachchan|  Male|\n",
      "|tt0172761|nm0000821|1998|Amitabh Bachchan|  Male|\n",
      "|tt0286683|nm0000821|1998|Amitabh Bachchan|  Male|\n",
      "|tt0118673|nm0000821|1998|Amitabh Bachchan|  Male|\n",
      "|tt0213775|nm0000821|1999|Amitabh Bachchan|  Male|\n",
      "|tt0207341|nm0000821|1999|Amitabh Bachchan|  Male|\n",
      "|tt0214178|nm0000821|1999|Amitabh Bachchan|  Male|\n",
      "|tt0172704|nm0000821|1999|Amitabh Bachchan|  Male|\n",
      "|tt0233856|nm0000821|1999|Amitabh Bachchan|  Male|\n",
      "|tt0213890|nm0000821|2000|Amitabh Bachchan|  Male|\n",
      "|tt0289845|nm0000821|2001|Amitabh Bachchan|  Male|\n",
      "|tt0284083|nm0000821|2001|Amitabh Bachchan|  Male|\n",
      "|tt0248126|nm0000821|2001|Amitabh Bachchan|  Male|\n",
      "|tt0169102|nm0000821|2001|Amitabh Bachchan|  Male|\n",
      "|tt0294662|nm0000821|2002|Amitabh Bachchan|  Male|\n",
      "|tt0320097|nm0000821|2002|Amitabh Bachchan|  Male|\n",
      "|tt0306434|nm0000821|2002|Amitabh Bachchan|  Male|\n",
      "|tt0326722|nm0000821|2002|Amitabh Bachchan|  Male|\n",
      "|tt0363833|nm0000821|2003|Amitabh Bachchan|  Male|\n",
      "|tt0348656|nm0000821|2003|Amitabh Bachchan|  Male|\n",
      "|tt0330082|nm0000821|2003|Amitabh Bachchan|  Male|\n",
      "|tt0337578|nm0000821|2003|Amitabh Bachchan|  Male|\n",
      "|tt0331851|nm0000821|2003|Amitabh Bachchan|  Male|\n",
      "|tt0391165|nm0000821|2003|Amitabh Bachchan|  Male|\n",
      "|tt0420332|nm0000821|2004|Amitabh Bachchan|  Male|\n",
      "|tt0377340|nm0000821|2004|Amitabh Bachchan|  Male|\n",
      "|tt0397882|nm0000821|2004|Amitabh Bachchan|  Male|\n",
      "|tt0405046|nm0000821|2004|Amitabh Bachchan|  Male|\n",
      "|tt0405024|nm0000821|2004|Amitabh Bachchan|  Male|\n",
      "|tt0349703|nm0000821|2004|Amitabh Bachchan|  Male|\n",
      "|tt0364303|nm0000821|2004|Amitabh Bachchan|  Male|\n",
      "|tt0387989|nm0000821|2004|Amitabh Bachchan|  Male|\n",
      "|tt0323013|nm0000821|2004|Amitabh Bachchan|  Male|\n",
      "|tt0347332|nm0000821|2004|Amitabh Bachchan|  Male|\n",
      "|tt0366985|nm0000821|2004|Amitabh Bachchan|  Male|\n",
      "|tt0375611|nm0000821|2005|Amitabh Bachchan|  Male|\n",
      "|tt0420304|nm0000821|2005|Amitabh Bachchan|  Male|\n",
      "|tt0442764|nm0000821|2005|Amitabh Bachchan|  Male|\n",
      "|tt0451850|nm0000821|2005|Amitabh Bachchan|  Male|\n",
      "|tt0448206|nm0000821|2005|Amitabh Bachchan|  Male|\n",
      "|tt0390614|nm0000821|2005|Amitabh Bachchan|  Male|\n",
      "|tt0457875|nm0000821|2005|Amitabh Bachchan|  Male|\n",
      "|tt0432047|nm0000821|2005|Amitabh Bachchan|  Male|\n",
      "|tt0476848|nm0000821|2005|Amitabh Bachchan|  Male|\n",
      "|tt0437407|nm0000821|2005|Amitabh Bachchan|  Male|\n",
      "|tt0929754|nm0000821|2006|Amitabh Bachchan|  Male|\n",
      "|tt0419468|nm0000821|2006|Amitabh Bachchan|  Male|\n",
      "|tt0437182|nm0000821|2006|Amitabh Bachchan|  Male|\n",
      "|tt0476649|nm0000821|2006|Amitabh Bachchan|  Male|\n",
      "|tt0449999|nm0000821|2006|Amitabh Bachchan|  Male|\n",
      "|tt1039969|nm0000821|2007|Amitabh Bachchan|  Male|\n",
      "|tt0824375|nm0000821|2007|Amitabh Bachchan|  Male|\n",
      "|tt0984122|nm0000821|2007|Amitabh Bachchan|  Male|\n",
      "|tt0473310|nm0000821|2007|Amitabh Bachchan|  Male|\n",
      "|tt0811066|nm0000821|2007|Amitabh Bachchan|  Male|\n",
      "|tt1024943|nm0000821|2007|Amitabh Bachchan|  Male|\n",
      "|tt0976026|nm0000821|2007|Amitabh Bachchan|  Male|\n",
      "|tt0833476|nm0000821|2007|Amitabh Bachchan|  Male|\n",
      "|tt0459605|nm0000821|2007|Amitabh Bachchan|  Male|\n",
      "|tt0449994|nm0000821|2008|Amitabh Bachchan|  Male|\n",
      "|tt0991346|nm0000821|2008|Amitabh Bachchan|  Male|\n",
      "|tt0490210|nm0000821|2008|Amitabh Bachchan|  Male|\n",
      "|tt1010048|nm0000821|2008|Amitabh Bachchan|  Male|\n",
      "|tt0476550|nm0000821|2008|Amitabh Bachchan|  Male|\n",
      "|tt1227762|nm0000821|2009|Amitabh Bachchan|  Male|\n",
      "|tt1043451|nm0000821|2009|Amitabh Bachchan|  Male|\n",
      "|tt1532957|nm0000821|2009|Amitabh Bachchan|  Male|\n",
      "|tt1451797|nm0000821|2010|Amitabh Bachchan|  Male|\n",
      "|tt1183917|nm0000821|2010|Amitabh Bachchan|  Male|\n",
      "|tt1869296|nm0000821|2011|Amitabh Bachchan|  Male|\n",
      "|tt1848771|nm0000821|2011|Amitabh Bachchan|  Male|\n",
      "|tt1728986|nm0000821|2012|Amitabh Bachchan|  Male|\n",
      "|tt1127220|nm0000821|2012|Amitabh Bachchan|  Male|\n",
      "|tt2181931|nm0000821|2012|Amitabh Bachchan|  Male|\n",
      "|tt2186731|nm0000821|2012|Amitabh Bachchan|  Male|\n",
      "|tt2275802|nm0000821|2013|Amitabh Bachchan|  Male|\n",
      "|tt2797242|nm0000821|2013|Amitabh Bachchan|  Male|\n",
      "|tt2571140|nm0000821|2013|Amitabh Bachchan|  Male|\n",
      "|tt1029231|nm0000821|2013|Amitabh Bachchan|  Male|\n",
      "|tt3415692|nm0000821|2013|Amitabh Bachchan|  Male|\n",
      "|tt3531852|nm0000821|2014|Amitabh Bachchan|  Male|\n",
      "|tt4512230|nm0000821|2015|Amitabh Bachchan|  Male|\n",
      "|tt3767372|nm0000821|2015|Amitabh Bachchan|  Male|\n",
      "|tt3836958|nm0000821|2015|Amitabh Bachchan|  Male|\n",
      "|tt5571734|nm0000821|2016|Amitabh Bachchan|  Male|\n",
      "|tt4814290|nm0000821|2016|Amitabh Bachchan|  Male|\n",
      "|tt5928576|nm0000821|2016|Amitabh Bachchan|  Male|\n",
      "|tt4744086|nm0000821|2016|Amitabh Bachchan|  Male|\n",
      "|tt0315642|nm0000821|2016|Amitabh Bachchan|  Male|\n",
      "|tt5742874|nm0000821|2017|Amitabh Bachchan|  Male|\n",
      "|tt5785116|nm0000821|2017|Amitabh Bachchan|  Male|\n",
      "|tt7549484|nm0000821|2017|Amitabh Bachchan|  Male|\n",
      "|tt6299040|nm0000821|2017|Amitabh Bachchan|  Male|\n",
      "|tt7218518|nm0000821|2018|Amitabh Bachchan|  Male|\n",
      "|tt6580564|nm0000821|2018|Amitabh Bachchan|  Male|\n",
      "|tt8427036|nm0000821|2018|Amitabh Bachchan|  Male|\n",
      "|tt5970844|nm0000821|2018|Amitabh Bachchan|  Male|\n",
      "+---------+---------+----+----------------+------+\n",
      "\n"
     ]
    }
   ],
   "source": [
    "actorsWithMovies.filter($\"PID\"===\"nm0000821\").sort(\"year\").show(1000)"
   ]
  },
  {
   "cell_type": "markdown",
   "metadata": {},
   "source": [
    "# Validation 2"
   ]
  },
  {
   "cell_type": "code",
   "execution_count": 37,
   "metadata": {},
   "outputs": [
    {
     "name": "stdout",
     "output_type": "stream",
     "text": [
      "+---------+---------+----+----------+------+\n",
      "|      MID|      PID|year|      Name|Gender|\n",
      "+---------+---------+----+----------+------+\n",
      "|tt0206554|nm0004429|1962|Dharmendra|  Male|\n",
      "|tt0056850|nm0004429|1963|Dharmendra|  Male|\n",
      "|tt0154565|nm0004429|1964|Dharmendra|  Male|\n",
      "|tt0233147|nm0004429|1964|Dharmendra|  Male|\n",
      "|tt0139398|nm0004429|1965|Dharmendra|  Male|\n",
      "|tt0229952|nm0004429|1966|Dharmendra|  Male|\n",
      "|tt0060145|nm0004429|1966|Dharmendra|  Male|\n",
      "|tt0139525|nm0004429|1966|Dharmendra|  Male|\n",
      "|tt0137361|nm0004429|1966|Dharmendra|  Male|\n",
      "|tt0060306|nm0004429|1966|Dharmendra|  Male|\n",
      "|tt0060659|nm0004429|1966|Dharmendra|  Male|\n",
      "|tt0139447|nm0004429|1967|Dharmendra|  Male|\n",
      "|tt0147811|nm0004429|1968|Dharmendra|  Male|\n",
      "|tt0175908|nm0004429|1968|Dharmendra|  Male|\n",
      "|tt0254437|nm0004429|1968|Dharmendra|  Male|\n",
      "|tt0148841|nm0004429|1968|Dharmendra|  Male|\n",
      "|tt0229950|nm0004429|1969|Dharmendra|  Male|\n",
      "|tt0244776|nm0004429|1969|Dharmendra|  Male|\n",
      "|tt0158449|nm0004429|1969|Dharmendra|  Male|\n",
      "|tt0158375|nm0004429|1969|Dharmendra|  Male|\n",
      "+---------+---------+----+----------+------+\n",
      "only showing top 20 rows\n",
      "\n"
     ]
    }
   ],
   "source": [
    "actorsWithMovies.filter($\"PID\"===\"nm0004429\").sort(\"year\").show"
   ]
  },
  {
   "cell_type": "code",
   "execution_count": null,
   "metadata": {},
   "outputs": [],
   "source": []
  }
 ],
 "metadata": {
  "kernelspec": {
   "display_name": "Apache Toree - Scala",
   "language": "scala",
   "name": "apache_toree_scala"
  },
  "language_info": {
   "codemirror_mode": "text/x-scala",
   "file_extension": ".scala",
   "mimetype": "text/x-scala",
   "name": "scala",
   "pygments_lexer": "scala",
   "version": "2.11.12"
  }
 },
 "nbformat": 4,
 "nbformat_minor": 2
}
