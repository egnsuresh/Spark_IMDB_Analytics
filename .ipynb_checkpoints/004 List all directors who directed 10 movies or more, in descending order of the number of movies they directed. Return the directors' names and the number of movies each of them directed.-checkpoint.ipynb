{
 "cells": [
  {
   "cell_type": "markdown",
   "metadata": {},
   "source": [
    "# 004 List all directors who directed 10 movies or more, in descending order of the number of movies they directed. Return the directors' names and the number of movies each of them directed."
   ]
  },
  {
   "cell_type": "code",
   "execution_count": 1,
   "metadata": {},
   "outputs": [
    {
     "data": {
      "text/plain": [
       "org.apache.spark.sql.SparkSession@543d5bc3"
      ]
     },
     "execution_count": 1,
     "metadata": {},
     "output_type": "execute_result"
    }
   ],
   "source": [
    "spark"
   ]
  },
  {
   "cell_type": "code",
   "execution_count": 2,
   "metadata": {},
   "outputs": [],
   "source": [
    "import org.apache.spark.sql.functions._"
   ]
  },
  {
   "cell_type": "code",
   "execution_count": 3,
   "metadata": {},
   "outputs": [],
   "source": [
    "import org.apache.spark.sql.types._"
   ]
  },
  {
   "cell_type": "code",
   "execution_count": 5,
   "metadata": {},
   "outputs": [],
   "source": [
    "import org.apache.spark.sql.expressions.Window"
   ]
  },
  {
   "cell_type": "code",
   "execution_count": 6,
   "metadata": {},
   "outputs": [
    {
     "data": {
      "text/plain": [
       "spark = org.apache.spark.sql.SparkSession@543d5bc3\n"
      ]
     },
     "metadata": {},
     "output_type": "display_data"
    },
    {
     "data": {
      "text/plain": [
       "org.apache.spark.sql.SparkSession@543d5bc3"
      ]
     },
     "execution_count": 6,
     "metadata": {},
     "output_type": "execute_result"
    }
   ],
   "source": [
    "val spark=SparkSession.builder().appName(\"movies app\").master(\"local[*]\").getOrCreate()"
   ]
  },
  {
   "cell_type": "code",
   "execution_count": 7,
   "metadata": {},
   "outputs": [],
   "source": [
    "import spark.implicits._"
   ]
  },
  {
   "cell_type": "markdown",
   "metadata": {},
   "source": [
    "# UDFs"
   ]
  },
  {
   "cell_type": "code",
   "execution_count": 8,
   "metadata": {},
   "outputs": [
    {
     "data": {
      "text/plain": [
       "getYear = UserDefinedFunction(<function1>,IntegerType,Some(List(StringType)))\n"
      ]
     },
     "metadata": {},
     "output_type": "display_data"
    },
    {
     "data": {
      "text/plain": [
       "UserDefinedFunction(<function1>,IntegerType,Some(List(StringType)))"
      ]
     },
     "execution_count": 8,
     "metadata": {},
     "output_type": "execute_result"
    }
   ],
   "source": [
    "val getYear=udf((year:String)=>{\n",
    "    val p=\"\\\\d{4}\".r\n",
    "    val yr=p.findFirstMatchIn(year).getOrElse(\"\").toString\n",
    "    if(yr!=\"\"){\n",
    "        yr.toInt\n",
    "    }\n",
    "    else{\n",
    "        0\n",
    "    }\n",
    "})"
   ]
  },
  {
   "cell_type": "code",
   "execution_count": null,
   "metadata": {},
   "outputs": [],
   "source": []
  },
  {
   "cell_type": "markdown",
   "metadata": {},
   "source": [
    "# loading movies"
   ]
  },
  {
   "cell_type": "code",
   "execution_count": 9,
   "metadata": {},
   "outputs": [
    {
     "data": {
      "text/plain": [
       "Movie = [index: string, MID: string ... 4 more fields]\n"
      ]
     },
     "metadata": {},
     "output_type": "display_data"
    },
    {
     "data": {
      "text/plain": [
       "[index: string, MID: string ... 4 more fields]"
      ]
     },
     "execution_count": 9,
     "metadata": {},
     "output_type": "execute_result"
    }
   ],
   "source": [
    "val Movie=spark.read.option(\"header\",\"true\").csv(\"/home/use2cobadmin/practice_data/imdb/imdb_csv/Movie.csv\")\n",
    ".dropDuplicates()"
   ]
  },
  {
   "cell_type": "markdown",
   "metadata": {},
   "source": [
    "# printing table structure to know what are the columns and it's data type"
   ]
  },
  {
   "cell_type": "code",
   "execution_count": 10,
   "metadata": {},
   "outputs": [
    {
     "name": "stdout",
     "output_type": "stream",
     "text": [
      "root\n",
      " |-- index: string (nullable = true)\n",
      " |-- MID: string (nullable = true)\n",
      " |-- title: string (nullable = true)\n",
      " |-- year: string (nullable = true)\n",
      " |-- rating: string (nullable = true)\n",
      " |-- num_votes: string (nullable = true)\n",
      "\n"
     ]
    }
   ],
   "source": [
    "Movie.printSchema"
   ]
  },
  {
   "cell_type": "markdown",
   "metadata": {},
   "source": [
    "# Displaying first two records to see sample data\n",
    "# observation 1: year,rating,num_votes,index columns data types should be Integer\n",
    "# observation 2: also we need do trim to remove any extra spaces"
   ]
  },
  {
   "cell_type": "code",
   "execution_count": 11,
   "metadata": {},
   "outputs": [
    {
     "name": "stdout",
     "output_type": "stream",
     "text": [
      "+-----+---------+-----------------+----+------+---------+\n",
      "|index|      MID|            title|year|rating|num_votes|\n",
      "+-----+---------+-----------------+----+------+---------+\n",
      "|   85|tt3224288|Beyond the Clouds|2017|   7.0|     1123|\n",
      "|  913|tt2178508|   Son of Sardaar|2012|   4.0|     7895|\n",
      "+-----+---------+-----------------+----+------+---------+\n",
      "only showing top 2 rows\n",
      "\n"
     ]
    }
   ],
   "source": [
    "Movie.show(2)"
   ]
  },
  {
   "cell_type": "markdown",
   "metadata": {},
   "source": [
    "# displaying total records in the table"
   ]
  },
  {
   "cell_type": "code",
   "execution_count": 12,
   "metadata": {},
   "outputs": [
    {
     "data": {
      "text/plain": [
       "3475"
      ]
     },
     "execution_count": 12,
     "metadata": {},
     "output_type": "execute_result"
    }
   ],
   "source": [
    "Movie.count"
   ]
  },
  {
   "cell_type": "markdown",
   "metadata": {},
   "source": [
    "# as per observation need to change the data type"
   ]
  },
  {
   "cell_type": "code",
   "execution_count": 13,
   "metadata": {},
   "outputs": [
    {
     "data": {
      "text/plain": [
       "movies = [index: int, MID: string ... 4 more fields]\n"
      ]
     },
     "metadata": {},
     "output_type": "display_data"
    },
    {
     "data": {
      "text/plain": [
       "[index: int, MID: string ... 4 more fields]"
      ]
     },
     "execution_count": 13,
     "metadata": {},
     "output_type": "execute_result"
    }
   ],
   "source": [
    "val movies=Movie.withColumn(\"year\",getYear(Movie(\"year\")).cast(IntegerType))\n",
    ".withColumn(\"title\",trim(Movie(\"title\")))\n",
    ".withColumn(\"MID\",trim(Movie(\"MID\")))\n",
    ".withColumn(\"rating\",trim(Movie(\"rating\")).cast(DoubleType))\n",
    ".withColumn(\"num_votes\",trim(Movie(\"num_votes\")).cast(LongType))\n",
    ".withColumn(\"index\",trim(Movie(\"index\")).cast(IntegerType))\n",
    ".dropDuplicates(\"MID\")"
   ]
  },
  {
   "cell_type": "markdown",
   "metadata": {},
   "source": [
    "# now print the schema to verify columns and it's data type"
   ]
  },
  {
   "cell_type": "code",
   "execution_count": 14,
   "metadata": {},
   "outputs": [
    {
     "name": "stdout",
     "output_type": "stream",
     "text": [
      "root\n",
      " |-- index: integer (nullable = true)\n",
      " |-- MID: string (nullable = true)\n",
      " |-- title: string (nullable = true)\n",
      " |-- year: integer (nullable = false)\n",
      " |-- rating: double (nullable = true)\n",
      " |-- num_votes: long (nullable = true)\n",
      "\n"
     ]
    }
   ],
   "source": [
    "movies.printSchema"
   ]
  },
  {
   "cell_type": "markdown",
   "metadata": {},
   "source": [
    "# print the total number of records in the table after data cleaning"
   ]
  },
  {
   "cell_type": "code",
   "execution_count": 16,
   "metadata": {},
   "outputs": [
    {
     "data": {
      "text/plain": [
       "3475"
      ]
     },
     "execution_count": 16,
     "metadata": {},
     "output_type": "execute_result"
    }
   ],
   "source": [
    "movies.count"
   ]
  },
  {
   "cell_type": "markdown",
   "metadata": {},
   "source": [
    "# show the first two records as a sample data"
   ]
  },
  {
   "cell_type": "code",
   "execution_count": 17,
   "metadata": {},
   "outputs": [
    {
     "name": "stdout",
     "output_type": "stream",
     "text": [
      "+-----+---------+--------------------+----+------+---------+\n",
      "|index|      MID|               title|year|rating|num_votes|\n",
      "+-----+---------+--------------------+----+------+---------+\n",
      "| 3008|tt0036077|              Kismet|1943|   7.5|       71|\n",
      "| 2969|tt0102701|Prahaar: The Fina...|1991|   7.9|     1696|\n",
      "+-----+---------+--------------------+----+------+---------+\n",
      "only showing top 2 rows\n",
      "\n"
     ]
    }
   ],
   "source": [
    "movies.show(2)"
   ]
  },
  {
   "cell_type": "markdown",
   "metadata": {},
   "source": [
    "# Load the Person.csv file and it has header and store theses records in Person variable"
   ]
  },
  {
   "cell_type": "code",
   "execution_count": 18,
   "metadata": {},
   "outputs": [
    {
     "data": {
      "text/plain": [
       "Person = [index: string, PID: string ... 2 more fields]\n"
      ]
     },
     "metadata": {},
     "output_type": "display_data"
    },
    {
     "data": {
      "text/plain": [
       "[index: string, PID: string ... 2 more fields]"
      ]
     },
     "execution_count": 18,
     "metadata": {},
     "output_type": "execute_result"
    }
   ],
   "source": [
    "val Person=spark.read.option(\"header\",\"true\").csv(\"/home/use2cobadmin/practice_data/imdb/imdb_csv/Person.csv\")"
   ]
  },
  {
   "cell_type": "markdown",
   "metadata": {},
   "source": [
    "# Print the schema of Person variable,first two records and it's count"
   ]
  },
  {
   "cell_type": "code",
   "execution_count": 19,
   "metadata": {},
   "outputs": [
    {
     "name": "stdout",
     "output_type": "stream",
     "text": [
      "+-----+---------+---------------+------+\n",
      "|index|      PID|           Name|Gender|\n",
      "+-----+---------+---------------+------+\n",
      "|    0|nm0000288| Christian Bale|  Male|\n",
      "|    1|nm0000949| Cate Blanchett|Female|\n",
      "+-----+---------+---------------+------+\n",
      "only showing top 2 rows\n",
      "\n",
      "root\n",
      " |-- index: string (nullable = true)\n",
      " |-- PID: string (nullable = true)\n",
      " |-- Name: string (nullable = true)\n",
      " |-- Gender: string (nullable = true)\n",
      "\n"
     ]
    },
    {
     "data": {
      "text/plain": [
       "p1Count = 38285\n"
      ]
     },
     "metadata": {},
     "output_type": "display_data"
    },
    {
     "data": {
      "text/plain": [
       "38285"
      ]
     },
     "execution_count": 19,
     "metadata": {},
     "output_type": "execute_result"
    }
   ],
   "source": [
    "Person.show(2)\n",
    "Person.printSchema\n",
    "val p1Count=Person.count"
   ]
  },
  {
   "cell_type": "markdown",
   "metadata": {},
   "source": [
    "# Data Cleaning\n",
    "# change the data types as per data and also remove extra spaces from data"
   ]
  },
  {
   "cell_type": "code",
   "execution_count": 20,
   "metadata": {},
   "outputs": [
    {
     "data": {
      "text/plain": [
       "persons = [index: int, PID: string ... 2 more fields]\n"
      ]
     },
     "metadata": {},
     "output_type": "display_data"
    },
    {
     "data": {
      "text/plain": [
       "[index: int, PID: string ... 2 more fields]"
      ]
     },
     "execution_count": 20,
     "metadata": {},
     "output_type": "execute_result"
    }
   ],
   "source": [
    "val persons=Person.withColumn(\"PID\",trim(Person(\"PID\")))\n",
    ".withColumn(\"Name\",trim(Person(\"Name\")))\n",
    ".withColumn(\"Gender\",trim(Person(\"Gender\")))\n",
    ".withColumn(\"index\",trim(Person(\"index\")).cast(IntegerType))\n",
    ".dropDuplicates(\"PID\")"
   ]
  },
  {
   "cell_type": "markdown",
   "metadata": {},
   "source": [
    "# show the sample data, schema and it's count of variable persons"
   ]
  },
  {
   "cell_type": "code",
   "execution_count": 21,
   "metadata": {},
   "outputs": [
    {
     "name": "stdout",
     "output_type": "stream",
     "text": [
      "+-----+---------+-------------+------+\n",
      "|index|      PID|         Name|Gender|\n",
      "+-----+---------+-------------+------+\n",
      "|15793|nm0022343|       Alpana|Female|\n",
      "| 3121|nm0028416|Martin Andris|  Male|\n",
      "+-----+---------+-------------+------+\n",
      "only showing top 2 rows\n",
      "\n",
      "root\n",
      " |-- index: integer (nullable = true)\n",
      " |-- PID: string (nullable = true)\n",
      " |-- Name: string (nullable = true)\n",
      " |-- Gender: string (nullable = true)\n",
      "\n"
     ]
    },
    {
     "data": {
      "text/plain": [
       "p2Count = 37566\n"
      ]
     },
     "metadata": {},
     "output_type": "display_data"
    },
    {
     "data": {
      "text/plain": [
       "37566"
      ]
     },
     "execution_count": 21,
     "metadata": {},
     "output_type": "execute_result"
    }
   ],
   "source": [
    "persons.show(2)\n",
    "persons.printSchema\n",
    "val p2Count=persons.count"
   ]
  },
  {
   "cell_type": "markdown",
   "metadata": {},
   "source": [
    "# print the difference between Person and persons records count"
   ]
  },
  {
   "cell_type": "code",
   "execution_count": 22,
   "metadata": {},
   "outputs": [
    {
     "name": "stdout",
     "output_type": "stream",
     "text": [
      "719 duplicates found\n"
     ]
    },
    {
     "data": {
      "text/plain": [
       "diff = 719\n"
      ]
     },
     "metadata": {},
     "output_type": "display_data"
    },
    {
     "data": {
      "text/plain": [
       "719"
      ]
     },
     "execution_count": 22,
     "metadata": {},
     "output_type": "execute_result"
    }
   ],
   "source": [
    "val diff=p1Count-p2Count\n",
    "println(diff+\" duplicates found\")"
   ]
  },
  {
   "cell_type": "markdown",
   "metadata": {},
   "source": [
    "# Load the M_Director.csv file and it's has header"
   ]
  },
  {
   "cell_type": "code",
   "execution_count": 23,
   "metadata": {},
   "outputs": [
    {
     "data": {
      "text/plain": [
       "M_Director = [index: string, MID: string ... 2 more fields]\n"
      ]
     },
     "metadata": {},
     "output_type": "display_data"
    },
    {
     "data": {
      "text/plain": [
       "[index: string, MID: string ... 2 more fields]"
      ]
     },
     "execution_count": 23,
     "metadata": {},
     "output_type": "execute_result"
    }
   ],
   "source": [
    "val M_Director=spark.read.option(\"header\",\"true\").csv(\"/home/use2cobadmin/practice_data/imdb/imdb_csv/M_Director.csv\")"
   ]
  },
  {
   "cell_type": "markdown",
   "metadata": {},
   "source": [
    "# display sample data, schema and count M_Director variable"
   ]
  },
  {
   "cell_type": "code",
   "execution_count": 25,
   "metadata": {},
   "outputs": [
    {
     "name": "stdout",
     "output_type": "stream",
     "text": [
      "root\n",
      " |-- index: string (nullable = true)\n",
      " |-- MID: string (nullable = true)\n",
      " |-- PID: string (nullable = true)\n",
      " |-- ID: string (nullable = true)\n",
      "\n",
      "+-----+---------+---------+---+\n",
      "|index|      MID|      PID| ID|\n",
      "+-----+---------+---------+---+\n",
      "|    0|tt2388771|nm0785227|  0|\n",
      "|    1|tt5164214|nm0002657|  1|\n",
      "+-----+---------+---------+---+\n",
      "only showing top 2 rows\n",
      "\n"
     ]
    },
    {
     "data": {
      "text/plain": [
       "m_d1Count = 3475\n"
      ]
     },
     "metadata": {},
     "output_type": "display_data"
    },
    {
     "data": {
      "text/plain": [
       "3475"
      ]
     },
     "execution_count": 25,
     "metadata": {},
     "output_type": "execute_result"
    }
   ],
   "source": [
    "M_Director.printSchema\n",
    "M_Director.show(2)\n",
    "val m_d1Count=M_Director.count"
   ]
  },
  {
   "cell_type": "markdown",
   "metadata": {},
   "source": [
    "# Data cleaning for M_Director"
   ]
  },
  {
   "cell_type": "markdown",
   "metadata": {},
   "source": [
    "# remove duplicate records, change data type from string to appropriate data type and perform trim operation on each column separately"
   ]
  },
  {
   "cell_type": "code",
   "execution_count": 26,
   "metadata": {},
   "outputs": [
    {
     "data": {
      "text/plain": [
       "m_directors = [index: bigint, MID: string ... 2 more fields]\n"
      ]
     },
     "metadata": {},
     "output_type": "display_data"
    },
    {
     "data": {
      "text/plain": [
       "[index: bigint, MID: string ... 2 more fields]"
      ]
     },
     "execution_count": 26,
     "metadata": {},
     "output_type": "execute_result"
    }
   ],
   "source": [
    "val m_directors=M_Director.withColumn(\"ID\",trim(col(\"ID\")).cast(LongType))\n",
    ".withColumn(\"index\",trim(col(\"index\")).cast(LongType))\n",
    ".withColumn(\"MID\",trim(col(\"MID\")))\n",
    ".withColumn(\"PID\",trim(col(\"PID\")))\n",
    ".dropDuplicates(\"MID\",\"PID\")\n",
    ".dropDuplicates(\"ID\")\n",
    ".dropDuplicates"
   ]
  },
  {
   "cell_type": "markdown",
   "metadata": {},
   "source": [
    "# display sample data, schema and count m_director variable"
   ]
  },
  {
   "cell_type": "code",
   "execution_count": 27,
   "metadata": {},
   "outputs": [
    {
     "name": "stdout",
     "output_type": "stream",
     "text": [
      "root\n",
      " |-- index: long (nullable = true)\n",
      " |-- MID: string (nullable = true)\n",
      " |-- PID: string (nullable = true)\n",
      " |-- ID: long (nullable = true)\n",
      "\n",
      "+-----+---------+---------+---+\n",
      "|index|      MID|      PID| ID|\n",
      "+-----+---------+---------+---+\n",
      "|   26|tt5074352|nm4318159| 26|\n",
      "|   29|tt1098327|nm0939128| 29|\n",
      "+-----+---------+---------+---+\n",
      "only showing top 2 rows\n",
      "\n"
     ]
    },
    {
     "data": {
      "text/plain": [
       "m_d2Count = 3475\n"
      ]
     },
     "metadata": {},
     "output_type": "display_data"
    },
    {
     "data": {
      "text/plain": [
       "3475"
      ]
     },
     "execution_count": 27,
     "metadata": {},
     "output_type": "execute_result"
    }
   ],
   "source": [
    "m_directors.printSchema\n",
    "m_directors.show(2)\n",
    "val m_d2Count=m_directors.count"
   ]
  },
  {
   "cell_type": "markdown",
   "metadata": {},
   "source": [
    "# Display Count difference between M_Director and m_director variables"
   ]
  },
  {
   "cell_type": "code",
   "execution_count": 28,
   "metadata": {},
   "outputs": [
    {
     "name": "stdout",
     "output_type": "stream",
     "text": [
      "0 d\n"
     ]
    },
    {
     "data": {
      "text/plain": [
       "diff_m_directors_count = 0\n"
      ]
     },
     "metadata": {},
     "output_type": "display_data"
    },
    {
     "data": {
      "text/plain": [
       "0"
      ]
     },
     "execution_count": 28,
     "metadata": {},
     "output_type": "execute_result"
    }
   ],
   "source": [
    "val diff_m_directors_count=m_d1Count-m_d2Count\n",
    "println(diff_m_directors_count+\" d\")"
   ]
  },
  {
   "cell_type": "markdown",
   "metadata": {},
   "source": [
    "# Answer director name with count"
   ]
  },
  {
   "cell_type": "code",
   "execution_count": 31,
   "metadata": {},
   "outputs": [
    {
     "name": "stdout",
     "output_type": "stream",
     "text": [
      "+--------------------+-----+\n",
      "|                name|count|\n",
      "+--------------------+-----+\n",
      "|        David Dhawan|   39|\n",
      "|        Mahesh Bhatt|   35|\n",
      "|     Ram Gopal Varma|   30|\n",
      "|        Priyadarshan|   30|\n",
      "|        Vikram Bhatt|   29|\n",
      "|Hrishikesh Mukherjee|   27|\n",
      "|         Yash Chopra|   21|\n",
      "|      Shakti Samanta|   19|\n",
      "|     Basu Chatterjee|   19|\n",
      "|        Subhash Ghai|   18|\n",
      "|       Shyam Benegal|   17|\n",
      "|   Rama Rao Tatineni|   17|\n",
      "|Abbas Alibhai Bur...|   17|\n",
      "|      Manmohan Desai|   16|\n",
      "|              Gulzar|   16|\n",
      "|        Raj N. Sippy|   16|\n",
      "|          Raj Kanwar|   15|\n",
      "|    Mahesh Manjrekar|   15|\n",
      "|   Rajkumar Santoshi|   14|\n",
      "|          Raj Khosla|   14|\n",
      "+--------------------+-----+\n",
      "only showing top 20 rows\n",
      "\n"
     ]
    },
    {
     "data": {
      "text/plain": [
       "director_movie_count = [name: string, count: bigint]\n"
      ]
     },
     "metadata": {},
     "output_type": "display_data"
    },
    {
     "data": {
      "text/plain": [
       "[name: string, count: bigint]"
      ]
     },
     "execution_count": 31,
     "metadata": {},
     "output_type": "execute_result"
    }
   ],
   "source": [
    "val director_movie_count=m_directors.groupBy(\"PID\").count().filter($\"count\">9)\n",
    ".join(persons,\"PID\").select(\"name\",\"count\").sort(desc(\"count\"))\n",
    "\n",
    "director_movie_count.show"
   ]
  },
  {
   "cell_type": "markdown",
   "metadata": {},
   "source": [
    "# Validation 1"
   ]
  },
  {
   "cell_type": "code",
   "execution_count": 47,
   "metadata": {},
   "outputs": [
    {
     "name": "stdout",
     "output_type": "stream",
     "text": [
      "+-----+---------+---------+----+\n",
      "|index|      MID|      PID|  ID|\n",
      "+-----+---------+---------+----+\n",
      "| 2549|tt0085165|nm0851253|2549|\n",
      "| 1458|tt0110584|nm0851253|1458|\n",
      "|  734|tt0095440|nm0851253| 734|\n",
      "| 1476|tt0260345|nm0851253|1476|\n",
      "| 3318|tt0260222|nm0851253|3318|\n",
      "| 2197|tt0260066|nm0851253|2197|\n",
      "|  822|tt0230055|nm0851253| 822|\n",
      "| 1201|tt0114236|nm0851253|1201|\n",
      "| 3052|tt0286504|nm0851253|3052|\n",
      "| 3292|tt0116726|nm0851253|3292|\n",
      "| 3028|tt0105161|nm0851253|3028|\n",
      "| 3001|tt0260144|nm0851253|3001|\n",
      "| 2521|tt0259996|nm0851253|2521|\n",
      "| 2008|tt0087474|nm0851253|2008|\n",
      "| 1313|tt0094299|nm0851253|1313|\n",
      "| 3142|tt0260107|nm0851253|3142|\n",
      "| 3289|tt0104941|nm0851253|3289|\n",
      "+-----+---------+---------+----+\n",
      "\n"
     ]
    },
    {
     "data": {
      "text/plain": [
       "dir_with_MID = [index: bigint, MID: string ... 2 more fields]\n"
      ]
     },
     "metadata": {},
     "output_type": "display_data"
    },
    {
     "data": {
      "text/plain": [
       "17"
      ]
     },
     "execution_count": 47,
     "metadata": {},
     "output_type": "execute_result"
    }
   ],
   "source": [
    "val dir_with_MID=m_directors.filter($\"PID\"===persons.filter($\"name\"===\"Rama Rao Tatineni\")\n",
    "                                    .select(\"PID\").first.getString(0))\n",
    "dir_with_MID.show\n",
    "dir_with_MID.count\n"
   ]
  },
  {
   "cell_type": "code",
   "execution_count": null,
   "metadata": {},
   "outputs": [],
   "source": []
  }
 ],
 "metadata": {
  "kernelspec": {
   "display_name": "Apache Toree - Scala",
   "language": "scala",
   "name": "apache_toree_scala"
  },
  "language_info": {
   "codemirror_mode": "text/x-scala",
   "file_extension": ".scala",
   "mimetype": "text/x-scala",
   "name": "scala",
   "pygments_lexer": "scala",
   "version": "2.11.12"
  }
 },
 "nbformat": 4,
 "nbformat_minor": 2
}
